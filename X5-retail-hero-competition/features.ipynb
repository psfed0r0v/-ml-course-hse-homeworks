{
 "cells": [
  {
   "cell_type": "markdown",
   "metadata": {
    "colab_type": "text",
    "id": "H3oh9mKN2ONe"
   },
   "source": [
    "# Загрузка данных"
   ]
  },
  {
   "cell_type": "code",
   "execution_count": 1,
   "metadata": {
    "colab": {},
    "colab_type": "code",
    "id": "pLKT-IFF5UQt"
   },
   "outputs": [],
   "source": [
    "import numpy as np\n",
    "import pandas as pd\n",
    "import seaborn as sns\n",
    "import matplotlib.pyplot as plt\n",
    "sns.set(style=\"darkgrid\")"
   ]
  },
  {
   "cell_type": "code",
   "execution_count": 106,
   "metadata": {},
   "outputs": [
    {
     "data": {
      "text/plain": [
       "client_id                      0\n",
       "first_issue_date               0\n",
       "first_redeem_date              0\n",
       "age                            0\n",
       "gender                         0\n",
       "netto                          0\n",
       "heavy_flg                      0\n",
       "product_quantity_avg           0\n",
       "regular_points_received        0\n",
       "express_points_received        0\n",
       "regular_points_spent           0\n",
       "express_points_spent           0\n",
       "balance                        0\n",
       "balance_express                0\n",
       "balance_all                    0\n",
       "one_time_only                  0\n",
       "last_month_purchase_sum        0\n",
       "last_month_quant               0\n",
       "purchase_sum_diff          51751\n",
       "quant_diff                 51751\n",
       "purchase_sum               62006\n",
       "quant                      62006\n",
       "purchase_sum_year          62006\n",
       "quant_year                 62006\n",
       "number_of_transactions         0\n",
       "own_trademark_share           32\n",
       "alchohol_share                32\n",
       "max_bill                       0\n",
       "dtype: int64"
      ]
     },
     "execution_count": 106,
     "metadata": {},
     "output_type": "execute_result"
    }
   ],
   "source": [
    "X.isna().sum()"
   ]
  },
  {
   "cell_type": "code",
   "execution_count": 107,
   "metadata": {
    "colab": {},
    "colab_type": "code",
    "id": "3TR3a3405ecr"
   },
   "outputs": [],
   "source": [
    "purch = pd.read_csv('data/purchases.csv')\n",
    "clients = pd.read_csv('data/clients.csv')\n",
    "prod = pd.read_csv('data/products.csv')"
   ]
  },
  {
   "cell_type": "code",
   "execution_count": 108,
   "metadata": {
    "colab": {
     "base_uri": "https://localhost:8080/",
     "height": 191
    },
    "colab_type": "code",
    "id": "2z5-FSEq6Hvl",
    "outputId": "535025b3-a02d-42b2-dd43-92b7c15d14ee"
   },
   "outputs": [
    {
     "data": {
      "text/html": [
       "<div>\n",
       "<style scoped>\n",
       "    .dataframe tbody tr th:only-of-type {\n",
       "        vertical-align: middle;\n",
       "    }\n",
       "\n",
       "    .dataframe tbody tr th {\n",
       "        vertical-align: top;\n",
       "    }\n",
       "\n",
       "    .dataframe thead th {\n",
       "        text-align: right;\n",
       "    }\n",
       "</style>\n",
       "<table border=\"1\" class=\"dataframe\">\n",
       "  <thead>\n",
       "    <tr style=\"text-align: right;\">\n",
       "      <th></th>\n",
       "      <th>client_id</th>\n",
       "      <th>transaction_id</th>\n",
       "      <th>transaction_datetime</th>\n",
       "      <th>regular_points_received</th>\n",
       "      <th>express_points_received</th>\n",
       "      <th>regular_points_spent</th>\n",
       "      <th>express_points_spent</th>\n",
       "      <th>purchase_sum</th>\n",
       "      <th>store_id</th>\n",
       "      <th>product_id</th>\n",
       "      <th>product_quantity</th>\n",
       "      <th>trn_sum_from_iss</th>\n",
       "      <th>trn_sum_from_red</th>\n",
       "    </tr>\n",
       "  </thead>\n",
       "  <tbody>\n",
       "    <tr>\n",
       "      <th>0</th>\n",
       "      <td>000012768d</td>\n",
       "      <td>7e3e2e3984</td>\n",
       "      <td>2018-12-01 07:12:45</td>\n",
       "      <td>10.0</td>\n",
       "      <td>0.0</td>\n",
       "      <td>0.0</td>\n",
       "      <td>0.0</td>\n",
       "      <td>1007.0</td>\n",
       "      <td>54a4a11a29</td>\n",
       "      <td>9a80204f78</td>\n",
       "      <td>2.0</td>\n",
       "      <td>80.0</td>\n",
       "      <td>NaN</td>\n",
       "    </tr>\n",
       "    <tr>\n",
       "      <th>1</th>\n",
       "      <td>000012768d</td>\n",
       "      <td>7e3e2e3984</td>\n",
       "      <td>2018-12-01 07:12:45</td>\n",
       "      <td>10.0</td>\n",
       "      <td>0.0</td>\n",
       "      <td>0.0</td>\n",
       "      <td>0.0</td>\n",
       "      <td>1007.0</td>\n",
       "      <td>54a4a11a29</td>\n",
       "      <td>da89ebd374</td>\n",
       "      <td>1.0</td>\n",
       "      <td>65.0</td>\n",
       "      <td>NaN</td>\n",
       "    </tr>\n",
       "    <tr>\n",
       "      <th>2</th>\n",
       "      <td>000012768d</td>\n",
       "      <td>7e3e2e3984</td>\n",
       "      <td>2018-12-01 07:12:45</td>\n",
       "      <td>10.0</td>\n",
       "      <td>0.0</td>\n",
       "      <td>0.0</td>\n",
       "      <td>0.0</td>\n",
       "      <td>1007.0</td>\n",
       "      <td>54a4a11a29</td>\n",
       "      <td>0a95e1151d</td>\n",
       "      <td>1.0</td>\n",
       "      <td>24.0</td>\n",
       "      <td>NaN</td>\n",
       "    </tr>\n",
       "    <tr>\n",
       "      <th>3</th>\n",
       "      <td>000012768d</td>\n",
       "      <td>7e3e2e3984</td>\n",
       "      <td>2018-12-01 07:12:45</td>\n",
       "      <td>10.0</td>\n",
       "      <td>0.0</td>\n",
       "      <td>0.0</td>\n",
       "      <td>0.0</td>\n",
       "      <td>1007.0</td>\n",
       "      <td>54a4a11a29</td>\n",
       "      <td>4055b15e4a</td>\n",
       "      <td>2.0</td>\n",
       "      <td>50.0</td>\n",
       "      <td>NaN</td>\n",
       "    </tr>\n",
       "    <tr>\n",
       "      <th>4</th>\n",
       "      <td>000012768d</td>\n",
       "      <td>7e3e2e3984</td>\n",
       "      <td>2018-12-01 07:12:45</td>\n",
       "      <td>10.0</td>\n",
       "      <td>0.0</td>\n",
       "      <td>0.0</td>\n",
       "      <td>0.0</td>\n",
       "      <td>1007.0</td>\n",
       "      <td>54a4a11a29</td>\n",
       "      <td>a685f1916b</td>\n",
       "      <td>1.0</td>\n",
       "      <td>22.0</td>\n",
       "      <td>NaN</td>\n",
       "    </tr>\n",
       "  </tbody>\n",
       "</table>\n",
       "</div>"
      ],
      "text/plain": [
       "    client_id transaction_id transaction_datetime  regular_points_received  \\\n",
       "0  000012768d     7e3e2e3984  2018-12-01 07:12:45                     10.0   \n",
       "1  000012768d     7e3e2e3984  2018-12-01 07:12:45                     10.0   \n",
       "2  000012768d     7e3e2e3984  2018-12-01 07:12:45                     10.0   \n",
       "3  000012768d     7e3e2e3984  2018-12-01 07:12:45                     10.0   \n",
       "4  000012768d     7e3e2e3984  2018-12-01 07:12:45                     10.0   \n",
       "\n",
       "   express_points_received  regular_points_spent  express_points_spent  \\\n",
       "0                      0.0                   0.0                   0.0   \n",
       "1                      0.0                   0.0                   0.0   \n",
       "2                      0.0                   0.0                   0.0   \n",
       "3                      0.0                   0.0                   0.0   \n",
       "4                      0.0                   0.0                   0.0   \n",
       "\n",
       "   purchase_sum    store_id  product_id  product_quantity  trn_sum_from_iss  \\\n",
       "0        1007.0  54a4a11a29  9a80204f78               2.0              80.0   \n",
       "1        1007.0  54a4a11a29  da89ebd374               1.0              65.0   \n",
       "2        1007.0  54a4a11a29  0a95e1151d               1.0              24.0   \n",
       "3        1007.0  54a4a11a29  4055b15e4a               2.0              50.0   \n",
       "4        1007.0  54a4a11a29  a685f1916b               1.0              22.0   \n",
       "\n",
       "   trn_sum_from_red  \n",
       "0               NaN  \n",
       "1               NaN  \n",
       "2               NaN  \n",
       "3               NaN  \n",
       "4               NaN  "
      ]
     },
     "execution_count": 108,
     "metadata": {},
     "output_type": "execute_result"
    }
   ],
   "source": [
    "purch.head()"
   ]
  },
  {
   "cell_type": "code",
   "execution_count": 109,
   "metadata": {
    "colab": {
     "base_uri": "https://localhost:8080/",
     "height": 191
    },
    "colab_type": "code",
    "id": "Z-Ai1Vx9vHoJ",
    "outputId": "5c0bfcfe-1806-4d5e-af42-a7acf03743c8"
   },
   "outputs": [
    {
     "data": {
      "text/html": [
       "<div>\n",
       "<style scoped>\n",
       "    .dataframe tbody tr th:only-of-type {\n",
       "        vertical-align: middle;\n",
       "    }\n",
       "\n",
       "    .dataframe tbody tr th {\n",
       "        vertical-align: top;\n",
       "    }\n",
       "\n",
       "    .dataframe thead th {\n",
       "        text-align: right;\n",
       "    }\n",
       "</style>\n",
       "<table border=\"1\" class=\"dataframe\">\n",
       "  <thead>\n",
       "    <tr style=\"text-align: right;\">\n",
       "      <th></th>\n",
       "      <th>client_id</th>\n",
       "      <th>first_issue_date</th>\n",
       "      <th>first_redeem_date</th>\n",
       "      <th>age</th>\n",
       "      <th>gender</th>\n",
       "    </tr>\n",
       "  </thead>\n",
       "  <tbody>\n",
       "    <tr>\n",
       "      <th>0</th>\n",
       "      <td>000012768d</td>\n",
       "      <td>2017-08-05 15:40:48</td>\n",
       "      <td>2018-01-04 19:30:07</td>\n",
       "      <td>45</td>\n",
       "      <td>U</td>\n",
       "    </tr>\n",
       "    <tr>\n",
       "      <th>1</th>\n",
       "      <td>000036f903</td>\n",
       "      <td>2017-04-10 13:54:23</td>\n",
       "      <td>2017-04-23 12:37:56</td>\n",
       "      <td>72</td>\n",
       "      <td>F</td>\n",
       "    </tr>\n",
       "    <tr>\n",
       "      <th>2</th>\n",
       "      <td>000048b7a6</td>\n",
       "      <td>2018-12-15 13:33:11</td>\n",
       "      <td>NaN</td>\n",
       "      <td>68</td>\n",
       "      <td>F</td>\n",
       "    </tr>\n",
       "    <tr>\n",
       "      <th>3</th>\n",
       "      <td>000073194a</td>\n",
       "      <td>2017-05-23 12:56:14</td>\n",
       "      <td>2017-11-24 11:18:01</td>\n",
       "      <td>60</td>\n",
       "      <td>F</td>\n",
       "    </tr>\n",
       "    <tr>\n",
       "      <th>4</th>\n",
       "      <td>00007c7133</td>\n",
       "      <td>2017-05-22 16:17:08</td>\n",
       "      <td>2018-12-31 17:17:33</td>\n",
       "      <td>67</td>\n",
       "      <td>U</td>\n",
       "    </tr>\n",
       "  </tbody>\n",
       "</table>\n",
       "</div>"
      ],
      "text/plain": [
       "    client_id     first_issue_date    first_redeem_date  age gender\n",
       "0  000012768d  2017-08-05 15:40:48  2018-01-04 19:30:07   45      U\n",
       "1  000036f903  2017-04-10 13:54:23  2017-04-23 12:37:56   72      F\n",
       "2  000048b7a6  2018-12-15 13:33:11                  NaN   68      F\n",
       "3  000073194a  2017-05-23 12:56:14  2017-11-24 11:18:01   60      F\n",
       "4  00007c7133  2017-05-22 16:17:08  2018-12-31 17:17:33   67      U"
      ]
     },
     "execution_count": 109,
     "metadata": {},
     "output_type": "execute_result"
    }
   ],
   "source": [
    "clients.head()"
   ]
  },
  {
   "cell_type": "code",
   "execution_count": 110,
   "metadata": {
    "colab": {
     "base_uri": "https://localhost:8080/",
     "height": 191
    },
    "colab_type": "code",
    "id": "0bEdGAgzvJPD",
    "outputId": "2e26a196-6603-4859-a285-b20d53e7a174"
   },
   "outputs": [
    {
     "data": {
      "text/html": [
       "<div>\n",
       "<style scoped>\n",
       "    .dataframe tbody tr th:only-of-type {\n",
       "        vertical-align: middle;\n",
       "    }\n",
       "\n",
       "    .dataframe tbody tr th {\n",
       "        vertical-align: top;\n",
       "    }\n",
       "\n",
       "    .dataframe thead th {\n",
       "        text-align: right;\n",
       "    }\n",
       "</style>\n",
       "<table border=\"1\" class=\"dataframe\">\n",
       "  <thead>\n",
       "    <tr style=\"text-align: right;\">\n",
       "      <th></th>\n",
       "      <th>product_id</th>\n",
       "      <th>level_1</th>\n",
       "      <th>level_2</th>\n",
       "      <th>level_3</th>\n",
       "      <th>level_4</th>\n",
       "      <th>segment_id</th>\n",
       "      <th>brand_id</th>\n",
       "      <th>vendor_id</th>\n",
       "      <th>netto</th>\n",
       "      <th>is_own_trademark</th>\n",
       "      <th>is_alcohol</th>\n",
       "    </tr>\n",
       "  </thead>\n",
       "  <tbody>\n",
       "    <tr>\n",
       "      <th>0</th>\n",
       "      <td>0003020d3c</td>\n",
       "      <td>c3d3a8e8c6</td>\n",
       "      <td>c2a3ea8d5e</td>\n",
       "      <td>b7cda0ec0c</td>\n",
       "      <td>6376f2a852</td>\n",
       "      <td>123.0</td>\n",
       "      <td>394a54a7c1</td>\n",
       "      <td>9eaff48661</td>\n",
       "      <td>0.400</td>\n",
       "      <td>0</td>\n",
       "      <td>0</td>\n",
       "    </tr>\n",
       "    <tr>\n",
       "      <th>1</th>\n",
       "      <td>0003870676</td>\n",
       "      <td>e344ab2e71</td>\n",
       "      <td>52f13dac0c</td>\n",
       "      <td>d3cfe81323</td>\n",
       "      <td>6dc544533f</td>\n",
       "      <td>105.0</td>\n",
       "      <td>acd3dd483f</td>\n",
       "      <td>10486c3cf0</td>\n",
       "      <td>0.680</td>\n",
       "      <td>0</td>\n",
       "      <td>0</td>\n",
       "    </tr>\n",
       "    <tr>\n",
       "      <th>2</th>\n",
       "      <td>0003ceaf69</td>\n",
       "      <td>c3d3a8e8c6</td>\n",
       "      <td>f2333c90fb</td>\n",
       "      <td>419bc5b424</td>\n",
       "      <td>f6148afbc0</td>\n",
       "      <td>271.0</td>\n",
       "      <td>f597581079</td>\n",
       "      <td>764e660dda</td>\n",
       "      <td>0.500</td>\n",
       "      <td>0</td>\n",
       "      <td>0</td>\n",
       "    </tr>\n",
       "    <tr>\n",
       "      <th>3</th>\n",
       "      <td>000701e093</td>\n",
       "      <td>ec62ce61e3</td>\n",
       "      <td>4202626fcb</td>\n",
       "      <td>88a515c084</td>\n",
       "      <td>48cf3d488f</td>\n",
       "      <td>172.0</td>\n",
       "      <td>54a90fe769</td>\n",
       "      <td>03c2d70bad</td>\n",
       "      <td>0.112</td>\n",
       "      <td>0</td>\n",
       "      <td>0</td>\n",
       "    </tr>\n",
       "    <tr>\n",
       "      <th>4</th>\n",
       "      <td>0007149564</td>\n",
       "      <td>e344ab2e71</td>\n",
       "      <td>52f13dac0c</td>\n",
       "      <td>d3cfe81323</td>\n",
       "      <td>6dc544533f</td>\n",
       "      <td>105.0</td>\n",
       "      <td>63417fe1f3</td>\n",
       "      <td>f329130198</td>\n",
       "      <td>0.600</td>\n",
       "      <td>0</td>\n",
       "      <td>0</td>\n",
       "    </tr>\n",
       "  </tbody>\n",
       "</table>\n",
       "</div>"
      ],
      "text/plain": [
       "   product_id     level_1     level_2     level_3     level_4  segment_id  \\\n",
       "0  0003020d3c  c3d3a8e8c6  c2a3ea8d5e  b7cda0ec0c  6376f2a852       123.0   \n",
       "1  0003870676  e344ab2e71  52f13dac0c  d3cfe81323  6dc544533f       105.0   \n",
       "2  0003ceaf69  c3d3a8e8c6  f2333c90fb  419bc5b424  f6148afbc0       271.0   \n",
       "3  000701e093  ec62ce61e3  4202626fcb  88a515c084  48cf3d488f       172.0   \n",
       "4  0007149564  e344ab2e71  52f13dac0c  d3cfe81323  6dc544533f       105.0   \n",
       "\n",
       "     brand_id   vendor_id  netto  is_own_trademark  is_alcohol  \n",
       "0  394a54a7c1  9eaff48661  0.400                 0           0  \n",
       "1  acd3dd483f  10486c3cf0  0.680                 0           0  \n",
       "2  f597581079  764e660dda  0.500                 0           0  \n",
       "3  54a90fe769  03c2d70bad  0.112                 0           0  \n",
       "4  63417fe1f3  f329130198  0.600                 0           0  "
      ]
     },
     "execution_count": 110,
     "metadata": {},
     "output_type": "execute_result"
    }
   ],
   "source": [
    "prod.head()"
   ]
  },
  {
   "cell_type": "markdown",
   "metadata": {
    "colab_type": "text",
    "id": "vi3daQj31CmZ"
   },
   "source": [
    "# Шум и Nan"
   ]
  },
  {
   "cell_type": "code",
   "execution_count": 111,
   "metadata": {
    "colab": {
     "base_uri": "https://localhost:8080/",
     "height": 221
    },
    "colab_type": "code",
    "id": "tmsm3qGh_-lH",
    "outputId": "c989fdee-3e6f-474c-eac3-5c16ff50dc01"
   },
   "outputs": [
    {
     "data": {
      "text/plain": [
       "product_id             0\n",
       "level_1                3\n",
       "level_2                3\n",
       "level_3                3\n",
       "level_4                3\n",
       "segment_id          1572\n",
       "brand_id            5200\n",
       "vendor_id             34\n",
       "netto                  3\n",
       "is_own_trademark       0\n",
       "is_alcohol             0\n",
       "dtype: int64"
      ]
     },
     "execution_count": 111,
     "metadata": {},
     "output_type": "execute_result"
    }
   ],
   "source": [
    "prod.isna().sum()"
   ]
  },
  {
   "cell_type": "code",
   "execution_count": 112,
   "metadata": {
    "colab": {
     "base_uri": "https://localhost:8080/",
     "height": 268
    },
    "colab_type": "code",
    "id": "tMlk3if71Wcg",
    "outputId": "e4db92e6-4946-4e14-ae84-3326c1483878"
   },
   "outputs": [
    {
     "name": "stderr",
     "output_type": "stream",
     "text": [
      "/home/pfedorov/env/lib/python3.6/site-packages/numpy/lib/histograms.py:839: RuntimeWarning: invalid value encountered in greater_equal\n",
      "  keep = (tmp_a >= first_edge)\n",
      "/home/pfedorov/env/lib/python3.6/site-packages/numpy/lib/histograms.py:840: RuntimeWarning: invalid value encountered in less_equal\n",
      "  keep &= (tmp_a <= last_edge)\n"
     ]
    },
    {
     "data": {
      "image/png": "[encoded data removed]",
      "text/plain": [
       "<Figure size 432x288 with 1 Axes>"
      ]
     },
     "metadata": {},
     "output_type": "display_data"
    }
   ],
   "source": [
    "plt.hist(prod.netto, bins = 100)\n",
    "plt.show()"
   ]
  },
  {
   "cell_type": "code",
   "execution_count": 113,
   "metadata": {
    "colab": {
     "base_uri": "https://localhost:8080/",
     "height": 357
    },
    "colab_type": "code",
    "id": "3MvfE4yS2fbB",
    "outputId": "32356924-45a7-4570-dda3-bd8f93faa275"
   },
   "outputs": [
    {
     "data": {
      "text/plain": [
       "[1150.0,\n",
       " 600.0,\n",
       " 600.0,\n",
       " 430.0,\n",
       " 400.0,\n",
       " 350.0,\n",
       " 316.8,\n",
       " 316.8,\n",
       " 259.2,\n",
       " 259.2,\n",
       " 130.0,\n",
       " 80.0,\n",
       " 57.6,\n",
       " 54.6,\n",
       " 24.0,\n",
       " 20.0,\n",
       " 18.9,\n",
       " 18.9,\n",
       " 12.0,\n",
       " 10.0]"
      ]
     },
     "execution_count": 113,
     "metadata": {},
     "output_type": "execute_result"
    }
   ],
   "source": [
    "sorted(prod.netto, reverse=True)[:20]"
   ]
  },
  {
   "cell_type": "code",
   "execution_count": 114,
   "metadata": {
    "colab": {},
    "colab_type": "code",
    "id": "SEFQYeB61i4L"
   },
   "outputs": [],
   "source": [
    "netto_mean =  np.nanmean(prod.loc[prod.netto < 50, 'netto'])\n",
    "prod.loc[prod.netto > 50, 'netto'] = netto_mean\n",
    "prod.netto = prod.netto.fillna(netto_mean)\n",
    "prod.is_own_trademark = prod.is_own_trademark.fillna(0)\n",
    "prod.is_alcohol = prod.is_alcohol.fillna(0)"
   ]
  },
  {
   "cell_type": "code",
   "execution_count": 115,
   "metadata": {
    "colab": {
     "base_uri": "https://localhost:8080/",
     "height": 142
    },
    "colab_type": "code",
    "id": "-AIGfyjD3TYD",
    "outputId": "468e2eff-8628-47e4-8be9-9dcf0660a43e"
   },
   "outputs": [
    {
     "data": {
      "text/html": [
       "<div>\n",
       "<style scoped>\n",
       "    .dataframe tbody tr th:only-of-type {\n",
       "        vertical-align: middle;\n",
       "    }\n",
       "\n",
       "    .dataframe tbody tr th {\n",
       "        vertical-align: top;\n",
       "    }\n",
       "\n",
       "    .dataframe thead th {\n",
       "        text-align: right;\n",
       "    }\n",
       "</style>\n",
       "<table border=\"1\" class=\"dataframe\">\n",
       "  <thead>\n",
       "    <tr style=\"text-align: right;\">\n",
       "      <th></th>\n",
       "      <th>product_id</th>\n",
       "      <th>level_1</th>\n",
       "      <th>level_2</th>\n",
       "      <th>level_3</th>\n",
       "      <th>level_4</th>\n",
       "      <th>segment_id</th>\n",
       "      <th>brand_id</th>\n",
       "      <th>vendor_id</th>\n",
       "      <th>netto</th>\n",
       "      <th>is_own_trademark</th>\n",
       "      <th>is_alcohol</th>\n",
       "    </tr>\n",
       "  </thead>\n",
       "  <tbody>\n",
       "    <tr>\n",
       "      <th>796</th>\n",
       "      <td>04d86b4b50</td>\n",
       "      <td>NaN</td>\n",
       "      <td>NaN</td>\n",
       "      <td>NaN</td>\n",
       "      <td>NaN</td>\n",
       "      <td>NaN</td>\n",
       "      <td>NaN</td>\n",
       "      <td>NaN</td>\n",
       "      <td>0.414786</td>\n",
       "      <td>0</td>\n",
       "      <td>0</td>\n",
       "    </tr>\n",
       "    <tr>\n",
       "      <th>12219</th>\n",
       "      <td>48cc0e256d</td>\n",
       "      <td>NaN</td>\n",
       "      <td>NaN</td>\n",
       "      <td>NaN</td>\n",
       "      <td>NaN</td>\n",
       "      <td>NaN</td>\n",
       "      <td>NaN</td>\n",
       "      <td>NaN</td>\n",
       "      <td>0.414786</td>\n",
       "      <td>0</td>\n",
       "      <td>0</td>\n",
       "    </tr>\n",
       "    <tr>\n",
       "      <th>17818</th>\n",
       "      <td>6a3d708544</td>\n",
       "      <td>NaN</td>\n",
       "      <td>NaN</td>\n",
       "      <td>NaN</td>\n",
       "      <td>NaN</td>\n",
       "      <td>NaN</td>\n",
       "      <td>NaN</td>\n",
       "      <td>NaN</td>\n",
       "      <td>0.414786</td>\n",
       "      <td>0</td>\n",
       "      <td>0</td>\n",
       "    </tr>\n",
       "  </tbody>\n",
       "</table>\n",
       "</div>"
      ],
      "text/plain": [
       "       product_id level_1 level_2 level_3 level_4  segment_id brand_id  \\\n",
       "796    04d86b4b50     NaN     NaN     NaN     NaN         NaN      NaN   \n",
       "12219  48cc0e256d     NaN     NaN     NaN     NaN         NaN      NaN   \n",
       "17818  6a3d708544     NaN     NaN     NaN     NaN         NaN      NaN   \n",
       "\n",
       "      vendor_id     netto  is_own_trademark  is_alcohol  \n",
       "796         NaN  0.414786                 0           0  \n",
       "12219       NaN  0.414786                 0           0  \n",
       "17818       NaN  0.414786                 0           0  "
      ]
     },
     "execution_count": 115,
     "metadata": {},
     "output_type": "execute_result"
    }
   ],
   "source": [
    "prod.loc[prod.level_1.isna(), :]"
   ]
  },
  {
   "cell_type": "code",
   "execution_count": 116,
   "metadata": {
    "colab": {
     "base_uri": "https://localhost:8080/",
     "height": 221
    },
    "colab_type": "code",
    "id": "gkK4jQmJ9O5W",
    "outputId": "39fd32f7-9023-4840-f707-93a919b86c7e"
   },
   "outputs": [
    {
     "data": {
      "text/plain": [
       "0d6f137fb6    4344\n",
       "4da2dc345f    3071\n",
       "b06ace74de     385\n",
       "ab230258e9     268\n",
       "63ba6b7a61     136\n",
       "              ... \n",
       "b3c69244e4       1\n",
       "2ffbe457d7       1\n",
       "2376c93ab8       1\n",
       "49427810e9       1\n",
       "8e9ea6b770       1\n",
       "Name: brand_id, Length: 4296, dtype: int64"
      ]
     },
     "execution_count": 116,
     "metadata": {},
     "output_type": "execute_result"
    }
   ],
   "source": [
    "prod.brand_id.value_counts()"
   ]
  },
  {
   "cell_type": "code",
   "execution_count": 117,
   "metadata": {
    "colab": {},
    "colab_type": "code",
    "id": "kKvfazyb9nXf"
   },
   "outputs": [],
   "source": [
    "prod.brand_id = prod.brand_id.fillna('0d6f137fb6')"
   ]
  },
  {
   "cell_type": "code",
   "execution_count": 118,
   "metadata": {
    "colab": {
     "base_uri": "https://localhost:8080/",
     "height": 221
    },
    "colab_type": "code",
    "id": "Bre9Yj3I9u29",
    "outputId": "06d709bb-3d68-4fd6-e3ae-51ee5a51542d"
   },
   "outputs": [
    {
     "data": {
      "text/plain": [
       "43acd80c1a    1514\n",
       "63243765ed     349\n",
       "c4e167b91e     331\n",
       "83f98e6dc3     328\n",
       "4f276b13c1     323\n",
       "              ... \n",
       "54a352c3d3       1\n",
       "e54c4c0130       1\n",
       "f52b080a19       1\n",
       "1f9018aa69       1\n",
       "d2c603558c       1\n",
       "Name: vendor_id, Length: 3193, dtype: int64"
      ]
     },
     "execution_count": 118,
     "metadata": {},
     "output_type": "execute_result"
    }
   ],
   "source": [
    "prod.vendor_id.value_counts()"
   ]
  },
  {
   "cell_type": "code",
   "execution_count": 119,
   "metadata": {
    "colab": {},
    "colab_type": "code",
    "id": "Ak7Y_hqH91Vd"
   },
   "outputs": [],
   "source": [
    "prod.vendor_id = prod.vendor_id.fillna('43acd80c1a')"
   ]
  },
  {
   "cell_type": "code",
   "execution_count": 120,
   "metadata": {
    "colab": {
     "base_uri": "https://localhost:8080/",
     "height": 221
    },
    "colab_type": "code",
    "id": "xrcvxye39-JV",
    "outputId": "e59efddc-453b-483c-c097-0e8d071b7986"
   },
   "outputs": [
    {
     "data": {
      "text/plain": [
       "105.0    5360\n",
       "150.0    2745\n",
       "271.0    1690\n",
       "259.0    1523\n",
       "85.0     1291\n",
       "         ... \n",
       "23.0       10\n",
       "211.0       7\n",
       "171.0       6\n",
       "258.0       3\n",
       "144.0       3\n",
       "Name: segment_id, Length: 116, dtype: int64"
      ]
     },
     "execution_count": 120,
     "metadata": {},
     "output_type": "execute_result"
    }
   ],
   "source": [
    "prod.segment_id.value_counts()"
   ]
  },
  {
   "cell_type": "code",
   "execution_count": 121,
   "metadata": {
    "colab": {},
    "colab_type": "code",
    "id": "hZ3eTWxt-Dwr"
   },
   "outputs": [],
   "source": [
    "prod.segment_id = prod.segment_id.fillna(105)"
   ]
  },
  {
   "cell_type": "code",
   "execution_count": 122,
   "metadata": {
    "colab": {
     "base_uri": "https://localhost:8080/",
     "height": 85
    },
    "colab_type": "code",
    "id": "eMe5L8Lq-fGD",
    "outputId": "fcc45568-e820-484d-d389-39a92056b29e"
   },
   "outputs": [
    {
     "data": {
      "text/plain": [
       "e344ab2e71    22183\n",
       "c3d3a8e8c6    16573\n",
       "ec62ce61e3     4279\n",
       "Name: level_1, dtype: int64"
      ]
     },
     "execution_count": 122,
     "metadata": {},
     "output_type": "execute_result"
    }
   ],
   "source": [
    "prod.level_1.value_counts()"
   ]
  },
  {
   "cell_type": "code",
   "execution_count": 123,
   "metadata": {
    "colab": {},
    "colab_type": "code",
    "id": "fgBbq9xm-jTM"
   },
   "outputs": [],
   "source": [
    "prod.level_1 = prod.level_1.fillna('e344ab2e71')"
   ]
  },
  {
   "cell_type": "code",
   "execution_count": 124,
   "metadata": {
    "colab": {
     "base_uri": "https://localhost:8080/",
     "height": 119
    },
    "colab_type": "code",
    "id": "RBre1uD_-1oJ",
    "outputId": "db82d28f-758d-4d40-a3c9-294eb967a76b"
   },
   "outputs": [
    {
     "data": {
      "text/plain": [
       "52f13dac0c    8891\n",
       "ad2b2e17d2    6631\n",
       "f2333c90fb    3310\n",
       "ed2ad1797c    3257\n",
       "703f4b6eb0    2396\n",
       "Name: level_2, dtype: int64"
      ]
     },
     "execution_count": 124,
     "metadata": {},
     "output_type": "execute_result"
    }
   ],
   "source": [
    "prod.level_2.value_counts().head()"
   ]
  },
  {
   "cell_type": "code",
   "execution_count": 125,
   "metadata": {
    "colab": {},
    "colab_type": "code",
    "id": "v-P0ciI4_EXu"
   },
   "outputs": [],
   "source": [
    "prod.level_2 = prod.level_2.fillna('52f13dac0c')"
   ]
  },
  {
   "cell_type": "code",
   "execution_count": 126,
   "metadata": {
    "colab": {
     "base_uri": "https://localhost:8080/",
     "height": 119
    },
    "colab_type": "code",
    "id": "Xxz2v9aL_KZP",
    "outputId": "50ddd18d-d3ad-4def-f653-a7c67f4234da"
   },
   "outputs": [
    {
     "data": {
      "text/plain": [
       "ca69ed9de2    3737\n",
       "419bc5b424    2729\n",
       "0f84eb7480    2571\n",
       "38816369ce    2324\n",
       "6b55683dad    1862\n",
       "Name: level_3, dtype: int64"
      ]
     },
     "execution_count": 126,
     "metadata": {},
     "output_type": "execute_result"
    }
   ],
   "source": [
    "prod.level_3.value_counts().head()"
   ]
  },
  {
   "cell_type": "code",
   "execution_count": 127,
   "metadata": {
    "colab": {},
    "colab_type": "code",
    "id": "Q9jqm3rj_M9P"
   },
   "outputs": [],
   "source": [
    "prod.level_3 = prod.level_3.fillna('ca69ed9de2')"
   ]
  },
  {
   "cell_type": "code",
   "execution_count": 128,
   "metadata": {
    "colab": {
     "base_uri": "https://localhost:8080/",
     "height": 119
    },
    "colab_type": "code",
    "id": "6_Z_Fj0T_O9S",
    "outputId": "8ad7517e-a3c7-4572-8bae-90d1e810801c"
   },
   "outputs": [
    {
     "data": {
      "text/plain": [
       "420c3b3f0b    2500\n",
       "4d4b7e1f16    2077\n",
       "3a074a6620    1485\n",
       "6dc544533f    1313\n",
       "b4b0e4c470     784\n",
       "Name: level_4, dtype: int64"
      ]
     },
     "execution_count": 128,
     "metadata": {},
     "output_type": "execute_result"
    }
   ],
   "source": [
    "prod.level_4.value_counts().head()"
   ]
  },
  {
   "cell_type": "code",
   "execution_count": 129,
   "metadata": {
    "colab": {},
    "colab_type": "code",
    "id": "YyO5ZWt2_U8x"
   },
   "outputs": [],
   "source": [
    "prod.level_4 = prod.level_4.fillna('420c3b3f0b')"
   ]
  },
  {
   "cell_type": "code",
   "execution_count": 130,
   "metadata": {
    "colab": {
     "base_uri": "https://localhost:8080/",
     "height": 221
    },
    "colab_type": "code",
    "id": "86SEFK323JLF",
    "outputId": "04ab6e59-51a2-497b-a6df-57b74ef9a064"
   },
   "outputs": [
    {
     "data": {
      "text/plain": [
       "product_id          0\n",
       "level_1             0\n",
       "level_2             0\n",
       "level_3             0\n",
       "level_4             0\n",
       "segment_id          0\n",
       "brand_id            0\n",
       "vendor_id           0\n",
       "netto               0\n",
       "is_own_trademark    0\n",
       "is_alcohol          0\n",
       "dtype: int64"
      ]
     },
     "execution_count": 130,
     "metadata": {},
     "output_type": "execute_result"
    }
   ],
   "source": [
    "prod.isna().sum()"
   ]
  },
  {
   "cell_type": "code",
   "execution_count": 131,
   "metadata": {
    "colab": {
     "base_uri": "https://localhost:8080/",
     "height": 115
    },
    "colab_type": "code",
    "id": "DgoRkpG42ZXQ",
    "outputId": "c614aabb-4aaf-4aa0-9687-a4e46e824484"
   },
   "outputs": [
    {
     "data": {
      "text/plain": [
       "client_id                0\n",
       "first_issue_date         0\n",
       "first_redeem_date    35469\n",
       "age                      0\n",
       "gender                   0\n",
       "dtype: int64"
      ]
     },
     "execution_count": 131,
     "metadata": {},
     "output_type": "execute_result"
    }
   ],
   "source": [
    "clients.isna().sum()"
   ]
  },
  {
   "cell_type": "code",
   "execution_count": 132,
   "metadata": {
    "colab": {},
    "colab_type": "code",
    "id": "vt-J1yneAuli"
   },
   "outputs": [],
   "source": [
    "clients.first_redeem_date = clients.first_redeem_date.fillna(0)"
   ]
  },
  {
   "cell_type": "code",
   "execution_count": 133,
   "metadata": {
    "colab": {},
    "colab_type": "code",
    "id": "s4bgobAVANbC"
   },
   "outputs": [],
   "source": [
    "clients.first_redeem_date = pd.to_datetime(clients.first_redeem_date)\n",
    "clients.first_issue_date = pd.to_datetime(clients.first_issue_date)"
   ]
  },
  {
   "cell_type": "code",
   "execution_count": 134,
   "metadata": {
    "colab": {},
    "colab_type": "code",
    "id": "S4ei3hV8rhG-"
   },
   "outputs": [],
   "source": [
    "mean_age = np.nanmean(clients.age)\n",
    "clients.loc[(clients.age > 95) | (clients.age <13)] = mean_age"
   ]
  },
  {
   "cell_type": "code",
   "execution_count": 135,
   "metadata": {
    "colab": {
     "base_uri": "https://localhost:8080/",
     "height": 245
    },
    "colab_type": "code",
    "id": "HkAoSXn6pAM5",
    "outputId": "4d1c3869-0d4b-429a-9b88-946b79a5dbb2"
   },
   "outputs": [
    {
     "data": {
      "text/plain": [
       "client_id                         0\n",
       "transaction_id                    0\n",
       "transaction_datetime              0\n",
       "regular_points_received           0\n",
       "express_points_received           0\n",
       "regular_points_spent              0\n",
       "express_points_spent              0\n",
       "purchase_sum                      0\n",
       "store_id                          0\n",
       "product_id                        0\n",
       "product_quantity                  0\n",
       "trn_sum_from_iss                  0\n",
       "trn_sum_from_red           42743212\n",
       "dtype: int64"
      ]
     },
     "execution_count": 135,
     "metadata": {},
     "output_type": "execute_result"
    }
   ],
   "source": [
    "purch.isna().sum()"
   ]
  },
  {
   "cell_type": "code",
   "execution_count": 136,
   "metadata": {
    "colab": {
     "base_uri": "https://localhost:8080/",
     "height": 76
    },
    "colab_type": "code",
    "id": "uczrgRhVpQuQ",
    "outputId": "ee900055-ad1f-42ad-fcd1-7e080a3d76c2"
   },
   "outputs": [
    {
     "data": {
      "text/html": [
       "<div>\n",
       "<style scoped>\n",
       "    .dataframe tbody tr th:only-of-type {\n",
       "        vertical-align: middle;\n",
       "    }\n",
       "\n",
       "    .dataframe tbody tr th {\n",
       "        vertical-align: top;\n",
       "    }\n",
       "\n",
       "    .dataframe thead th {\n",
       "        text-align: right;\n",
       "    }\n",
       "</style>\n",
       "<table border=\"1\" class=\"dataframe\">\n",
       "  <thead>\n",
       "    <tr style=\"text-align: right;\">\n",
       "      <th></th>\n",
       "      <th>client_id</th>\n",
       "      <th>transaction_id</th>\n",
       "      <th>transaction_datetime</th>\n",
       "      <th>regular_points_received</th>\n",
       "      <th>express_points_received</th>\n",
       "      <th>regular_points_spent</th>\n",
       "      <th>express_points_spent</th>\n",
       "      <th>purchase_sum</th>\n",
       "      <th>store_id</th>\n",
       "      <th>product_id</th>\n",
       "      <th>product_quantity</th>\n",
       "      <th>trn_sum_from_iss</th>\n",
       "      <th>trn_sum_from_red</th>\n",
       "    </tr>\n",
       "  </thead>\n",
       "  <tbody>\n",
       "  </tbody>\n",
       "</table>\n",
       "</div>"
      ],
      "text/plain": [
       "Empty DataFrame\n",
       "Columns: [client_id, transaction_id, transaction_datetime, regular_points_received, express_points_received, regular_points_spent, express_points_spent, purchase_sum, store_id, product_id, product_quantity, trn_sum_from_iss, trn_sum_from_red]\n",
       "Index: []"
      ]
     },
     "execution_count": 136,
     "metadata": {},
     "output_type": "execute_result"
    }
   ],
   "source": [
    "purch.loc[(purch.trn_sum_from_iss.isna())]"
   ]
  },
  {
   "cell_type": "code",
   "execution_count": 137,
   "metadata": {
    "colab": {},
    "colab_type": "code",
    "id": "yH2m7pySqZ1y"
   },
   "outputs": [],
   "source": [
    "# purch.drop(984346,\tinplace=True)"
   ]
  },
  {
   "cell_type": "code",
   "execution_count": 138,
   "metadata": {
    "colab": {},
    "colab_type": "code",
    "id": "Oh3rLo9EpFHP"
   },
   "outputs": [],
   "source": [
    "purch.loc[purch.trn_sum_from_red.isna(), 'trn_sum_from_red'] = purch.loc[purch.trn_sum_from_red.isna(), 'trn_sum_from_iss']"
   ]
  },
  {
   "cell_type": "code",
   "execution_count": 139,
   "metadata": {
    "colab": {},
    "colab_type": "code",
    "id": "khDe5IPqssG3"
   },
   "outputs": [
    {
     "data": {
      "text/html": [
       "<div>\n",
       "<style scoped>\n",
       "    .dataframe tbody tr th:only-of-type {\n",
       "        vertical-align: middle;\n",
       "    }\n",
       "\n",
       "    .dataframe tbody tr th {\n",
       "        vertical-align: top;\n",
       "    }\n",
       "\n",
       "    .dataframe thead th {\n",
       "        text-align: right;\n",
       "    }\n",
       "</style>\n",
       "<table border=\"1\" class=\"dataframe\">\n",
       "  <thead>\n",
       "    <tr style=\"text-align: right;\">\n",
       "      <th></th>\n",
       "      <th>client_id</th>\n",
       "      <th>first_issue_date</th>\n",
       "      <th>first_redeem_date</th>\n",
       "      <th>age</th>\n",
       "      <th>gender</th>\n",
       "    </tr>\n",
       "  </thead>\n",
       "  <tbody>\n",
       "    <tr>\n",
       "      <th>0</th>\n",
       "      <td>000012768d</td>\n",
       "      <td>2017-08-05 15:40:48</td>\n",
       "      <td>2018-01-04 19:30:07</td>\n",
       "      <td>45.0</td>\n",
       "      <td>U</td>\n",
       "    </tr>\n",
       "    <tr>\n",
       "      <th>1</th>\n",
       "      <td>000036f903</td>\n",
       "      <td>2017-04-10 13:54:23</td>\n",
       "      <td>2017-04-23 12:37:56</td>\n",
       "      <td>72.0</td>\n",
       "      <td>F</td>\n",
       "    </tr>\n",
       "    <tr>\n",
       "      <th>2</th>\n",
       "      <td>000048b7a6</td>\n",
       "      <td>2018-12-15 13:33:11</td>\n",
       "      <td>1970-01-01 00:00:00</td>\n",
       "      <td>68.0</td>\n",
       "      <td>F</td>\n",
       "    </tr>\n",
       "    <tr>\n",
       "      <th>3</th>\n",
       "      <td>000073194a</td>\n",
       "      <td>2017-05-23 12:56:14</td>\n",
       "      <td>2017-11-24 11:18:01</td>\n",
       "      <td>60.0</td>\n",
       "      <td>F</td>\n",
       "    </tr>\n",
       "    <tr>\n",
       "      <th>4</th>\n",
       "      <td>00007c7133</td>\n",
       "      <td>2017-05-22 16:17:08</td>\n",
       "      <td>2018-12-31 17:17:33</td>\n",
       "      <td>67.0</td>\n",
       "      <td>U</td>\n",
       "    </tr>\n",
       "  </tbody>\n",
       "</table>\n",
       "</div>"
      ],
      "text/plain": [
       "    client_id     first_issue_date    first_redeem_date   age gender\n",
       "0  000012768d  2017-08-05 15:40:48  2018-01-04 19:30:07  45.0      U\n",
       "1  000036f903  2017-04-10 13:54:23  2017-04-23 12:37:56  72.0      F\n",
       "2  000048b7a6  2018-12-15 13:33:11  1970-01-01 00:00:00  68.0      F\n",
       "3  000073194a  2017-05-23 12:56:14  2017-11-24 11:18:01  60.0      F\n",
       "4  00007c7133  2017-05-22 16:17:08  2018-12-31 17:17:33  67.0      U"
      ]
     },
     "execution_count": 139,
     "metadata": {},
     "output_type": "execute_result"
    }
   ],
   "source": [
    "X = clients\n",
    "X.head()"
   ]
  },
  {
   "cell_type": "markdown",
   "metadata": {
    "colab_type": "text",
    "id": "ZG5IHZlE8fFL"
   },
   "source": [
    "# Вес покупок"
   ]
  },
  {
   "cell_type": "code",
   "execution_count": 140,
   "metadata": {
    "colab": {},
    "colab_type": "code",
    "id": "EmqLUG3cwa40"
   },
   "outputs": [],
   "source": [
    "tmp = purch\n",
    "tmp.loc[:, 'netto'] = tmp.loc[:, 'product_id']"
   ]
  },
  {
   "cell_type": "code",
   "execution_count": 141,
   "metadata": {
    "colab": {},
    "colab_type": "code",
    "id": "xHERDnjyyAs2",
    "scrolled": true
   },
   "outputs": [],
   "source": [
    "rename_dict = pd.DataFrame(data=prod[['netto', 'product_id']])\n",
    "tmp = tmp.merge(rename_dict, on='product_id', how='left')"
   ]
  },
  {
   "cell_type": "code",
   "execution_count": 142,
   "metadata": {},
   "outputs": [],
   "source": [
    "tmp['netto'] = tmp['netto_y']\n",
    "tmp.drop(columns=['netto_x', 'netto_y'], inplace=True)"
   ]
  },
  {
   "cell_type": "code",
   "execution_count": 143,
   "metadata": {
    "colab": {},
    "colab_type": "code",
    "id": "BTySpzEA2T_4"
   },
   "outputs": [],
   "source": [
    "tmp.netto= tmp.netto.astype('float')"
   ]
  },
  {
   "cell_type": "code",
   "execution_count": 144,
   "metadata": {
    "colab": {},
    "colab_type": "code",
    "id": "nBUqSuUGz_zQ"
   },
   "outputs": [],
   "source": [
    "tmp = tmp.groupby(['client_id', 'transaction_id'], as_index=False).sum()\n",
    "tmp = tmp.groupby(['client_id'], as_index=False).median()"
   ]
  },
  {
   "cell_type": "code",
   "execution_count": 145,
   "metadata": {
    "colab": {},
    "colab_type": "code",
    "id": "ky6BcOYA5vAj"
   },
   "outputs": [
    {
     "data": {
      "text/html": [
       "<div>\n",
       "<style scoped>\n",
       "    .dataframe tbody tr th:only-of-type {\n",
       "        vertical-align: middle;\n",
       "    }\n",
       "\n",
       "    .dataframe tbody tr th {\n",
       "        vertical-align: top;\n",
       "    }\n",
       "\n",
       "    .dataframe thead th {\n",
       "        text-align: right;\n",
       "    }\n",
       "</style>\n",
       "<table border=\"1\" class=\"dataframe\">\n",
       "  <thead>\n",
       "    <tr style=\"text-align: right;\">\n",
       "      <th></th>\n",
       "      <th>client_id</th>\n",
       "      <th>regular_points_received</th>\n",
       "      <th>express_points_received</th>\n",
       "      <th>regular_points_spent</th>\n",
       "      <th>express_points_spent</th>\n",
       "      <th>purchase_sum</th>\n",
       "      <th>product_quantity</th>\n",
       "      <th>trn_sum_from_iss</th>\n",
       "      <th>trn_sum_from_red</th>\n",
       "      <th>netto</th>\n",
       "      <th>heavy_flg</th>\n",
       "    </tr>\n",
       "  </thead>\n",
       "  <tbody>\n",
       "    <tr>\n",
       "      <th>0</th>\n",
       "      <td>000012768d</td>\n",
       "      <td>95.35</td>\n",
       "      <td>0.0</td>\n",
       "      <td>0.0</td>\n",
       "      <td>0.0</td>\n",
       "      <td>9581.0</td>\n",
       "      <td>13.5</td>\n",
       "      <td>689.5</td>\n",
       "      <td>689.5</td>\n",
       "      <td>7.0235</td>\n",
       "      <td>1</td>\n",
       "    </tr>\n",
       "    <tr>\n",
       "      <th>1</th>\n",
       "      <td>000036f903</td>\n",
       "      <td>5.60</td>\n",
       "      <td>0.0</td>\n",
       "      <td>0.0</td>\n",
       "      <td>0.0</td>\n",
       "      <td>1177.5</td>\n",
       "      <td>4.5</td>\n",
       "      <td>266.5</td>\n",
       "      <td>266.5</td>\n",
       "      <td>2.5250</td>\n",
       "      <td>1</td>\n",
       "    </tr>\n",
       "    <tr>\n",
       "      <th>2</th>\n",
       "      <td>000048b7a6</td>\n",
       "      <td>18.30</td>\n",
       "      <td>0.0</td>\n",
       "      <td>0.0</td>\n",
       "      <td>0.0</td>\n",
       "      <td>2892.5</td>\n",
       "      <td>12.5</td>\n",
       "      <td>401.0</td>\n",
       "      <td>401.0</td>\n",
       "      <td>1.0830</td>\n",
       "      <td>1</td>\n",
       "    </tr>\n",
       "    <tr>\n",
       "      <th>3</th>\n",
       "      <td>000073194a</td>\n",
       "      <td>6.90</td>\n",
       "      <td>0.0</td>\n",
       "      <td>0.0</td>\n",
       "      <td>0.0</td>\n",
       "      <td>958.0</td>\n",
       "      <td>4.0</td>\n",
       "      <td>480.0</td>\n",
       "      <td>480.0</td>\n",
       "      <td>1.7900</td>\n",
       "      <td>1</td>\n",
       "    </tr>\n",
       "    <tr>\n",
       "      <th>4</th>\n",
       "      <td>00007c7133</td>\n",
       "      <td>16.20</td>\n",
       "      <td>0.0</td>\n",
       "      <td>0.0</td>\n",
       "      <td>0.0</td>\n",
       "      <td>3857.0</td>\n",
       "      <td>8.0</td>\n",
       "      <td>381.0</td>\n",
       "      <td>552.0</td>\n",
       "      <td>3.7410</td>\n",
       "      <td>1</td>\n",
       "    </tr>\n",
       "    <tr>\n",
       "      <th>...</th>\n",
       "      <td>...</td>\n",
       "      <td>...</td>\n",
       "      <td>...</td>\n",
       "      <td>...</td>\n",
       "      <td>...</td>\n",
       "      <td>...</td>\n",
       "      <td>...</td>\n",
       "      <td>...</td>\n",
       "      <td>...</td>\n",
       "      <td>...</td>\n",
       "      <td>...</td>\n",
       "    </tr>\n",
       "    <tr>\n",
       "      <th>400157</th>\n",
       "      <td>fffece623e</td>\n",
       "      <td>4.20</td>\n",
       "      <td>0.0</td>\n",
       "      <td>0.0</td>\n",
       "      <td>0.0</td>\n",
       "      <td>873.5</td>\n",
       "      <td>4.0</td>\n",
       "      <td>199.5</td>\n",
       "      <td>199.5</td>\n",
       "      <td>2.7825</td>\n",
       "      <td>1</td>\n",
       "    </tr>\n",
       "    <tr>\n",
       "      <th>400158</th>\n",
       "      <td>ffff3dfff8</td>\n",
       "      <td>9.20</td>\n",
       "      <td>0.0</td>\n",
       "      <td>0.0</td>\n",
       "      <td>0.0</td>\n",
       "      <td>1088.0</td>\n",
       "      <td>4.0</td>\n",
       "      <td>290.0</td>\n",
       "      <td>290.0</td>\n",
       "      <td>1.6760</td>\n",
       "      <td>1</td>\n",
       "    </tr>\n",
       "    <tr>\n",
       "      <th>400159</th>\n",
       "      <td>ffffaab9da</td>\n",
       "      <td>58.50</td>\n",
       "      <td>0.0</td>\n",
       "      <td>0.0</td>\n",
       "      <td>0.0</td>\n",
       "      <td>5904.0</td>\n",
       "      <td>14.0</td>\n",
       "      <td>659.0</td>\n",
       "      <td>659.0</td>\n",
       "      <td>2.3250</td>\n",
       "      <td>1</td>\n",
       "    </tr>\n",
       "    <tr>\n",
       "      <th>400160</th>\n",
       "      <td>ffffeb5619</td>\n",
       "      <td>224.40</td>\n",
       "      <td>0.0</td>\n",
       "      <td>0.0</td>\n",
       "      <td>0.0</td>\n",
       "      <td>27250.9</td>\n",
       "      <td>14.0</td>\n",
       "      <td>2191.0</td>\n",
       "      <td>2191.0</td>\n",
       "      <td>4.5920</td>\n",
       "      <td>1</td>\n",
       "    </tr>\n",
       "    <tr>\n",
       "      <th>400161</th>\n",
       "      <td>fffff6ce77</td>\n",
       "      <td>14.40</td>\n",
       "      <td>0.0</td>\n",
       "      <td>0.0</td>\n",
       "      <td>0.0</td>\n",
       "      <td>2556.0</td>\n",
       "      <td>7.5</td>\n",
       "      <td>426.5</td>\n",
       "      <td>426.5</td>\n",
       "      <td>1.9800</td>\n",
       "      <td>1</td>\n",
       "    </tr>\n",
       "  </tbody>\n",
       "</table>\n",
       "<p>400162 rows × 11 columns</p>\n",
       "</div>"
      ],
      "text/plain": [
       "         client_id  regular_points_received  express_points_received  \\\n",
       "0       000012768d                    95.35                      0.0   \n",
       "1       000036f903                     5.60                      0.0   \n",
       "2       000048b7a6                    18.30                      0.0   \n",
       "3       000073194a                     6.90                      0.0   \n",
       "4       00007c7133                    16.20                      0.0   \n",
       "...            ...                      ...                      ...   \n",
       "400157  fffece623e                     4.20                      0.0   \n",
       "400158  ffff3dfff8                     9.20                      0.0   \n",
       "400159  ffffaab9da                    58.50                      0.0   \n",
       "400160  ffffeb5619                   224.40                      0.0   \n",
       "400161  fffff6ce77                    14.40                      0.0   \n",
       "\n",
       "        regular_points_spent  express_points_spent  purchase_sum  \\\n",
       "0                        0.0                   0.0        9581.0   \n",
       "1                        0.0                   0.0        1177.5   \n",
       "2                        0.0                   0.0        2892.5   \n",
       "3                        0.0                   0.0         958.0   \n",
       "4                        0.0                   0.0        3857.0   \n",
       "...                      ...                   ...           ...   \n",
       "400157                   0.0                   0.0         873.5   \n",
       "400158                   0.0                   0.0        1088.0   \n",
       "400159                   0.0                   0.0        5904.0   \n",
       "400160                   0.0                   0.0       27250.9   \n",
       "400161                   0.0                   0.0        2556.0   \n",
       "\n",
       "        product_quantity  trn_sum_from_iss  trn_sum_from_red   netto  \\\n",
       "0                   13.5             689.5             689.5  7.0235   \n",
       "1                    4.5             266.5             266.5  2.5250   \n",
       "2                   12.5             401.0             401.0  1.0830   \n",
       "3                    4.0             480.0             480.0  1.7900   \n",
       "4                    8.0             381.0             552.0  3.7410   \n",
       "...                  ...               ...               ...     ...   \n",
       "400157               4.0             199.5             199.5  2.7825   \n",
       "400158               4.0             290.0             290.0  1.6760   \n",
       "400159              14.0             659.0             659.0  2.3250   \n",
       "400160              14.0            2191.0            2191.0  4.5920   \n",
       "400161               7.5             426.5             426.5  1.9800   \n",
       "\n",
       "        heavy_flg  \n",
       "0               1  \n",
       "1               1  \n",
       "2               1  \n",
       "3               1  \n",
       "4               1  \n",
       "...           ...  \n",
       "400157          1  \n",
       "400158          1  \n",
       "400159          1  \n",
       "400160          1  \n",
       "400161          1  \n",
       "\n",
       "[400162 rows x 11 columns]"
      ]
     },
     "execution_count": 145,
     "metadata": {},
     "output_type": "execute_result"
    }
   ],
   "source": [
    "tmp.loc[:, 'heavy_flg'] = 1\n",
    "tmp.loc[tmp['netto'] > 9.0, 'heavy_flg'] = 0\n",
    "tmp"
   ]
  },
  {
   "cell_type": "code",
   "execution_count": 146,
   "metadata": {
    "colab": {},
    "colab_type": "code",
    "id": "Rrei72l334zQ"
   },
   "outputs": [],
   "source": [
    "tmp = tmp.loc[:, ['netto', 'heavy_flg']]"
   ]
  },
  {
   "cell_type": "code",
   "execution_count": 147,
   "metadata": {},
   "outputs": [],
   "source": [
    "tmp['client_id'] = X.client_id"
   ]
  },
  {
   "cell_type": "code",
   "execution_count": 148,
   "metadata": {
    "colab": {},
    "colab_type": "code",
    "id": "yioDeI3qvmC7"
   },
   "outputs": [],
   "source": [
    "X = pd.concat([X, tmp.drop(columns='client_id').reindex(X.index)], axis=1)"
   ]
  },
  {
   "cell_type": "markdown",
   "metadata": {
    "colab_type": "text",
    "id": "sNEpuvei8jvU"
   },
   "source": [
    "# Время покупки"
   ]
  },
  {
   "cell_type": "code",
   "execution_count": 149,
   "metadata": {
    "colab": {},
    "colab_type": "code",
    "id": "fr26GAgk-B_B"
   },
   "outputs": [],
   "source": [
    "# purch.transaction_datetime = pd.to_datetime(purch.transaction_datetime)"
   ]
  },
  {
   "cell_type": "code",
   "execution_count": 150,
   "metadata": {
    "colab": {},
    "colab_type": "code",
    "id": "7qSj2r7C_BYX",
    "scrolled": true
   },
   "outputs": [],
   "source": [
    "tmp = purch.groupby(['client_id', 'transaction_id', 'transaction_datetime'], as_index=False).mean()[['client_id', 'transaction_id', 'transaction_datetime']]\n",
    "tmp.loc[:,'day_of_week'] = tmp.loc[:,'transaction_datetime'].dt.weekday\n",
    "tmp.loc[:,'hour'] = tmp.loc[:,'transaction_datetime'].dt.hour"
   ]
  },
  {
   "cell_type": "code",
   "execution_count": 151,
   "metadata": {
    "colab": {},
    "colab_type": "code",
    "id": "ixKy0F1hE3ot"
   },
   "outputs": [],
   "source": [
    "tmp.loc[(tmp['hour'] >= 0) & (tmp['hour'] <= 3), 'hour'] = 1\n",
    "tmp.loc[(tmp['hour'] >= 4) & (tmp['hour'] <= 6), 'hour'] = 2\n",
    "tmp.loc[(tmp['hour'] >= 5) & (tmp['hour'] <= 9), 'hour'] = 3\n",
    "tmp.loc[(tmp['hour'] >= 10) & (tmp['hour'] <= 12), 'hour'] = 4\n",
    "tmp.loc[(tmp['hour'] >= 13) & (tmp['hour'] <= 16), 'hour'] = 5\n",
    "tmp.loc[(tmp['hour'] >= 17) & (tmp['hour'] <= 20), 'hour'] = 6\n",
    "tmp.loc[(tmp['hour'] >= 21) & (tmp['hour'] <= 24), 'hour'] = 7"
   ]
  },
  {
   "cell_type": "code",
   "execution_count": 153,
   "metadata": {},
   "outputs": [
    {
     "data": {
      "text/html": [
       "<div>\n",
       "<style scoped>\n",
       "    .dataframe tbody tr th:only-of-type {\n",
       "        vertical-align: middle;\n",
       "    }\n",
       "\n",
       "    .dataframe tbody tr th {\n",
       "        vertical-align: top;\n",
       "    }\n",
       "\n",
       "    .dataframe thead th {\n",
       "        text-align: right;\n",
       "    }\n",
       "</style>\n",
       "<table border=\"1\" class=\"dataframe\">\n",
       "  <thead>\n",
       "    <tr style=\"text-align: right;\">\n",
       "      <th></th>\n",
       "      <th>client_id</th>\n",
       "      <th>transaction_id</th>\n",
       "      <th>transaction_datetime</th>\n",
       "      <th>day_of_week</th>\n",
       "      <th>hour</th>\n",
       "    </tr>\n",
       "  </thead>\n",
       "  <tbody>\n",
       "    <tr>\n",
       "      <th>0</th>\n",
       "      <td>000012768d</td>\n",
       "      <td>6a0e96d0bc</td>\n",
       "      <td>2019-03-08 10:12:03</td>\n",
       "      <td>4</td>\n",
       "      <td>4</td>\n",
       "    </tr>\n",
       "    <tr>\n",
       "      <th>1</th>\n",
       "      <td>000012768d</td>\n",
       "      <td>7e3e2e3984</td>\n",
       "      <td>2018-12-01 07:12:45</td>\n",
       "      <td>5</td>\n",
       "      <td>3</td>\n",
       "    </tr>\n",
       "    <tr>\n",
       "      <th>2</th>\n",
       "      <td>000012768d</td>\n",
       "      <td>b34f23306e</td>\n",
       "      <td>2019-03-14 15:01:47</td>\n",
       "      <td>3</td>\n",
       "      <td>5</td>\n",
       "    </tr>\n",
       "    <tr>\n",
       "      <th>3</th>\n",
       "      <td>000012768d</td>\n",
       "      <td>c1ca85d462</td>\n",
       "      <td>2018-12-16 08:56:01</td>\n",
       "      <td>6</td>\n",
       "      <td>3</td>\n",
       "    </tr>\n",
       "    <tr>\n",
       "      <th>4</th>\n",
       "      <td>000036f903</td>\n",
       "      <td>0a3d640bf4</td>\n",
       "      <td>2018-12-21 11:08:58</td>\n",
       "      <td>4</td>\n",
       "      <td>4</td>\n",
       "    </tr>\n",
       "    <tr>\n",
       "      <th>...</th>\n",
       "      <td>...</td>\n",
       "      <td>...</td>\n",
       "      <td>...</td>\n",
       "      <td>...</td>\n",
       "      <td>...</td>\n",
       "    </tr>\n",
       "    <tr>\n",
       "      <th>8045224</th>\n",
       "      <td>fffff6ce77</td>\n",
       "      <td>e9182e5887</td>\n",
       "      <td>2019-01-19 12:27:26</td>\n",
       "      <td>5</td>\n",
       "      <td>4</td>\n",
       "    </tr>\n",
       "    <tr>\n",
       "      <th>8045225</th>\n",
       "      <td>fffff6ce77</td>\n",
       "      <td>eba2694c0c</td>\n",
       "      <td>2019-02-28 12:56:31</td>\n",
       "      <td>3</td>\n",
       "      <td>4</td>\n",
       "    </tr>\n",
       "    <tr>\n",
       "      <th>8045226</th>\n",
       "      <td>fffff6ce77</td>\n",
       "      <td>f0af5bcc0b</td>\n",
       "      <td>2019-02-03 06:48:27</td>\n",
       "      <td>6</td>\n",
       "      <td>2</td>\n",
       "    </tr>\n",
       "    <tr>\n",
       "      <th>8045227</th>\n",
       "      <td>fffff6ce77</td>\n",
       "      <td>f58417b669</td>\n",
       "      <td>2019-01-16 14:57:39</td>\n",
       "      <td>2</td>\n",
       "      <td>5</td>\n",
       "    </tr>\n",
       "    <tr>\n",
       "      <th>8045228</th>\n",
       "      <td>fffff6ce77</td>\n",
       "      <td>f8dd10c7f3</td>\n",
       "      <td>2019-01-11 19:40:56</td>\n",
       "      <td>4</td>\n",
       "      <td>6</td>\n",
       "    </tr>\n",
       "  </tbody>\n",
       "</table>\n",
       "<p>8045229 rows × 5 columns</p>\n",
       "</div>"
      ],
      "text/plain": [
       "          client_id transaction_id transaction_datetime  day_of_week  hour\n",
       "0        000012768d     6a0e96d0bc  2019-03-08 10:12:03            4     4\n",
       "1        000012768d     7e3e2e3984  2018-12-01 07:12:45            5     3\n",
       "2        000012768d     b34f23306e  2019-03-14 15:01:47            3     5\n",
       "3        000012768d     c1ca85d462  2018-12-16 08:56:01            6     3\n",
       "4        000036f903     0a3d640bf4  2018-12-21 11:08:58            4     4\n",
       "...             ...            ...                  ...          ...   ...\n",
       "8045224  fffff6ce77     e9182e5887  2019-01-19 12:27:26            5     4\n",
       "8045225  fffff6ce77     eba2694c0c  2019-02-28 12:56:31            3     4\n",
       "8045226  fffff6ce77     f0af5bcc0b  2019-02-03 06:48:27            6     2\n",
       "8045227  fffff6ce77     f58417b669  2019-01-16 14:57:39            2     5\n",
       "8045228  fffff6ce77     f8dd10c7f3  2019-01-11 19:40:56            4     6\n",
       "\n",
       "[8045229 rows x 5 columns]"
      ]
     },
     "execution_count": 153,
     "metadata": {},
     "output_type": "execute_result"
    }
   ],
   "source": [
    "tmp"
   ]
  },
  {
   "cell_type": "code",
   "execution_count": 156,
   "metadata": {
    "colab": {},
    "colab_type": "code",
    "collapsed": true,
    "id": "gteX1r5nDi1o"
   },
   "outputs": [
    {
     "ename": "TypeError",
     "evalue": "Must provide 'func' or tuples of '(column, aggfunc).",
     "output_type": "error",
     "traceback": [
      "\u001b[0;31m---------------------------------------------------------------------------\u001b[0m",
      "\u001b[0;31mTypeError\u001b[0m                                 Traceback (most recent call last)",
      "\u001b[0;32m<ipython-input-156-f81fbad129f6>\u001b[0m in \u001b[0;36m<module>\u001b[0;34m\u001b[0m\n\u001b[0;32m----> 1\u001b[0;31m \u001b[0mtmp\u001b[0m\u001b[0;34m.\u001b[0m\u001b[0mgroupby\u001b[0m\u001b[0;34m(\u001b[0m\u001b[0;34m'client_id'\u001b[0m\u001b[0;34m,\u001b[0m \u001b[0mas_index\u001b[0m\u001b[0;34m=\u001b[0m\u001b[0;32mFalse\u001b[0m\u001b[0;34m)\u001b[0m\u001b[0;34m.\u001b[0m\u001b[0magg\u001b[0m\u001b[0;34m(\u001b[0m\u001b[0;34m)\u001b[0m\u001b[0;34m.\u001b[0m\u001b[0mvalue_counts\u001b[0m\u001b[0;34m(\u001b[0m\u001b[0;34m)\u001b[0m\u001b[0;34m.\u001b[0m\u001b[0mindex\u001b[0m\u001b[0;34m[\u001b[0m\u001b[0;36m0\u001b[0m\u001b[0;34m]\u001b[0m\u001b[0;34m\u001b[0m\u001b[0;34m\u001b[0m\u001b[0m\n\u001b[0m\u001b[1;32m      2\u001b[0m \u001b[0;31m# X = pd.concat([X, tmp.drop(columns='client_id').reindex(X.index)], axis=1)\u001b[0m\u001b[0;34m\u001b[0m\u001b[0;34m\u001b[0m\u001b[0;34m\u001b[0m\u001b[0m\n\u001b[1;32m      3\u001b[0m \u001b[0;31m# X.head()\u001b[0m\u001b[0;34m\u001b[0m\u001b[0;34m\u001b[0m\u001b[0;34m\u001b[0m\u001b[0m\n",
      "\u001b[0;32m~/env/lib/python3.6/site-packages/pandas/core/groupby/generic.py\u001b[0m in \u001b[0;36maggregate\u001b[0;34m(self, arg, *args, **kwargs)\u001b[0m\n\u001b[1;32m   1453\u001b[0m     \u001b[0;34m@\u001b[0m\u001b[0mAppender\u001b[0m\u001b[0;34m(\u001b[0m\u001b[0m_shared_docs\u001b[0m\u001b[0;34m[\u001b[0m\u001b[0;34m\"aggregate\"\u001b[0m\u001b[0;34m]\u001b[0m\u001b[0;34m)\u001b[0m\u001b[0;34m\u001b[0m\u001b[0;34m\u001b[0m\u001b[0m\n\u001b[1;32m   1454\u001b[0m     \u001b[0;32mdef\u001b[0m \u001b[0maggregate\u001b[0m\u001b[0;34m(\u001b[0m\u001b[0mself\u001b[0m\u001b[0;34m,\u001b[0m \u001b[0marg\u001b[0m\u001b[0;34m=\u001b[0m\u001b[0;32mNone\u001b[0m\u001b[0;34m,\u001b[0m \u001b[0;34m*\u001b[0m\u001b[0margs\u001b[0m\u001b[0;34m,\u001b[0m \u001b[0;34m**\u001b[0m\u001b[0mkwargs\u001b[0m\u001b[0;34m)\u001b[0m\u001b[0;34m:\u001b[0m\u001b[0;34m\u001b[0m\u001b[0;34m\u001b[0m\u001b[0m\n\u001b[0;32m-> 1455\u001b[0;31m         \u001b[0;32mreturn\u001b[0m \u001b[0msuper\u001b[0m\u001b[0;34m(\u001b[0m\u001b[0;34m)\u001b[0m\u001b[0;34m.\u001b[0m\u001b[0maggregate\u001b[0m\u001b[0;34m(\u001b[0m\u001b[0marg\u001b[0m\u001b[0;34m,\u001b[0m \u001b[0;34m*\u001b[0m\u001b[0margs\u001b[0m\u001b[0;34m,\u001b[0m \u001b[0;34m**\u001b[0m\u001b[0mkwargs\u001b[0m\u001b[0;34m)\u001b[0m\u001b[0;34m\u001b[0m\u001b[0;34m\u001b[0m\u001b[0m\n\u001b[0m\u001b[1;32m   1456\u001b[0m \u001b[0;34m\u001b[0m\u001b[0m\n\u001b[1;32m   1457\u001b[0m     \u001b[0magg\u001b[0m \u001b[0;34m=\u001b[0m \u001b[0maggregate\u001b[0m\u001b[0;34m\u001b[0m\u001b[0;34m\u001b[0m\u001b[0m\n",
      "\u001b[0;32m~/env/lib/python3.6/site-packages/pandas/core/groupby/generic.py\u001b[0m in \u001b[0;36maggregate\u001b[0;34m(self, func, *args, **kwargs)\u001b[0m\n\u001b[1;32m    223\u001b[0m         \u001b[0;32melif\u001b[0m \u001b[0mfunc\u001b[0m \u001b[0;32mis\u001b[0m \u001b[0;32mNone\u001b[0m\u001b[0;34m:\u001b[0m\u001b[0;34m\u001b[0m\u001b[0;34m\u001b[0m\u001b[0m\n\u001b[1;32m    224\u001b[0m             \u001b[0;31m# nicer error message\u001b[0m\u001b[0;34m\u001b[0m\u001b[0;34m\u001b[0m\u001b[0;34m\u001b[0m\u001b[0m\n\u001b[0;32m--> 225\u001b[0;31m             \u001b[0;32mraise\u001b[0m \u001b[0mTypeError\u001b[0m\u001b[0;34m(\u001b[0m\u001b[0;34m\"Must provide 'func' or tuples of \"\u001b[0m \u001b[0;34m\"'(column, aggfunc).\"\u001b[0m\u001b[0;34m)\u001b[0m\u001b[0;34m\u001b[0m\u001b[0;34m\u001b[0m\u001b[0m\n\u001b[0m\u001b[1;32m    226\u001b[0m \u001b[0;34m\u001b[0m\u001b[0m\n\u001b[1;32m    227\u001b[0m         \u001b[0mfunc\u001b[0m \u001b[0;34m=\u001b[0m \u001b[0m_maybe_mangle_lambdas\u001b[0m\u001b[0;34m(\u001b[0m\u001b[0mfunc\u001b[0m\u001b[0;34m)\u001b[0m\u001b[0;34m\u001b[0m\u001b[0;34m\u001b[0m\u001b[0m\n",
      "\u001b[0;31mTypeError\u001b[0m: Must provide 'func' or tuples of '(column, aggfunc)."
     ]
    }
   ],
   "source": [
    "tmp.groupby('client_id', as_index=False).agg().value_counts().index[0]\n",
    "# X = pd.concat([X, tmp.drop(columns='client_id').reindex(X.index)], axis=1)\n",
    "# X.head()"
   ]
  },
  {
   "cell_type": "markdown",
   "metadata": {
    "colab_type": "text",
    "id": "Xc0J_tW_HJdN"
   },
   "source": [
    "# Кол-во продуктов в среднем\n"
   ]
  },
  {
   "cell_type": "code",
   "execution_count": 157,
   "metadata": {
    "colab": {},
    "colab_type": "code",
    "id": "4--syv0RHakg"
   },
   "outputs": [],
   "source": [
    "tmp = purch.loc[:,['client_id','transaction_id', 'product_quantity']]\n",
    "tmp = tmp.groupby(['client_id','transaction_id'], as_index=False).sum()"
   ]
  },
  {
   "cell_type": "code",
   "execution_count": 158,
   "metadata": {
    "colab": {},
    "colab_type": "code",
    "id": "bUzPzGBKzhIA"
   },
   "outputs": [],
   "source": [
    "tmp = tmp.groupby(['client_id'], as_index=False).mean()\n",
    "tmp['product_quantity_avg'] = tmp.product_quantity\n",
    "tmp = tmp.drop(columns='product_quantity')"
   ]
  },
  {
   "cell_type": "code",
   "execution_count": 159,
   "metadata": {
    "colab": {},
    "colab_type": "code",
    "id": "rU2rRYWHHIQa"
   },
   "outputs": [
    {
     "data": {
      "text/html": [
       "<div>\n",
       "<style scoped>\n",
       "    .dataframe tbody tr th:only-of-type {\n",
       "        vertical-align: middle;\n",
       "    }\n",
       "\n",
       "    .dataframe tbody tr th {\n",
       "        vertical-align: top;\n",
       "    }\n",
       "\n",
       "    .dataframe thead th {\n",
       "        text-align: right;\n",
       "    }\n",
       "</style>\n",
       "<table border=\"1\" class=\"dataframe\">\n",
       "  <thead>\n",
       "    <tr style=\"text-align: right;\">\n",
       "      <th></th>\n",
       "      <th>client_id</th>\n",
       "      <th>first_issue_date</th>\n",
       "      <th>first_redeem_date</th>\n",
       "      <th>age</th>\n",
       "      <th>gender</th>\n",
       "      <th>netto</th>\n",
       "      <th>heavy_flg</th>\n",
       "      <th>product_quantity_avg</th>\n",
       "    </tr>\n",
       "  </thead>\n",
       "  <tbody>\n",
       "    <tr>\n",
       "      <th>0</th>\n",
       "      <td>000012768d</td>\n",
       "      <td>2017-08-05 15:40:48</td>\n",
       "      <td>2018-01-04 19:30:07</td>\n",
       "      <td>45.0</td>\n",
       "      <td>U</td>\n",
       "      <td>7.0235</td>\n",
       "      <td>1</td>\n",
       "      <td>13.500000</td>\n",
       "    </tr>\n",
       "    <tr>\n",
       "      <th>1</th>\n",
       "      <td>000036f903</td>\n",
       "      <td>2017-04-10 13:54:23</td>\n",
       "      <td>2017-04-23 12:37:56</td>\n",
       "      <td>72.0</td>\n",
       "      <td>F</td>\n",
       "      <td>2.5250</td>\n",
       "      <td>1</td>\n",
       "      <td>5.281250</td>\n",
       "    </tr>\n",
       "    <tr>\n",
       "      <th>2</th>\n",
       "      <td>000048b7a6</td>\n",
       "      <td>2018-12-15 13:33:11</td>\n",
       "      <td>1970-01-01 00:00:00</td>\n",
       "      <td>68.0</td>\n",
       "      <td>F</td>\n",
       "      <td>1.0830</td>\n",
       "      <td>1</td>\n",
       "      <td>11.375000</td>\n",
       "    </tr>\n",
       "    <tr>\n",
       "      <th>3</th>\n",
       "      <td>000073194a</td>\n",
       "      <td>2017-05-23 12:56:14</td>\n",
       "      <td>2017-11-24 11:18:01</td>\n",
       "      <td>60.0</td>\n",
       "      <td>F</td>\n",
       "      <td>1.7900</td>\n",
       "      <td>1</td>\n",
       "      <td>7.470588</td>\n",
       "    </tr>\n",
       "    <tr>\n",
       "      <th>4</th>\n",
       "      <td>00007c7133</td>\n",
       "      <td>2017-05-22 16:17:08</td>\n",
       "      <td>2018-12-31 17:17:33</td>\n",
       "      <td>67.0</td>\n",
       "      <td>U</td>\n",
       "      <td>3.7410</td>\n",
       "      <td>1</td>\n",
       "      <td>7.545455</td>\n",
       "    </tr>\n",
       "  </tbody>\n",
       "</table>\n",
       "</div>"
      ],
      "text/plain": [
       "    client_id     first_issue_date    first_redeem_date   age gender   netto  \\\n",
       "0  000012768d  2017-08-05 15:40:48  2018-01-04 19:30:07  45.0      U  7.0235   \n",
       "1  000036f903  2017-04-10 13:54:23  2017-04-23 12:37:56  72.0      F  2.5250   \n",
       "2  000048b7a6  2018-12-15 13:33:11  1970-01-01 00:00:00  68.0      F  1.0830   \n",
       "3  000073194a  2017-05-23 12:56:14  2017-11-24 11:18:01  60.0      F  1.7900   \n",
       "4  00007c7133  2017-05-22 16:17:08  2018-12-31 17:17:33  67.0      U  3.7410   \n",
       "\n",
       "   heavy_flg  product_quantity_avg  \n",
       "0          1             13.500000  \n",
       "1          1              5.281250  \n",
       "2          1             11.375000  \n",
       "3          1              7.470588  \n",
       "4          1              7.545455  "
      ]
     },
     "execution_count": 159,
     "metadata": {},
     "output_type": "execute_result"
    }
   ],
   "source": [
    "X = pd.concat([X, tmp.drop(columns='client_id').reindex(X.index)], axis=1)\n",
    "X.head()"
   ]
  },
  {
   "cell_type": "markdown",
   "metadata": {
    "colab_type": "text",
    "id": "_aNw8ksDI4LO"
   },
   "source": [
    "# Бонусы\n"
   ]
  },
  {
   "cell_type": "code",
   "execution_count": 160,
   "metadata": {
    "colab": {},
    "colab_type": "code",
    "id": "Cg3z4UQsPbUD"
   },
   "outputs": [],
   "source": [
    "bonuses = purch.loc[:,['client_id', 'transaction_id', 'regular_points_received','express_points_received','regular_points_spent', 'express_points_spent']]"
   ]
  },
  {
   "cell_type": "code",
   "execution_count": 161,
   "metadata": {
    "colab": {},
    "colab_type": "code",
    "id": "rWjwww4-OC1c"
   },
   "outputs": [
    {
     "data": {
      "text/html": [
       "<div>\n",
       "<style scoped>\n",
       "    .dataframe tbody tr th:only-of-type {\n",
       "        vertical-align: middle;\n",
       "    }\n",
       "\n",
       "    .dataframe tbody tr th {\n",
       "        vertical-align: top;\n",
       "    }\n",
       "\n",
       "    .dataframe thead th {\n",
       "        text-align: right;\n",
       "    }\n",
       "</style>\n",
       "<table border=\"1\" class=\"dataframe\">\n",
       "  <thead>\n",
       "    <tr style=\"text-align: right;\">\n",
       "      <th></th>\n",
       "      <th>client_id</th>\n",
       "      <th>regular_points_received</th>\n",
       "      <th>express_points_received</th>\n",
       "      <th>regular_points_spent</th>\n",
       "      <th>express_points_spent</th>\n",
       "      <th>balance</th>\n",
       "    </tr>\n",
       "  </thead>\n",
       "  <tbody>\n",
       "    <tr>\n",
       "      <th>0</th>\n",
       "      <td>000012768d</td>\n",
       "      <td>25.7</td>\n",
       "      <td>0.0</td>\n",
       "      <td>0.0</td>\n",
       "      <td>0.0</td>\n",
       "      <td>25.7</td>\n",
       "    </tr>\n",
       "    <tr>\n",
       "      <th>1</th>\n",
       "      <td>000036f903</td>\n",
       "      <td>54.9</td>\n",
       "      <td>60.0</td>\n",
       "      <td>0.0</td>\n",
       "      <td>0.0</td>\n",
       "      <td>54.9</td>\n",
       "    </tr>\n",
       "    <tr>\n",
       "      <th>2</th>\n",
       "      <td>000048b7a6</td>\n",
       "      <td>26.5</td>\n",
       "      <td>0.0</td>\n",
       "      <td>0.0</td>\n",
       "      <td>0.0</td>\n",
       "      <td>26.5</td>\n",
       "    </tr>\n",
       "    <tr>\n",
       "      <th>3</th>\n",
       "      <td>000073194a</td>\n",
       "      <td>74.9</td>\n",
       "      <td>0.0</td>\n",
       "      <td>-96.0</td>\n",
       "      <td>0.0</td>\n",
       "      <td>-21.1</td>\n",
       "    </tr>\n",
       "    <tr>\n",
       "      <th>4</th>\n",
       "      <td>00007c7133</td>\n",
       "      <td>56.6</td>\n",
       "      <td>0.0</td>\n",
       "      <td>-240.0</td>\n",
       "      <td>0.0</td>\n",
       "      <td>-183.4</td>\n",
       "    </tr>\n",
       "    <tr>\n",
       "      <th>...</th>\n",
       "      <td>...</td>\n",
       "      <td>...</td>\n",
       "      <td>...</td>\n",
       "      <td>...</td>\n",
       "      <td>...</td>\n",
       "      <td>...</td>\n",
       "    </tr>\n",
       "    <tr>\n",
       "      <th>400157</th>\n",
       "      <td>fffece623e</td>\n",
       "      <td>38.4</td>\n",
       "      <td>0.0</td>\n",
       "      <td>-68.0</td>\n",
       "      <td>0.0</td>\n",
       "      <td>-29.6</td>\n",
       "    </tr>\n",
       "    <tr>\n",
       "      <th>400158</th>\n",
       "      <td>ffff3dfff8</td>\n",
       "      <td>117.9</td>\n",
       "      <td>0.0</td>\n",
       "      <td>-182.0</td>\n",
       "      <td>0.0</td>\n",
       "      <td>-64.1</td>\n",
       "    </tr>\n",
       "    <tr>\n",
       "      <th>400159</th>\n",
       "      <td>ffffaab9da</td>\n",
       "      <td>34.0</td>\n",
       "      <td>0.0</td>\n",
       "      <td>-6.0</td>\n",
       "      <td>0.0</td>\n",
       "      <td>28.0</td>\n",
       "    </tr>\n",
       "    <tr>\n",
       "      <th>400160</th>\n",
       "      <td>ffffeb5619</td>\n",
       "      <td>117.5</td>\n",
       "      <td>0.0</td>\n",
       "      <td>0.0</td>\n",
       "      <td>0.0</td>\n",
       "      <td>117.5</td>\n",
       "    </tr>\n",
       "    <tr>\n",
       "      <th>400161</th>\n",
       "      <td>fffff6ce77</td>\n",
       "      <td>221.3</td>\n",
       "      <td>0.0</td>\n",
       "      <td>-302.0</td>\n",
       "      <td>0.0</td>\n",
       "      <td>-80.7</td>\n",
       "    </tr>\n",
       "  </tbody>\n",
       "</table>\n",
       "<p>400162 rows × 6 columns</p>\n",
       "</div>"
      ],
      "text/plain": [
       "         client_id  regular_points_received  express_points_received  \\\n",
       "0       000012768d                     25.7                      0.0   \n",
       "1       000036f903                     54.9                     60.0   \n",
       "2       000048b7a6                     26.5                      0.0   \n",
       "3       000073194a                     74.9                      0.0   \n",
       "4       00007c7133                     56.6                      0.0   \n",
       "...            ...                      ...                      ...   \n",
       "400157  fffece623e                     38.4                      0.0   \n",
       "400158  ffff3dfff8                    117.9                      0.0   \n",
       "400159  ffffaab9da                     34.0                      0.0   \n",
       "400160  ffffeb5619                    117.5                      0.0   \n",
       "400161  fffff6ce77                    221.3                      0.0   \n",
       "\n",
       "        regular_points_spent  express_points_spent  balance  \n",
       "0                        0.0                   0.0     25.7  \n",
       "1                        0.0                   0.0     54.9  \n",
       "2                        0.0                   0.0     26.5  \n",
       "3                      -96.0                   0.0    -21.1  \n",
       "4                     -240.0                   0.0   -183.4  \n",
       "...                      ...                   ...      ...  \n",
       "400157                 -68.0                   0.0    -29.6  \n",
       "400158                -182.0                   0.0    -64.1  \n",
       "400159                  -6.0                   0.0     28.0  \n",
       "400160                   0.0                   0.0    117.5  \n",
       "400161                -302.0                   0.0    -80.7  \n",
       "\n",
       "[400162 rows x 6 columns]"
      ]
     },
     "execution_count": 161,
     "metadata": {},
     "output_type": "execute_result"
    }
   ],
   "source": [
    "tmp = bonuses.groupby(['client_id', 'transaction_id'], as_index=False).mean()\n",
    "tmp = tmp.groupby(['client_id'], as_index=False).sum()\n",
    "tmp.loc[:,'balance'] = tmp.loc[:,'regular_points_received'] + tmp.loc[:,'regular_points_spent']\n",
    "tmp"
   ]
  },
  {
   "cell_type": "code",
   "execution_count": 162,
   "metadata": {
    "colab": {},
    "colab_type": "code",
    "id": "eJK2If_cUKxi"
   },
   "outputs": [],
   "source": [
    "tmp['balance_express'] = tmp.loc[:,'express_points_received'] + tmp.loc[:,'express_points_spent']"
   ]
  },
  {
   "cell_type": "code",
   "execution_count": 163,
   "metadata": {
    "colab": {},
    "colab_type": "code",
    "id": "WLxQLg0-U8PE"
   },
   "outputs": [],
   "source": [
    "tmp['balance_all'] = tmp.loc[:,'express_points_received'] + tmp.loc[:,'express_points_spent'] + tmp.loc[:,'regular_points_received'] + tmp.loc[:,'regular_points_spent']"
   ]
  },
  {
   "cell_type": "code",
   "execution_count": 164,
   "metadata": {
    "colab": {},
    "colab_type": "code",
    "id": "PY6IrT7E8QHW"
   },
   "outputs": [
    {
     "data": {
      "text/html": [
       "<div>\n",
       "<style scoped>\n",
       "    .dataframe tbody tr th:only-of-type {\n",
       "        vertical-align: middle;\n",
       "    }\n",
       "\n",
       "    .dataframe tbody tr th {\n",
       "        vertical-align: top;\n",
       "    }\n",
       "\n",
       "    .dataframe thead th {\n",
       "        text-align: right;\n",
       "    }\n",
       "</style>\n",
       "<table border=\"1\" class=\"dataframe\">\n",
       "  <thead>\n",
       "    <tr style=\"text-align: right;\">\n",
       "      <th></th>\n",
       "      <th>client_id</th>\n",
       "      <th>first_issue_date</th>\n",
       "      <th>first_redeem_date</th>\n",
       "      <th>age</th>\n",
       "      <th>gender</th>\n",
       "      <th>netto</th>\n",
       "      <th>heavy_flg</th>\n",
       "      <th>product_quantity_avg</th>\n",
       "      <th>regular_points_received</th>\n",
       "      <th>express_points_received</th>\n",
       "      <th>regular_points_spent</th>\n",
       "      <th>express_points_spent</th>\n",
       "      <th>balance</th>\n",
       "      <th>balance_express</th>\n",
       "      <th>balance_all</th>\n",
       "    </tr>\n",
       "  </thead>\n",
       "  <tbody>\n",
       "    <tr>\n",
       "      <th>0</th>\n",
       "      <td>000012768d</td>\n",
       "      <td>2017-08-05 15:40:48</td>\n",
       "      <td>2018-01-04 19:30:07</td>\n",
       "      <td>45.0</td>\n",
       "      <td>U</td>\n",
       "      <td>7.0235</td>\n",
       "      <td>1</td>\n",
       "      <td>13.500000</td>\n",
       "      <td>25.7</td>\n",
       "      <td>0.0</td>\n",
       "      <td>0.0</td>\n",
       "      <td>0.0</td>\n",
       "      <td>25.7</td>\n",
       "      <td>0.0</td>\n",
       "      <td>25.7</td>\n",
       "    </tr>\n",
       "    <tr>\n",
       "      <th>1</th>\n",
       "      <td>000036f903</td>\n",
       "      <td>2017-04-10 13:54:23</td>\n",
       "      <td>2017-04-23 12:37:56</td>\n",
       "      <td>72.0</td>\n",
       "      <td>F</td>\n",
       "      <td>2.5250</td>\n",
       "      <td>1</td>\n",
       "      <td>5.281250</td>\n",
       "      <td>54.9</td>\n",
       "      <td>60.0</td>\n",
       "      <td>0.0</td>\n",
       "      <td>0.0</td>\n",
       "      <td>54.9</td>\n",
       "      <td>60.0</td>\n",
       "      <td>114.9</td>\n",
       "    </tr>\n",
       "    <tr>\n",
       "      <th>2</th>\n",
       "      <td>000048b7a6</td>\n",
       "      <td>2018-12-15 13:33:11</td>\n",
       "      <td>1970-01-01 00:00:00</td>\n",
       "      <td>68.0</td>\n",
       "      <td>F</td>\n",
       "      <td>1.0830</td>\n",
       "      <td>1</td>\n",
       "      <td>11.375000</td>\n",
       "      <td>26.5</td>\n",
       "      <td>0.0</td>\n",
       "      <td>0.0</td>\n",
       "      <td>0.0</td>\n",
       "      <td>26.5</td>\n",
       "      <td>0.0</td>\n",
       "      <td>26.5</td>\n",
       "    </tr>\n",
       "    <tr>\n",
       "      <th>3</th>\n",
       "      <td>000073194a</td>\n",
       "      <td>2017-05-23 12:56:14</td>\n",
       "      <td>2017-11-24 11:18:01</td>\n",
       "      <td>60.0</td>\n",
       "      <td>F</td>\n",
       "      <td>1.7900</td>\n",
       "      <td>1</td>\n",
       "      <td>7.470588</td>\n",
       "      <td>74.9</td>\n",
       "      <td>0.0</td>\n",
       "      <td>-96.0</td>\n",
       "      <td>0.0</td>\n",
       "      <td>-21.1</td>\n",
       "      <td>0.0</td>\n",
       "      <td>-21.1</td>\n",
       "    </tr>\n",
       "    <tr>\n",
       "      <th>4</th>\n",
       "      <td>00007c7133</td>\n",
       "      <td>2017-05-22 16:17:08</td>\n",
       "      <td>2018-12-31 17:17:33</td>\n",
       "      <td>67.0</td>\n",
       "      <td>U</td>\n",
       "      <td>3.7410</td>\n",
       "      <td>1</td>\n",
       "      <td>7.545455</td>\n",
       "      <td>56.6</td>\n",
       "      <td>0.0</td>\n",
       "      <td>-240.0</td>\n",
       "      <td>0.0</td>\n",
       "      <td>-183.4</td>\n",
       "      <td>0.0</td>\n",
       "      <td>-183.4</td>\n",
       "    </tr>\n",
       "  </tbody>\n",
       "</table>\n",
       "</div>"
      ],
      "text/plain": [
       "    client_id     first_issue_date    first_redeem_date   age gender   netto  \\\n",
       "0  000012768d  2017-08-05 15:40:48  2018-01-04 19:30:07  45.0      U  7.0235   \n",
       "1  000036f903  2017-04-10 13:54:23  2017-04-23 12:37:56  72.0      F  2.5250   \n",
       "2  000048b7a6  2018-12-15 13:33:11  1970-01-01 00:00:00  68.0      F  1.0830   \n",
       "3  000073194a  2017-05-23 12:56:14  2017-11-24 11:18:01  60.0      F  1.7900   \n",
       "4  00007c7133  2017-05-22 16:17:08  2018-12-31 17:17:33  67.0      U  3.7410   \n",
       "\n",
       "   heavy_flg  product_quantity_avg  regular_points_received  \\\n",
       "0          1             13.500000                     25.7   \n",
       "1          1              5.281250                     54.9   \n",
       "2          1             11.375000                     26.5   \n",
       "3          1              7.470588                     74.9   \n",
       "4          1              7.545455                     56.6   \n",
       "\n",
       "   express_points_received  regular_points_spent  express_points_spent  \\\n",
       "0                      0.0                   0.0                   0.0   \n",
       "1                     60.0                   0.0                   0.0   \n",
       "2                      0.0                   0.0                   0.0   \n",
       "3                      0.0                 -96.0                   0.0   \n",
       "4                      0.0                -240.0                   0.0   \n",
       "\n",
       "   balance  balance_express  balance_all  \n",
       "0     25.7              0.0         25.7  \n",
       "1     54.9             60.0        114.9  \n",
       "2     26.5              0.0         26.5  \n",
       "3    -21.1              0.0        -21.1  \n",
       "4   -183.4              0.0       -183.4  "
      ]
     },
     "execution_count": 164,
     "metadata": {},
     "output_type": "execute_result"
    }
   ],
   "source": [
    "X = pd.concat([X, tmp.drop(columns='client_id').reindex(X.index)], axis=1)\n",
    "X.head()"
   ]
  },
  {
   "cell_type": "markdown",
   "metadata": {
    "colab_type": "text",
    "id": "kuyfYaNzWx52"
   },
   "source": [
    "# Среднее время между покупками"
   ]
  },
  {
   "cell_type": "code",
   "execution_count": 165,
   "metadata": {
    "colab": {},
    "colab_type": "code",
    "id": "eqLqH9ddzrw3"
   },
   "outputs": [
    {
     "data": {
      "text/html": [
       "<div>\n",
       "<style scoped>\n",
       "    .dataframe tbody tr th:only-of-type {\n",
       "        vertical-align: middle;\n",
       "    }\n",
       "\n",
       "    .dataframe tbody tr th {\n",
       "        vertical-align: top;\n",
       "    }\n",
       "\n",
       "    .dataframe thead th {\n",
       "        text-align: right;\n",
       "    }\n",
       "</style>\n",
       "<table border=\"1\" class=\"dataframe\">\n",
       "  <thead>\n",
       "    <tr style=\"text-align: right;\">\n",
       "      <th></th>\n",
       "      <th>client_id</th>\n",
       "      <th>first_issue_date</th>\n",
       "      <th>first_redeem_date</th>\n",
       "      <th>age</th>\n",
       "      <th>gender</th>\n",
       "      <th>netto</th>\n",
       "      <th>heavy_flg</th>\n",
       "      <th>product_quantity_avg</th>\n",
       "      <th>regular_points_received</th>\n",
       "      <th>express_points_received</th>\n",
       "      <th>regular_points_spent</th>\n",
       "      <th>express_points_spent</th>\n",
       "      <th>balance</th>\n",
       "      <th>balance_express</th>\n",
       "      <th>balance_all</th>\n",
       "      <th>one_time_only</th>\n",
       "    </tr>\n",
       "  </thead>\n",
       "  <tbody>\n",
       "    <tr>\n",
       "      <th>0</th>\n",
       "      <td>000012768d</td>\n",
       "      <td>2017-08-05 15:40:48</td>\n",
       "      <td>2018-01-04 19:30:07</td>\n",
       "      <td>45.0</td>\n",
       "      <td>U</td>\n",
       "      <td>7.0235</td>\n",
       "      <td>1</td>\n",
       "      <td>13.500000</td>\n",
       "      <td>25.7</td>\n",
       "      <td>0.0</td>\n",
       "      <td>0.0</td>\n",
       "      <td>0.0</td>\n",
       "      <td>25.7</td>\n",
       "      <td>0.0</td>\n",
       "      <td>25.7</td>\n",
       "      <td>0</td>\n",
       "    </tr>\n",
       "    <tr>\n",
       "      <th>1</th>\n",
       "      <td>000036f903</td>\n",
       "      <td>2017-04-10 13:54:23</td>\n",
       "      <td>2017-04-23 12:37:56</td>\n",
       "      <td>72.0</td>\n",
       "      <td>F</td>\n",
       "      <td>2.5250</td>\n",
       "      <td>1</td>\n",
       "      <td>5.281250</td>\n",
       "      <td>54.9</td>\n",
       "      <td>60.0</td>\n",
       "      <td>0.0</td>\n",
       "      <td>0.0</td>\n",
       "      <td>54.9</td>\n",
       "      <td>60.0</td>\n",
       "      <td>114.9</td>\n",
       "      <td>0</td>\n",
       "    </tr>\n",
       "    <tr>\n",
       "      <th>2</th>\n",
       "      <td>000048b7a6</td>\n",
       "      <td>2018-12-15 13:33:11</td>\n",
       "      <td>1970-01-01 00:00:00</td>\n",
       "      <td>68.0</td>\n",
       "      <td>F</td>\n",
       "      <td>1.0830</td>\n",
       "      <td>1</td>\n",
       "      <td>11.375000</td>\n",
       "      <td>26.5</td>\n",
       "      <td>0.0</td>\n",
       "      <td>0.0</td>\n",
       "      <td>0.0</td>\n",
       "      <td>26.5</td>\n",
       "      <td>0.0</td>\n",
       "      <td>26.5</td>\n",
       "      <td>0</td>\n",
       "    </tr>\n",
       "    <tr>\n",
       "      <th>3</th>\n",
       "      <td>000073194a</td>\n",
       "      <td>2017-05-23 12:56:14</td>\n",
       "      <td>2017-11-24 11:18:01</td>\n",
       "      <td>60.0</td>\n",
       "      <td>F</td>\n",
       "      <td>1.7900</td>\n",
       "      <td>1</td>\n",
       "      <td>7.470588</td>\n",
       "      <td>74.9</td>\n",
       "      <td>0.0</td>\n",
       "      <td>-96.0</td>\n",
       "      <td>0.0</td>\n",
       "      <td>-21.1</td>\n",
       "      <td>0.0</td>\n",
       "      <td>-21.1</td>\n",
       "      <td>0</td>\n",
       "    </tr>\n",
       "    <tr>\n",
       "      <th>4</th>\n",
       "      <td>00007c7133</td>\n",
       "      <td>2017-05-22 16:17:08</td>\n",
       "      <td>2018-12-31 17:17:33</td>\n",
       "      <td>67.0</td>\n",
       "      <td>U</td>\n",
       "      <td>3.7410</td>\n",
       "      <td>1</td>\n",
       "      <td>7.545455</td>\n",
       "      <td>56.6</td>\n",
       "      <td>0.0</td>\n",
       "      <td>-240.0</td>\n",
       "      <td>0.0</td>\n",
       "      <td>-183.4</td>\n",
       "      <td>0.0</td>\n",
       "      <td>-183.4</td>\n",
       "      <td>0</td>\n",
       "    </tr>\n",
       "  </tbody>\n",
       "</table>\n",
       "</div>"
      ],
      "text/plain": [
       "    client_id     first_issue_date    first_redeem_date   age gender   netto  \\\n",
       "0  000012768d  2017-08-05 15:40:48  2018-01-04 19:30:07  45.0      U  7.0235   \n",
       "1  000036f903  2017-04-10 13:54:23  2017-04-23 12:37:56  72.0      F  2.5250   \n",
       "2  000048b7a6  2018-12-15 13:33:11  1970-01-01 00:00:00  68.0      F  1.0830   \n",
       "3  000073194a  2017-05-23 12:56:14  2017-11-24 11:18:01  60.0      F  1.7900   \n",
       "4  00007c7133  2017-05-22 16:17:08  2018-12-31 17:17:33  67.0      U  3.7410   \n",
       "\n",
       "   heavy_flg  product_quantity_avg  regular_points_received  \\\n",
       "0          1             13.500000                     25.7   \n",
       "1          1              5.281250                     54.9   \n",
       "2          1             11.375000                     26.5   \n",
       "3          1              7.470588                     74.9   \n",
       "4          1              7.545455                     56.6   \n",
       "\n",
       "   express_points_received  regular_points_spent  express_points_spent  \\\n",
       "0                      0.0                   0.0                   0.0   \n",
       "1                     60.0                   0.0                   0.0   \n",
       "2                      0.0                   0.0                   0.0   \n",
       "3                      0.0                 -96.0                   0.0   \n",
       "4                      0.0                -240.0                   0.0   \n",
       "\n",
       "   balance  balance_express  balance_all  one_time_only  \n",
       "0     25.7              0.0         25.7              0  \n",
       "1     54.9             60.0        114.9              0  \n",
       "2     26.5              0.0         26.5              0  \n",
       "3    -21.1              0.0        -21.1              0  \n",
       "4   -183.4              0.0       -183.4              0  "
      ]
     },
     "execution_count": 165,
     "metadata": {},
     "output_type": "execute_result"
    }
   ],
   "source": [
    "tmp = purch.loc[:, ['client_id', 'transaction_id']]\n",
    "tmp.loc[:,'quant'] = 1\n",
    "tmp = tmp.groupby(['client_id', 'transaction_id'], as_index=False).mean()\n",
    "tmp = tmp.groupby(['client_id'], as_index=False).sum()\n",
    "tmp.loc[:, 'one_time_only'] = 0\n",
    "tmp.loc[tmp.quant == 1, 'one_time_only'] = 1\n",
    "tmp = tmp.drop(columns='quant')\n",
    "X = pd.concat([X, tmp.drop(columns='client_id').reindex(X.index)], axis=1)\n",
    "X.head()"
   ]
  },
  {
   "cell_type": "code",
   "execution_count": 166,
   "metadata": {
    "colab": {},
    "colab_type": "code",
    "id": "-pwGxfjQYmil"
   },
   "outputs": [],
   "source": [
    "purch.transaction_datetime = pd.to_datetime(purch.transaction_datetime)\n",
    "tmp = purch.loc[:,['client_id', 'transaction_id', 'transaction_datetime']]\n",
    "tmp.loc[:,'day_of_week'] = tmp.loc[:,'transaction_datetime'].dt.weekday\n",
    "tmp.loc[:,'hour'] = tmp.loc[:,'transaction_datetime'].dt.hour\n",
    "tmp = tmp.groupby(['client_id', 'transaction_id', 'transaction_datetime'], as_index=False).mean()\n",
    "tmp.loc[:,'date'] = tmp.loc[:,'transaction_datetime'].dt.date"
   ]
  },
  {
   "cell_type": "code",
   "execution_count": 167,
   "metadata": {
    "colab": {},
    "colab_type": "code",
    "id": "uCUt7Q5qqKI3"
   },
   "outputs": [],
   "source": [
    "tmp.loc[:,'quantity'] = 1"
   ]
  },
  {
   "cell_type": "code",
   "execution_count": 168,
   "metadata": {
    "colab": {},
    "colab_type": "code",
    "id": "-q4DyoSei5Rg"
   },
   "outputs": [
    {
     "data": {
      "text/plain": [
       "Timestamp('2019-03-18 23:40:03')"
      ]
     },
     "execution_count": 168,
     "metadata": {},
     "output_type": "execute_result"
    }
   ],
   "source": [
    "tmp.transaction_datetime.max()"
   ]
  },
  {
   "cell_type": "markdown",
   "metadata": {
    "colab_type": "text",
    "id": "IBs5LRzNlnz7"
   },
   "source": [
    "# Потрачено денег и количество товаров за последний месяц"
   ]
  },
  {
   "cell_type": "code",
   "execution_count": 169,
   "metadata": {
    "colab": {},
    "colab_type": "code",
    "id": "0KBX77bilucW"
   },
   "outputs": [],
   "source": [
    "tmp = purch.loc[:, ['client_id','transaction_datetime', 'purchase_sum']]\n",
    "tmp.loc[:,'quant'] = 1\n",
    "tmp = tmp.groupby(['client_id','transaction_datetime'], as_index=False).mean()\n",
    "tmp = tmp.groupby(['client_id','transaction_datetime'], as_index=False).sum()\n",
    "tmp = tmp.loc[tmp.transaction_datetime > '2019-02-18']\n",
    "tmp = tmp.groupby(['client_id'], as_index=False).sum()\n",
    "tmp['last_month_purchase_sum'] = tmp.purchase_sum\n",
    "tmp['last_month_quant'] = tmp.quant"
   ]
  },
  {
   "cell_type": "code",
   "execution_count": 170,
   "metadata": {
    "colab": {},
    "colab_type": "code",
    "id": "vV7R_nq9-dXt"
   },
   "outputs": [
    {
     "data": {
      "text/html": [
       "<div>\n",
       "<style scoped>\n",
       "    .dataframe tbody tr th:only-of-type {\n",
       "        vertical-align: middle;\n",
       "    }\n",
       "\n",
       "    .dataframe tbody tr th {\n",
       "        vertical-align: top;\n",
       "    }\n",
       "\n",
       "    .dataframe thead th {\n",
       "        text-align: right;\n",
       "    }\n",
       "</style>\n",
       "<table border=\"1\" class=\"dataframe\">\n",
       "  <thead>\n",
       "    <tr style=\"text-align: right;\">\n",
       "      <th></th>\n",
       "      <th>client_id</th>\n",
       "      <th>first_issue_date</th>\n",
       "      <th>first_redeem_date</th>\n",
       "      <th>age</th>\n",
       "      <th>gender</th>\n",
       "      <th>netto</th>\n",
       "      <th>heavy_flg</th>\n",
       "      <th>product_quantity_avg</th>\n",
       "      <th>regular_points_received</th>\n",
       "      <th>express_points_received</th>\n",
       "      <th>regular_points_spent</th>\n",
       "      <th>express_points_spent</th>\n",
       "      <th>balance</th>\n",
       "      <th>balance_express</th>\n",
       "      <th>balance_all</th>\n",
       "      <th>one_time_only</th>\n",
       "      <th>last_month_purchase_sum</th>\n",
       "      <th>last_month_quant</th>\n",
       "    </tr>\n",
       "  </thead>\n",
       "  <tbody>\n",
       "    <tr>\n",
       "      <th>0</th>\n",
       "      <td>000012768d</td>\n",
       "      <td>2017-08-05 15:40:48</td>\n",
       "      <td>2018-01-04 19:30:07</td>\n",
       "      <td>45.0</td>\n",
       "      <td>U</td>\n",
       "      <td>7.0235</td>\n",
       "      <td>1</td>\n",
       "      <td>13.500000</td>\n",
       "      <td>25.7</td>\n",
       "      <td>0.0</td>\n",
       "      <td>0.0</td>\n",
       "      <td>0.0</td>\n",
       "      <td>25.7</td>\n",
       "      <td>0.0</td>\n",
       "      <td>25.7</td>\n",
       "      <td>0</td>\n",
       "      <td>1222.0</td>\n",
       "      <td>2</td>\n",
       "    </tr>\n",
       "    <tr>\n",
       "      <th>1</th>\n",
       "      <td>000036f903</td>\n",
       "      <td>2017-04-10 13:54:23</td>\n",
       "      <td>2017-04-23 12:37:56</td>\n",
       "      <td>72.0</td>\n",
       "      <td>F</td>\n",
       "      <td>2.5250</td>\n",
       "      <td>1</td>\n",
       "      <td>5.281250</td>\n",
       "      <td>54.9</td>\n",
       "      <td>60.0</td>\n",
       "      <td>0.0</td>\n",
       "      <td>0.0</td>\n",
       "      <td>54.9</td>\n",
       "      <td>60.0</td>\n",
       "      <td>114.9</td>\n",
       "      <td>0</td>\n",
       "      <td>2784.0</td>\n",
       "      <td>8</td>\n",
       "    </tr>\n",
       "    <tr>\n",
       "      <th>2</th>\n",
       "      <td>000048b7a6</td>\n",
       "      <td>2018-12-15 13:33:11</td>\n",
       "      <td>1970-01-01 00:00:00</td>\n",
       "      <td>68.0</td>\n",
       "      <td>F</td>\n",
       "      <td>1.0830</td>\n",
       "      <td>1</td>\n",
       "      <td>11.375000</td>\n",
       "      <td>26.5</td>\n",
       "      <td>0.0</td>\n",
       "      <td>0.0</td>\n",
       "      <td>0.0</td>\n",
       "      <td>26.5</td>\n",
       "      <td>0.0</td>\n",
       "      <td>26.5</td>\n",
       "      <td>0</td>\n",
       "      <td>342.0</td>\n",
       "      <td>1</td>\n",
       "    </tr>\n",
       "    <tr>\n",
       "      <th>3</th>\n",
       "      <td>000073194a</td>\n",
       "      <td>2017-05-23 12:56:14</td>\n",
       "      <td>2017-11-24 11:18:01</td>\n",
       "      <td>60.0</td>\n",
       "      <td>F</td>\n",
       "      <td>1.7900</td>\n",
       "      <td>1</td>\n",
       "      <td>7.470588</td>\n",
       "      <td>74.9</td>\n",
       "      <td>0.0</td>\n",
       "      <td>-96.0</td>\n",
       "      <td>0.0</td>\n",
       "      <td>-21.1</td>\n",
       "      <td>0.0</td>\n",
       "      <td>-21.1</td>\n",
       "      <td>0</td>\n",
       "      <td>3393.3</td>\n",
       "      <td>6</td>\n",
       "    </tr>\n",
       "    <tr>\n",
       "      <th>4</th>\n",
       "      <td>00007c7133</td>\n",
       "      <td>2017-05-22 16:17:08</td>\n",
       "      <td>2018-12-31 17:17:33</td>\n",
       "      <td>67.0</td>\n",
       "      <td>U</td>\n",
       "      <td>3.7410</td>\n",
       "      <td>1</td>\n",
       "      <td>7.545455</td>\n",
       "      <td>56.6</td>\n",
       "      <td>0.0</td>\n",
       "      <td>-240.0</td>\n",
       "      <td>0.0</td>\n",
       "      <td>-183.4</td>\n",
       "      <td>0.0</td>\n",
       "      <td>-183.4</td>\n",
       "      <td>0</td>\n",
       "      <td>380.0</td>\n",
       "      <td>1</td>\n",
       "    </tr>\n",
       "  </tbody>\n",
       "</table>\n",
       "</div>"
      ],
      "text/plain": [
       "    client_id     first_issue_date    first_redeem_date   age gender   netto  \\\n",
       "0  000012768d  2017-08-05 15:40:48  2018-01-04 19:30:07  45.0      U  7.0235   \n",
       "1  000036f903  2017-04-10 13:54:23  2017-04-23 12:37:56  72.0      F  2.5250   \n",
       "2  000048b7a6  2018-12-15 13:33:11  1970-01-01 00:00:00  68.0      F  1.0830   \n",
       "3  000073194a  2017-05-23 12:56:14  2017-11-24 11:18:01  60.0      F  1.7900   \n",
       "4  00007c7133  2017-05-22 16:17:08  2018-12-31 17:17:33  67.0      U  3.7410   \n",
       "\n",
       "   heavy_flg  product_quantity_avg  regular_points_received  \\\n",
       "0          1             13.500000                     25.7   \n",
       "1          1              5.281250                     54.9   \n",
       "2          1             11.375000                     26.5   \n",
       "3          1              7.470588                     74.9   \n",
       "4          1              7.545455                     56.6   \n",
       "\n",
       "   express_points_received  regular_points_spent  express_points_spent  \\\n",
       "0                      0.0                   0.0                   0.0   \n",
       "1                     60.0                   0.0                   0.0   \n",
       "2                      0.0                   0.0                   0.0   \n",
       "3                      0.0                 -96.0                   0.0   \n",
       "4                      0.0                -240.0                   0.0   \n",
       "\n",
       "   balance  balance_express  balance_all  one_time_only  \\\n",
       "0     25.7              0.0         25.7              0   \n",
       "1     54.9             60.0        114.9              0   \n",
       "2     26.5              0.0         26.5              0   \n",
       "3    -21.1              0.0        -21.1              0   \n",
       "4   -183.4              0.0       -183.4              0   \n",
       "\n",
       "   last_month_purchase_sum  last_month_quant  \n",
       "0                   1222.0                 2  \n",
       "1                   2784.0                 8  \n",
       "2                    342.0                 1  \n",
       "3                   3393.3                 6  \n",
       "4                    380.0                 1  "
      ]
     },
     "execution_count": 170,
     "metadata": {},
     "output_type": "execute_result"
    }
   ],
   "source": [
    "tmp2 = tmp.loc[:,['client_id', 'last_month_purchase_sum', 'last_month_quant']]\n",
    "X = pd.concat([X, tmp2.drop(columns='client_id').reindex(X.index)], axis=1)\n",
    "X.head()"
   ]
  },
  {
   "cell_type": "markdown",
   "metadata": {
    "colab_type": "text",
    "id": "lXQ_v909mFHW"
   },
   "source": [
    "# Cравнение с предыдущим месяцем"
   ]
  },
  {
   "cell_type": "code",
   "execution_count": 171,
   "metadata": {
    "colab": {},
    "colab_type": "code",
    "id": "fmuFlV20mNRL"
   },
   "outputs": [
    {
     "data": {
      "text/html": [
       "<div>\n",
       "<style scoped>\n",
       "    .dataframe tbody tr th:only-of-type {\n",
       "        vertical-align: middle;\n",
       "    }\n",
       "\n",
       "    .dataframe tbody tr th {\n",
       "        vertical-align: top;\n",
       "    }\n",
       "\n",
       "    .dataframe thead th {\n",
       "        text-align: right;\n",
       "    }\n",
       "</style>\n",
       "<table border=\"1\" class=\"dataframe\">\n",
       "  <thead>\n",
       "    <tr style=\"text-align: right;\">\n",
       "      <th></th>\n",
       "      <th>client_id</th>\n",
       "      <th>purchase_sum</th>\n",
       "      <th>quant</th>\n",
       "    </tr>\n",
       "  </thead>\n",
       "  <tbody>\n",
       "    <tr>\n",
       "      <th>0</th>\n",
       "      <td>000036f903</td>\n",
       "      <td>2582.00</td>\n",
       "      <td>10</td>\n",
       "    </tr>\n",
       "    <tr>\n",
       "      <th>1</th>\n",
       "      <td>000048b7a6</td>\n",
       "      <td>2227.00</td>\n",
       "      <td>4</td>\n",
       "    </tr>\n",
       "    <tr>\n",
       "      <th>2</th>\n",
       "      <td>000073194a</td>\n",
       "      <td>2427.07</td>\n",
       "      <td>4</td>\n",
       "    </tr>\n",
       "    <tr>\n",
       "      <th>3</th>\n",
       "      <td>00007c7133</td>\n",
       "      <td>1420.84</td>\n",
       "      <td>2</td>\n",
       "    </tr>\n",
       "    <tr>\n",
       "      <th>4</th>\n",
       "      <td>00007f9014</td>\n",
       "      <td>1405.03</td>\n",
       "      <td>6</td>\n",
       "    </tr>\n",
       "  </tbody>\n",
       "</table>\n",
       "</div>"
      ],
      "text/plain": [
       "    client_id  purchase_sum  quant\n",
       "0  000036f903       2582.00     10\n",
       "1  000048b7a6       2227.00      4\n",
       "2  000073194a       2427.07      4\n",
       "3  00007c7133       1420.84      2\n",
       "4  00007f9014       1405.03      6"
      ]
     },
     "execution_count": 171,
     "metadata": {},
     "output_type": "execute_result"
    }
   ],
   "source": [
    "tmp2 = purch.loc[:, ['client_id','transaction_datetime', 'purchase_sum']]\n",
    "tmp2.loc[:,'quant'] = 1\n",
    "tmp2 = tmp2.groupby(['client_id','transaction_datetime'], as_index=False).mean()\n",
    "tmp2 = tmp2.groupby(['client_id','transaction_datetime'], as_index=False).sum()\n",
    "tmp2 = tmp2.loc[(tmp2.transaction_datetime > '2019-01-18') & (tmp2.transaction_datetime <= '2019-02-18')]\n",
    "tmp2 = tmp2.groupby(['client_id'], as_index=False).sum()\n",
    "tmp2.head()"
   ]
  },
  {
   "cell_type": "code",
   "execution_count": 172,
   "metadata": {
    "colab": {},
    "colab_type": "code",
    "id": "hb_hT3vEmUzf"
   },
   "outputs": [],
   "source": [
    "tmp['purchase_sum_diff'] = tmp.loc[:, 'purchase_sum'] - tmp2.loc[:, 'purchase_sum']\n",
    "tmp['quant_diff'] = tmp.loc[:, 'quant'] - tmp2.loc[:, 'quant']"
   ]
  },
  {
   "cell_type": "code",
   "execution_count": 173,
   "metadata": {
    "colab": {},
    "colab_type": "code",
    "id": "JTrOZWfWnh7g"
   },
   "outputs": [
    {
     "data": {
      "text/html": [
       "<div>\n",
       "<style scoped>\n",
       "    .dataframe tbody tr th:only-of-type {\n",
       "        vertical-align: middle;\n",
       "    }\n",
       "\n",
       "    .dataframe tbody tr th {\n",
       "        vertical-align: top;\n",
       "    }\n",
       "\n",
       "    .dataframe thead th {\n",
       "        text-align: right;\n",
       "    }\n",
       "</style>\n",
       "<table border=\"1\" class=\"dataframe\">\n",
       "  <thead>\n",
       "    <tr style=\"text-align: right;\">\n",
       "      <th></th>\n",
       "      <th>client_id</th>\n",
       "      <th>first_issue_date</th>\n",
       "      <th>first_redeem_date</th>\n",
       "      <th>age</th>\n",
       "      <th>gender</th>\n",
       "      <th>netto</th>\n",
       "      <th>heavy_flg</th>\n",
       "      <th>product_quantity_avg</th>\n",
       "      <th>regular_points_received</th>\n",
       "      <th>express_points_received</th>\n",
       "      <th>regular_points_spent</th>\n",
       "      <th>express_points_spent</th>\n",
       "      <th>balance</th>\n",
       "      <th>balance_express</th>\n",
       "      <th>balance_all</th>\n",
       "      <th>one_time_only</th>\n",
       "      <th>last_month_purchase_sum</th>\n",
       "      <th>last_month_quant</th>\n",
       "      <th>purchase_sum_diff</th>\n",
       "      <th>quant_diff</th>\n",
       "    </tr>\n",
       "  </thead>\n",
       "  <tbody>\n",
       "    <tr>\n",
       "      <th>0</th>\n",
       "      <td>000012768d</td>\n",
       "      <td>2017-08-05 15:40:48</td>\n",
       "      <td>2018-01-04 19:30:07</td>\n",
       "      <td>45.0</td>\n",
       "      <td>U</td>\n",
       "      <td>7.0235</td>\n",
       "      <td>1</td>\n",
       "      <td>13.500000</td>\n",
       "      <td>25.7</td>\n",
       "      <td>0.0</td>\n",
       "      <td>0.0</td>\n",
       "      <td>0.0</td>\n",
       "      <td>25.7</td>\n",
       "      <td>0.0</td>\n",
       "      <td>25.7</td>\n",
       "      <td>0</td>\n",
       "      <td>1222.0</td>\n",
       "      <td>2</td>\n",
       "      <td>-1360.00</td>\n",
       "      <td>-8.0</td>\n",
       "    </tr>\n",
       "    <tr>\n",
       "      <th>1</th>\n",
       "      <td>000036f903</td>\n",
       "      <td>2017-04-10 13:54:23</td>\n",
       "      <td>2017-04-23 12:37:56</td>\n",
       "      <td>72.0</td>\n",
       "      <td>F</td>\n",
       "      <td>2.5250</td>\n",
       "      <td>1</td>\n",
       "      <td>5.281250</td>\n",
       "      <td>54.9</td>\n",
       "      <td>60.0</td>\n",
       "      <td>0.0</td>\n",
       "      <td>0.0</td>\n",
       "      <td>54.9</td>\n",
       "      <td>60.0</td>\n",
       "      <td>114.9</td>\n",
       "      <td>0</td>\n",
       "      <td>2784.0</td>\n",
       "      <td>8</td>\n",
       "      <td>557.00</td>\n",
       "      <td>4.0</td>\n",
       "    </tr>\n",
       "    <tr>\n",
       "      <th>2</th>\n",
       "      <td>000048b7a6</td>\n",
       "      <td>2018-12-15 13:33:11</td>\n",
       "      <td>1970-01-01 00:00:00</td>\n",
       "      <td>68.0</td>\n",
       "      <td>F</td>\n",
       "      <td>1.0830</td>\n",
       "      <td>1</td>\n",
       "      <td>11.375000</td>\n",
       "      <td>26.5</td>\n",
       "      <td>0.0</td>\n",
       "      <td>0.0</td>\n",
       "      <td>0.0</td>\n",
       "      <td>26.5</td>\n",
       "      <td>0.0</td>\n",
       "      <td>26.5</td>\n",
       "      <td>0</td>\n",
       "      <td>342.0</td>\n",
       "      <td>1</td>\n",
       "      <td>-2085.07</td>\n",
       "      <td>-3.0</td>\n",
       "    </tr>\n",
       "    <tr>\n",
       "      <th>3</th>\n",
       "      <td>000073194a</td>\n",
       "      <td>2017-05-23 12:56:14</td>\n",
       "      <td>2017-11-24 11:18:01</td>\n",
       "      <td>60.0</td>\n",
       "      <td>F</td>\n",
       "      <td>1.7900</td>\n",
       "      <td>1</td>\n",
       "      <td>7.470588</td>\n",
       "      <td>74.9</td>\n",
       "      <td>0.0</td>\n",
       "      <td>-96.0</td>\n",
       "      <td>0.0</td>\n",
       "      <td>-21.1</td>\n",
       "      <td>0.0</td>\n",
       "      <td>-21.1</td>\n",
       "      <td>0</td>\n",
       "      <td>3393.3</td>\n",
       "      <td>6</td>\n",
       "      <td>1972.46</td>\n",
       "      <td>4.0</td>\n",
       "    </tr>\n",
       "    <tr>\n",
       "      <th>4</th>\n",
       "      <td>00007c7133</td>\n",
       "      <td>2017-05-22 16:17:08</td>\n",
       "      <td>2018-12-31 17:17:33</td>\n",
       "      <td>67.0</td>\n",
       "      <td>U</td>\n",
       "      <td>3.7410</td>\n",
       "      <td>1</td>\n",
       "      <td>7.545455</td>\n",
       "      <td>56.6</td>\n",
       "      <td>0.0</td>\n",
       "      <td>-240.0</td>\n",
       "      <td>0.0</td>\n",
       "      <td>-183.4</td>\n",
       "      <td>0.0</td>\n",
       "      <td>-183.4</td>\n",
       "      <td>0</td>\n",
       "      <td>380.0</td>\n",
       "      <td>1</td>\n",
       "      <td>-1025.03</td>\n",
       "      <td>-5.0</td>\n",
       "    </tr>\n",
       "  </tbody>\n",
       "</table>\n",
       "</div>"
      ],
      "text/plain": [
       "    client_id     first_issue_date    first_redeem_date   age gender   netto  \\\n",
       "0  000012768d  2017-08-05 15:40:48  2018-01-04 19:30:07  45.0      U  7.0235   \n",
       "1  000036f903  2017-04-10 13:54:23  2017-04-23 12:37:56  72.0      F  2.5250   \n",
       "2  000048b7a6  2018-12-15 13:33:11  1970-01-01 00:00:00  68.0      F  1.0830   \n",
       "3  000073194a  2017-05-23 12:56:14  2017-11-24 11:18:01  60.0      F  1.7900   \n",
       "4  00007c7133  2017-05-22 16:17:08  2018-12-31 17:17:33  67.0      U  3.7410   \n",
       "\n",
       "   heavy_flg  product_quantity_avg  regular_points_received  \\\n",
       "0          1             13.500000                     25.7   \n",
       "1          1              5.281250                     54.9   \n",
       "2          1             11.375000                     26.5   \n",
       "3          1              7.470588                     74.9   \n",
       "4          1              7.545455                     56.6   \n",
       "\n",
       "   express_points_received  regular_points_spent  express_points_spent  \\\n",
       "0                      0.0                   0.0                   0.0   \n",
       "1                     60.0                   0.0                   0.0   \n",
       "2                      0.0                   0.0                   0.0   \n",
       "3                      0.0                 -96.0                   0.0   \n",
       "4                      0.0                -240.0                   0.0   \n",
       "\n",
       "   balance  balance_express  balance_all  one_time_only  \\\n",
       "0     25.7              0.0         25.7              0   \n",
       "1     54.9             60.0        114.9              0   \n",
       "2     26.5              0.0         26.5              0   \n",
       "3    -21.1              0.0        -21.1              0   \n",
       "4   -183.4              0.0       -183.4              0   \n",
       "\n",
       "   last_month_purchase_sum  last_month_quant  purchase_sum_diff  quant_diff  \n",
       "0                   1222.0                 2           -1360.00        -8.0  \n",
       "1                   2784.0                 8             557.00         4.0  \n",
       "2                    342.0                 1           -2085.07        -3.0  \n",
       "3                   3393.3                 6            1972.46         4.0  \n",
       "4                    380.0                 1           -1025.03        -5.0  "
      ]
     },
     "execution_count": 173,
     "metadata": {},
     "output_type": "execute_result"
    }
   ],
   "source": [
    "tmp = tmp.loc[:,['client_id', 'purchase_sum_diff', 'quant_diff']]\n",
    "X = pd.concat([X, tmp.drop(columns='client_id').reindex(X.index)], axis=1)\n",
    "X.head()"
   ]
  },
  {
   "cell_type": "markdown",
   "metadata": {
    "colab_type": "text",
    "id": "nOZV_rOZ9xpk"
   },
   "source": [
    "# Статистика за год "
   ]
  },
  {
   "cell_type": "code",
   "execution_count": 174,
   "metadata": {
    "colab": {},
    "colab_type": "code",
    "id": "2z8p2eY490E4"
   },
   "outputs": [],
   "source": [
    "tmp = purch.loc[:, ['client_id','transaction_datetime', 'purchase_sum']]\n",
    "tmp.loc[:,'quant'] = 1\n",
    "tmp = tmp.loc[(tmp.transaction_datetime > '2018-01-01') & (tmp.transaction_datetime <= '2019-01-01')]"
   ]
  },
  {
   "cell_type": "code",
   "execution_count": 175,
   "metadata": {
    "colab": {},
    "colab_type": "code",
    "id": "NWX2w_Kr-NsA"
   },
   "outputs": [
    {
     "data": {
      "text/html": [
       "<div>\n",
       "<style scoped>\n",
       "    .dataframe tbody tr th:only-of-type {\n",
       "        vertical-align: middle;\n",
       "    }\n",
       "\n",
       "    .dataframe tbody tr th {\n",
       "        vertical-align: top;\n",
       "    }\n",
       "\n",
       "    .dataframe thead th {\n",
       "        text-align: right;\n",
       "    }\n",
       "</style>\n",
       "<table border=\"1\" class=\"dataframe\">\n",
       "  <thead>\n",
       "    <tr style=\"text-align: right;\">\n",
       "      <th></th>\n",
       "      <th>client_id</th>\n",
       "      <th>first_issue_date</th>\n",
       "      <th>first_redeem_date</th>\n",
       "      <th>age</th>\n",
       "      <th>gender</th>\n",
       "      <th>netto</th>\n",
       "      <th>heavy_flg</th>\n",
       "      <th>product_quantity_avg</th>\n",
       "      <th>regular_points_received</th>\n",
       "      <th>express_points_received</th>\n",
       "      <th>...</th>\n",
       "      <th>balance_all</th>\n",
       "      <th>one_time_only</th>\n",
       "      <th>last_month_purchase_sum</th>\n",
       "      <th>last_month_quant</th>\n",
       "      <th>purchase_sum_diff</th>\n",
       "      <th>quant_diff</th>\n",
       "      <th>purchase_sum</th>\n",
       "      <th>quant</th>\n",
       "      <th>purchase_sum_year</th>\n",
       "      <th>quant_year</th>\n",
       "    </tr>\n",
       "  </thead>\n",
       "  <tbody>\n",
       "    <tr>\n",
       "      <th>0</th>\n",
       "      <td>000012768d</td>\n",
       "      <td>2017-08-05 15:40:48</td>\n",
       "      <td>2018-01-04 19:30:07</td>\n",
       "      <td>45.0</td>\n",
       "      <td>U</td>\n",
       "      <td>7.0235</td>\n",
       "      <td>1</td>\n",
       "      <td>13.500000</td>\n",
       "      <td>25.7</td>\n",
       "      <td>0.0</td>\n",
       "      <td>...</td>\n",
       "      <td>25.7</td>\n",
       "      <td>0</td>\n",
       "      <td>1222.0</td>\n",
       "      <td>2</td>\n",
       "      <td>-1360.00</td>\n",
       "      <td>-8.0</td>\n",
       "      <td>25447.00</td>\n",
       "      <td>30.0</td>\n",
       "      <td>25447.00</td>\n",
       "      <td>30.0</td>\n",
       "    </tr>\n",
       "    <tr>\n",
       "      <th>1</th>\n",
       "      <td>000036f903</td>\n",
       "      <td>2017-04-10 13:54:23</td>\n",
       "      <td>2017-04-23 12:37:56</td>\n",
       "      <td>72.0</td>\n",
       "      <td>F</td>\n",
       "      <td>2.5250</td>\n",
       "      <td>1</td>\n",
       "      <td>5.281250</td>\n",
       "      <td>54.9</td>\n",
       "      <td>60.0</td>\n",
       "      <td>...</td>\n",
       "      <td>114.9</td>\n",
       "      <td>0</td>\n",
       "      <td>2784.0</td>\n",
       "      <td>8</td>\n",
       "      <td>557.00</td>\n",
       "      <td>4.0</td>\n",
       "      <td>22399.00</td>\n",
       "      <td>57.0</td>\n",
       "      <td>22399.00</td>\n",
       "      <td>57.0</td>\n",
       "    </tr>\n",
       "    <tr>\n",
       "      <th>2</th>\n",
       "      <td>000048b7a6</td>\n",
       "      <td>2018-12-15 13:33:11</td>\n",
       "      <td>1970-01-01 00:00:00</td>\n",
       "      <td>68.0</td>\n",
       "      <td>F</td>\n",
       "      <td>1.0830</td>\n",
       "      <td>1</td>\n",
       "      <td>11.375000</td>\n",
       "      <td>26.5</td>\n",
       "      <td>0.0</td>\n",
       "      <td>...</td>\n",
       "      <td>26.5</td>\n",
       "      <td>0</td>\n",
       "      <td>342.0</td>\n",
       "      <td>1</td>\n",
       "      <td>-2085.07</td>\n",
       "      <td>-3.0</td>\n",
       "      <td>4005.00</td>\n",
       "      <td>9.0</td>\n",
       "      <td>4005.00</td>\n",
       "      <td>9.0</td>\n",
       "    </tr>\n",
       "    <tr>\n",
       "      <th>3</th>\n",
       "      <td>000073194a</td>\n",
       "      <td>2017-05-23 12:56:14</td>\n",
       "      <td>2017-11-24 11:18:01</td>\n",
       "      <td>60.0</td>\n",
       "      <td>F</td>\n",
       "      <td>1.7900</td>\n",
       "      <td>1</td>\n",
       "      <td>7.470588</td>\n",
       "      <td>74.9</td>\n",
       "      <td>0.0</td>\n",
       "      <td>...</td>\n",
       "      <td>-21.1</td>\n",
       "      <td>0</td>\n",
       "      <td>3393.3</td>\n",
       "      <td>6</td>\n",
       "      <td>1972.46</td>\n",
       "      <td>4.0</td>\n",
       "      <td>2695.48</td>\n",
       "      <td>9.0</td>\n",
       "      <td>2695.48</td>\n",
       "      <td>9.0</td>\n",
       "    </tr>\n",
       "    <tr>\n",
       "      <th>4</th>\n",
       "      <td>00007c7133</td>\n",
       "      <td>2017-05-22 16:17:08</td>\n",
       "      <td>2018-12-31 17:17:33</td>\n",
       "      <td>67.0</td>\n",
       "      <td>U</td>\n",
       "      <td>3.7410</td>\n",
       "      <td>1</td>\n",
       "      <td>7.545455</td>\n",
       "      <td>56.6</td>\n",
       "      <td>0.0</td>\n",
       "      <td>...</td>\n",
       "      <td>-183.4</td>\n",
       "      <td>0</td>\n",
       "      <td>380.0</td>\n",
       "      <td>1</td>\n",
       "      <td>-1025.03</td>\n",
       "      <td>-5.0</td>\n",
       "      <td>30095.00</td>\n",
       "      <td>46.0</td>\n",
       "      <td>30095.00</td>\n",
       "      <td>46.0</td>\n",
       "    </tr>\n",
       "  </tbody>\n",
       "</table>\n",
       "<p>5 rows × 24 columns</p>\n",
       "</div>"
      ],
      "text/plain": [
       "    client_id     first_issue_date    first_redeem_date   age gender   netto  \\\n",
       "0  000012768d  2017-08-05 15:40:48  2018-01-04 19:30:07  45.0      U  7.0235   \n",
       "1  000036f903  2017-04-10 13:54:23  2017-04-23 12:37:56  72.0      F  2.5250   \n",
       "2  000048b7a6  2018-12-15 13:33:11  1970-01-01 00:00:00  68.0      F  1.0830   \n",
       "3  000073194a  2017-05-23 12:56:14  2017-11-24 11:18:01  60.0      F  1.7900   \n",
       "4  00007c7133  2017-05-22 16:17:08  2018-12-31 17:17:33  67.0      U  3.7410   \n",
       "\n",
       "   heavy_flg  product_quantity_avg  regular_points_received  \\\n",
       "0          1             13.500000                     25.7   \n",
       "1          1              5.281250                     54.9   \n",
       "2          1             11.375000                     26.5   \n",
       "3          1              7.470588                     74.9   \n",
       "4          1              7.545455                     56.6   \n",
       "\n",
       "   express_points_received  ...  balance_all  one_time_only  \\\n",
       "0                      0.0  ...         25.7              0   \n",
       "1                     60.0  ...        114.9              0   \n",
       "2                      0.0  ...         26.5              0   \n",
       "3                      0.0  ...        -21.1              0   \n",
       "4                      0.0  ...       -183.4              0   \n",
       "\n",
       "   last_month_purchase_sum  last_month_quant  purchase_sum_diff  quant_diff  \\\n",
       "0                   1222.0                 2           -1360.00        -8.0   \n",
       "1                   2784.0                 8             557.00         4.0   \n",
       "2                    342.0                 1           -2085.07        -3.0   \n",
       "3                   3393.3                 6            1972.46         4.0   \n",
       "4                    380.0                 1           -1025.03        -5.0   \n",
       "\n",
       "   purchase_sum  quant  purchase_sum_year  quant_year  \n",
       "0      25447.00   30.0           25447.00        30.0  \n",
       "1      22399.00   57.0           22399.00        57.0  \n",
       "2       4005.00    9.0            4005.00         9.0  \n",
       "3       2695.48    9.0            2695.48         9.0  \n",
       "4      30095.00   46.0           30095.00        46.0  \n",
       "\n",
       "[5 rows x 24 columns]"
      ]
     },
     "execution_count": 175,
     "metadata": {},
     "output_type": "execute_result"
    }
   ],
   "source": [
    "tmp = tmp.groupby(['client_id'], as_index=False).sum()\n",
    "tmp['purchase_sum_year'] = tmp.purchase_sum\n",
    "tmp['quant_year'] = tmp.quant\n",
    "X = pd.concat([X, tmp.drop(columns='client_id').reindex(X.index)], axis=1)\n",
    "X.head()"
   ]
  },
  {
   "cell_type": "markdown",
   "metadata": {
    "colab_type": "text",
    "id": "WTu3rnv3zDTj"
   },
   "source": [
    "# Кол-во покупок за всю  историю"
   ]
  },
  {
   "cell_type": "code",
   "execution_count": 176,
   "metadata": {
    "colab": {},
    "colab_type": "code",
    "id": "T_08tdcNzUo7"
   },
   "outputs": [
    {
     "data": {
      "text/html": [
       "<div>\n",
       "<style scoped>\n",
       "    .dataframe tbody tr th:only-of-type {\n",
       "        vertical-align: middle;\n",
       "    }\n",
       "\n",
       "    .dataframe tbody tr th {\n",
       "        vertical-align: top;\n",
       "    }\n",
       "\n",
       "    .dataframe thead th {\n",
       "        text-align: right;\n",
       "    }\n",
       "</style>\n",
       "<table border=\"1\" class=\"dataframe\">\n",
       "  <thead>\n",
       "    <tr style=\"text-align: right;\">\n",
       "      <th></th>\n",
       "      <th>client_id</th>\n",
       "      <th>first_issue_date</th>\n",
       "      <th>first_redeem_date</th>\n",
       "      <th>age</th>\n",
       "      <th>gender</th>\n",
       "      <th>netto</th>\n",
       "      <th>heavy_flg</th>\n",
       "      <th>product_quantity_avg</th>\n",
       "      <th>regular_points_received</th>\n",
       "      <th>express_points_received</th>\n",
       "      <th>...</th>\n",
       "      <th>one_time_only</th>\n",
       "      <th>last_month_purchase_sum</th>\n",
       "      <th>last_month_quant</th>\n",
       "      <th>purchase_sum_diff</th>\n",
       "      <th>quant_diff</th>\n",
       "      <th>purchase_sum</th>\n",
       "      <th>quant</th>\n",
       "      <th>purchase_sum_year</th>\n",
       "      <th>quant_year</th>\n",
       "      <th>number_of_transactions</th>\n",
       "    </tr>\n",
       "  </thead>\n",
       "  <tbody>\n",
       "    <tr>\n",
       "      <th>0</th>\n",
       "      <td>000012768d</td>\n",
       "      <td>2017-08-05 15:40:48</td>\n",
       "      <td>2018-01-04 19:30:07</td>\n",
       "      <td>45.0</td>\n",
       "      <td>U</td>\n",
       "      <td>7.0235</td>\n",
       "      <td>1</td>\n",
       "      <td>13.500000</td>\n",
       "      <td>25.7</td>\n",
       "      <td>0.0</td>\n",
       "      <td>...</td>\n",
       "      <td>0</td>\n",
       "      <td>1222.0</td>\n",
       "      <td>2</td>\n",
       "      <td>-1360.00</td>\n",
       "      <td>-8.0</td>\n",
       "      <td>25447.00</td>\n",
       "      <td>30.0</td>\n",
       "      <td>25447.00</td>\n",
       "      <td>30.0</td>\n",
       "      <td>4</td>\n",
       "    </tr>\n",
       "    <tr>\n",
       "      <th>1</th>\n",
       "      <td>000036f903</td>\n",
       "      <td>2017-04-10 13:54:23</td>\n",
       "      <td>2017-04-23 12:37:56</td>\n",
       "      <td>72.0</td>\n",
       "      <td>F</td>\n",
       "      <td>2.5250</td>\n",
       "      <td>1</td>\n",
       "      <td>5.281250</td>\n",
       "      <td>54.9</td>\n",
       "      <td>60.0</td>\n",
       "      <td>...</td>\n",
       "      <td>0</td>\n",
       "      <td>2784.0</td>\n",
       "      <td>8</td>\n",
       "      <td>557.00</td>\n",
       "      <td>4.0</td>\n",
       "      <td>22399.00</td>\n",
       "      <td>57.0</td>\n",
       "      <td>22399.00</td>\n",
       "      <td>57.0</td>\n",
       "      <td>32</td>\n",
       "    </tr>\n",
       "    <tr>\n",
       "      <th>2</th>\n",
       "      <td>000048b7a6</td>\n",
       "      <td>2018-12-15 13:33:11</td>\n",
       "      <td>1970-01-01 00:00:00</td>\n",
       "      <td>68.0</td>\n",
       "      <td>F</td>\n",
       "      <td>1.0830</td>\n",
       "      <td>1</td>\n",
       "      <td>11.375000</td>\n",
       "      <td>26.5</td>\n",
       "      <td>0.0</td>\n",
       "      <td>...</td>\n",
       "      <td>0</td>\n",
       "      <td>342.0</td>\n",
       "      <td>1</td>\n",
       "      <td>-2085.07</td>\n",
       "      <td>-3.0</td>\n",
       "      <td>4005.00</td>\n",
       "      <td>9.0</td>\n",
       "      <td>4005.00</td>\n",
       "      <td>9.0</td>\n",
       "      <td>8</td>\n",
       "    </tr>\n",
       "    <tr>\n",
       "      <th>3</th>\n",
       "      <td>000073194a</td>\n",
       "      <td>2017-05-23 12:56:14</td>\n",
       "      <td>2017-11-24 11:18:01</td>\n",
       "      <td>60.0</td>\n",
       "      <td>F</td>\n",
       "      <td>1.7900</td>\n",
       "      <td>1</td>\n",
       "      <td>7.470588</td>\n",
       "      <td>74.9</td>\n",
       "      <td>0.0</td>\n",
       "      <td>...</td>\n",
       "      <td>0</td>\n",
       "      <td>3393.3</td>\n",
       "      <td>6</td>\n",
       "      <td>1972.46</td>\n",
       "      <td>4.0</td>\n",
       "      <td>2695.48</td>\n",
       "      <td>9.0</td>\n",
       "      <td>2695.48</td>\n",
       "      <td>9.0</td>\n",
       "      <td>17</td>\n",
       "    </tr>\n",
       "    <tr>\n",
       "      <th>4</th>\n",
       "      <td>00007c7133</td>\n",
       "      <td>2017-05-22 16:17:08</td>\n",
       "      <td>2018-12-31 17:17:33</td>\n",
       "      <td>67.0</td>\n",
       "      <td>U</td>\n",
       "      <td>3.7410</td>\n",
       "      <td>1</td>\n",
       "      <td>7.545455</td>\n",
       "      <td>56.6</td>\n",
       "      <td>0.0</td>\n",
       "      <td>...</td>\n",
       "      <td>0</td>\n",
       "      <td>380.0</td>\n",
       "      <td>1</td>\n",
       "      <td>-1025.03</td>\n",
       "      <td>-5.0</td>\n",
       "      <td>30095.00</td>\n",
       "      <td>46.0</td>\n",
       "      <td>30095.00</td>\n",
       "      <td>46.0</td>\n",
       "      <td>11</td>\n",
       "    </tr>\n",
       "  </tbody>\n",
       "</table>\n",
       "<p>5 rows × 25 columns</p>\n",
       "</div>"
      ],
      "text/plain": [
       "    client_id     first_issue_date    first_redeem_date   age gender   netto  \\\n",
       "0  000012768d  2017-08-05 15:40:48  2018-01-04 19:30:07  45.0      U  7.0235   \n",
       "1  000036f903  2017-04-10 13:54:23  2017-04-23 12:37:56  72.0      F  2.5250   \n",
       "2  000048b7a6  2018-12-15 13:33:11  1970-01-01 00:00:00  68.0      F  1.0830   \n",
       "3  000073194a  2017-05-23 12:56:14  2017-11-24 11:18:01  60.0      F  1.7900   \n",
       "4  00007c7133  2017-05-22 16:17:08  2018-12-31 17:17:33  67.0      U  3.7410   \n",
       "\n",
       "   heavy_flg  product_quantity_avg  regular_points_received  \\\n",
       "0          1             13.500000                     25.7   \n",
       "1          1              5.281250                     54.9   \n",
       "2          1             11.375000                     26.5   \n",
       "3          1              7.470588                     74.9   \n",
       "4          1              7.545455                     56.6   \n",
       "\n",
       "   express_points_received  ...  one_time_only  last_month_purchase_sum  \\\n",
       "0                      0.0  ...              0                   1222.0   \n",
       "1                     60.0  ...              0                   2784.0   \n",
       "2                      0.0  ...              0                    342.0   \n",
       "3                      0.0  ...              0                   3393.3   \n",
       "4                      0.0  ...              0                    380.0   \n",
       "\n",
       "   last_month_quant  purchase_sum_diff  quant_diff  purchase_sum  quant  \\\n",
       "0                 2           -1360.00        -8.0      25447.00   30.0   \n",
       "1                 8             557.00         4.0      22399.00   57.0   \n",
       "2                 1           -2085.07        -3.0       4005.00    9.0   \n",
       "3                 6            1972.46         4.0       2695.48    9.0   \n",
       "4                 1           -1025.03        -5.0      30095.00   46.0   \n",
       "\n",
       "   purchase_sum_year  quant_year  number_of_transactions  \n",
       "0           25447.00        30.0                       4  \n",
       "1           22399.00        57.0                      32  \n",
       "2            4005.00         9.0                       8  \n",
       "3            2695.48         9.0                      17  \n",
       "4           30095.00        46.0                      11  \n",
       "\n",
       "[5 rows x 25 columns]"
      ]
     },
     "execution_count": 176,
     "metadata": {},
     "output_type": "execute_result"
    }
   ],
   "source": [
    "tmp = purch.loc[:, ['client_id', 'transaction_id', 'purchase_sum']]\n",
    "\n",
    "tmp = tmp.groupby(['client_id', 'transaction_id'], as_index=False).sum()\n",
    "tmp = tmp.drop(columns=['purchase_sum', 'transaction_id'])\n",
    "tmp['number_of_transactions'] = 1\n",
    "tmp = tmp.groupby('client_id', as_index=False).count()\n",
    "X = pd.concat([X, tmp.drop(columns='client_id').reindex(X.index)], axis=1)\n",
    "X.head()"
   ]
  },
  {
   "cell_type": "markdown",
   "metadata": {
    "colab_type": "text",
    "id": "u1CXOA_R0d5L"
   },
   "source": [
    "# Привязанность к фирменной продукции и алкоголю"
   ]
  },
  {
   "cell_type": "code",
   "execution_count": 177,
   "metadata": {
    "colab": {},
    "colab_type": "code",
    "id": "RNqwqk7Y0y7C"
   },
   "outputs": [],
   "source": [
    "trademark = prod.loc[:, ['product_id', 'is_own_trademark']]\n",
    "purch = purch.join(trademark.set_index('product_id'), on='product_id')"
   ]
  },
  {
   "cell_type": "code",
   "execution_count": 178,
   "metadata": {
    "colab": {},
    "colab_type": "code",
    "id": "qZUPATfa5Hux"
   },
   "outputs": [],
   "source": [
    "alcho = prod.loc[:, ['product_id', 'is_alcohol']]\n",
    "purch = purch.join(alcho.set_index('product_aid'), on='product_id')"
   ]
  },
  {
   "cell_type": "code",
   "execution_count": 179,
   "metadata": {
    "colab": {},
    "colab_type": "code",
    "id": "NiQAtyXq8Wtu"
   },
   "outputs": [
    {
     "data": {
      "text/html": [
       "<div>\n",
       "<style scoped>\n",
       "    .dataframe tbody tr th:only-of-type {\n",
       "        vertical-align: middle;\n",
       "    }\n",
       "\n",
       "    .dataframe tbody tr th {\n",
       "        vertical-align: top;\n",
       "    }\n",
       "\n",
       "    .dataframe thead th {\n",
       "        text-align: right;\n",
       "    }\n",
       "</style>\n",
       "<table border=\"1\" class=\"dataframe\">\n",
       "  <thead>\n",
       "    <tr style=\"text-align: right;\">\n",
       "      <th></th>\n",
       "      <th>client_id</th>\n",
       "      <th>first_issue_date</th>\n",
       "      <th>first_redeem_date</th>\n",
       "      <th>age</th>\n",
       "      <th>gender</th>\n",
       "      <th>netto</th>\n",
       "      <th>heavy_flg</th>\n",
       "      <th>product_quantity_avg</th>\n",
       "      <th>regular_points_received</th>\n",
       "      <th>express_points_received</th>\n",
       "      <th>...</th>\n",
       "      <th>last_month_quant</th>\n",
       "      <th>purchase_sum_diff</th>\n",
       "      <th>quant_diff</th>\n",
       "      <th>purchase_sum</th>\n",
       "      <th>quant</th>\n",
       "      <th>purchase_sum_year</th>\n",
       "      <th>quant_year</th>\n",
       "      <th>number_of_transactions</th>\n",
       "      <th>own_trademark_share</th>\n",
       "      <th>alchohol_share</th>\n",
       "    </tr>\n",
       "  </thead>\n",
       "  <tbody>\n",
       "    <tr>\n",
       "      <th>0</th>\n",
       "      <td>000012768d</td>\n",
       "      <td>2017-08-05 15:40:48</td>\n",
       "      <td>2018-01-04 19:30:07</td>\n",
       "      <td>45.0</td>\n",
       "      <td>U</td>\n",
       "      <td>7.0235</td>\n",
       "      <td>1</td>\n",
       "      <td>13.500000</td>\n",
       "      <td>25.7</td>\n",
       "      <td>0.0</td>\n",
       "      <td>...</td>\n",
       "      <td>2</td>\n",
       "      <td>-1360.00</td>\n",
       "      <td>-8.0</td>\n",
       "      <td>25447.00</td>\n",
       "      <td>30.0</td>\n",
       "      <td>25447.00</td>\n",
       "      <td>30.0</td>\n",
       "      <td>4</td>\n",
       "      <td>0.060897</td>\n",
       "      <td>0.000000</td>\n",
       "    </tr>\n",
       "    <tr>\n",
       "      <th>1</th>\n",
       "      <td>000036f903</td>\n",
       "      <td>2017-04-10 13:54:23</td>\n",
       "      <td>2017-04-23 12:37:56</td>\n",
       "      <td>72.0</td>\n",
       "      <td>F</td>\n",
       "      <td>2.5250</td>\n",
       "      <td>1</td>\n",
       "      <td>5.281250</td>\n",
       "      <td>54.9</td>\n",
       "      <td>60.0</td>\n",
       "      <td>...</td>\n",
       "      <td>8</td>\n",
       "      <td>557.00</td>\n",
       "      <td>4.0</td>\n",
       "      <td>22399.00</td>\n",
       "      <td>57.0</td>\n",
       "      <td>22399.00</td>\n",
       "      <td>57.0</td>\n",
       "      <td>32</td>\n",
       "      <td>0.093006</td>\n",
       "      <td>0.005208</td>\n",
       "    </tr>\n",
       "    <tr>\n",
       "      <th>2</th>\n",
       "      <td>000048b7a6</td>\n",
       "      <td>2018-12-15 13:33:11</td>\n",
       "      <td>1970-01-01 00:00:00</td>\n",
       "      <td>68.0</td>\n",
       "      <td>F</td>\n",
       "      <td>1.0830</td>\n",
       "      <td>1</td>\n",
       "      <td>11.375000</td>\n",
       "      <td>26.5</td>\n",
       "      <td>0.0</td>\n",
       "      <td>...</td>\n",
       "      <td>1</td>\n",
       "      <td>-2085.07</td>\n",
       "      <td>-3.0</td>\n",
       "      <td>4005.00</td>\n",
       "      <td>9.0</td>\n",
       "      <td>4005.00</td>\n",
       "      <td>9.0</td>\n",
       "      <td>8</td>\n",
       "      <td>0.025210</td>\n",
       "      <td>0.000000</td>\n",
       "    </tr>\n",
       "    <tr>\n",
       "      <th>3</th>\n",
       "      <td>000073194a</td>\n",
       "      <td>2017-05-23 12:56:14</td>\n",
       "      <td>2017-11-24 11:18:01</td>\n",
       "      <td>60.0</td>\n",
       "      <td>F</td>\n",
       "      <td>1.7900</td>\n",
       "      <td>1</td>\n",
       "      <td>7.470588</td>\n",
       "      <td>74.9</td>\n",
       "      <td>0.0</td>\n",
       "      <td>...</td>\n",
       "      <td>6</td>\n",
       "      <td>1972.46</td>\n",
       "      <td>4.0</td>\n",
       "      <td>2695.48</td>\n",
       "      <td>9.0</td>\n",
       "      <td>2695.48</td>\n",
       "      <td>9.0</td>\n",
       "      <td>17</td>\n",
       "      <td>0.017349</td>\n",
       "      <td>0.261630</td>\n",
       "    </tr>\n",
       "    <tr>\n",
       "      <th>4</th>\n",
       "      <td>00007c7133</td>\n",
       "      <td>2017-05-22 16:17:08</td>\n",
       "      <td>2018-12-31 17:17:33</td>\n",
       "      <td>67.0</td>\n",
       "      <td>U</td>\n",
       "      <td>3.7410</td>\n",
       "      <td>1</td>\n",
       "      <td>7.545455</td>\n",
       "      <td>56.6</td>\n",
       "      <td>0.0</td>\n",
       "      <td>...</td>\n",
       "      <td>1</td>\n",
       "      <td>-1025.03</td>\n",
       "      <td>-5.0</td>\n",
       "      <td>30095.00</td>\n",
       "      <td>46.0</td>\n",
       "      <td>30095.00</td>\n",
       "      <td>46.0</td>\n",
       "      <td>11</td>\n",
       "      <td>0.132576</td>\n",
       "      <td>0.000000</td>\n",
       "    </tr>\n",
       "  </tbody>\n",
       "</table>\n",
       "<p>5 rows × 27 columns</p>\n",
       "</div>"
      ],
      "text/plain": [
       "    client_id     first_issue_date    first_redeem_date   age gender   netto  \\\n",
       "0  000012768d  2017-08-05 15:40:48  2018-01-04 19:30:07  45.0      U  7.0235   \n",
       "1  000036f903  2017-04-10 13:54:23  2017-04-23 12:37:56  72.0      F  2.5250   \n",
       "2  000048b7a6  2018-12-15 13:33:11  1970-01-01 00:00:00  68.0      F  1.0830   \n",
       "3  000073194a  2017-05-23 12:56:14  2017-11-24 11:18:01  60.0      F  1.7900   \n",
       "4  00007c7133  2017-05-22 16:17:08  2018-12-31 17:17:33  67.0      U  3.7410   \n",
       "\n",
       "   heavy_flg  product_quantity_avg  regular_points_received  \\\n",
       "0          1             13.500000                     25.7   \n",
       "1          1              5.281250                     54.9   \n",
       "2          1             11.375000                     26.5   \n",
       "3          1              7.470588                     74.9   \n",
       "4          1              7.545455                     56.6   \n",
       "\n",
       "   express_points_received  ...  last_month_quant  purchase_sum_diff  \\\n",
       "0                      0.0  ...                 2           -1360.00   \n",
       "1                     60.0  ...                 8             557.00   \n",
       "2                      0.0  ...                 1           -2085.07   \n",
       "3                      0.0  ...                 6            1972.46   \n",
       "4                      0.0  ...                 1           -1025.03   \n",
       "\n",
       "   quant_diff  purchase_sum  quant  purchase_sum_year  quant_year  \\\n",
       "0        -8.0      25447.00   30.0           25447.00        30.0   \n",
       "1         4.0      22399.00   57.0           22399.00        57.0   \n",
       "2        -3.0       4005.00    9.0            4005.00         9.0   \n",
       "3         4.0       2695.48    9.0            2695.48         9.0   \n",
       "4        -5.0      30095.00   46.0           30095.00        46.0   \n",
       "\n",
       "   number_of_transactions  own_trademark_share  alchohol_share  \n",
       "0                       4             0.060897        0.000000  \n",
       "1                      32             0.093006        0.005208  \n",
       "2                       8             0.025210        0.000000  \n",
       "3                      17             0.017349        0.261630  \n",
       "4                      11             0.132576        0.000000  \n",
       "\n",
       "[5 rows x 27 columns]"
      ]
     },
     "execution_count": 179,
     "metadata": {},
     "output_type": "execute_result"
    }
   ],
   "source": [
    "tmp = purch.loc[:, ['client_id','transaction_id', 'product_quantity', 'is_own_trademark', 'is_alcohol']]\n",
    "tmp = tmp.fillna(0)\n",
    "tmp.is_own_trademark = tmp.is_own_trademark.mul(tmp.product_quantity)\n",
    "tmp.is_alcohol = tmp.is_alcohol.mul(tmp.product_quantity)\n",
    "tmp = tmp.groupby(['client_id','transaction_id'], as_index=False).sum()\n",
    "tmp['own_trademark_share'] = tmp.is_own_trademark.div(tmp.product_quantity)\n",
    "tmp['alchohol_share'] = tmp.is_alcohol.div(tmp.product_quantity)\n",
    "tmp = tmp.groupby('client_id', as_index=False).mean()\n",
    "tmp = tmp.drop(columns=['product_quantity','is_own_trademark', 'is_alcohol'])\n",
    "X = pd.concat([X, tmp.drop(columns='client_id').reindex(X.index)], axis=1)\n",
    "X.head()"
   ]
  },
  {
   "cell_type": "markdown",
   "metadata": {
    "colab_type": "text",
    "id": "I7Dt3Yb7-qSz"
   },
   "source": [
    "# Максимальный чек"
   ]
  },
  {
   "cell_type": "code",
   "execution_count": 180,
   "metadata": {
    "colab": {},
    "colab_type": "code",
    "id": "XEFqk7oB-tNc"
   },
   "outputs": [
    {
     "data": {
      "text/html": [
       "<div>\n",
       "<style scoped>\n",
       "    .dataframe tbody tr th:only-of-type {\n",
       "        vertical-align: middle;\n",
       "    }\n",
       "\n",
       "    .dataframe tbody tr th {\n",
       "        vertical-align: top;\n",
       "    }\n",
       "\n",
       "    .dataframe thead th {\n",
       "        text-align: right;\n",
       "    }\n",
       "</style>\n",
       "<table border=\"1\" class=\"dataframe\">\n",
       "  <thead>\n",
       "    <tr style=\"text-align: right;\">\n",
       "      <th></th>\n",
       "      <th>client_id</th>\n",
       "      <th>first_issue_date</th>\n",
       "      <th>first_redeem_date</th>\n",
       "      <th>age</th>\n",
       "      <th>gender</th>\n",
       "      <th>netto</th>\n",
       "      <th>heavy_flg</th>\n",
       "      <th>product_quantity_avg</th>\n",
       "      <th>regular_points_received</th>\n",
       "      <th>express_points_received</th>\n",
       "      <th>...</th>\n",
       "      <th>purchase_sum_diff</th>\n",
       "      <th>quant_diff</th>\n",
       "      <th>purchase_sum</th>\n",
       "      <th>quant</th>\n",
       "      <th>purchase_sum_year</th>\n",
       "      <th>quant_year</th>\n",
       "      <th>number_of_transactions</th>\n",
       "      <th>own_trademark_share</th>\n",
       "      <th>alchohol_share</th>\n",
       "      <th>max_bill</th>\n",
       "    </tr>\n",
       "  </thead>\n",
       "  <tbody>\n",
       "    <tr>\n",
       "      <th>0</th>\n",
       "      <td>000012768d</td>\n",
       "      <td>2017-08-05 15:40:48</td>\n",
       "      <td>2018-01-04 19:30:07</td>\n",
       "      <td>45.0</td>\n",
       "      <td>U</td>\n",
       "      <td>7.0235</td>\n",
       "      <td>1</td>\n",
       "      <td>13.500000</td>\n",
       "      <td>25.7</td>\n",
       "      <td>0.0</td>\n",
       "      <td>...</td>\n",
       "      <td>-1360.00</td>\n",
       "      <td>-8.0</td>\n",
       "      <td>25447.00</td>\n",
       "      <td>30.0</td>\n",
       "      <td>25447.00</td>\n",
       "      <td>30.0</td>\n",
       "      <td>4</td>\n",
       "      <td>0.060897</td>\n",
       "      <td>0.000000</td>\n",
       "      <td>1007.00</td>\n",
       "    </tr>\n",
       "    <tr>\n",
       "      <th>1</th>\n",
       "      <td>000036f903</td>\n",
       "      <td>2017-04-10 13:54:23</td>\n",
       "      <td>2017-04-23 12:37:56</td>\n",
       "      <td>72.0</td>\n",
       "      <td>F</td>\n",
       "      <td>2.5250</td>\n",
       "      <td>1</td>\n",
       "      <td>5.281250</td>\n",
       "      <td>54.9</td>\n",
       "      <td>60.0</td>\n",
       "      <td>...</td>\n",
       "      <td>557.00</td>\n",
       "      <td>4.0</td>\n",
       "      <td>22399.00</td>\n",
       "      <td>57.0</td>\n",
       "      <td>22399.00</td>\n",
       "      <td>57.0</td>\n",
       "      <td>32</td>\n",
       "      <td>0.093006</td>\n",
       "      <td>0.005208</td>\n",
       "      <td>700.00</td>\n",
       "    </tr>\n",
       "    <tr>\n",
       "      <th>2</th>\n",
       "      <td>000048b7a6</td>\n",
       "      <td>2018-12-15 13:33:11</td>\n",
       "      <td>1970-01-01 00:00:00</td>\n",
       "      <td>68.0</td>\n",
       "      <td>F</td>\n",
       "      <td>1.0830</td>\n",
       "      <td>1</td>\n",
       "      <td>11.375000</td>\n",
       "      <td>26.5</td>\n",
       "      <td>0.0</td>\n",
       "      <td>...</td>\n",
       "      <td>-2085.07</td>\n",
       "      <td>-3.0</td>\n",
       "      <td>4005.00</td>\n",
       "      <td>9.0</td>\n",
       "      <td>4005.00</td>\n",
       "      <td>9.0</td>\n",
       "      <td>8</td>\n",
       "      <td>0.025210</td>\n",
       "      <td>0.000000</td>\n",
       "      <td>1204.00</td>\n",
       "    </tr>\n",
       "    <tr>\n",
       "      <th>3</th>\n",
       "      <td>000073194a</td>\n",
       "      <td>2017-05-23 12:56:14</td>\n",
       "      <td>2017-11-24 11:18:01</td>\n",
       "      <td>60.0</td>\n",
       "      <td>F</td>\n",
       "      <td>1.7900</td>\n",
       "      <td>1</td>\n",
       "      <td>7.470588</td>\n",
       "      <td>74.9</td>\n",
       "      <td>0.0</td>\n",
       "      <td>...</td>\n",
       "      <td>1972.46</td>\n",
       "      <td>4.0</td>\n",
       "      <td>2695.48</td>\n",
       "      <td>9.0</td>\n",
       "      <td>2695.48</td>\n",
       "      <td>9.0</td>\n",
       "      <td>17</td>\n",
       "      <td>0.017349</td>\n",
       "      <td>0.261630</td>\n",
       "      <td>1728.75</td>\n",
       "    </tr>\n",
       "    <tr>\n",
       "      <th>4</th>\n",
       "      <td>00007c7133</td>\n",
       "      <td>2017-05-22 16:17:08</td>\n",
       "      <td>2018-12-31 17:17:33</td>\n",
       "      <td>67.0</td>\n",
       "      <td>U</td>\n",
       "      <td>3.7410</td>\n",
       "      <td>1</td>\n",
       "      <td>7.545455</td>\n",
       "      <td>56.6</td>\n",
       "      <td>0.0</td>\n",
       "      <td>...</td>\n",
       "      <td>-1025.03</td>\n",
       "      <td>-5.0</td>\n",
       "      <td>30095.00</td>\n",
       "      <td>46.0</td>\n",
       "      <td>30095.00</td>\n",
       "      <td>46.0</td>\n",
       "      <td>11</td>\n",
       "      <td>0.132576</td>\n",
       "      <td>0.000000</td>\n",
       "      <td>1043.84</td>\n",
       "    </tr>\n",
       "  </tbody>\n",
       "</table>\n",
       "<p>5 rows × 28 columns</p>\n",
       "</div>"
      ],
      "text/plain": [
       "    client_id     first_issue_date    first_redeem_date   age gender   netto  \\\n",
       "0  000012768d  2017-08-05 15:40:48  2018-01-04 19:30:07  45.0      U  7.0235   \n",
       "1  000036f903  2017-04-10 13:54:23  2017-04-23 12:37:56  72.0      F  2.5250   \n",
       "2  000048b7a6  2018-12-15 13:33:11  1970-01-01 00:00:00  68.0      F  1.0830   \n",
       "3  000073194a  2017-05-23 12:56:14  2017-11-24 11:18:01  60.0      F  1.7900   \n",
       "4  00007c7133  2017-05-22 16:17:08  2018-12-31 17:17:33  67.0      U  3.7410   \n",
       "\n",
       "   heavy_flg  product_quantity_avg  regular_points_received  \\\n",
       "0          1             13.500000                     25.7   \n",
       "1          1              5.281250                     54.9   \n",
       "2          1             11.375000                     26.5   \n",
       "3          1              7.470588                     74.9   \n",
       "4          1              7.545455                     56.6   \n",
       "\n",
       "   express_points_received  ...  purchase_sum_diff  quant_diff  purchase_sum  \\\n",
       "0                      0.0  ...           -1360.00        -8.0      25447.00   \n",
       "1                     60.0  ...             557.00         4.0      22399.00   \n",
       "2                      0.0  ...           -2085.07        -3.0       4005.00   \n",
       "3                      0.0  ...            1972.46         4.0       2695.48   \n",
       "4                      0.0  ...           -1025.03        -5.0      30095.00   \n",
       "\n",
       "   quant  purchase_sum_year  quant_year  number_of_transactions  \\\n",
       "0   30.0           25447.00        30.0                       4   \n",
       "1   57.0           22399.00        57.0                      32   \n",
       "2    9.0            4005.00         9.0                       8   \n",
       "3    9.0            2695.48         9.0                      17   \n",
       "4   46.0           30095.00        46.0                      11   \n",
       "\n",
       "   own_trademark_share  alchohol_share  max_bill  \n",
       "0             0.060897        0.000000   1007.00  \n",
       "1             0.093006        0.005208    700.00  \n",
       "2             0.025210        0.000000   1204.00  \n",
       "3             0.017349        0.261630   1728.75  \n",
       "4             0.132576        0.000000   1043.84  \n",
       "\n",
       "[5 rows x 28 columns]"
      ]
     },
     "execution_count": 180,
     "metadata": {},
     "output_type": "execute_result"
    }
   ],
   "source": [
    "tmp = purch.loc[:,['client_id', 'transaction_id', 'purchase_sum']]\n",
    "tmp = tmp.groupby('client_id', as_index=False).max()\n",
    "tmp['max_bill'] = tmp.purchase_sum\n",
    "tmp = tmp.drop(columns=['transaction_id', 'purchase_sum'])\n",
    "X = pd.concat([X, tmp.drop(columns='client_id').reindex(X.index)], axis=1)\n",
    "X.head()"
   ]
  },
  {
   "cell_type": "code",
   "execution_count": 185,
   "metadata": {},
   "outputs": [
    {
     "data": {
      "text/plain": [
       "client_id                      0\n",
       "first_issue_date               0\n",
       "first_redeem_date              0\n",
       "age                            0\n",
       "gender                         0\n",
       "netto                          0\n",
       "heavy_flg                      0\n",
       "product_quantity_avg           0\n",
       "regular_points_received        0\n",
       "express_points_received        0\n",
       "regular_points_spent           0\n",
       "express_points_spent           0\n",
       "balance                        0\n",
       "balance_express                0\n",
       "balance_all                    0\n",
       "one_time_only                  0\n",
       "last_month_purchase_sum        0\n",
       "last_month_quant               0\n",
       "purchase_sum_diff          51751\n",
       "quant_diff                 51751\n",
       "purchase_sum               62006\n",
       "quant                      62006\n",
       "purchase_sum_year          62006\n",
       "quant_year                 62006\n",
       "number_of_transactions         0\n",
       "own_trademark_share           32\n",
       "alchohol_share                32\n",
       "max_bill                       0\n",
       "dtype: int64"
      ]
     },
     "execution_count": 185,
     "metadata": {},
     "output_type": "execute_result"
    }
   ],
   "source": [
    "X.isna().sum()"
   ]
  },
  {
   "cell_type": "code",
   "execution_count": 181,
   "metadata": {},
   "outputs": [],
   "source": [
    "X.to_csv('features2401-3.csv')"
   ]
  },
  {
   "cell_type": "code",
   "execution_count": 182,
   "metadata": {},
   "outputs": [],
   "source": [
    "pd.to_pickle((X), 'features2401-2.pkl')"
   ]
  },
  {
   "cell_type": "code",
   "execution_count": 98,
   "metadata": {},
   "outputs": [],
   "source": [
    "df = pd.read_csv('features2401.csv')"
   ]
  },
  {
   "cell_type": "markdown",
   "metadata": {
    "colab_type": "text",
    "id": "pkO0qp9uCHye"
   },
   "source": [
    "# K-means\n",
    "\n",
    "\n"
   ]
  },
  {
   "cell_type": "code",
   "execution_count": 96,
   "metadata": {
    "colab": {},
    "colab_type": "code",
    "id": "JGadxkGm8T8V"
   },
   "outputs": [],
   "source": [
    "tmp = X"
   ]
  },
  {
   "cell_type": "code",
   "execution_count": 97,
   "metadata": {
    "colab": {},
    "colab_type": "code",
    "id": "SM-k7vj889gQ"
   },
   "outputs": [
    {
     "ename": "TypeError",
     "evalue": "argument must be a string or number",
     "output_type": "error",
     "traceback": [
      "\u001b[0;31m---------------------------------------------------------------------------\u001b[0m",
      "\u001b[0;31mTypeError\u001b[0m                                 Traceback (most recent call last)",
      "\u001b[0;32m~/env/lib/python3.6/site-packages/sklearn/preprocessing/_label.py\u001b[0m in \u001b[0;36m_encode\u001b[0;34m(values, uniques, encode, check_unknown)\u001b[0m\n\u001b[1;32m    111\u001b[0m         \u001b[0;32mtry\u001b[0m\u001b[0;34m:\u001b[0m\u001b[0;34m\u001b[0m\u001b[0;34m\u001b[0m\u001b[0m\n\u001b[0;32m--> 112\u001b[0;31m             \u001b[0mres\u001b[0m \u001b[0;34m=\u001b[0m \u001b[0m_encode_python\u001b[0m\u001b[0;34m(\u001b[0m\u001b[0mvalues\u001b[0m\u001b[0;34m,\u001b[0m \u001b[0muniques\u001b[0m\u001b[0;34m,\u001b[0m \u001b[0mencode\u001b[0m\u001b[0;34m)\u001b[0m\u001b[0;34m\u001b[0m\u001b[0;34m\u001b[0m\u001b[0m\n\u001b[0m\u001b[1;32m    113\u001b[0m         \u001b[0;32mexcept\u001b[0m \u001b[0mTypeError\u001b[0m\u001b[0;34m:\u001b[0m\u001b[0;34m\u001b[0m\u001b[0;34m\u001b[0m\u001b[0m\n",
      "\u001b[0;32m~/env/lib/python3.6/site-packages/sklearn/preprocessing/_label.py\u001b[0m in \u001b[0;36m_encode_python\u001b[0;34m(values, uniques, encode)\u001b[0m\n\u001b[1;32m     59\u001b[0m     \u001b[0;32mif\u001b[0m \u001b[0muniques\u001b[0m \u001b[0;32mis\u001b[0m \u001b[0;32mNone\u001b[0m\u001b[0;34m:\u001b[0m\u001b[0;34m\u001b[0m\u001b[0;34m\u001b[0m\u001b[0m\n\u001b[0;32m---> 60\u001b[0;31m         \u001b[0muniques\u001b[0m \u001b[0;34m=\u001b[0m \u001b[0msorted\u001b[0m\u001b[0;34m(\u001b[0m\u001b[0mset\u001b[0m\u001b[0;34m(\u001b[0m\u001b[0mvalues\u001b[0m\u001b[0;34m)\u001b[0m\u001b[0;34m)\u001b[0m\u001b[0;34m\u001b[0m\u001b[0;34m\u001b[0m\u001b[0m\n\u001b[0m\u001b[1;32m     61\u001b[0m         \u001b[0muniques\u001b[0m \u001b[0;34m=\u001b[0m \u001b[0mnp\u001b[0m\u001b[0;34m.\u001b[0m\u001b[0marray\u001b[0m\u001b[0;34m(\u001b[0m\u001b[0muniques\u001b[0m\u001b[0;34m,\u001b[0m \u001b[0mdtype\u001b[0m\u001b[0;34m=\u001b[0m\u001b[0mvalues\u001b[0m\u001b[0;34m.\u001b[0m\u001b[0mdtype\u001b[0m\u001b[0;34m)\u001b[0m\u001b[0;34m\u001b[0m\u001b[0;34m\u001b[0m\u001b[0m\n",
      "\u001b[0;31mTypeError\u001b[0m: '<' not supported between instances of 'float' and 'str'",
      "\nDuring handling of the above exception, another exception occurred:\n",
      "\u001b[0;31mTypeError\u001b[0m                                 Traceback (most recent call last)",
      "\u001b[0;32m<ipython-input-97-31bb6be7dbef>\u001b[0m in \u001b[0;36m<module>\u001b[0;34m\u001b[0m\n\u001b[1;32m      9\u001b[0m \u001b[0mle\u001b[0m \u001b[0;34m=\u001b[0m \u001b[0mLabelEncoder\u001b[0m\u001b[0;34m(\u001b[0m\u001b[0;34m)\u001b[0m\u001b[0;34m\u001b[0m\u001b[0;34m\u001b[0m\u001b[0m\n\u001b[1;32m     10\u001b[0m \u001b[0;32mfor\u001b[0m \u001b[0mcol\u001b[0m \u001b[0;32min\u001b[0m \u001b[0mcat_features\u001b[0m\u001b[0;34m:\u001b[0m\u001b[0;34m\u001b[0m\u001b[0;34m\u001b[0m\u001b[0m\n\u001b[0;32m---> 11\u001b[0;31m     \u001b[0mtmp\u001b[0m\u001b[0;34m[\u001b[0m\u001b[0mcol\u001b[0m\u001b[0;34m]\u001b[0m \u001b[0;34m=\u001b[0m \u001b[0mle\u001b[0m\u001b[0;34m.\u001b[0m\u001b[0mfit_transform\u001b[0m\u001b[0;34m(\u001b[0m\u001b[0mtmp\u001b[0m\u001b[0;34m[\u001b[0m\u001b[0mcol\u001b[0m\u001b[0;34m]\u001b[0m\u001b[0;34m)\u001b[0m\u001b[0;34m\u001b[0m\u001b[0;34m\u001b[0m\u001b[0m\n\u001b[0m\u001b[1;32m     12\u001b[0m     \u001b[0mtmp\u001b[0m\u001b[0;34m[\u001b[0m\u001b[0mcol\u001b[0m\u001b[0;34m]\u001b[0m \u001b[0;34m=\u001b[0m \u001b[0mtmp\u001b[0m\u001b[0;34m[\u001b[0m\u001b[0mcol\u001b[0m\u001b[0;34m]\u001b[0m\u001b[0;34m.\u001b[0m\u001b[0mastype\u001b[0m\u001b[0;34m(\u001b[0m\u001b[0mnp\u001b[0m\u001b[0;34m.\u001b[0m\u001b[0mint\u001b[0m\u001b[0;34m)\u001b[0m\u001b[0;34m\u001b[0m\u001b[0;34m\u001b[0m\u001b[0m\n\u001b[1;32m     13\u001b[0m \u001b[0;34m\u001b[0m\u001b[0m\n",
      "\u001b[0;32m~/env/lib/python3.6/site-packages/sklearn/preprocessing/_label.py\u001b[0m in \u001b[0;36mfit_transform\u001b[0;34m(self, y)\u001b[0m\n\u001b[1;32m    250\u001b[0m         \"\"\"\n\u001b[1;32m    251\u001b[0m         \u001b[0my\u001b[0m \u001b[0;34m=\u001b[0m \u001b[0mcolumn_or_1d\u001b[0m\u001b[0;34m(\u001b[0m\u001b[0my\u001b[0m\u001b[0;34m,\u001b[0m \u001b[0mwarn\u001b[0m\u001b[0;34m=\u001b[0m\u001b[0;32mTrue\u001b[0m\u001b[0;34m)\u001b[0m\u001b[0;34m\u001b[0m\u001b[0;34m\u001b[0m\u001b[0m\n\u001b[0;32m--> 252\u001b[0;31m         \u001b[0mself\u001b[0m\u001b[0;34m.\u001b[0m\u001b[0mclasses_\u001b[0m\u001b[0;34m,\u001b[0m \u001b[0my\u001b[0m \u001b[0;34m=\u001b[0m \u001b[0m_encode\u001b[0m\u001b[0;34m(\u001b[0m\u001b[0my\u001b[0m\u001b[0;34m,\u001b[0m \u001b[0mencode\u001b[0m\u001b[0;34m=\u001b[0m\u001b[0;32mTrue\u001b[0m\u001b[0;34m)\u001b[0m\u001b[0;34m\u001b[0m\u001b[0;34m\u001b[0m\u001b[0m\n\u001b[0m\u001b[1;32m    253\u001b[0m         \u001b[0;32mreturn\u001b[0m \u001b[0my\u001b[0m\u001b[0;34m\u001b[0m\u001b[0;34m\u001b[0m\u001b[0m\n\u001b[1;32m    254\u001b[0m \u001b[0;34m\u001b[0m\u001b[0m\n",
      "\u001b[0;32m~/env/lib/python3.6/site-packages/sklearn/preprocessing/_label.py\u001b[0m in \u001b[0;36m_encode\u001b[0;34m(values, uniques, encode, check_unknown)\u001b[0m\n\u001b[1;32m    112\u001b[0m             \u001b[0mres\u001b[0m \u001b[0;34m=\u001b[0m \u001b[0m_encode_python\u001b[0m\u001b[0;34m(\u001b[0m\u001b[0mvalues\u001b[0m\u001b[0;34m,\u001b[0m \u001b[0muniques\u001b[0m\u001b[0;34m,\u001b[0m \u001b[0mencode\u001b[0m\u001b[0;34m)\u001b[0m\u001b[0;34m\u001b[0m\u001b[0;34m\u001b[0m\u001b[0m\n\u001b[1;32m    113\u001b[0m         \u001b[0;32mexcept\u001b[0m \u001b[0mTypeError\u001b[0m\u001b[0;34m:\u001b[0m\u001b[0;34m\u001b[0m\u001b[0;34m\u001b[0m\u001b[0m\n\u001b[0;32m--> 114\u001b[0;31m             \u001b[0;32mraise\u001b[0m \u001b[0mTypeError\u001b[0m\u001b[0;34m(\u001b[0m\u001b[0;34m\"argument must be a string or number\"\u001b[0m\u001b[0;34m)\u001b[0m\u001b[0;34m\u001b[0m\u001b[0;34m\u001b[0m\u001b[0m\n\u001b[0m\u001b[1;32m    115\u001b[0m         \u001b[0;32mreturn\u001b[0m \u001b[0mres\u001b[0m\u001b[0;34m\u001b[0m\u001b[0;34m\u001b[0m\u001b[0m\n\u001b[1;32m    116\u001b[0m     \u001b[0;32melse\u001b[0m\u001b[0;34m:\u001b[0m\u001b[0;34m\u001b[0m\u001b[0;34m\u001b[0m\u001b[0m\n",
      "\u001b[0;31mTypeError\u001b[0m: argument must be a string or number"
     ]
    }
   ],
   "source": [
    "cat_features = ['gender']\n",
    "cat_inds = []\n",
    "for col in cat_features:\n",
    "    name = tmp.columns.get_loc(col)\n",
    "    cat_inds.append(name)\n",
    "\n",
    "from sklearn.preprocessing import LabelEncoder\n",
    "\n",
    "le = LabelEncoder()\n",
    "for col in cat_features:\n",
    "    tmp[col] = le.fit_transform(tmp[col])\n",
    "    tmp[col] = tmp[col].astype(np.int)\n",
    "\n",
    "from sklearn.preprocessing import OneHotEncoder\n",
    "\n",
    "tmp = pd.get_dummies(tmp, columns=['gender'])"
   ]
  },
  {
   "cell_type": "code",
   "execution_count": null,
   "metadata": {
    "colab": {},
    "colab_type": "code",
    "id": "ilQFF0ozDY7_"
   },
   "outputs": [],
   "source": [
    "from sklearn.cluster import KMeans\n",
    "\n",
    "def order_cluster(cluster_field_name, target_field_name,df,ascending):\n",
    "    new_cluster_field_name = 'new_' + cluster_field_name\n",
    "    df_new = df.groupby(cluster_field_name)[target_field_name].mean().reset_index()\n",
    "    df_new = df_new.sort_values(by=target_field_name,ascending=ascending).reset_index(drop=True)\n",
    "    df_new['index'] = df_new.index\n",
    "    df_final = pd.merge(df,df_new[[cluster_field_name,'index']], on=cluster_field_name)\n",
    "    df_final = df_final.drop([cluster_field_name],axis=1)\n",
    "    df_final = df_final.rename(columns={\"index\":cluster_field_name})\n",
    "    return df_final\n",
    "\n",
    "kmeans = KMeans(n_clusters=5)\n",
    "kmeans.fit(X_train.drop(columns='client_id'))\n",
    "# df['cluster'] = kmeans.predict(df)\n",
    "# df = order_cluster('cluster', 'purchase_sum',df,True)"
   ]
  },
  {
   "cell_type": "code",
   "execution_count": null,
   "metadata": {
    "colab": {},
    "colab_type": "code",
    "id": "ID5eMHkIAsOU"
   },
   "outputs": [],
   "source": [
    "tmp['cluster_new'] = kmeans.predict(X.drop(columns='client_id'))\n",
    "tmp = tmp.loc[:, ['client_id', 'cluster_new']]"
   ]
  },
  {
   "cell_type": "code",
   "execution_count": null,
   "metadata": {
    "colab": {},
    "colab_type": "code",
    "id": "3cvzylqJ9j_Y"
   },
   "outputs": [],
   "source": [
    "X = pd.concat([X, tmp.drop(columns='client_id').reindex(X.index)], axis=1)\n",
    "X.head()"
   ]
  },
  {
   "cell_type": "markdown",
   "metadata": {
    "colab_type": "text",
    "id": "l8fzNb1R-0VT"
   },
   "source": [
    "# Функция для Log Transform\n",
    "\n"
   ]
  },
  {
   "cell_type": "markdown",
   "metadata": {
    "colab_type": "text",
    "id": "rbhinquq_WED"
   },
   "source": [
    "Работает только для положительных"
   ]
  },
  {
   "cell_type": "code",
   "execution_count": null,
   "metadata": {
    "colab": {},
    "colab_type": "code",
    "id": "pu6aNChx_C8j"
   },
   "outputs": [],
   "source": [
    "def log_transform(data, col):\n",
    "    data[col] = (data[col]+1).transform(np.log)"
   ]
  },
  {
   "cell_type": "markdown",
   "metadata": {
    "colab_type": "text",
    "id": "XgIuP0tA_dYp"
   },
   "source": [
    "Для отрицательных"
   ]
  },
  {
   "cell_type": "code",
   "execution_count": null,
   "metadata": {
    "colab": {},
    "colab_type": "code",
    "id": "lki0Z3X9_gDP"
   },
   "outputs": [],
   "source": [
    "def log_transform(data, col):\n",
    "    data[col] = (data[col]-data[col].min()+1) .transform(np.log)"
   ]
  }
 ],
 "metadata": {
  "colab": {
   "collapsed_sections": [
    "ZG5IHZlE8fFL",
    "sNEpuvei8jvU",
    "Xc0J_tW_HJdN",
    "_aNw8ksDI4LO"
   ],
   "name": "feats.ipynb",
   "provenance": []
  },
  "kernelspec": {
   "display_name": "Python 3",
   "language": "python",
   "name": "python3"
  },
  "language_info": {
   "codemirror_mode": {
    "name": "ipython",
    "version": 3
   },
   "file_extension": ".py",
   "mimetype": "text/x-python",
   "name": "python",
   "nbconvert_exporter": "python",
   "pygments_lexer": "ipython3",
   "version": "3.6.9"
  }
 },
 "nbformat": 4,
 "nbformat_minor": 1
}
