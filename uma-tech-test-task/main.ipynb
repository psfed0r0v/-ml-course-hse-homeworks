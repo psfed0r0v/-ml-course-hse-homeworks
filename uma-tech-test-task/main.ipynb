{
"cells": [
{
"cell_type": "code",
"execution_count": 1,
"metadata": {
"ExecuteTime": {
"end_time": "2020-03-19T00:26:31.689242Z",
"start_time": "2020-03-19T00:26:31.072780Z"
}
},
"outputs": [
{
"name": "stdout",
"output_type": "stream",
"text": [
"pandas: 0.24.2\n",
"numpy: 1.18.1\n",
"sklearn: 0.19.1\n",
"lightgbm: 2.1.1\n",
"catboost: 0.21\n"
]
},
{
"name": "stderr",
"output_type": "stream",
"text": [
"/home/pfedorov/cmptshns/lib/python3.6/site-packages/sklearn/ensemble/weight_boosting.py:29: DeprecationWarning: numpy.core.umath_tests is an internal NumPy module and should not be imported. It will be removed in a future NumPy release.\n",
"  from numpy.core.umath_tests import inner1d\n"
]
}
],
"source": [
"import pandas as pd\n",
"import numpy as np\n",
"import lightgbm as lgb\n",
"import catboost as cb\n",
"from catboost import CatBoostClassifier, Pool\n",
"import random \n",
"from tqdm.notebook import tqdm\n",
"import sklearn\n",
"from sklearn.metrics import roc_auc_score\n",
"from sklearn.ensemble import RandomForestClassifier\n",
"from sklearn.preprocessing import StandardScaler \n",
"from sklearn.model_selection import StratifiedKFold, train_test_split\n",
"from sklearn.linear_model import LogisticRegression\n",
"from sklearn.neighbors import KNeighborsClassifier\n",
"from sklearn.svm import SVC\n",
"from sklearn import preprocessing\n",
"from sklearn.decomposition import TruncatedSVD\n",
"\n",
"import warnings\n",
"warnings.filterwarnings(\"ignore\")\n",
"\n",
"print(\"pandas:\", pd.__version__)\n",
"print(\"numpy:\", np.__version__)\n",
"print(\"sklearn:\", sklearn.__version__)\n",
"print(\"lightgbm:\", lgb.__version__)\n",
"print(\"catboost:\", cb.__version__)"
]
},
{
"cell_type": "code",
"execution_count": 2,
"metadata": {
"ExecuteTime": {
"end_time": "2020-03-19T00:26:34.893701Z",
"start_time": "2020-03-19T00:26:31.693612Z"
}
},
"outputs": [],
"source": [
"train = pd.read_csv('data/TRAIN_PREPARED.csv')\n",
"train, val = train.iloc[:150000], train.iloc[150000:]\n",
"test  = pd.read_csv('data/TEST_PREPARED.csv')"
]
},
{
"cell_type": "code",
"execution_count": 3,
"metadata": {
"ExecuteTime": {
"end_time": "2020-03-19T00:26:34.941378Z",
"start_time": "2020-03-19T00:26:34.895457Z"
}
},
"outputs": [],
"source": [
"y = train.label.values\n",
"y_val = val.label.values\n",
"\n",
"train = train.drop(['email', 'label'], axis=1)\n",
"val  = val.drop(['email', 'label'], axis=1)\n",
"test  = test.drop('email', axis=1)"
]
},
{
"cell_type": "code",
"execution_count": 4,
"metadata": {
"ExecuteTime": {
"end_time": "2020-03-19T00:26:34.946729Z",
"start_time": "2020-03-19T00:26:34.942807Z"
}
},
"outputs": [],
"source": [
"def convert_datetime(data):\n",
"    data.first_date = (pd.to_datetime(data.first_date).astype(int) / 10**9).astype(int)\n",
"    data.cut_date = (pd.to_datetime(data.cut_date).astype(int) / 10**9).astype(int)\n",
"    data.last_date = (pd.to_datetime(data.last_date).astype(int) / 10**9).astype(int)\n",
"    \n",
"    return data"
]
},
{
"cell_type": "code",
"execution_count": 5,
"metadata": {
"ExecuteTime": {
"end_time": "2020-03-19T00:26:35.119470Z",
"start_time": "2020-03-19T00:26:34.947966Z"
}
},
"outputs": [],
"source": [
"train = convert_datetime(train)\n",
"val = convert_datetime(val)\n",
"test = convert_datetime(test)"
]
},
{
"cell_type": "code",
"execution_count": 6,
"metadata": {
"ExecuteTime": {
"end_time": "2020-03-19T00:26:35.214730Z",
"start_time": "2020-03-19T00:26:35.120924Z"
}
},
"outputs": [
{
"data": {
"application/vnd.jupyter.widget-view+json": {
"model_id": "3901ecb2a07d44aea9c37065a774a454",
"version_major": 2,
"version_minor": 0
},
"text/plain": [
"HBox(children=(FloatProgress(value=0.0, max=144.0), HTML(value='')))"
]
},
"metadata": {},
"output_type": "display_data"
},
{
"name": "stdout",
"output_type": "stream",
"text": [
"\n"
]
}
],
"source": [
"train = train.fillna(-1)\n",
"val = val.fillna(-1)\n",
"test = test.fillna(-1)\n",
"\n",
"for f in tqdm(train.columns):\n",
"    if train[f].dtype=='object':\n",
"        lbl = preprocessing.LabelEncoder()\n",
"        lbl.fit(list(train[f].values) + \n",
"                list(val[f].values) +\n",
"                list(test[f].values))\n",
"        \n",
"        train[f] = lbl.transform(list(train[f].values))\n",
"        val[f] = lbl.transform(list(val[f].values))\n",
"        test[f] = lbl.transform(list(test[f].values))"
]
},
{
"cell_type": "code",
"execution_count": 7,
"metadata": {
"ExecuteTime": {
"end_time": "2020-03-19T00:26:35.224376Z",
"start_time": "2020-03-19T00:26:35.216850Z"
}
},
"outputs": [
{
"data": {
"text/plain": [
"144"
]
},
"execution_count": 7,
"metadata": {},
"output_type": "execute_result"
}
],
"source": [
"cols = list(train.columns)\n",
"len(cols)"
]
},
{
"cell_type": "code",
"execution_count": 8,
"metadata": {
"ExecuteTime": {
"end_time": "2020-03-19T00:26:38.542425Z",
"start_time": "2020-03-19T00:26:35.225738Z"
}
},
"outputs": [],
"source": [
"scaler = StandardScaler()\n",
"train[cols] = scaler.fit_transform(train[cols])\n",
"val[cols] = scaler.transform(val[cols])\n",
"test[cols] = scaler.transform(test[cols])"
]
},
{
"cell_type": "code",
"execution_count": 9,
"metadata": {
"ExecuteTime": {
"end_time": "2020-03-19T00:26:40.142147Z",
"start_time": "2020-03-19T00:26:38.544077Z"
}
},
"outputs": [],
"source": [
"N = 32\n",
"\n",
"svd = TruncatedSVD(n_components=N, random_state=18)\n",
"X = svd.fit_transform(train[cols], y)\n",
"X_val = svd.transform(val[cols])\n",
"X_test = svd.transform(test[cols])"
]
},
{
"cell_type": "code",
"execution_count": 10,
"metadata": {
"ExecuteTime": {
"end_time": "2020-03-19T00:27:17.414532Z",
"start_time": "2020-03-19T00:26:40.144040Z"
}
},
"outputs": [
{
"name": "stdout",
"output_type": "stream",
"text": [
"0 ROC AUC: 0.927572\n",
"1 ROC AUC: 0.929709\n",
"2 ROC AUC: 0.921921\n",
"4 ROC AUC: 0.929309\n",
"\n",
" FIN ROC AUC: 0.927503\n",
"CPU times: user 43min 53s, sys: 19.7 s, total: 44min 13s\n",
"Wall time: 37.3 s\n"
]
}
],
"source": [
"%%time\n",
"arch = \"random_forest\"\n",
"train[arch] = 0\n",
"\n",
"skf = StratifiedKFold(n_splits=5, shuffle=True, random_state=18)\n",
"for i, (train_index, valid_index) in enumerate(skf.split(X, y)):\n",
"\n",
"    X_train = X[train_index]\n",
"    X_valid = X[valid_index]\n",
"\n",
"    y_train = y[train_index]\n",
"    y_valid = y[valid_index]\n",
"    \n",
"    clf = RandomForestClassifier(n_estimators=150,\n",
"                                 n_jobs=-1).fit(X_train, y_train) \n",
"    \n",
"    y_pred = clf.predict_proba(X_valid)[:,1]\n",
"    train.loc[valid_index, arch] = y_pred\n",
"    print(i, \"ROC AUC:\", round(roc_auc_score(y_valid, y_pred), 6))\n",
"\n",
"test[arch] = clf.predict_proba(X_test)[:,1]\n",
"val[arch]  = clf.predict_proba(X_val)[:, 1]\n",
"\n",
"print(\"\\n FIN ROC AUC:\", round(roc_auc_score(y, train[arch]), 6))"
]
},
{
"cell_type": "code",
"execution_count": 11,
"metadata": {
"ExecuteTime": {
"end_time": "2020-03-19T00:43:54.749292Z",
"start_time": "2020-03-19T00:27:17.416382Z"
}
},
"outputs": [
{
"name": "stdout",
"output_type": "stream",
"text": [
"Training until validation scores don't improve for 100 rounds.\n",
"[200]\ttrain's auc: 0.81687\tvalid's auc: 0.745551\n",
"[400]\ttrain's auc: 0.881366\tvalid's auc: 0.777594\n",
"[600]\ttrain's auc: 0.921666\tvalid's auc: 0.798839\n",
"[800]\ttrain's auc: 0.948915\tvalid's auc: 0.816327\n",
"[1000]\ttrain's auc: 0.966221\tvalid's auc: 0.83031\n",
"[1200]\ttrain's auc: 0.977716\tvalid's auc: 0.840318\n",
"[1400]\ttrain's auc: 0.985327\tvalid's auc: 0.848883\n",
"[1600]\ttrain's auc: 0.990555\tvalid's auc: 0.856857\n",
"[1800]\ttrain's auc: 0.993961\tvalid's auc: 0.863083\n",
"[2000]\ttrain's auc: 0.996067\tvalid's auc: 0.867708\n",
"[2200]\ttrain's auc: 0.997479\tvalid's auc: 0.872019\n",
"[2400]\ttrain's auc: 0.998459\tvalid's auc: 0.876237\n",
"[2600]\ttrain's auc: 0.99907\tvalid's auc: 0.880007\n",
"[2800]\ttrain's auc: 0.999443\tvalid's auc: 0.883449\n",
"[3000]\ttrain's auc: 0.999673\tvalid's auc: 0.88611\n",
"[3200]\ttrain's auc: 0.999808\tvalid's auc: 0.888681\n",
"[3400]\ttrain's auc: 0.99989\tvalid's auc: 0.890813\n",
"[3600]\ttrain's auc: 0.999937\tvalid's auc: 0.893125\n",
"[3800]\ttrain's auc: 0.999963\tvalid's auc: 0.894954\n",
"[4000]\ttrain's auc: 0.999978\tvalid's auc: 0.89651\n",
"[4200]\ttrain's auc: 0.99999\tvalid's auc: 0.898063\n",
"[4400]\ttrain's auc: 0.999996\tvalid's auc: 0.899924\n",
"[4600]\ttrain's auc: 0.999998\tvalid's auc: 0.901254\n",
"[4800]\ttrain's auc: 0.999999\tvalid's auc: 0.9029\n",
"[5000]\ttrain's auc: 0.999999\tvalid's auc: 0.903962\n",
"Did not meet early stopping. Best iteration is:\n",
"[5000]\ttrain's auc: 0.999999\tvalid's auc: 0.903962\n",
"0 ROC AUC: 0.903962\n",
"Training until validation scores don't improve for 100 rounds.\n",
"[200]\ttrain's auc: 0.813083\tvalid's auc: 0.742969\n",
"[400]\ttrain's auc: 0.881318\tvalid's auc: 0.779196\n",
"[600]\ttrain's auc: 0.923005\tvalid's auc: 0.801621\n",
"[800]\ttrain's auc: 0.948968\tvalid's auc: 0.816954\n",
"[1000]\ttrain's auc: 0.966869\tvalid's auc: 0.831166\n",
"[1200]\ttrain's auc: 0.977935\tvalid's auc: 0.841265\n",
"[1400]\ttrain's auc: 0.985584\tvalid's auc: 0.850369\n",
"[1600]\ttrain's auc: 0.990785\tvalid's auc: 0.858227\n",
"[1800]\ttrain's auc: 0.994125\tvalid's auc: 0.864121\n",
"[2000]\ttrain's auc: 0.996322\tvalid's auc: 0.869693\n",
"[2200]\ttrain's auc: 0.997681\tvalid's auc: 0.874475\n",
"[2400]\ttrain's auc: 0.998529\tvalid's auc: 0.879525\n",
"[2600]\ttrain's auc: 0.999128\tvalid's auc: 0.882792\n",
"[2800]\ttrain's auc: 0.999463\tvalid's auc: 0.886169\n",
"[3000]\ttrain's auc: 0.999691\tvalid's auc: 0.889308\n",
"[3200]\ttrain's auc: 0.999822\tvalid's auc: 0.891499\n",
"[3400]\ttrain's auc: 0.999894\tvalid's auc: 0.893604\n",
"[3600]\ttrain's auc: 0.999944\tvalid's auc: 0.895312\n",
"[3800]\ttrain's auc: 0.99997\tvalid's auc: 0.896781\n",
"[4000]\ttrain's auc: 0.999984\tvalid's auc: 0.898442\n",
"[4200]\ttrain's auc: 0.999992\tvalid's auc: 0.899719\n",
"[4400]\ttrain's auc: 0.999997\tvalid's auc: 0.901216\n",
"[4600]\ttrain's auc: 0.999999\tvalid's auc: 0.902324\n",
"[4800]\ttrain's auc: 0.999999\tvalid's auc: 0.903461\n",
"[5000]\ttrain's auc: 1\tvalid's auc: 0.904807\n",
"Did not meet early stopping. Best iteration is:\n",
"[4977]\ttrain's auc: 1\tvalid's auc: 0.904636\n",
"1 ROC AUC: 0.904636\n",
"Training until validation scores don't improve for 100 rounds.\n",
"[200]\ttrain's auc: 0.813884\tvalid's auc: 0.736542\n",
"[400]\ttrain's auc: 0.882234\tvalid's auc: 0.771847\n",
"[600]\ttrain's auc: 0.922352\tvalid's auc: 0.795103\n",
"[800]\ttrain's auc: 0.948902\tvalid's auc: 0.811748\n",
"[1000]\ttrain's auc: 0.966661\tvalid's auc: 0.826131\n",
"[1200]\ttrain's auc: 0.97848\tvalid's auc: 0.837003\n",
"[1400]\ttrain's auc: 0.985568\tvalid's auc: 0.845684\n",
"[1600]\ttrain's auc: 0.99064\tvalid's auc: 0.853546\n",
"[1800]\ttrain's auc: 0.994036\tvalid's auc: 0.859776\n",
"[2000]\ttrain's auc: 0.996271\tvalid's auc: 0.864395\n",
"[2200]\ttrain's auc: 0.997667\tvalid's auc: 0.86904\n",
"[2400]\ttrain's auc: 0.998576\tvalid's auc: 0.873714\n",
"[2600]\ttrain's auc: 0.999145\tvalid's auc: 0.876576\n",
"[2800]\ttrain's auc: 0.999461\tvalid's auc: 0.879637\n",
"[3000]\ttrain's auc: 0.999691\tvalid's auc: 0.882235\n",
"[3200]\ttrain's auc: 0.999821\tvalid's auc: 0.88511\n",
"[3400]\ttrain's auc: 0.999899\tvalid's auc: 0.886891\n",
"[3600]\ttrain's auc: 0.999946\tvalid's auc: 0.888623\n",
"[3800]\ttrain's auc: 0.999974\tvalid's auc: 0.890453\n",
"[4000]\ttrain's auc: 0.999986\tvalid's auc: 0.892059\n",
"[4200]\ttrain's auc: 0.999994\tvalid's auc: 0.89329\n",
"[4400]\ttrain's auc: 0.999997\tvalid's auc: 0.894579\n",
"[4600]\ttrain's auc: 0.999999\tvalid's auc: 0.895598\n",
"[4800]\ttrain's auc: 0.999999\tvalid's auc: 0.897022\n",
"[5000]\ttrain's auc: 1\tvalid's auc: 0.898559\n",
"Did not meet early stopping. Best iteration is:\n",
"[4996]\ttrain's auc: 1\tvalid's auc: 0.898516\n",
"2 ROC AUC: 0.898516\n",
"Training until validation scores don't improve for 100 rounds.\n",
"[200]\ttrain's auc: 0.814809\tvalid's auc: 0.74501\n",
"[400]\ttrain's auc: 0.8834\tvalid's auc: 0.779798\n",
"[600]\ttrain's auc: 0.922684\tvalid's auc: 0.802395\n",
"[800]\ttrain's auc: 0.948987\tvalid's auc: 0.819847\n",
"[1000]\ttrain's auc: 0.966216\tvalid's auc: 0.833591\n",
"[1200]\ttrain's auc: 0.977615\tvalid's auc: 0.84306\n",
"[1400]\ttrain's auc: 0.985433\tvalid's auc: 0.851533\n",
"[1600]\ttrain's auc: 0.990602\tvalid's auc: 0.858089\n",
"[1800]\ttrain's auc: 0.994034\tvalid's auc: 0.865122\n",
"[2000]\ttrain's auc: 0.996187\tvalid's auc: 0.870867\n",
"[2200]\ttrain's auc: 0.997613\tvalid's auc: 0.875357\n",
"[2400]\ttrain's auc: 0.998544\tvalid's auc: 0.879341\n",
"[2600]\ttrain's auc: 0.999131\tvalid's auc: 0.883007\n",
"[2800]\ttrain's auc: 0.999474\tvalid's auc: 0.886436\n",
"[3000]\ttrain's auc: 0.999674\tvalid's auc: 0.888888\n",
"[3200]\ttrain's auc: 0.999809\tvalid's auc: 0.891208\n",
"[3400]\ttrain's auc: 0.999885\tvalid's auc: 0.893417\n",
"[3600]\ttrain's auc: 0.999934\tvalid's auc: 0.895481\n",
"[3800]\ttrain's auc: 0.999965\tvalid's auc: 0.897174\n",
"[4000]\ttrain's auc: 0.999981\tvalid's auc: 0.898517\n",
"[4200]\ttrain's auc: 0.99999\tvalid's auc: 0.900496\n",
"[4400]\ttrain's auc: 0.999994\tvalid's auc: 0.902019\n",
"[4600]\ttrain's auc: 0.999997\tvalid's auc: 0.903351\n",
"[4800]\ttrain's auc: 0.999999\tvalid's auc: 0.904903\n",
"[5000]\ttrain's auc: 0.999999\tvalid's auc: 0.905898\n",
"Did not meet early stopping. Best iteration is:\n",
"[4997]\ttrain's auc: 0.999999\tvalid's auc: 0.905871\n",
"3 ROC AUC: 0.905871\n",
"Training until validation scores don't improve for 100 rounds.\n",
"[200]\ttrain's auc: 0.812109\tvalid's auc: 0.743842\n",
"[400]\ttrain's auc: 0.879336\tvalid's auc: 0.776956\n",
"[600]\ttrain's auc: 0.922274\tvalid's auc: 0.801756\n",
"[800]\ttrain's auc: 0.948966\tvalid's auc: 0.817154\n",
"[1000]\ttrain's auc: 0.966693\tvalid's auc: 0.831669\n",
"[1200]\ttrain's auc: 0.977886\tvalid's auc: 0.841895\n",
"[1400]\ttrain's auc: 0.985744\tvalid's auc: 0.851024\n",
"[1600]\ttrain's auc: 0.990634\tvalid's auc: 0.858674\n",
"[1800]\ttrain's auc: 0.993999\tvalid's auc: 0.864456\n",
"[2000]\ttrain's auc: 0.996216\tvalid's auc: 0.86973\n",
"[2200]\ttrain's auc: 0.997589\tvalid's auc: 0.873208\n",
"[2400]\ttrain's auc: 0.998576\tvalid's auc: 0.876994\n",
"[2600]\ttrain's auc: 0.999104\tvalid's auc: 0.880382\n",
"[2800]\ttrain's auc: 0.999462\tvalid's auc: 0.883814\n",
"[3000]\ttrain's auc: 0.999661\tvalid's auc: 0.886834\n",
"[3200]\ttrain's auc: 0.999798\tvalid's auc: 0.88913\n",
"[3400]\ttrain's auc: 0.999886\tvalid's auc: 0.891093\n",
"[3600]\ttrain's auc: 0.999935\tvalid's auc: 0.89317\n",
"[3800]\ttrain's auc: 0.999967\tvalid's auc: 0.895209\n",
"[4000]\ttrain's auc: 0.999983\tvalid's auc: 0.896539\n",
"[4200]\ttrain's auc: 0.999992\tvalid's auc: 0.898305\n",
"[4400]\ttrain's auc: 0.999996\tvalid's auc: 0.899591\n",
"[4600]\ttrain's auc: 0.999998\tvalid's auc: 0.900739\n",
"[4800]\ttrain's auc: 0.999999\tvalid's auc: 0.9019\n",
"[5000]\ttrain's auc: 1\tvalid's auc: 0.903011\n",
"Did not meet early stopping. Best iteration is:\n",
"[4992]\ttrain's auc: 1\tvalid's auc: 0.902978\n",
"4 ROC AUC: 0.902978\n",
"\n",
" FIN ROC AUC: 0.903197\n",
"CPU times: user 22h 39min 51s, sys: 11min, total: 22h 50min 51s\n",
"Wall time: 16min 37s\n"
]
}
],
"source": [
"%%time\n",
"arch = \"lgb\"\n",
"train[arch] = 0\n",
"rounds = 5000\n",
"early_stop_rounds = 100\n",
"\n",
"params = {'objective': 'binary',\n",
"          'boosting_type': 'gbrt',\n",
"          'metric': 'auc',\n",
"          'seed': 18,\n",
"          'max_depth': 7,\n",
"          'leraning_rate': 0.05,\n",
"          'bagging_freq': 3,\n",
"          'bagging_fraction': 0.7,\n",
"          'bagging_seed': 18,\n",
"          'verbose': -1,\n",
"          'n_jobs': -1}\n",
"\n",
"skf = StratifiedKFold(n_splits=5, shuffle=True, random_state=18)\n",
"for i, (train_index, valid_index) in enumerate(skf.split(X, y)):\n",
"    \n",
"    X_train = X[train_index]\n",
"    X_valid = X[valid_index]\n",
"\n",
"    y_train = y[train_index]\n",
"    y_valid = y[valid_index]\n",
"\n",
"    d_train = lgb.Dataset(X_train, y_train)\n",
"    d_valid = lgb.Dataset(X_valid, y_valid)    \n",
"\n",
"    model = lgb.train(params,\n",
"                      d_train,\n",
"                      num_boost_round=rounds,\n",
"                      valid_sets=[d_train, d_valid],\n",
"                      valid_names=['train','valid'],\n",
"                      early_stopping_rounds=early_stop_rounds,\n",
"                      verbose_eval=200) \n",
"\n",
"    y_pred = model.predict(X_valid)\n",
"    train.loc[valid_index, arch] = y_pred\n",
"    print(i, \"ROC AUC:\", round(roc_auc_score(y_valid, y_pred), 6))\n",
"\n",
"test[arch] = model.predict(X_test)\n",
"val[arch]  = model.predict(X_val)\n",
"\n",
"print(\"\\n FIN ROC AUC:\", round(roc_auc_score(y, train[arch]), 6))"
]
},
{
"cell_type": "code",
"execution_count": 12,
"metadata": {
"ExecuteTime": {
"end_time": "2020-03-19T02:41:42.684534Z",
"start_time": "2020-03-19T00:43:54.751476Z"
}
},
"outputs": [
{
"name": "stdout",
"output_type": "stream",
"text": [
"0 ROC AUC: 0.90691\n",
"1 ROC AUC: 0.908611\n",
"2 ROC AUC: 0.90018\n",
"3 ROC AUC: 0.907115\n",
"4 ROC AUC: 0.906808\n",
"\n",
" FIN ROC AUC: 0.905937\n",
"CPU times: user 6d 14h 22min 46s, sys: 28min 49s, total: 6d 14h 51min 35s\n",
"Wall time: 1h 57min 47s\n"
]
}
],
"source": [
"%%time\n",
"arch = \"cat\"\n",
"train[arch] = 0\n",
"iters = 5000\n",
"early_stop_rounds = 100\n",
"\n",
"params = {'iterations': iters,\n",
"          'loss_function': 'Logloss',\n",
"          'eval_metric':'AUC',\n",
"          'random_seed': 18,\n",
"          'learning_rate': 0.05,\n",
"          'depth': 8}\n",
"\n",
"skf = StratifiedKFold(n_splits=5, shuffle=True, random_state=18)\n",
"for i, (train_index, valid_index) in enumerate(skf.split(X, y)):\n",
"    \n",
"    X_train = X[train_index]\n",
"    X_valid = X[valid_index]\n",
"\n",
"    y_train = y[train_index]\n",
"    y_valid = y[valid_index]\n",
"    \n",
"    trn_data = Pool(X_train, y_train)\n",
"    val_data = Pool(X_valid, y_valid)\n",
"    \n",
"    clf = CatBoostClassifier(**params)\n",
"    clf.fit(trn_data,\n",
"            eval_set=val_data,\n",
"            use_best_model=True,\n",
"            early_stopping_rounds=early_stop_rounds,\n",
"            verbose=0)\n",
"    \n",
"    y_pred = clf.predict_proba(X_valid)[:, 1]\n",
"    train.loc[valid_index, arch] = y_pred\n",
"    print(i, \"ROC AUC:\", round(roc_auc_score(y_valid, y_pred), 6))\n",
"\n",
"test[arch] = clf.predict_proba(X_test)[:,1]\n",
"val[arch]  = clf.predict_proba(X_val)[:, 1]\n",
"\n",
"print(\"\\n FIN ROC AUC:\", round(roc_auc_score(y, train[arch]), 6))\n"
]
},
{
"cell_type": "code",
"execution_count": 13,
"metadata": {
"ExecuteTime": {
"end_time": "2020-03-19T02:41:42.704061Z",
"start_time": "2020-03-19T02:41:42.686518Z"
}
},
"outputs": [
{
"data": {
"text/html": [
"<div>\n",
"<style scoped>\n",
"    .dataframe tbody tr th:only-of-type {\n",
"        vertical-align: middle;\n",
"    }\n",
"\n",
"    .dataframe tbody tr th {\n",
"        vertical-align: top;\n",
"    }\n",
"\n",
"    .dataframe thead th {\n",
"        text-align: right;\n",
"    }\n",
"</style>\n",
"<table border=\"1\" class=\"dataframe\">\n",
"  <thead>\n",
"    <tr style=\"text-align: right;\">\n",
"      <th></th>\n",
"      <th>cat</th>\n",
"      <th>random_forest</th>\n",
"      <th>lgb</th>\n",
"    </tr>\n",
"  </thead>\n",
"  <tbody>\n",
"    <tr>\n",
"      <th>cat</th>\n",
"      <td>1.000000</td>\n",
"      <td>0.893267</td>\n",
"      <td>0.928884</td>\n",
"    </tr>\n",
"    <tr>\n",
"      <th>random_forest</th>\n",
"      <td>0.893267</td>\n",
"      <td>1.000000</td>\n",
"      <td>0.889688</td>\n",
"    </tr>\n",
"    <tr>\n",
"      <th>lgb</th>\n",
"      <td>0.928884</td>\n",
"      <td>0.889688</td>\n",
"      <td>1.000000</td>\n",
"    </tr>\n",
"  </tbody>\n",
"</table>\n",
"</div>"
],
"text/plain": [
"                    cat  random_forest       lgb\n",
"cat            1.000000       0.893267  0.928884\n",
"random_forest  0.893267       1.000000  0.889688\n",
"lgb            0.928884       0.889688  1.000000"
]
},
"execution_count": 13,
"metadata": {},
"output_type": "execute_result"
}
],
"source": [
"models = [\"cat\", \"random_forest\", \"lgb\"]\n",
"\n",
"train[models].corr()"
]
},
{
"cell_type": "code",
"execution_count": 14,
"metadata": {
"ExecuteTime": {
"end_time": "2020-03-19T02:42:20.968873Z",
"start_time": "2020-03-19T02:41:42.705706Z"
}
},
"outputs": [
{
"name": "stdout",
"output_type": "stream",
"text": [
"0 ROC AUC: 0.9322\n",
"1 ROC AUC: 0.93371\n",
"2 ROC AUC: 0.92592\n",
"3 ROC AUC: 0.93314\n",
"4 ROC AUC: 0.93312\n",
"\n",
" FIN ROC AUC: 0.9316\n",
"CPU times: user 8.11 s, sys: 1min 1s, total: 1min 9s\n",
"Wall time: 38.3 s\n"
]
}
],
"source": [
"%%time\n",
"arch = \"stack\"\n",
"train[arch] = 0\n",
"\n",
"skf = StratifiedKFold(n_splits=5, shuffle=True, random_state=18)\n",
"for i, (train_index, valid_index) in enumerate(skf.split(X, y)):\n",
"    \n",
"    X_train = train.loc[train_index, models]\n",
"    X_valid = train.loc[valid_index, models]\n",
"\n",
"    y_train = y[train_index]\n",
"    y_valid = y[valid_index]\n",
"    \n",
"    reg = LogisticRegression(C=1,\n",
"                             solver=\"newton-cg\", \n",
"                             penalty=\"l2\", \n",
"                             n_jobs=-1, \n",
"                             max_iter=100).fit(X_train, y_train) \n",
"    \n",
"    y_pred = reg.predict_proba(X_valid)[:,1]\n",
"    train.loc[valid_index, arch] = y_pred\n",
"    print(i, \"ROC AUC:\", round(roc_auc_score(y_valid, y_pred), 5))\n",
"    \n",
"test[arch] = reg.predict_proba(test[models])[:, 1]\n",
"val[arch]  = reg.predict_proba(val[models])[:, 1]\n",
"\n",
"print(\"\\n FIN ROC AUC:\", round(roc_auc_score(y, train[arch]), 5))"
]
},
{
"cell_type": "code",
"execution_count": 15,
"metadata": {
"ExecuteTime": {
"end_time": "2020-03-19T02:42:20.976759Z",
"start_time": "2020-03-19T02:42:20.971157Z"
}
},
"outputs": [
{
"name": "stdout",
"output_type": "stream",
"text": [
"model coefs: [11.40791107 78.05467384 10.53741509]\n"
]
}
],
"source": [
"print('model coefs:', reg.coef_[0] / np.sum(reg.coef_[0]) * 100)"
]
},
{
"cell_type": "code",
"execution_count": 16,
"metadata": {
"ExecuteTime": {
"end_time": "2020-03-19T02:42:20.995875Z",
"start_time": "2020-03-19T02:42:20.978416Z"
}
},
"outputs": [
{
"name": "stdout",
"output_type": "stream",
"text": [
"val score: 0.931511\n"
]
}
],
"source": [
"print('val score:', round(roc_auc_score(y_val, val['stack']), 6))"
]
},
{
"cell_type": "code",
"execution_count": 17,
"metadata": {
"ExecuteTime": {
"end_time": "2020-03-19T02:42:21.023487Z",
"start_time": "2020-03-19T02:42:20.998409Z"
}
},
"outputs": [
{
"data": {
"text/html": [
"<div>\n",
"<style scoped>\n",
"    .dataframe tbody tr th:only-of-type {\n",
"        vertical-align: middle;\n",
"    }\n",
"\n",
"    .dataframe tbody tr th {\n",
"        vertical-align: top;\n",
"    }\n",
"\n",
"    .dataframe thead th {\n",
"        text-align: right;\n",
"    }\n",
"</style>\n",
"<table border=\"1\" class=\"dataframe\">\n",
"  <thead>\n",
"    <tr style=\"text-align: right;\">\n",
"      <th></th>\n",
"      <th>email</th>\n",
"      <th>prediction</th>\n",
"    </tr>\n",
"  </thead>\n",
"  <tbody>\n",
"    <tr>\n",
"      <th>0</th>\n",
"      <td>e98a93bfc7</td>\n",
"      <td>0.121071</td>\n",
"    </tr>\n",
"    <tr>\n",
"      <th>1</th>\n",
"      <td>d813ccb3f5</td>\n",
"      <td>0.653664</td>\n",
"    </tr>\n",
"    <tr>\n",
"      <th>2</th>\n",
"      <td>3d07a90a91</td>\n",
"      <td>0.352418</td>\n",
"    </tr>\n",
"    <tr>\n",
"      <th>3</th>\n",
"      <td>5791e966d8</td>\n",
"      <td>0.192841</td>\n",
"    </tr>\n",
"    <tr>\n",
"      <th>4</th>\n",
"      <td>d982336d49</td>\n",
"      <td>0.185631</td>\n",
"    </tr>\n",
"  </tbody>\n",
"</table>\n",
"</div>"
],
"text/plain": [
"        email  prediction\n",
"0  e98a93bfc7    0.121071\n",
"1  d813ccb3f5    0.653664\n",
"2  3d07a90a91    0.352418\n",
"3  5791e966d8    0.192841\n",
"4  d982336d49    0.185631"
]
},
"execution_count": 17,
"metadata": {},
"output_type": "execute_result"
}
],
"source": [
"submit = pd.read_csv('data/test_submit_example.csv')\n",
"submit['prediction'] = test['stack']\n",
"submit.head()"
]
},
{
"cell_type": "code",
"execution_count": 18,
"metadata": {
"ExecuteTime": {
"end_time": "2020-03-19T02:42:21.506871Z",
"start_time": "2020-03-19T02:42:21.026014Z"
}
},
"outputs": [],
"source": [
"submit.to_csv('data/submission.csv')"
]
}
],
"metadata": {
"hide_input": false,
"kernelspec": {
"display_name": "Python 3",
"language": "python",
"name": "python3"
},
"language_info": {
"codemirror_mode": {
"name": "ipython",
"version": 3
},
"file_extension": ".py",
"mimetype": "text/x-python",
"name": "python",
"nbconvert_exporter": "python",
"pygments_lexer": "ipython3",
"version": "3.6.9"
}
},
"nbformat": 4,
"nbformat_minor": 2
}
