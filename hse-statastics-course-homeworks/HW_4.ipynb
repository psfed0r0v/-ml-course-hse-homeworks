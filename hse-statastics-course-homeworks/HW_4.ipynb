{
 "cells": [
  {
   "cell_type": "markdown",
   "metadata": {
    "colab_type": "text",
    "id": "__WyUgiv9XSm"
   },
   "source": [
    "$$ \\huge{Домашнее \\space задание \\space № \\space 4}$$\n",
    "\n",
    "\n",
    "$$\\large{Федоров \\space Павел\\space Сергеевич \\space 172}$$\n",
    "\n",
    "$$Прикладная \\space статистика \\space в \\space машинном \\space обучении$$"
   ]
  },
  {
   "cell_type": "code",
   "execution_count": 1,
   "metadata": {
    "colab": {},
    "colab_type": "code",
    "id": "bEhSgRXLbQCj"
   },
   "outputs": [],
   "source": [
    "import numpy as np\n",
    "import pandas as pd\n",
    "\n",
    "import seaborn as sns\n",
    "import matplotlib.pyplot as plt\n",
    "sns.set(style=\"darkgrid\")"
   ]
  },
  {
   "cell_type": "markdown",
   "metadata": {
    "colab_type": "text",
    "id": "rst3vqBc9tiQ"
   },
   "source": [
    "## Задание 2\n",
    "\n",
    "Пусть $T_n=\\bar{X}_n^2, \\mu=E(X_1), \\alpha_k=\\int{(x-\\mu)^k}dF(x)$ и $\\hat{\\alpha}_k=\\frac{1}{n}\\sum_{i=1}^{n}{(X_i-\\bar{X}_n)^k}$. Докажите, что оценка дисперсии функционала $T_n$ с помощью бустрепа равна:\n",
    "\n",
    "$$v_{boot}=\\frac{4 \\bar{X}_n^2 \\hat{\\alpha}_2}{n}+\\frac{4 \\bar{X}_n \\hat{\\alpha}_3}{n^2} + \\frac{\\hat{\\alpha}_4}{n^3} + \\frac{\\hat{\\alpha}_2^2(2n-3)}{n^3}$$"
   ]
  },
  {
   "cell_type": "markdown",
   "metadata": {
    "colab_type": "text",
    "id": "SEaR4OGZBfq_"
   },
   "source": [
    "Пусть \n",
    "$$S_n = \\frac{1}{n}\\sum_{i=1}^{n}{(X_i-\\bar{X}_n)} = 0$$\n",
    "тогда:\n",
    "\n",
    "$$\\bar{X_n} = S_n + \\bar{X}_n = \\frac{1}{n}\\sum_{i=1}^{n}{(X_i-\\bar{X}_n)} + \\bar{X}_n $$\n",
    "\n",
    "$$Var(\\bar{X}_n^2) = E(\\bar{X}_n^4) - (E(\\bar{X}_n^2))^2$$\n",
    "\n",
    "$$E(\\bar{X}_n^4) = E(S_n+ \\bar{X}_n)^4 = E(S_n^4 + 4\\bar{X}_nS_n^3 + 6\\bar{X}_n^2 S_n^2 + 4\\bar{X}_n^3 S_n + \\bar{X}_n^4) \\rightarrow $$ $$E(S_n^4) + 4\\bar{X}_nE(S_n^3) + 6\\bar{X}_n^2 E(S_n^2) +\\bar{X}_n^4$$\n",
    "\n",
    "\n",
    "$$E(S_n^4) = E(\\frac{1}{n^4}(\\sum_{i=1}^{n}{(X_i-\\bar{X}_n)^4} + \\sum\\sum(X_i-\\bar{X}_n)^2(X_j-\\bar{X}_n)^2)) =$$\n",
    "$$=\\frac{\\hat{\\alpha}_4}{n^3} + \\frac{\\hat{\\alpha}_2^2 3(n-1)}{n^3}$$\n",
    "\n",
    "$$E(S_n^3)=\\frac{1}{n^3}\\sum_{i=1}^{n}{(X_i-\\bar{X}_n)^3} = \\frac{\\hat{\\alpha}_3}{n^2} $$\n",
    "\n",
    "$$E(S_n^2)=\\frac{1}{n^2}\\sum_{i=1}^{n}{(X_i-\\bar{X}_n)^2} = \\frac{\\hat{\\alpha}_2}{n} $$\n",
    "\n",
    "Следовательно:\n",
    "\n",
    "$$Var(\\bar{X}_n^2) = \\frac{4 \\bar{X}_n^2 \\hat{\\alpha}_2}{n}+\\frac{4 \\bar{X}_n \\hat{\\alpha}_3}{n^2} + \\frac{\\hat{\\alpha}_4}{n^3} + \\frac{\\hat{\\alpha}_2^2(2n-3)}{n^3}$$"
   ]
  },
  {
   "cell_type": "markdown",
   "metadata": {
    "colab_type": "text",
    "id": "SIEj5sat9tsO"
   },
   "source": [
    "## Задание 3"
   ]
  },
  {
   "cell_type": "markdown",
   "metadata": {
    "colab_type": "text",
    "id": "peQVSpkKVOAU"
   },
   "source": [
    "Пусть есть выборка из 11 элементов: $$x_1<x_2<x_3<x_4<x_5<x_6<x_7<x_8<x_9<x_{10}<x_{11}$$ Оцениваемая статистика $\\theta$ - медиана.\n",
    "\n",
    "1) Покажите, что для оценки $\\hat{\\theta}$ по бутстрепной выборке верно следующее:\n",
    "\n",
    "$$P(\\hat{\\theta}>x_i)=\\sum_{j=0}^{5}Bi(j,n,\\frac{i}{n}),$$\n",
    "\n",
    "где $Bi(j,n,\\frac{i}{n}) = C_n^jp^j(1-p)^{n-j}$.\n",
    "\n",
    "$P(\\hat{\\theta}>x_i)$ - вероятность того, что в бутстреп выборку попало не больше 5 элементов $x_{k}$. Вероятность можно переписать как вероятность появления пяти успехов в схемме бернулли из n экспериментов, где шанс успеха равен $\\frac{i}{n}$. Тогда\n",
    "\n",
    "$$P(\\hat{\\theta}>x_i)= C_n^jp^j(1-p)^{n-j}$$\n",
    "\n",
    "2) Покажите, что оценка $\\hat{\\theta}$ по  бутстрепной выборке равно $x_i$ с вероятностью:\n",
    "\n",
    "$$P(\\hat{\\theta} = x_i) = \\sum_{j=0}^{5}(Bi(j,n,\\frac{i-1}{n})-Bi(j,n,\\frac{i}{n}))$$\n",
    "\n",
    "Так как неравество уже строгое, вместо $\\frac{i}{n}$Б, вероятность выбрать нужный элемент будет равна $\\frac{i-1}{n}$\n",
    "\n",
    "$$P(\\hat{\\theta} = x_i) = \\sum_{j=0}^{5}(Bi(j,n,\\frac{i-1}{n})-Bi(j,n,\\frac{i}{n})) = P(\\hat{\\theta}>x_{i-1})-P(\\hat{\\theta}>x_{i})=$$\n",
    "\n",
    "$$=1 - P(\\hat{\\theta}\\leq x_{i-1})-1 +P(\\hat{\\theta}\\leq x_{i}) = P(\\hat{\\theta}\\leq x_{i})-P(\\hat{\\theta} \\leq x_{i-1})=$$\n",
    "\n",
    "$$=P(\\hat{\\theta} \\in (x_{i-1}, x_i) = P(\\hat{\\theta}=x_i)$$\n",
    "\n",
    "\n",
    "3) Используя результат пункта 1 выведите 90% бутстрепный доверительный интервал для медианы.\n"
   ]
  },
  {
   "cell_type": "code",
   "execution_count": 2,
   "metadata": {
    "colab": {
     "base_uri": "https://localhost:8080/",
     "height": 131
    },
    "colab_type": "code",
    "id": "P6EBkg5NbdOQ",
    "outputId": "f0ba01a0-bb02-438a-95f0-9284c06b77eb"
   },
   "outputs": [
    {
     "name": "stdout",
     "output_type": "stream",
     "text": [
      "[1, 8] - probability = 0.9487534039820792\n",
      "[2, 8] - probability = 0.9485793115206891\n",
      "[3, 8] - probability = 0.9415462861954275\n",
      "[4, 8] - probability = 0.897506807964159\n",
      "[4, 9] - probability = 0.9415462861954277\n",
      "[4, 10] - probability = 0.9485793115206897\n",
      "[4, 11] - probability = 0.9487534039820799\n"
     ]
    }
   ],
   "source": [
    "from scipy.stats import binom\n",
    "\n",
    "def bern_sum(i):\n",
    "    tmp = []\n",
    "    for j in range(6):\n",
    "        tmp.append(binom.pmf(j, 11, i / 11))\n",
    "\n",
    "    return np.sum(tmp)\n",
    "\n",
    "def prob_int(x1, x2):\n",
    "    l = bern_sum(x1)\n",
    "    h = bern_sum(x2)\n",
    "    prob = bern_sum(x1 - 1) - l\n",
    "    \n",
    "    return l + prob - h\n",
    "\n",
    "for i in range(1, 12):\n",
    "    for j in range(i + 1, 12):\n",
    "        prob = prob_int(i, j)\n",
    "        if prob >= 0.89 and prob <= 0.95:\n",
    "            print('[{}, {}] - probability = {}'.format(i, j, prob))"
   ]
  },
  {
   "cell_type": "markdown",
   "metadata": {
    "colab_type": "text",
    "id": "W3mVikEUdmyO"
   },
   "source": [
    "Лучше всего подходят [3, 8], [4, 8] и [4, 9]"
   ]
  },
  {
   "cell_type": "markdown",
   "metadata": {},
   "source": [
    "## Задание 4"
   ]
  },
  {
   "cell_type": "markdown",
   "metadata": {
    "colab_type": "text",
    "id": "ekf98dZr9ty2"
   },
   "source": [
    "Рассмотрим данные, описывающие скорости 82 галактик из созвездия Северной Короны. Мы хотим узнать, есть ли пустоты или суперкластеры в данной части вселенной. Одним из свидетельств является мельтимодальность распределения скоростей галактик. Другими словами, нам необходимо проверить гипотезу унимодальности расперделение т.е.:\n",
    "\n",
    "$$H_0: n_{mode}(p)=1  vs  H_a: n_{mode}(p)>1$$\n",
    "\n",
    "Плотность распределения будем оценивать непараметрическим ядерным методом:\n",
    "\n",
    "$$\\hat{p}_{K,h}(x)=\\frac{1}{nh}\\sum_{i=1}^{n}K(\\frac{x-X_i}{h})$$\n",
    "\n",
    "a) По данными найдите минимальное $\\hat{h}_{uni}$, при котором распределение еще унимодально.\n",
    "Найденнная $\\hat{h}_{uni}$ является оценкой по данным для реальной $h_{uni}$. Если окажется, что $h_{uni}>\\hat{h}_{uni}$, то это значит, что в реальности мод больше одной. Т.е. нулевая гипотеза отвергается на уровне значимости $\\alpha$:\n",
    "\n",
    "$$P(multimodal)=P(h_{uni}>\\hat{h}_{uni})\\leq\\alpha$$"
   ]
  },
  {
   "cell_type": "code",
   "execution_count": 4,
   "metadata": {
    "colab": {},
    "colab_type": "code",
    "id": "VibLNDw0X3Ld"
   },
   "outputs": [
    {
     "data": {
      "text/html": [
       "<div>\n",
       "<style scoped>\n",
       "    .dataframe tbody tr th:only-of-type {\n",
       "        vertical-align: middle;\n",
       "    }\n",
       "\n",
       "    .dataframe tbody tr th {\n",
       "        vertical-align: top;\n",
       "    }\n",
       "\n",
       "    .dataframe thead th {\n",
       "        text-align: right;\n",
       "    }\n",
       "</style>\n",
       "<table border=\"1\" class=\"dataframe\">\n",
       "  <thead>\n",
       "    <tr style=\"text-align: right;\">\n",
       "      <th></th>\n",
       "      <th>dat</th>\n",
       "    </tr>\n",
       "  </thead>\n",
       "  <tbody>\n",
       "    <tr>\n",
       "      <th>1</th>\n",
       "      <td>9172</td>\n",
       "    </tr>\n",
       "    <tr>\n",
       "      <th>2</th>\n",
       "      <td>9350</td>\n",
       "    </tr>\n",
       "    <tr>\n",
       "      <th>3</th>\n",
       "      <td>9483</td>\n",
       "    </tr>\n",
       "    <tr>\n",
       "      <th>4</th>\n",
       "      <td>9558</td>\n",
       "    </tr>\n",
       "    <tr>\n",
       "      <th>5</th>\n",
       "      <td>9775</td>\n",
       "    </tr>\n",
       "  </tbody>\n",
       "</table>\n",
       "</div>"
      ],
      "text/plain": [
       "    dat\n",
       "1  9172\n",
       "2  9350\n",
       "3  9483\n",
       "4  9558\n",
       "5  9775"
      ]
     },
     "execution_count": 4,
     "metadata": {},
     "output_type": "execute_result"
    }
   ],
   "source": [
    "galaxies = pd.read_csv('galaxies.csv', index_col=0)\n",
    "galaxies.head()"
   ]
  },
  {
   "cell_type": "code",
   "execution_count": 5,
   "metadata": {},
   "outputs": [
    {
     "data": {
      "text/plain": [
       "count       82.000000\n",
       "mean     20828.170732\n",
       "std       4563.757994\n",
       "min       9172.000000\n",
       "25%      19532.000000\n",
       "50%      20833.500000\n",
       "75%      23133.000000\n",
       "max      34279.000000\n",
       "Name: dat, dtype: float64"
      ]
     },
     "execution_count": 5,
     "metadata": {},
     "output_type": "execute_result"
    }
   ],
   "source": [
    "galaxies['dat'].describe()"
   ]
  },
  {
   "cell_type": "code",
   "execution_count": 17,
   "metadata": {},
   "outputs": [],
   "source": [
    "galaxies = galaxies.dat"
   ]
  },
  {
   "cell_type": "code",
   "execution_count": 94,
   "metadata": {
    "colab": {
     "base_uri": "https://localhost:8080/",
     "height": 33
    },
    "colab_type": "code",
    "id": "xK2ivPW8lCDq",
    "outputId": "b1930eab-1f79-4233-be97-5b0f7b697d8e"
   },
   "outputs": [
    {
     "name": "stdout",
     "output_type": "stream",
     "text": [
      "h_min = 3045.869731903076\n"
     ]
    }
   ],
   "source": [
    "def dens(data, x, h):\n",
    "    return (np.exp(-((x - data) / h) ** 2 / 2 ) / np.sqrt(2 * np.pi)).sum() / (data.shape[0] * h) \n",
    "\n",
    "xs = np.linspace(2000, 50000, 1000)\n",
    "\n",
    "def is_unimodal(data, h):\n",
    "    p = np.array([dens(data, x, h) for x in xs])\n",
    "    cnt = 0\n",
    "    \n",
    "    for i in range(len(p) - 2):\n",
    "        if p[i - 1] < p[i] and p[i] > p[i + 1]:\n",
    "            cnt += 1\n",
    "    if cnt == 1:\n",
    "        return True\n",
    "    return False\n",
    "        \n",
    "def h_uni_min(data):    \n",
    "    h_left = 100\n",
    "    h_right = 10000\n",
    "    h_min = 0\n",
    "\n",
    "    while h_right - h_left > 0.01:\n",
    "        h_min = (h_left + h_right) / 2\n",
    "        if is_unimodal(data, h_min):\n",
    "            h_right = h_min\n",
    "        else:\n",
    "            h_left = h_min\n",
    "    return h_min\n",
    "\n",
    "h_uni = h_uni_min(galaxies.values)\n",
    "print('h_min = {}'.format(h_uni))"
   ]
  },
  {
   "cell_type": "markdown",
   "metadata": {
    "colab_type": "text",
    "id": "LpGzu7F77vge"
   },
   "source": [
    "b) Используя бутстреп оцените следующую величину:\n",
    "\n",
    "$$\\hat{P}(h_{uni}>\\hat{h}_{uni}) \\approx \\frac{1}{B}\\sum_{b=1}^B(\\hat{h}_{uni}^b \\geq \\hat{h}_{uni})$$\n",
    "\n",
    "Сэмплирование делайте из $\\hat{p}_{K,\\hat{h}_{uni}}(x)$, т.е. $X^* \\sim X +\\hat{h}_{uni}N(0,1)$, где $X$ - случайный элемент изначальной выборки. \n"
   ]
  },
  {
   "cell_type": "code",
   "execution_count": 95,
   "metadata": {
    "colab": {
     "base_uri": "https://localhost:8080/",
     "height": 361
    },
    "colab_type": "code",
    "id": "b_Xgkmp_-Hu_",
    "outputId": "58227875-c886-470f-96b1-a3b2b34aab2f",
    "scrolled": true
   },
   "outputs": [
    {
     "name": "stdout",
     "output_type": "stream",
     "text": [
      "P(h_uni > hat_h_uni) = 0.984\n"
     ]
    }
   ],
   "source": [
    "from sklearn.utils import resample\n",
    "import scipy\n",
    "from scipy.stats import norm\n",
    "\n",
    "count = 0\n",
    "n = 500\n",
    "\n",
    "b = np.sqrt(np.var(galaxies) / (np.var(galaxies) + h_uni ** 2))\n",
    "a = (1 - b) * galaxies.mean()\n",
    "\n",
    "for b in range(n):\n",
    "    boot = resample(galaxies.astype(float).values)\n",
    "    \n",
    "    boot += norm.rvs(size=galaxies.shape[0]) * h_uni\n",
    "    boot = b * boot + a\n",
    "    \n",
    "    count += (h_uni_min(boot) > h_uni)\n",
    "\n",
    "print('P(h_uni > hat_h_uni) = {}'.format(count / n))"
   ]
  },
  {
   "cell_type": "markdown",
   "metadata": {
    "colab_type": "text",
    "id": "5KLy6vUm9hOJ"
   },
   "source": [
    "c) С каким уровнем значимости отвергается нулевая гипотеза?"
   ]
  },
  {
   "cell_type": "markdown",
   "metadata": {
    "colab_type": "text",
    "id": "rGbA2aSh8jgA"
   },
   "source": [
    "**Ответ:** из пункта выше"
   ]
  },
  {
   "cell_type": "markdown",
   "metadata": {
    "colab_type": "text",
    "id": "KayeyYmo9t4r"
   },
   "source": [
    "## Задание 5"
   ]
  },
  {
   "cell_type": "markdown",
   "metadata": {
    "colab_type": "text",
    "id": "X7Brx6A9kpJv"
   },
   "source": [
    "Датасет CD4 содержит информацию о 20 ВИЧ-инфецированных пациентах до и после года лечения на экспериментальном антивирусном лекарстве.\n",
    "\n",
    "а) Для коэффициента корреляции Пирсона между данными до и после лечения посчитайте 95% доверительный интервал следующими методами: нормальный, перцентильный, центральный и t-бутстрап."
   ]
  },
  {
   "cell_type": "code",
   "execution_count": 20,
   "metadata": {
    "colab": {},
    "colab_type": "code",
    "id": "gYn-BXfj-16n"
   },
   "outputs": [
    {
     "data": {
      "text/html": [
       "<div>\n",
       "<style scoped>\n",
       "    .dataframe tbody tr th:only-of-type {\n",
       "        vertical-align: middle;\n",
       "    }\n",
       "\n",
       "    .dataframe tbody tr th {\n",
       "        vertical-align: top;\n",
       "    }\n",
       "\n",
       "    .dataframe thead th {\n",
       "        text-align: right;\n",
       "    }\n",
       "</style>\n",
       "<table border=\"1\" class=\"dataframe\">\n",
       "  <thead>\n",
       "    <tr style=\"text-align: right;\">\n",
       "      <th></th>\n",
       "      <th>baseline</th>\n",
       "      <th>oneyear</th>\n",
       "    </tr>\n",
       "  </thead>\n",
       "  <tbody>\n",
       "    <tr>\n",
       "      <th>1</th>\n",
       "      <td>2.12</td>\n",
       "      <td>2.47</td>\n",
       "    </tr>\n",
       "    <tr>\n",
       "      <th>2</th>\n",
       "      <td>4.35</td>\n",
       "      <td>4.61</td>\n",
       "    </tr>\n",
       "    <tr>\n",
       "      <th>3</th>\n",
       "      <td>3.39</td>\n",
       "      <td>5.26</td>\n",
       "    </tr>\n",
       "    <tr>\n",
       "      <th>4</th>\n",
       "      <td>2.51</td>\n",
       "      <td>3.02</td>\n",
       "    </tr>\n",
       "    <tr>\n",
       "      <th>5</th>\n",
       "      <td>4.04</td>\n",
       "      <td>6.36</td>\n",
       "    </tr>\n",
       "  </tbody>\n",
       "</table>\n",
       "</div>"
      ],
      "text/plain": [
       "   baseline  oneyear\n",
       "1      2.12     2.47\n",
       "2      4.35     4.61\n",
       "3      3.39     5.26\n",
       "4      2.51     3.02\n",
       "5      4.04     6.36"
      ]
     },
     "execution_count": 20,
     "metadata": {},
     "output_type": "execute_result"
    }
   ],
   "source": [
    "cd4 = pd.read_csv('cd4.csv', index_col = 0)\n",
    "cd4.head()"
   ]
  },
  {
   "cell_type": "code",
   "execution_count": 21,
   "metadata": {
    "colab": {},
    "colab_type": "code",
    "id": "gRrov-uI_IG5"
   },
   "outputs": [],
   "source": [
    "coefs = []\n",
    "for i in range(cd4.shape[0]):\n",
    "    sample = resample(cd4.values)\n",
    "    coefs.append(np.corrcoef(sample[:, 0], sample[:, 1])[0][1])"
   ]
  },
  {
   "cell_type": "code",
   "execution_count": 22,
   "metadata": {},
   "outputs": [],
   "source": [
    "pearson = np.corrcoef(cd4['baseline'], cd4['oneyear'])[0][1]"
   ]
  },
  {
   "cell_type": "code",
   "execution_count": 23,
   "metadata": {
    "colab": {},
    "colab_type": "code",
    "id": "ro0qyauB_9mQ"
   },
   "outputs": [
    {
     "name": "stdout",
     "output_type": "stream",
     "text": [
      "Доверительный интервал для нормального: [0.6753407850033724;0.7709899507806881]\n"
     ]
    }
   ],
   "source": [
    "left = pearson - norm.interval(0.95 / 2)[1] * np.std(coefs)\n",
    "right = pearson + norm.interval(0.95 / 2)[1] * np.std(coefs)\n",
    "print('Доверительный интервал для нормального: [{};{}]'.format(left, right))"
   ]
  },
  {
   "cell_type": "code",
   "execution_count": 24,
   "metadata": {},
   "outputs": [
    {
     "name": "stdout",
     "output_type": "stream",
     "text": [
      "Для перцентильного: [0.5758480803018922;0.7075074544270662]\n"
     ]
    }
   ],
   "source": [
    "left = np.percentile(coefs, 0.05 / 2  * 100)\n",
    "right = np.percentile(coefs, 0.95 / 2 * 100)\n",
    "print('Для перцентильного: [{};{}]'.format(left, right))\n"
   ]
  },
  {
   "cell_type": "code",
   "execution_count": 25,
   "metadata": {},
   "outputs": [
    {
     "name": "stdout",
     "output_type": "stream",
     "text": [
      "Для центрального: [0.7388232813569943;0.8704826554821683]\n"
     ]
    }
   ],
   "source": [
    "left = 2 * pearson - np.percentile(coefs, 0.95 / 2 * 100)\n",
    "right  = 2 * pearson - np.percentile(coefs, 0.05 / 2  * 100)\n",
    "print('Для центрального: [{};{}]'.format(left, right))"
   ]
  },
  {
   "cell_type": "code",
   "execution_count": 26,
   "metadata": {},
   "outputs": [
    {
     "name": "stdout",
     "output_type": "stream",
     "text": [
      "Для t-bootstrap: [0.6079876534983778;0.6294209623566092]\n"
     ]
    }
   ],
   "source": [
    "left = pearson - np.sqrt((1 - pearson ** 2) / (cd4.shape[0] - 2)) * np.percentile(coefs, 0.95 / 2 * 100)\n",
    "right = pearson - np.sqrt((1 - pearson ** 2) / (cd4.shape[0] - 2)) * np.percentile(coefs, 0.05 / 2  * 100)\n",
    "print('Для t-bootstrap: [{};{}]'.format(left, right))"
   ]
  },
  {
   "cell_type": "markdown",
   "metadata": {},
   "source": [
    "Теперь сделаем преобразование"
   ]
  },
  {
   "cell_type": "code",
   "execution_count": 27,
   "metadata": {
    "colab": {},
    "colab_type": "code",
    "id": "LV3h6ry6DyQL"
   },
   "outputs": [],
   "source": [
    "coefs = np.array(coefs)\n",
    "coefs = 1 / 2 * np.log((1 + coefs) / (1 - coefs))"
   ]
  },
  {
   "cell_type": "code",
   "execution_count": 28,
   "metadata": {},
   "outputs": [
    {
     "name": "stdout",
     "output_type": "stream",
     "text": [
      "Доверительный интервал с преобразованием для нормального: [0.6276872430552232;0.8186434927288373]\n"
     ]
    }
   ],
   "source": [
    "left = pearson - norm.interval(0.95 / 2)[1] * np.std(coefs)\n",
    "right = pearson + norm.interval(0.95 / 2)[1] * np.std(coefs)\n",
    "print('Доверительный интервал с преобразованием для нормального: [{};{}]'.format(left, right))"
   ]
  },
  {
   "cell_type": "code",
   "execution_count": 29,
   "metadata": {},
   "outputs": [
    {
     "name": "stdout",
     "output_type": "stream",
     "text": [
      "Для перцентильного: [0.6569785473396776;1.1194696109930868]\n"
     ]
    }
   ],
   "source": [
    "left = np.percentile(coefs, (0.05) / 2  * 100)\n",
    "right = np.percentile(coefs, (1 - (0.05) / 2) * 100)\n",
    "print('Для перцентильного: [{};{}]'.format(left, right))"
   ]
  },
  {
   "cell_type": "code",
   "execution_count": 30,
   "metadata": {},
   "outputs": [
    {
     "name": "stdout",
     "output_type": "stream",
     "text": [
      "Для центрального: [0.3268611247909736;0.7893521884443828]\n"
     ]
    }
   ],
   "source": [
    "left = 2 * pearson - np.percentile(coefs, (1 - (0.05) / 2) * 100)\n",
    "right = 2 * pearson - np.percentile(coefs, (0.05) / 2  * 100)\n",
    "print('Для центрального: [{};{}]'.format(left, right))"
   ]
  },
  {
   "cell_type": "code",
   "execution_count": 31,
   "metadata": {},
   "outputs": [
    {
     "name": "stdout",
     "output_type": "stream",
     "text": [
      "Для t-bootstrap: [0.540922834162477;0.6162134382483738]\n"
     ]
    }
   ],
   "source": [
    "left = pearson - np.sqrt((1 - pearson ** 2) / (cd4.shape[0] - 2)) * np.percentile(coefs, (1 - (0.05) / 2) * 100)\n",
    "right = pearson - np.sqrt((1 - pearson ** 2) / (cd4.shape[0] - 2)) * np.percentile(coefs, (0.05) / 2  * 100)\n",
    "print('Для t-bootstrap: [{};{}]'.format(left, right))"
   ]
  },
  {
   "cell_type": "markdown",
   "metadata": {
    "colab_type": "text",
    "id": "RmEvX-MDEP4S"
   },
   "source": [
    "Здесь нормализация не сыграла роли, а только ухудшила ситацию."
   ]
  },
  {
   "cell_type": "markdown",
   "metadata": {
    "colab_type": "text",
    "id": "LVASt040EVUK"
   },
   "source": [
    "b) Реализовать двойной бутстрап - над бутстрапными выборками, по которым считается r сделайте еще бутстрап для оценки $\\sigma(r)$. Сравните дисперсии посчитанные аналитически и бустрапом."
   ]
  },
  {
   "cell_type": "code",
   "execution_count": 32,
   "metadata": {
    "colab": {},
    "colab_type": "code",
    "id": "B8eRWFSVEvob"
   },
   "outputs": [
    {
     "name": "stdout",
     "output_type": "stream",
     "text": [
      "Доверительный интервал для t-bootstrap: [0.6547816401800658;0.667850845220396]\n"
     ]
    }
   ],
   "source": [
    "coefs = []\n",
    "sigmas = []\n",
    "n = cd4.shape[0]\n",
    "for i in range(n):\n",
    "    smaple = resample(cd4.values)\n",
    "    coef_list = []\n",
    "\n",
    "    for j in range(cd4.shape[0]):\n",
    "        sample_tmp = resample(smaple)\n",
    "        coef_list.append(np.corrcoef(sample_tmp[:, 0], sample_tmp[:, 1])[0][1])\n",
    "    \n",
    "    sigmas.append(np.var(coef_list))\n",
    "    coefs.append(np.corrcoef(smaple[:, 0], smaple[:, 1])[0][1])\n",
    "\n",
    "left = pearson - np.sqrt(np.sum(sigmas) / n) * np.percentile(coefs, 0.95 / 2 * 100)\n",
    "right = pearson - np.sqrt(np.sum(sigmas) / n) * np.percentile(coefs, 0.05 / 2  * 100)\n",
    "\n",
    "print('Доверительный интервал для t-bootstrap: [{};{}]'.format(left, right))"
   ]
  },
  {
   "cell_type": "code",
   "execution_count": 33,
   "metadata": {
    "colab": {},
    "colab_type": "code",
    "id": "4PB79P71GOAv"
   },
   "outputs": [
    {
     "name": "stdout",
     "output_type": "stream",
     "text": [
      "Дисперсия 3.3898009896101055e-05\n"
     ]
    }
   ],
   "source": [
    "print('Дисперсия {}'.format(np.var(sigmas)))"
   ]
  },
  {
   "cell_type": "markdown",
   "metadata": {
    "colab_type": "text",
    "id": "uN7V0eE2H4oV"
   },
   "source": [
    "Дисперсия уменьшилась, а доверительный интервал стал точнее."
   ]
  },
  {
   "cell_type": "markdown",
   "metadata": {
    "colab_type": "text",
    "id": "COe50tWhH-sw"
   },
   "source": [
    "с) После предыдущего пункта вым наверняка захотелось проверить все наши оценки на смещенность. Оцените смещение для коэффициента корреляции с помощью jackknife."
   ]
  },
  {
   "cell_type": "code",
   "execution_count": 34,
   "metadata": {
    "colab": {},
    "colab_type": "code",
    "id": "SsV69huZJNQh"
   },
   "outputs": [
    {
     "name": "stdout",
     "output_type": "stream",
     "text": [
      "Смещение = -0.0003863492170671492\n"
     ]
    }
   ],
   "source": [
    "from scipy.special import erfinv\n",
    "\n",
    "coefs = np.array(coefs)\n",
    "\n",
    "sampled_coefs = np.empty([coefs.shape[0], coefs.shape[0]-1])\n",
    "for i in range(coefs.shape[0]):\n",
    "    sampled_coefs[i] = np.delete(coefs, i)\n",
    "\n",
    "mean_j = np.mean(np.apply_along_axis(np.var, 1, sampled_coefs), axis=0)\n",
    "bias = (coefs.shape[0] - 1) * (mean_j - np.var(coefs))\n",
    "print(\"Смещение = {}\".format(bias))"
   ]
  },
  {
   "cell_type": "markdown",
   "metadata": {
    "colab_type": "text",
    "id": "tPXK3LCa9uCl"
   },
   "source": [
    "## Задание 6"
   ]
  },
  {
   "cell_type": "markdown",
   "metadata": {
    "colab_type": "text",
    "id": "5qeNFYABLosi"
   },
   "source": [
    "Фирма занимающаяся маркетинговыми исследованиями, была нанята производителем автомобилей для определения вероятности того, что семья купит новую машину в течение следующего года. Была получена случайная выборка из 10 семей, у которых узнавали данные о годовом доходе. Опрос, проведенный 12 месяцев спустя, проверял купила ли семья автомобиль.\n",
    "\n",
    "а) Постройте логистическую регрессию для предсказания покупки в зависимости от дохода. Укажите проблему. Для понимания природы проблемы постройте логарифм профильной функции правдоподобия для коэффициентов регрессии."
   ]
  },
  {
   "cell_type": "code",
   "execution_count": 35,
   "metadata": {
    "colab": {},
    "colab_type": "code",
    "id": "biGEmur6N5TC"
   },
   "outputs": [],
   "source": [
    "cars = pd.read_csv('car_reduced.csv', sep='\\t')"
   ]
  },
  {
   "cell_type": "code",
   "execution_count": 36,
   "metadata": {
    "colab": {
     "base_uri": "https://localhost:8080/",
     "height": 335
    },
    "colab_type": "code",
    "id": "Q8Ei6LxOUELh",
    "outputId": "83336232-eed4-4688-dae4-513c2cdc7d6a"
   },
   "outputs": [
    {
     "data": {
      "text/html": [
       "<div>\n",
       "<style scoped>\n",
       "    .dataframe tbody tr th:only-of-type {\n",
       "        vertical-align: middle;\n",
       "    }\n",
       "\n",
       "    .dataframe tbody tr th {\n",
       "        vertical-align: top;\n",
       "    }\n",
       "\n",
       "    .dataframe thead th {\n",
       "        text-align: right;\n",
       "    }\n",
       "</style>\n",
       "<table border=\"1\" class=\"dataframe\">\n",
       "  <thead>\n",
       "    <tr style=\"text-align: right;\">\n",
       "      <th></th>\n",
       "      <th>purchase</th>\n",
       "      <th>income</th>\n",
       "    </tr>\n",
       "  </thead>\n",
       "  <tbody>\n",
       "    <tr>\n",
       "      <th>0</th>\n",
       "      <td>1.0</td>\n",
       "      <td>72.0</td>\n",
       "    </tr>\n",
       "    <tr>\n",
       "      <th>1</th>\n",
       "      <td>0.0</td>\n",
       "      <td>19.0</td>\n",
       "    </tr>\n",
       "    <tr>\n",
       "      <th>2</th>\n",
       "      <td>0.0</td>\n",
       "      <td>23.0</td>\n",
       "    </tr>\n",
       "    <tr>\n",
       "      <th>3</th>\n",
       "      <td>0.0</td>\n",
       "      <td>33.0</td>\n",
       "    </tr>\n",
       "    <tr>\n",
       "      <th>4</th>\n",
       "      <td>1.0</td>\n",
       "      <td>60.0</td>\n",
       "    </tr>\n",
       "  </tbody>\n",
       "</table>\n",
       "</div>"
      ],
      "text/plain": [
       "   purchase  income\n",
       "0       1.0    72.0\n",
       "1       0.0    19.0\n",
       "2       0.0    23.0\n",
       "3       0.0    33.0\n",
       "4       1.0    60.0"
      ]
     },
     "execution_count": 36,
     "metadata": {},
     "output_type": "execute_result"
    }
   ],
   "source": [
    "cars.head()"
   ]
  },
  {
   "cell_type": "code",
   "execution_count": 42,
   "metadata": {
    "colab": {},
    "colab_type": "code",
    "id": "qo5T23dIN_St"
   },
   "outputs": [],
   "source": [
    "from sklearn.linear_model import LogisticRegression\n",
    "from sklearn.metrics import accuracy_score\n",
    "\n",
    "X_train =  cars.income.values.reshape(-1, 1)\n",
    "X_train = (X_train - np.mean(X_train)) / np.std(X_train)\n",
    "X_train = np.hstack((X_train, np.ones((X_train.shape[0], 1))))\n",
    "y_train = cars.purchase\n",
    "clf = LogisticRegression().fit(X_train, y_train)"
   ]
  },
  {
   "cell_type": "code",
   "execution_count": 43,
   "metadata": {
    "colab": {
     "base_uri": "https://localhost:8080/",
     "height": 33
    },
    "colab_type": "code",
    "id": "Yn5_bqHykKIS",
    "outputId": "512f2803-0ff8-405a-b092-2de1a2066bc7"
   },
   "outputs": [
    {
     "data": {
      "text/plain": [
       "0.9"
      ]
     },
     "execution_count": 43,
     "metadata": {},
     "output_type": "execute_result"
    }
   ],
   "source": [
    "accuracy_score(y_train, clf.predict(X_train))"
   ]
  },
  {
   "cell_type": "markdown",
   "metadata": {
    "colab_type": "text",
    "id": "JE-I-I2wSNtp"
   },
   "source": [
    "В датасете имеется проблема полной разделимости"
   ]
  },
  {
   "cell_type": "code",
   "execution_count": 82,
   "metadata": {
    "colab": {},
    "colab_type": "code",
    "id": "DatgQZPJTTQ7"
   },
   "outputs": [],
   "source": [
    "def sigmoid(x):\n",
    "    return 1 / (1 + np.exp(-x))\n",
    "    \n",
    "def likelyhood(X, y, theta):\n",
    "    return  (y * np.log(sigmoid(theta.dot(X.T))).reshape(len(y)) + (1 - y) * np.log(1 - sigmoid(theta.dot(X.T))).reshape(len(y))).sum()\n",
    "\n",
    "W = np.linspace(-20, 20, 100)\n",
    "w_0 = []\n",
    "w_1 = []\n",
    "opt_w = (0, 0)\n",
    "best_like = -1000\n",
    "\n",
    "for i, w in enumerate(W):\n",
    "    lhood_w0 = []\n",
    "    lhood_w1 = []\n",
    "    \n",
    "    for j, w_m in enumerate(W):\n",
    "        lhood = likelyhood(X_train, y_train, np.array([[w, w_m]]))\n",
    "        if (lhood > best_like):\n",
    "            opt_w = (w, w_m)\n",
    "            best_like = lhood\n",
    "            \n",
    "        lhood_w0.append(lhood)\n",
    "        \n",
    "        lhood = likelyhood(X_train, y_train, np.array([[w_m, w]]))\n",
    "        if (lhood > best_like):\n",
    "            opt_w = (w_m, w)\n",
    "            best_like = lhood\n",
    "            \n",
    "        lhood_w1.append(lhood)\n",
    "\n",
    "    w_0 = np.append(w_0, np.max(lhood_w0))\n",
    "    w_1 = np.append(w_1, np.max(lhood_w1))"
   ]
  },
  {
   "cell_type": "code",
   "execution_count": 83,
   "metadata": {
    "colab": {
     "base_uri": "https://localhost:8080/",
     "height": 517
    },
    "colab_type": "code",
    "id": "-Xr5FOzJV1Dt",
    "outputId": "c22f1fb0-8fb3-402f-bc74-c7ffca13030b"
   },
   "outputs": [
    {
     "data": {
      "image/png": "[encoded data removed]",
      "text/plain": [
       "<Figure size 1152x432 with 2 Axes>"
      ]
     },
     "metadata": {
      "needs_background": "light"
     },
     "output_type": "display_data"
    },
    {
     "name": "stdout",
     "output_type": "stream",
     "text": [
      "Оптимальные веса: (1.0101010101010104, -0.20202020202020066)\n"
     ]
    }
   ],
   "source": [
    "fig, (ax1, ax2) = plt.subplots(1, 2, figsize=(16, 6))\n",
    "\n",
    "ax1.plot(W, w_0)\n",
    "ax1.set_title('Профильное правдоподобие для w0')\n",
    "ax1.set_xlabel('w_0')\n",
    "ax1.set_ylabel('L')\n",
    "\n",
    "ax2.set_title('Профильное правдоподобие для w1')\n",
    "ax2.plot(W, w_1)\n",
    "ax2.set_xlabel('w_1')\n",
    "ax2.set_ylabel('L')\n",
    "\n",
    "plt.show()\n",
    "\n",
    "print(\"Оптимальные веса:\", opt_w)"
   ]
  },
  {
   "cell_type": "markdown",
   "metadata": {
    "colab_type": "text",
    "id": "CYzwDpgdgCNe"
   },
   "source": [
    "**Вывод:** К максимуму правдоподобия не получается сойтись"
   ]
  },
  {
   "cell_type": "markdown",
   "metadata": {
    "colab_type": "text",
    "id": "N_boumYfYX3D"
   },
   "source": [
    "b) Для решения проблемы применяют ругуляризацию правдоподобия Фирта. Проверьте, что такой способ решает проблему из первого пункта."
   ]
  },
  {
   "cell_type": "code",
   "execution_count": 84,
   "metadata": {},
   "outputs": [],
   "source": [
    "def firth(X, y, theta, clf):\n",
    "    pred = clf.predict_proba(X)[:,1]\n",
    "    W = np.diag(pred * (1 - pred))\n",
    "    base = likelyhood(X, y, theta)\n",
    "    return base + np.log(np.linalg.det(X.T.dot(W).dot(X))) / 2"
   ]
  },
  {
   "cell_type": "code",
   "execution_count": 85,
   "metadata": {
    "colab": {},
    "colab_type": "code",
    "id": "ukeyo8kmZHX4"
   },
   "outputs": [],
   "source": [
    "W = np.linspace(-20, 20, 100)\n",
    "w_0 = []\n",
    "w_1 = []\n",
    "opt_w = (0, 0)\n",
    "best_like = -1000\n",
    "\n",
    "for i, w in enumerate(W):\n",
    "    lhood_w0 = []\n",
    "    lhood_w1 = []\n",
    "    \n",
    "    for j, w_m in enumerate(W):\n",
    "        clf.coef_ = np.array([[w, w_m]])\n",
    "        lhood = firth(X_train, y_train, np.array([[w, w_m]]), clf)\n",
    "        if (lhood > best_like):\n",
    "            opt_w = (w, w_m)\n",
    "            best_like = lhood\n",
    "            \n",
    "        lhood_w0.append(lhood)\n",
    "        \n",
    "        clf.coef_ = np.array([[w_m, w]])\n",
    "        lhood = firth(X_train, y_train, np.array([[w_m, w]]), clf)\n",
    "        if (lhood > best_like):\n",
    "            opt_w = (w_m, w)\n",
    "            best_like = lhood\n",
    "            \n",
    "        lhood_w1.append(lhood)\n",
    "\n",
    "    w_0 = np.append(w_0, np.max(lhood_w0))\n",
    "    w_1 = np.append(w_1, np.max(lhood_w1))"
   ]
  },
  {
   "cell_type": "code",
   "execution_count": 86,
   "metadata": {
    "colab": {
     "base_uri": "https://localhost:8080/",
     "height": 517
    },
    "colab_type": "code",
    "id": "0Jy3iP8AZwbZ",
    "outputId": "80d563b8-7a78-400d-e689-c9acd75262c5"
   },
   "outputs": [
    {
     "data": {
      "image/png": "[encoded data removed]",
      "text/plain": [
       "<Figure size 1152x432 with 2 Axes>"
      ]
     },
     "metadata": {
      "needs_background": "light"
     },
     "output_type": "display_data"
    },
    {
     "name": "stdout",
     "output_type": "stream",
     "text": [
      "Оптимальные веса: (1.0101010101010104, -0.20202020202020066)\n"
     ]
    }
   ],
   "source": [
    "fig, (ax1, ax2) = plt.subplots(1, 2, figsize=(16, 6))\n",
    "\n",
    "ax1.plot(W, w_0)\n",
    "ax1.set_title('Профильное правдоподобие для w0')\n",
    "ax1.set_xlabel('w_0')\n",
    "ax1.set_ylabel('L')\n",
    "\n",
    "ax2.set_title('Профильное правдоподобие для w1')\n",
    "ax2.plot(W, w_1)\n",
    "ax2.set_xlabel('w_1')\n",
    "ax2.set_ylabel('L')\n",
    "\n",
    "plt.show()\n",
    "\n",
    "print(\"Оптимальные веса:\", opt_w)"
   ]
  },
  {
   "cell_type": "markdown",
   "metadata": {
    "colab_type": "text",
    "id": "AnTnCqJeiw0T"
   },
   "source": [
    "c) Стандартным решением проблемы полной разделимости данных является получение дополнительного набора данных. Вам удалось получить 23 новых примера, кроме того удалось добавить еще одну переменную - возраст текущего автомобиле. Проверьте, что обычная логистическая регрессия работает в случае зависимости только от дохода. Сравните коэффициенты для обычной и регуляризованной регрессий. "
   ]
  },
  {
   "cell_type": "code",
   "execution_count": 87,
   "metadata": {
    "colab": {
     "base_uri": "https://localhost:8080/",
     "height": 33
    },
    "colab_type": "code",
    "id": "UfLcvyhsjexV",
    "outputId": "7d5c6d29-aa23-42da-8408-aa30ea3fed4a"
   },
   "outputs": [
    {
     "data": {
      "text/html": [
       "<div>\n",
       "<style scoped>\n",
       "    .dataframe tbody tr th:only-of-type {\n",
       "        vertical-align: middle;\n",
       "    }\n",
       "\n",
       "    .dataframe tbody tr th {\n",
       "        vertical-align: top;\n",
       "    }\n",
       "\n",
       "    .dataframe thead th {\n",
       "        text-align: right;\n",
       "    }\n",
       "</style>\n",
       "<table border=\"1\" class=\"dataframe\">\n",
       "  <thead>\n",
       "    <tr style=\"text-align: right;\">\n",
       "      <th></th>\n",
       "      <th>purchase</th>\n",
       "      <th>income</th>\n",
       "      <th>age</th>\n",
       "    </tr>\n",
       "  </thead>\n",
       "  <tbody>\n",
       "    <tr>\n",
       "      <th>0</th>\n",
       "      <td>0.0</td>\n",
       "      <td>32.0</td>\n",
       "      <td>3.0</td>\n",
       "    </tr>\n",
       "    <tr>\n",
       "      <th>1</th>\n",
       "      <td>0.0</td>\n",
       "      <td>45.0</td>\n",
       "      <td>2.0</td>\n",
       "    </tr>\n",
       "    <tr>\n",
       "      <th>2</th>\n",
       "      <td>1.0</td>\n",
       "      <td>60.0</td>\n",
       "      <td>2.0</td>\n",
       "    </tr>\n",
       "    <tr>\n",
       "      <th>3</th>\n",
       "      <td>0.0</td>\n",
       "      <td>53.0</td>\n",
       "      <td>1.0</td>\n",
       "    </tr>\n",
       "    <tr>\n",
       "      <th>4</th>\n",
       "      <td>0.0</td>\n",
       "      <td>25.0</td>\n",
       "      <td>4.0</td>\n",
       "    </tr>\n",
       "  </tbody>\n",
       "</table>\n",
       "</div>"
      ],
      "text/plain": [
       "   purchase  income  age\n",
       "0       0.0    32.0  3.0\n",
       "1       0.0    45.0  2.0\n",
       "2       1.0    60.0  2.0\n",
       "3       0.0    53.0  1.0\n",
       "4       0.0    25.0  4.0"
      ]
     },
     "execution_count": 87,
     "metadata": {},
     "output_type": "execute_result"
    }
   ],
   "source": [
    "cars = pd.read_csv('cars.csv', sep='\\t')\n",
    "cars.head()"
   ]
  },
  {
   "cell_type": "code",
   "execution_count": 88,
   "metadata": {
    "colab": {
     "base_uri": "https://localhost:8080/",
     "height": 33
    },
    "colab_type": "code",
    "id": "u8KnW-55kexi",
    "outputId": "d9a666f3-0334-4d90-fbd8-4d165492e63f"
   },
   "outputs": [
    {
     "name": "stdout",
     "output_type": "stream",
     "text": [
      "accuracy: 0.606061\n"
     ]
    }
   ],
   "source": [
    "X_train = cars.loc[:, ['age', 'income']]\n",
    "y_train = cars.purchase\n",
    "logreg = LogisticRegression().fit(X_train, y_train)\n",
    "print('accuracy: %f' %accuracy_score(y_train, logreg.predict(X_train)))"
   ]
  },
  {
   "cell_type": "code",
   "execution_count": 89,
   "metadata": {
    "colab": {
     "base_uri": "https://localhost:8080/",
     "height": 33
    },
    "colab_type": "code",
    "id": "UfENK1Taj7_e",
    "outputId": "ffef81b7-c856-43d6-f3ad-5d45948a7b9b"
   },
   "outputs": [
    {
     "name": "stdout",
     "output_type": "stream",
     "text": [
      "accuracy: 0.666667\n"
     ]
    }
   ],
   "source": [
    "X_train =  cars.income.values.reshape(-1, 1)\n",
    "X_train = (X_train - np.mean(X_train)) / np.std(X_train)\n",
    "X_train = np.hstack((X_train, np.ones((X_train.shape[0], 1))))\n",
    "y_train = cars.purchase\n",
    "clf = LogisticRegression().fit(X_train, y_train)\n",
    "print('accuracy: %f' %accuracy_score(y_train, clf.predict(X_train)))"
   ]
  },
  {
   "cell_type": "code",
   "execution_count": 90,
   "metadata": {
    "colab": {},
    "colab_type": "code",
    "id": "4ZUWQahLsW1E"
   },
   "outputs": [],
   "source": [
    "W = np.linspace(-20, 200, 100)\n",
    "w_0 = []\n",
    "w_1 = []\n",
    "\n",
    "for i, w in enumerate(W):\n",
    "    lhood_w0 = []\n",
    "    lhood_w1 = []\n",
    "    \n",
    "    for j, w_m in enumerate(W):\n",
    "        lhood = likelyhood(X_train, y_train, np.array([[w, w_m]]))\n",
    "        lhood_w0.append(lhood)\n",
    "        \n",
    "        lhood = likelyhood(X_train, y_train, np.array([[w_m, w]]))\n",
    "        lhood_w1.append(lhood)\n",
    "\n",
    "    w_0.append(max(lhood_w0))\n",
    "    w_1.append(max(lhood_w1))"
   ]
  },
  {
   "cell_type": "code",
   "execution_count": 91,
   "metadata": {
    "colab": {
     "base_uri": "https://localhost:8080/",
     "height": 517
    },
    "colab_type": "code",
    "id": "7tttmRClslCh",
    "outputId": "57f4663b-beab-40d5-d140-7f98e2e946b2"
   },
   "outputs": [
    {
     "data": {
      "image/png": "[encoded data removed]",
      "text/plain": [
       "<Figure size 1152x432 with 2 Axes>"
      ]
     },
     "metadata": {
      "needs_background": "light"
     },
     "output_type": "display_data"
    },
    {
     "name": "stdout",
     "output_type": "stream",
     "text": [
      "Оптимальные веса: (1.0101010101010104, -0.20202020202020066)\n"
     ]
    }
   ],
   "source": [
    "fig, (ax1, ax2) = plt.subplots(1, 2, figsize=(16, 6))\n",
    "\n",
    "ax1.plot(W, w_0)\n",
    "ax1.set_title('Профильное правдоподобие для w0')\n",
    "ax1.set_xlabel('w_0')\n",
    "ax1.set_ylabel('L')\n",
    "\n",
    "ax2.set_title('Профильное правдоподобие для w1')\n",
    "ax2.plot(W, w_1)\n",
    "ax2.set_xlabel('w_1')\n",
    "ax2.set_ylabel('L')\n",
    "\n",
    "plt.show()\n",
    "\n",
    "print(\"Оптимальные веса:\", opt_w)"
   ]
  },
  {
   "cell_type": "code",
   "execution_count": 92,
   "metadata": {
    "colab": {
     "base_uri": "https://localhost:8080/",
     "height": 50
    },
    "colab_type": "code",
    "id": "mUad6puStEQk",
    "outputId": "b8bcaca9-d37f-47cc-ca9c-30f3b53610b8"
   },
   "outputs": [
    {
     "name": "stdout",
     "output_type": "stream",
     "text": [
      "Веса без регуляризации: (0.915524, -0.160156)\n",
      "Веса с регуляризацией: (0.781830, -0.149625)\n"
     ]
    }
   ],
   "source": [
    "clf = LogisticRegression(penalty='none', solver = 'sag').fit(X_train, y_train)\n",
    "clf_new = LogisticRegression().fit(X_train, y_train)\n",
    "print('Веса без регуляризации: (%f, %f)' %(clf.coef_[0][0], clf.coef_[0][1]))\n",
    "print('Веса с регуляризацией: (%f, %f)' %(clf_new.coef_[0][0], clf_new.coef_[0][1]))"
   ]
  },
  {
   "cell_type": "markdown",
   "metadata": {
    "colab_type": "text",
    "id": "LYx2TzXcuZpj"
   },
   "source": [
    "e) Постройте QQ- график остатков модели нормальноо распределения. О чем говорит график? Можно ли его объяснить?\n"
   ]
  },
  {
   "cell_type": "code",
   "execution_count": 93,
   "metadata": {
    "colab": {
     "base_uri": "https://localhost:8080/",
     "height": 517
    },
    "colab_type": "code",
    "id": "tYMSxSq6vHdw",
    "outputId": "e5b02b37-bd9f-41eb-c295-f56867961431"
   },
   "outputs": [
    {
     "data": {
      "image/png": "[encoded data removed]",
      "text/plain": [
       "<Figure size 576x576 with 1 Axes>"
      ]
     },
     "metadata": {
      "needs_background": "light"
     },
     "output_type": "display_data"
    }
   ],
   "source": [
    "X_train = cars_new[['income', 'age']].values\n",
    "y_train = cars_new.purchase\n",
    "clf = LogisticRegression().fit(X_train, y_train)\n",
    "\n",
    "plt.figure(figsize=(8, 8))\n",
    "scipy.stats.probplot(y_train - clf.predict_proba(X_train)[:, 1], dist=scipy.stats.norm, plot=plt)\n",
    "plt.show()"
   ]
  },
  {
   "cell_type": "markdown",
   "metadata": {
    "colab_type": "text",
    "id": "vFXc8MTMv4_K"
   },
   "source": [
    "**Вывод:** По графику видно, что модель ошибается и работает довольно таки плохо. Модель часто неуверена в своем решении и предсказывает вероятности около 0.5."
   ]
  }
 ],
 "metadata": {
  "colab": {
   "collapsed_sections": [],
   "name": "HW_Stats_4.ipynb",
   "provenance": []
  },
  "kernelspec": {
   "display_name": "Python 3",
   "language": "python",
   "name": "python3"
  },
  "language_info": {
   "codemirror_mode": {
    "name": "ipython",
    "version": 3
   },
   "file_extension": ".py",
   "mimetype": "text/x-python",
   "name": "python",
   "nbconvert_exporter": "python",
   "pygments_lexer": "ipython3",
   "version": "3.7.3"
  }
 },
 "nbformat": 4,
 "nbformat_minor": 1
}
