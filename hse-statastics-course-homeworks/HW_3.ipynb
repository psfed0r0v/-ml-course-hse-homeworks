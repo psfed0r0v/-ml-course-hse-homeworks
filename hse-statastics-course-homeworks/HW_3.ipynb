{
 "cells": [
  {
   "cell_type": "markdown",
   "metadata": {},
   "source": [
    "$$ \\huge{Домашнее \\space задание \\space № \\space 3}$$\n",
    "\n",
    "\n",
    "$$\\large{Федоров \\space Павел\\space Сергеевич \\space 172}$$\n",
    "\n",
    "$$Прикладная \\space статистика \\space в \\space машинном \\space обучении$$"
   ]
  },
  {
   "cell_type": "markdown",
   "metadata": {},
   "source": [
    "## Задание 1\n",
    "\n",
    "**Найдите максимум статистики Краскелла-Уоллеса.**"
   ]
  },
  {
   "cell_type": "markdown",
   "metadata": {},
   "source": [
    "$H = (N - 1) \\frac{\\sum_{i=1}^g n_i(\\overline{r_i} - \\overline{r})^2}{\\sum_{i=1}^g \\sum_{j=1}^{n_i} (r_{ij}-\\overline{r})^2}$\n",
    "\n",
    "$H = \\frac{12}{N(N+1)}\\sum_{i=1}^g n_i(\\overline{r_i}-\\frac{N+1}{2})^2 = \\frac{12}{N(N+1)}\\sum_{i=1}^g n_i\\overline{r_i}^2-3(N+1)$\n",
    "\n",
    "$\\overline{r_i}^2 = (\\frac{\\sum_{j=1}^{n_i} r_{ij}}{n_i})^2 \\leq \\frac{\\sum_{j=1}^{n_i} r_{ij}^2}{n_i}$\n",
    "\n",
    "$n_i\\overline{r_i}^2 \\leq \\sum_{j=1}^{n_i} r_{ij}^2$\n",
    "\n",
    "Макстимум статистики достигается при равенстве:\n",
    "\n",
    "$H_{max} = \\frac{12}{N(N+1)}\\sum_{i=1}^g \\sum_{j=1}^{n_i}r_{ij}^2-3(N+1)$"
   ]
  },
  {
   "cell_type": "markdown",
   "metadata": {},
   "source": [
    "## Задание 2\n",
    "**Получите данные из файла figure_skating.csv, это результаты женского фигурного катания Олимпиады-2014 года в Сочи. Сравните перцентильное и квантильное гауссовы преобразования, а также преобразование Бокса-Кокса. Для этого проведите на\n",
    "полученных данных тест Шапиро-Вилкса и постройте для каждого\n",
    "преобразования график изначальных оценок против преобразованных (QQ график). Сделайте вывод: какое преобразование вы бы\n",
    "предпочли для дальнейшего анализа?**"
   ]
  },
  {
   "cell_type": "code",
   "execution_count": 1,
   "metadata": {},
   "outputs": [],
   "source": [
    "import numpy as np\n",
    "import pandas as pd\n",
    "import pingouin as pg\n",
    "from scipy.stats import norm, distributions\n",
    "import matplotlib.pyplot as plt\n",
    "\n",
    "import warnings\n",
    "warnings.simplefilter(\"ignore\")"
   ]
  },
  {
   "cell_type": "code",
   "execution_count": 2,
   "metadata": {},
   "outputs": [
    {
     "data": {
      "text/html": [
       "<div>\n",
       "<style scoped>\n",
       "    .dataframe tbody tr th:only-of-type {\n",
       "        vertical-align: middle;\n",
       "    }\n",
       "\n",
       "    .dataframe tbody tr th {\n",
       "        vertical-align: top;\n",
       "    }\n",
       "\n",
       "    .dataframe thead th {\n",
       "        text-align: right;\n",
       "    }\n",
       "</style>\n",
       "<table border=\"1\" class=\"dataframe\">\n",
       "  <thead>\n",
       "    <tr style=\"text-align: right;\">\n",
       "      <th></th>\n",
       "      <th>Rank</th>\n",
       "      <th>Athlete</th>\n",
       "      <th>Result</th>\n",
       "      <th>Notes</th>\n",
       "    </tr>\n",
       "  </thead>\n",
       "  <tbody>\n",
       "    <tr>\n",
       "      <th>0</th>\n",
       "      <td>G</td>\n",
       "      <td>Adelina SOTNIKOVARUS</td>\n",
       "      <td>224.59</td>\n",
       "      <td>NaN</td>\n",
       "    </tr>\n",
       "    <tr>\n",
       "      <th>1</th>\n",
       "      <td>S</td>\n",
       "      <td>Yuna KIMKOR</td>\n",
       "      <td>219.11</td>\n",
       "      <td>NaN</td>\n",
       "    </tr>\n",
       "    <tr>\n",
       "      <th>2</th>\n",
       "      <td>B</td>\n",
       "      <td>Carolina KOSTNERITA</td>\n",
       "      <td>216.73</td>\n",
       "      <td>NaN</td>\n",
       "    </tr>\n",
       "    <tr>\n",
       "      <th>3</th>\n",
       "      <td>4</td>\n",
       "      <td>Gracie GOLDUSA</td>\n",
       "      <td>205.53</td>\n",
       "      <td>NaN</td>\n",
       "    </tr>\n",
       "    <tr>\n",
       "      <th>4</th>\n",
       "      <td>5</td>\n",
       "      <td>Yulia LIPNITSKAYARUS</td>\n",
       "      <td>200.57</td>\n",
       "      <td>NaN</td>\n",
       "    </tr>\n",
       "    <tr>\n",
       "      <th>5</th>\n",
       "      <td>6</td>\n",
       "      <td>Mao ASADAJPN</td>\n",
       "      <td>198.22</td>\n",
       "      <td>NaN</td>\n",
       "    </tr>\n",
       "    <tr>\n",
       "      <th>24</th>\n",
       "      <td>7</td>\n",
       "      <td>Ashley WAGNERUSA</td>\n",
       "      <td>193.20</td>\n",
       "      <td>NaN</td>\n",
       "    </tr>\n",
       "    <tr>\n",
       "      <th>25</th>\n",
       "      <td>8</td>\n",
       "      <td>Akiko SUZUKIJPN</td>\n",
       "      <td>186.32</td>\n",
       "      <td>NaN</td>\n",
       "    </tr>\n",
       "    <tr>\n",
       "      <th>26</th>\n",
       "      <td>9</td>\n",
       "      <td>Polina EDMUNDSUSA</td>\n",
       "      <td>183.25</td>\n",
       "      <td>NaN</td>\n",
       "    </tr>\n",
       "    <tr>\n",
       "      <th>27</th>\n",
       "      <td>10</td>\n",
       "      <td>Mae Berenice MEITEFRA</td>\n",
       "      <td>174.53</td>\n",
       "      <td>NaN</td>\n",
       "    </tr>\n",
       "    <tr>\n",
       "      <th>28</th>\n",
       "      <td>11</td>\n",
       "      <td>Valentina MARCHEIITA</td>\n",
       "      <td>173.33</td>\n",
       "      <td>NaN</td>\n",
       "    </tr>\n",
       "    <tr>\n",
       "      <th>29</th>\n",
       "      <td>12</td>\n",
       "      <td>Kanako MURAKAMIJPN</td>\n",
       "      <td>170.98</td>\n",
       "      <td>NaN</td>\n",
       "    </tr>\n",
       "    <tr>\n",
       "      <th>30</th>\n",
       "      <td>13</td>\n",
       "      <td>Kaetlyn OSMONDCAN</td>\n",
       "      <td>168.98</td>\n",
       "      <td>NaN</td>\n",
       "    </tr>\n",
       "    <tr>\n",
       "      <th>31</th>\n",
       "      <td>14</td>\n",
       "      <td>Zijun LICHN</td>\n",
       "      <td>168.30</td>\n",
       "      <td>NaN</td>\n",
       "    </tr>\n",
       "    <tr>\n",
       "      <th>32</th>\n",
       "      <td>15</td>\n",
       "      <td>Kexin ZHANGCHN</td>\n",
       "      <td>154.21</td>\n",
       "      <td>NaN</td>\n",
       "    </tr>\n",
       "    <tr>\n",
       "      <th>33</th>\n",
       "      <td>16</td>\n",
       "      <td>Haejin KIMKOR</td>\n",
       "      <td>149.48</td>\n",
       "      <td>NaN</td>\n",
       "    </tr>\n",
       "    <tr>\n",
       "      <th>34</th>\n",
       "      <td>17</td>\n",
       "      <td>Gabrielle DALEMANCAN</td>\n",
       "      <td>148.44</td>\n",
       "      <td>NaN</td>\n",
       "    </tr>\n",
       "    <tr>\n",
       "      <th>35</th>\n",
       "      <td>18</td>\n",
       "      <td>Nathalie WEINZIERLGER</td>\n",
       "      <td>147.36</td>\n",
       "      <td>NaN</td>\n",
       "    </tr>\n",
       "    <tr>\n",
       "      <th>36</th>\n",
       "      <td>19</td>\n",
       "      <td>Elene GEDEVANISHVILIGEO</td>\n",
       "      <td>147.15</td>\n",
       "      <td>NaN</td>\n",
       "    </tr>\n",
       "    <tr>\n",
       "      <th>37</th>\n",
       "      <td>20</td>\n",
       "      <td>Brooklee HANAUS</td>\n",
       "      <td>143.84</td>\n",
       "      <td>NaN</td>\n",
       "    </tr>\n",
       "    <tr>\n",
       "      <th>38</th>\n",
       "      <td>21</td>\n",
       "      <td>So Youn PARKKOR</td>\n",
       "      <td>142.97</td>\n",
       "      <td>NaN</td>\n",
       "    </tr>\n",
       "    <tr>\n",
       "      <th>39</th>\n",
       "      <td>22</td>\n",
       "      <td>Elizaveta UKOLOVACZE</td>\n",
       "      <td>136.42</td>\n",
       "      <td>NaN</td>\n",
       "    </tr>\n",
       "    <tr>\n",
       "      <th>40</th>\n",
       "      <td>23</td>\n",
       "      <td>Anne Line GJERSEMNOR</td>\n",
       "      <td>134.54</td>\n",
       "      <td>NaN</td>\n",
       "    </tr>\n",
       "    <tr>\n",
       "      <th>41</th>\n",
       "      <td>24</td>\n",
       "      <td>Nicole RAJICOVASVK</td>\n",
       "      <td>125.00</td>\n",
       "      <td>NaN</td>\n",
       "    </tr>\n",
       "  </tbody>\n",
       "</table>\n",
       "</div>"
      ],
      "text/plain": [
       "   Rank                   Athlete  Result  Notes\n",
       "0    G      Adelina SOTNIKOVARUS   224.59    NaN\n",
       "1    S               Yuna KIMKOR   219.11    NaN\n",
       "2    B       Carolina KOSTNERITA   216.73    NaN\n",
       "3     4           Gracie GOLDUSA   205.53    NaN\n",
       "4     5     Yulia LIPNITSKAYARUS   200.57    NaN\n",
       "5     6             Mao ASADAJPN   198.22    NaN\n",
       "24    7         Ashley WAGNERUSA   193.20    NaN\n",
       "25    8          Akiko SUZUKIJPN   186.32    NaN\n",
       "26    9        Polina EDMUNDSUSA   183.25    NaN\n",
       "27   10    Mae Berenice MEITEFRA   174.53    NaN\n",
       "28   11     Valentina MARCHEIITA   173.33    NaN\n",
       "29   12       Kanako MURAKAMIJPN   170.98    NaN\n",
       "30   13        Kaetlyn OSMONDCAN   168.98    NaN\n",
       "31   14              Zijun LICHN   168.30    NaN\n",
       "32   15           Kexin ZHANGCHN   154.21    NaN\n",
       "33   16            Haejin KIMKOR   149.48    NaN\n",
       "34   17     Gabrielle DALEMANCAN   148.44    NaN\n",
       "35   18    Nathalie WEINZIERLGER   147.36    NaN\n",
       "36   19  Elene GEDEVANISHVILIGEO   147.15    NaN\n",
       "37   20          Brooklee HANAUS   143.84    NaN\n",
       "38   21          So Youn PARKKOR   142.97    NaN\n",
       "39   22     Elizaveta UKOLOVACZE   136.42    NaN\n",
       "40   23     Anne Line GJERSEMNOR   134.54    NaN\n",
       "41   24       Nicole RAJICOVASVK   125.00    NaN"
      ]
     },
     "execution_count": 2,
     "metadata": {},
     "output_type": "execute_result"
    }
   ],
   "source": [
    "data = pd.read_csv(\"figure_skating.csv\")\n",
    "data = data[pd.notnull(data['Result'])]\n",
    "data"
   ]
  },
  {
   "cell_type": "code",
   "execution_count": 3,
   "metadata": {},
   "outputs": [
    {
     "name": "stdout",
     "output_type": "stream",
     "text": [
      "Shapiro-Wilks test for Percentile Gaussian transformation equals:\n",
      " (0.9588580131530762, 0.41591137647628784) \n",
      "\n",
      "Shapiro-Wilks test for Quantile Gaussian transformation equals:\n",
      " (0.8654237985610962, 0.004284990020096302) \n",
      "\n",
      "Shapiro-Wilks test for Box-Cox transformation equals:\n",
      " (0.9595345258712769, 0.42914271354675293) \n",
      "\n"
     ]
    }
   ],
   "source": [
    "from scipy.stats import boxcox, shapiro\n",
    "from sklearn.preprocessing import quantile_transform, power_transform\n",
    "from scipy.stats.mstats import mquantiles\n",
    "\n",
    "res = data[\"Result\"]\n",
    "n = len(data)\n",
    "\n",
    "tests = {\n",
    "    \"Percentile Gaussian\": quantile_transform(np.array(res).reshape(n, 1), n_quantiles = n, random_state=10, copy=True), \n",
    "    \"Quantile Gaussian\": quantile_transform(np.array(res).reshape(n, 1), n_quantiles = n, random_state=10, output_distribution='normal', copy=True),\n",
    "    \"Box-Cox\":power_transform(np.array(res).reshape(n, 1), method='box-cox')\n",
    "}\n",
    "\n",
    "for k, v in tests.items():\n",
    "    print(\"Shapiro-Wilks test for\", k, \"transformation equals:\\n\", shapiro(v), '\\n')"
   ]
  },
  {
   "cell_type": "code",
   "execution_count": 4,
   "metadata": {},
   "outputs": [
    {
     "data": {
      "image/png": "[encoded data removed]",
      "text/plain": [
       "<Figure size 1440x360 with 3 Axes>"
      ]
     },
     "metadata": {
      "needs_background": "light"
     },
     "output_type": "display_data"
    }
   ],
   "source": [
    "from numpy.polynomial.polynomial import polyfit\n",
    "\n",
    "plt.figure(figsize=(20, 5))\n",
    "i = 0\n",
    "for k, v in tests.items():\n",
    "    plt.subplot(1, 3, i + 1)\n",
    "    plt.title(k + ' transformation')\n",
    "    plt.xlabel('Results')\n",
    "    plt.ylabel(k + ' transformation')\n",
    "    plt.scatter(res, v)\n",
    "    b, k = polyfit(res, v, 1)\n",
    "    plt.plot(res, b + k * res, color='green')\n",
    "    i += 1"
   ]
  },
  {
   "cell_type": "markdown",
   "metadata": {},
   "source": [
    "__Вывод:__ Box-Cox дает самый лучший результат из предложенных преобразований, это хорошо видно из графиков и теста выше. Поэтому логичнее всего далее использовать его"
   ]
  },
  {
   "cell_type": "markdown",
   "metadata": {},
   "source": [
    "## Задание 3"
   ]
  },
  {
   "cell_type": "markdown",
   "metadata": {},
   "source": [
    "Сравните:\n",
    "\n",
    "• Классический дисперсионный анализ (ANOVA).\n",
    "\n",
    "• Дисперсионный анализ с использованием метода Уэлча.\n",
    "\n",
    "• Дисперсионный анализ с использованием теста Краскела-Уоллиса.\n",
    "\n",
    "Рассмотрите случай трёх выборок. Сделайте выводы о регионах\n",
    "применимости F-теста, теста Уэлча, теста Краскела-Уоллиса для\n",
    "однофакторного анализа."
   ]
  },
  {
   "cell_type": "code",
   "execution_count": 5,
   "metadata": {},
   "outputs": [
    {
     "name": "stdout",
     "output_type": "stream",
     "text": [
      "N: 5\n",
      "Ошибка первого рода для Anova: 0.054\n",
      "Ошибка первого рода для Kruskal: 0.052\n",
      "Ошибка первого рода для Welch: 0.042 \n",
      "\n",
      "N: 10\n",
      "Ошибка первого рода для Anova: 0.058\n",
      "Ошибка первого рода для Kruskal: 0.044\n",
      "Ошибка первого рода для Welch: 0.058 \n",
      "\n",
      "N: 20\n",
      "Ошибка первого рода для Anova: 0.054\n",
      "Ошибка первого рода для Kruskal: 0.052\n",
      "Ошибка первого рода для Welch: 0.048 \n",
      "\n",
      "N: 100\n",
      "Ошибка первого рода для Anova: 0.05\n",
      "Ошибка первого рода для Kruskal: 0.048\n",
      "Ошибка первого рода для Welch: 0.052 \n",
      "\n"
     ]
    }
   ],
   "source": [
    "from scipy.stats import f_oneway, kruskal\n",
    "\n",
    "numbers = [5, 10, 20, 100]\n",
    "alpha = 0.05\n",
    "\n",
    "for i in range(len(numbers)):\n",
    "    error_anova = 0\n",
    "    error_welch = 0\n",
    "    error_kruskal = 0\n",
    "    for j in range(500):\n",
    "        sample1 = np.random.normal(0, 1, numbers[i])\n",
    "        sample2 = np.random.normal(0, 1, numbers[i])\n",
    "        sample3 = np.random.normal(0, 1, numbers[i])\n",
    "        \n",
    "        _, p_val_anova = f_oneway(sample1, sample2, sample3)\n",
    "        \n",
    "        if p_val_anova < alpha:\n",
    "            error_anova += 1\n",
    "            \n",
    "        _, p_val_kruskal = kruskal(sample1, sample2, sample3)\n",
    "        \n",
    "        if p_val_kruskal < alpha:\n",
    "            error_kruskal += 1\n",
    "            \n",
    "        ids = [0] * len(sample1) + [1] * len(sample2) + [2] * len(sample3)\n",
    "        samples = pd.DataFrame(zip(np.concatenate((sample1, sample2, sample3)), ids), columns=['Samples', 'Ids'])\n",
    "        p_val_welch = pg.welch_anova(dv='Samples', between='Ids', data=samples)['p-unc'][0]\n",
    "        \n",
    "        if p_val_welch < alpha:\n",
    "            error_welch += 1\n",
    "            \n",
    "    error_anova /= 500\n",
    "    error_kruskal /= 500\n",
    "    error_welch /= 500\n",
    "    \n",
    "    print('N:', numbers[i])\n",
    "    print('Ошибка первого рода для Anova:', error_anova)\n",
    "    print('Ошибка первого рода для Kruskal:', error_kruskal)\n",
    "    print('Ошибка первого рода для Welch:', error_welch, '\\n')"
   ]
  },
  {
   "cell_type": "markdown",
   "metadata": {},
   "source": [
    "Можно сделать вывод, что при разных N данные методы с разной частотой допускают ошибку первого рода (при уровне значимости 0.01). Так для ANOVA лучше при бОльших N, для теста Краскела-Уоллиса при N = 10, для метода Уэлча при малых N."
   ]
  },
  {
   "cell_type": "markdown",
   "metadata": {},
   "source": [
    "## Задание 4\n",
    "\n",
    "Исследовательская лаборатория исследует новое лекарство для лечения сенной лихорадки. В эксперименте участвует 36\n",
    "волонтёров. В тесте варьировалась доза двух(2) ингредиентов (A\n",
    "и B), каждый из которых давался в одной из возможных доз: маленькая, средняя и большая доза. 4 волонтёра для каждой из 9\n",
    "возможных концентраций подбирались случайно. Результаты эксперимента находятся в файле fever.table."
   ]
  },
  {
   "cell_type": "code",
   "execution_count": 6,
   "metadata": {},
   "outputs": [
    {
     "data": {
      "text/plain": [
       "Index(['hours', 'A', 'B', 'id'], dtype='object')"
      ]
     },
     "execution_count": 6,
     "metadata": {},
     "output_type": "execute_result"
    }
   ],
   "source": [
    "data = pd.read_csv('fever.table.txt', sep='     ')\n",
    "data['B'] = data[' B']\n",
    "data['id'] = data[' id']\n",
    "data = data[['hours', 'A', 'B', 'id']]\n",
    "data.columns"
   ]
  },
  {
   "cell_type": "markdown",
   "metadata": {},
   "source": [
    "__a__ Используя двухфакторную модель оцените среднее, когда фактор A равен 3, а фактор B равен 2."
   ]
  },
  {
   "cell_type": "code",
   "execution_count": 7,
   "metadata": {},
   "outputs": [
    {
     "data": {
      "text/plain": [
       "10.275"
      ]
     },
     "execution_count": 7,
     "metadata": {},
     "output_type": "execute_result"
    }
   ],
   "source": [
    "data[data['A'] == 3][data['B'] == 2].mean()['hours']"
   ]
  },
  {
   "cell_type": "markdown",
   "metadata": {},
   "source": [
    "__b__ Используя QQ график, проверьте нормальность полученных\n",
    "данных"
   ]
  },
  {
   "cell_type": "code",
   "execution_count": 8,
   "metadata": {},
   "outputs": [
    {
     "data": {
      "image/png": "[encoded data removed]",
      "text/plain": [
       "<Figure size 864x576 with 1 Axes>"
      ]
     },
     "metadata": {
      "needs_background": "light"
     },
     "output_type": "display_data"
    }
   ],
   "source": [
    "import statsmodels.api as sm\n",
    "fig = sm.qqplot(data['hours'], line='s')\n",
    "fig.set_figheight(8)\n",
    "fig.set_figwidth(12)\n",
    "plt.show()"
   ]
  },
  {
   "cell_type": "markdown",
   "metadata": {},
   "source": [
    "__Вывод:__ По графику видно, что данные нормальны"
   ]
  },
  {
   "cell_type": "markdown",
   "metadata": {},
   "source": [
    "__c__ Проверьте наличие взаимодействия факторов A и B, используя графический способ."
   ]
  },
  {
   "cell_type": "code",
   "execution_count": 9,
   "metadata": {},
   "outputs": [
    {
     "data": {
      "image/png": "[encoded data removed]",
      "text/plain": [
       "<Figure size 432x288 with 1 Axes>"
      ]
     },
     "metadata": {
      "needs_background": "light"
     },
     "output_type": "display_data"
    }
   ],
   "source": [
    "from statsmodels.graphics.factorplots import interaction_plot\n",
    "\n",
    "fig = interaction_plot(data['A'], data['B'], data['hours'], colors=['orange', 'blue', 'green'], ms=10)\n",
    "fig.show()"
   ]
  },
  {
   "cell_type": "markdown",
   "metadata": {},
   "source": [
    "__Вывод:__ По зеленому и синиму графику видно, что есть наличие взаимодействия сежду факторамии A и B."
   ]
  },
  {
   "cell_type": "markdown",
   "metadata": {},
   "source": [
    "__d__ Проверьте наличие взаимодействия факторов A и B, используя F-тест с критическим значением α = 0.05.\n",
    "\n",
    "__e__ Проверьте наличие эффекта для каждого из факторов."
   ]
  },
  {
   "cell_type": "code",
   "execution_count": 10,
   "metadata": {},
   "outputs": [
    {
     "data": {
      "text/html": [
       "<div>\n",
       "<style scoped>\n",
       "    .dataframe tbody tr th:only-of-type {\n",
       "        vertical-align: middle;\n",
       "    }\n",
       "\n",
       "    .dataframe tbody tr th {\n",
       "        vertical-align: top;\n",
       "    }\n",
       "\n",
       "    .dataframe thead th {\n",
       "        text-align: right;\n",
       "    }\n",
       "</style>\n",
       "<table border=\"1\" class=\"dataframe\">\n",
       "  <thead>\n",
       "    <tr style=\"text-align: right;\">\n",
       "      <th></th>\n",
       "      <th>df</th>\n",
       "      <th>sum_sq</th>\n",
       "      <th>mean_sq</th>\n",
       "      <th>F</th>\n",
       "      <th>PR(&gt;F)</th>\n",
       "      <th>eta_sq</th>\n",
       "      <th>omega_sq</th>\n",
       "    </tr>\n",
       "  </thead>\n",
       "  <tbody>\n",
       "    <tr>\n",
       "      <th>C(B)</th>\n",
       "      <td>2.0</td>\n",
       "      <td>123.660</td>\n",
       "      <td>61.830000</td>\n",
       "      <td>1027.329231</td>\n",
       "      <td>3.348751e-26</td>\n",
       "      <td>0.329998</td>\n",
       "      <td>0.329623</td>\n",
       "    </tr>\n",
       "    <tr>\n",
       "      <th>C(A)</th>\n",
       "      <td>2.0</td>\n",
       "      <td>220.020</td>\n",
       "      <td>110.010000</td>\n",
       "      <td>1827.858462</td>\n",
       "      <td>1.514043e-29</td>\n",
       "      <td>0.587143</td>\n",
       "      <td>0.586727</td>\n",
       "    </tr>\n",
       "    <tr>\n",
       "      <th>C(B):C(A)</th>\n",
       "      <td>4.0</td>\n",
       "      <td>29.425</td>\n",
       "      <td>7.356250</td>\n",
       "      <td>122.226923</td>\n",
       "      <td>6.972083e-17</td>\n",
       "      <td>0.078523</td>\n",
       "      <td>0.077868</td>\n",
       "    </tr>\n",
       "    <tr>\n",
       "      <th>Residual</th>\n",
       "      <td>27.0</td>\n",
       "      <td>1.625</td>\n",
       "      <td>0.060185</td>\n",
       "      <td>NaN</td>\n",
       "      <td>NaN</td>\n",
       "      <td>NaN</td>\n",
       "      <td>NaN</td>\n",
       "    </tr>\n",
       "  </tbody>\n",
       "</table>\n",
       "</div>"
      ],
      "text/plain": [
       "             df   sum_sq     mean_sq            F        PR(>F)    eta_sq  \\\n",
       "C(B)        2.0  123.660   61.830000  1027.329231  3.348751e-26  0.329998   \n",
       "C(A)        2.0  220.020  110.010000  1827.858462  1.514043e-29  0.587143   \n",
       "C(B):C(A)   4.0   29.425    7.356250   122.226923  6.972083e-17  0.078523   \n",
       "Residual   27.0    1.625    0.060185          NaN           NaN       NaN   \n",
       "\n",
       "           omega_sq  \n",
       "C(B)       0.329623  \n",
       "C(A)       0.586727  \n",
       "C(B):C(A)  0.077868  \n",
       "Residual        NaN  "
      ]
     },
     "execution_count": 10,
     "metadata": {},
     "output_type": "execute_result"
    }
   ],
   "source": [
    "from statsmodels.formula.api import ols\n",
    "from statsmodels.stats.anova import anova_lm\n",
    "import statsmodels as sm\n",
    "\n",
    "def eta_sq(aov):\n",
    "    aov['eta_sq'] = ''\n",
    "    aov['eta_sq'] = aov[:-1]['sum_sq'] / np.sum(aov['sum_sq'])\n",
    "    return aov\n",
    "\n",
    "def omega_sq(aov):\n",
    "    mse = aov['sum_sq'][-1] / aov['df'][-1]\n",
    "    aov['omega_sq'] =  ''\n",
    "    aov['omega_sq'] = (aov[:-1]['sum_sq'] - (mse * aov[:-1]['df'])) / (mse + np.sum(aov['sum_sq']))\n",
    "    return aov\n",
    "\n",
    "model = ols('hours ~ C(B) + C(A) + C(B):C(A)', data).fit()\n",
    "aov = anova_lm(model)\n",
    "\n",
    "aov = eta_sq(aov)\n",
    "aov = omega_sq(aov)\n",
    "aov"
   ]
  }
 ],
 "metadata": {
  "kernelspec": {
   "display_name": "Python 3",
   "language": "python",
   "name": "python3"
  },
  "language_info": {
   "codemirror_mode": {
    "name": "ipython",
    "version": 3
   },
   "file_extension": ".py",
   "mimetype": "text/x-python",
   "name": "python",
   "nbconvert_exporter": "python",
   "pygments_lexer": "ipython3",
   "version": "3.7.3"
  }
 },
 "nbformat": 4,
 "nbformat_minor": 2
}
