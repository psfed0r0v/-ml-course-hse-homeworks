{
 "cells": [
  {
   "cell_type": "markdown",
   "metadata": {},
   "source": [
    "# Машинное обучение, ФКН ВШЭ\n",
    "\n",
    "## Практическое задание 8. Метод опорных векторов и аппроксимация ядер\n",
    "\n",
    "### Общая информация\n",
    "Дата выдачи: 15.03.2020\n",
    "\n",
    "Мягкий дедлайн: 02:59MSK 30.03.2020\n",
    "\n",
    "Жесткий дедлайн: 23:59MSK 03.04.2020\n",
    "\n",
    "### Оценивание и штрафы\n",
    "Каждая из задач имеет определенную «стоимость» (указана в скобках около задачи). Максимальная оценка за работу (без учёта бонусов) — 10 баллов.\n",
    "\n",
    "Сдавать задание после указанного жёсткого срока сдачи нельзя. При выставлении неполного балла за задание в связи с наличием ошибок на усмотрение проверяющего предусмотрена возможность исправить работу на указанных в ответном письме условиях.\n",
    "\n",
    "Задание выполняется самостоятельно. «Похожие» решения считаются плагиатом и все задействованные студенты (в том числе те, у кого списали) не могут получить за него больше 0 баллов (подробнее о плагиате см. на странице курса). Если вы нашли решение какого-то из заданий (или его часть) в открытом источнике, необходимо указать ссылку на этот источник в отдельном блоке в конце вашей работы (скорее всего вы будете не единственным, кто это нашел, поэтому чтобы исключить подозрение в плагиате, необходима ссылка на источник).\n",
    "\n",
    "Неэффективная реализация кода может негативно отразиться на оценке.\n",
    "\n",
    "### Формат сдачи\n",
    "Задания сдаются через систему anytask. Посылка должна содержать:\n",
    "* Ноутбук homework-practice-08-random-features-Username.ipynb\n",
    "\n",
    "Username — ваша фамилия и имя на латинице именно в таком порядке"
   ]
  },
  {
   "cell_type": "markdown",
   "metadata": {},
   "source": [
    "### О задании\n",
    "\n",
    "На занятиях мы подробно обсуждали метод опорных векторов (SVM). В базовой версии в нём нет чего-то особенного — мы всего лишь используем специальную функцию потерь, которая не требует устремлять отступы к бесконечности; ей достаточно, чтобы отступы были не меньше +1. Затем мы узнали, что SVM можно переписать в двойственном виде, который, позволяет заменить скалярные произведения объектов на ядра. Это будет соответствовать построению модели в новом пространстве более высокой размерности, координаты которого представляют собой нелинейные модификации исходных признаков.\n",
    "\n",
    "Ядровой SVM, к сожалению, довольно затратен по памяти (нужно хранить матрицу Грама размера $d \\times d$) и по времени (нужно решать задачу условной оптимизации с квадратичной функцией, а это не очень быстро). Мы обсуждали, что есть способы посчитать новые признаки $\\tilde \\varphi(x)$ на основе исходных так, что скалярные произведения этих новых $\\langle \\tilde \\varphi(x), \\tilde \\varphi(z) \\rangle$ приближают ядро $K(x, z)$.\n",
    "\n",
    "Мы будем исследовать аппроксимации методом Random Kitchen Sinks для гауссовых ядер. Будем использовать формулы, которые немного отличаются от того, что было на лекциях (мы добавим сдвиги внутрь тригонометрических функций и будем использовать только косинусы, потому что с нужным сдвигом косинус превратится в синус):\n",
    "$$\\tilde \\varphi(x) = (\n",
    "\\cos (w_1^T x + b_1),\n",
    "\\dots,\n",
    "\\cos (w_n^T x + b_n)\n",
    "),$$\n",
    "где $w_j \\sim \\mathcal{N}(0, 1/\\sigma^2)$, $b_j \\sim U[-\\pi, \\pi]$.\n",
    "\n",
    "На новых признаках $\\tilde \\varphi(x)$ мы будем строить любую линейную модель.\n",
    "\n",
    "Можно считать, что это некоторая новая парадигма построения сложных моделей. Можно направленно искать сложные нелинейные закономерности в данных с помощью градиентного бустинга или нейронных сетей, а можно просто нагенерировать большое количество случайных нелинейных признаков и надеяться, что быстрая и простая модель (то есть линейная) сможет показать на них хорошее качество. В этом задании мы изучим, насколько работоспособна такая идея.\n",
    "\n",
    "### Алгоритм\n",
    "\n",
    "Вам потребуется реализовать следующий алгоритм:\n",
    "1. Понизить размерность выборки до new_dim с помощью метода главных компонент.\n",
    "2. Для полученной выборки оценить гиперпараметр $\\sigma^2$ с помощью эвристики (рекомендуем считать медиану не по всем парам объектов, а по случайному подмножеству из где-то миллиона пар объектов): $$\\sigma^2 = \\text{median}_{i, j = 1, \\dots, \\ell, i \\neq j} \\left\\{\\sum_{k = 1}^{d} (x_{ik} - x_{jk})^2 \\right\\}$$\n",
    "3. Сгенерировать n_features наборов весов $w_j$ и сдвигов $b_j$.\n",
    "4. Сформировать n_features новых признаков по формулам, приведённым выше.\n",
    "5. Обучить линейную модель (логистическую регрессию или SVM) на новых признаках.\n",
    "6. Повторить преобразования (PCA, формирование новых признаков) к тестовой выборке и применить модель."
   ]
  },
  {
   "cell_type": "markdown",
   "metadata": {},
   "source": [
    "Тестировать алгоритм мы будем на данных Fashion MNIST. Ниже код для их загрузки и подготовки."
   ]
  },
  {
   "cell_type": "code",
   "execution_count": 1,
   "metadata": {
    "ExecuteTime": {
     "end_time": "2020-03-30T20:45:32.070159Z",
     "start_time": "2020-03-30T20:45:30.069866Z"
    }
   },
   "outputs": [
    {
     "name": "stderr",
     "output_type": "stream",
     "text": [
      "Using TensorFlow backend.\n"
     ]
    }
   ],
   "source": [
    "import keras\n",
    "from keras.datasets import fashion_mnist\n",
    "(x_train_pics, y_train), (x_test_pics, y_test) = fashion_mnist.load_data()\n",
    "X_train = x_train_pics.reshape(x_train_pics.shape[0],-1)\n",
    "X_test = x_test_pics.reshape(x_test_pics.shape[0],-1)"
   ]
  },
  {
   "cell_type": "markdown",
   "metadata": {},
   "source": [
    "__Задание 1. (5 баллов)__\n",
    "\n",
    "Реализуйте алгоритм, описанный выше. Желательно в виде класса с методами fit() и predict().\n",
    "\n",
    "Что должно быть в вашей реализации:\n",
    "1. Возможность задавать значения гиперпараметров new_dim (по умолчанию 50) и n_features (по умолчанию 1000).\n",
    "2. Возможность включать или выключать предварительное понижение размерности с помощью метода главных компонент.\n",
    "3. Возможность выбирать тип линейной модели (логистическая регрессия или SVM с линейным ядром).\n",
    "\n",
    "Протестируйте на данных Fashion MNIST, сформированных кодом выше. Если на тесте у вас получилась доля верных ответов не ниже 0.84 с гиперпараметрами по умолчанию, то вы всё сделали правильно."
   ]
  },
  {
   "cell_type": "code",
   "execution_count": 2,
   "metadata": {
    "ExecuteTime": {
     "end_time": "2020-03-30T20:45:32.285919Z",
     "start_time": "2020-03-30T20:45:32.091001Z"
    }
   },
   "outputs": [],
   "source": [
    "import numpy as np\n",
    "from sklearn.decomposition import PCA\n",
    "from sklearn.preprocessing import StandardScaler\n",
    "import numpy.linalg as LA\n",
    "from sklearn import linear_model\n",
    "from sklearn.linear_model import LogisticRegression\n",
    "from sklearn.svm import SVC\n",
    "import warnings\n",
    "warnings.filterwarnings(\"ignore\")"
   ]
  },
  {
   "cell_type": "code",
   "execution_count": 3,
   "metadata": {
    "ExecuteTime": {
     "end_time": "2020-03-30T20:45:33.334465Z",
     "start_time": "2020-03-30T20:45:33.316211Z"
    }
   },
   "outputs": [],
   "source": [
    "class RandomKitchenSinks:\n",
    "    def __init__(self,\n",
    "                 new_dim: int = 50,\n",
    "                 n_features: int = 1000,\n",
    "                 model_type: str = 'LogisticRegression',\n",
    "                 decrease_dimension: bool = True,\n",
    "                 random_state: int = 18):\n",
    "\n",
    "        self.new_dim = new_dim\n",
    "        self.n_features = n_features\n",
    "        self.model_type = model_type\n",
    "        self.decrease_dim = decrease_dimension\n",
    "        self.rand_state = random_state\n",
    "        self._clf = None\n",
    "        self._pca = None\n",
    "        self._W = None\n",
    "        self._b = None\n",
    "\n",
    "    def fit(self, X: np.array, y: np.array) -> None:\n",
    "        if self.decrease_dim:\n",
    "            pca = PCA(n_components=self.new_dim, random_state=self.rand_state)\n",
    "            pca.fit(X)\n",
    "            self._pca = pca\n",
    "        \n",
    "            X_low = self._is_pca(X)\n",
    "            sigma = self._get_sigma(X_low)\n",
    "            self._W, self._b = self._get_weights_and_bias(sigma)\n",
    "            X_new = np.cos(X_low.dot(self._W.T) + self._b)\n",
    "        else:\n",
    "            X_new = X\n",
    "\n",
    "        if self.model_type == 'LogisticRegression':\n",
    "            clf = LogisticRegression(tol=1e-2, random_state=self.rand_state)\n",
    "        elif self.model_type == 'SVC':\n",
    "            clf = SVC(kernel='rbf', random_state=self.rand_state, gamma='scale')\n",
    "        elif self.model_type == 'LinearSVC':\n",
    "            clf = SVC(kernel='linear', random_state=self.rand_state, gamma='scale')\n",
    "        else:\n",
    "            raise AttributeError('Implemented only for LogisticRegression, SVC and LinearSVC')\n",
    "\n",
    "        clf.fit(X_new, y)\n",
    "        self._clf = clf\n",
    "\n",
    "    def _get_sigma(self, X: np.array) -> float:\n",
    "        sample_size = 2000\n",
    "        np.random.seed(self.rand_state)\n",
    "        inds = np.random.default_rng(seed=self.rand_state).choice(\n",
    "            X.shape[0], size=sample_size, replace=False)\n",
    "        arr = []\n",
    "        for e, i in enumerate(inds[:-1]):\n",
    "            for j in inds[e + 1:]:\n",
    "                arr.append(np.sum(np.square(X[i] - X[j])))\n",
    "\n",
    "        return np.sqrt(np.median(arr))\n",
    "\n",
    "    def _get_weights_and_bias(self, sigma):\n",
    "        W = []\n",
    "        for i in range(self.n_features):\n",
    "            np.random.seed(self.rand_state + i)\n",
    "            W.append(np.random.normal(0, 1/sigma, self.new_dim))\n",
    "        W = np.array(W)\n",
    "        np.random.seed(self.rand_state)\n",
    "        b = np.random.uniform(-np.pi, np.pi, self.n_features)\n",
    "\n",
    "        return W, b\n",
    "\n",
    "    def _is_pca(self, X: np.array) -> np.array:\n",
    "        return self._pca.transform(X) if self.decrease_dim else X.copy()\n",
    "\n",
    "    def predict(self, X: np.array) -> np.array:\n",
    "        X_new = self._is_pca(X)\n",
    "        if self.decrease_dim:\n",
    "            X_new = np.cos(X_new.dot(self._W.T) + self._b)\n",
    "        return self.clf.predict(X_new)\n",
    "\n",
    "    def score(self, X: np.array, y: np.array) -> float:\n",
    "        X_new = self._is_pca(X)\n",
    "        if self.decrease_dim:\n",
    "            X_new = np.cos(X_new.dot(self._W.T) + self._b)\n",
    "        return self._clf.score(X_new, y)"
   ]
  },
  {
   "cell_type": "code",
   "execution_count": 5,
   "metadata": {
    "ExecuteTime": {
     "end_time": "2020-03-30T20:01:11.715379Z",
     "start_time": "2020-03-30T20:00:30.096705Z"
    },
    "hide_input": false
   },
   "outputs": [
    {
     "data": {
      "text/plain": [
       "0.8565"
      ]
     },
     "execution_count": 5,
     "metadata": {},
     "output_type": "execute_result"
    }
   ],
   "source": [
    "rks = RandomKitchenSinks()\n",
    "rks.fit(X_train, y_train)\n",
    "rks.score(X_test, y_test)"
   ]
  },
  {
   "cell_type": "markdown",
   "metadata": {},
   "source": [
    "__Задание 2. (3 балла)__\n",
    "\n",
    "Сравните подход со случайными признаками с обучением SVM на исходных признаках. Попробуйте вариант с обычным (линейным) SVM и с ядровым SVM. Ядровой SVM может очень долго обучаться, поэтому можно делать любые разумные вещи для ускорения: брать подмножество объектов из обучающей выборки, например.\n",
    "\n",
    "Сравните подход со случайными признаками с вариантом, в котором вы понижаете размерность с помощью PCA и обучаете градиентный бустинг (используйте нормальную имплементацию, а не из sklearn, и подберите число деревьев и длину шага).\n",
    "\n",
    "Сделайте выводы — насколько идея со случайными признаками работает? Сравните как с точки зрения качества, так и с точки зрения скорости обучения и применения."
   ]
  },
  {
   "cell_type": "code",
   "execution_count": 4,
   "metadata": {
    "ExecuteTime": {
     "end_time": "2020-03-30T20:45:39.907666Z",
     "start_time": "2020-03-30T20:45:39.899605Z"
    }
   },
   "outputs": [],
   "source": [
    "import lightgbm as lgb\n",
    "from sklearn.metrics import accuracy_score\n",
    "from sklearn.model_selection import GridSearchCV\n",
    "from time import time"
   ]
  },
  {
   "cell_type": "code",
   "execution_count": 6,
   "metadata": {
    "ExecuteTime": {
     "end_time": "2020-03-30T15:40:30.000979Z",
     "start_time": "2020-03-30T15:35:28.449790Z"
    },
    "scrolled": true
   },
   "outputs": [
    {
     "name": "stdout",
     "output_type": "stream",
     "text": [
      "model_type: LinearSVC, with pca: True, time: 73.12318277359009, score: 0.8486\n",
      "model_type: SVC, with pca: True, time: 101.17157363891602, score: 0.8252\n",
      "model_type: LinearSVC, with pca: False, time: 64.22402238845825, score: 0.7967\n",
      "model_type: SVC, with pca: False, time: 63.020519495010376, score: 0.8515\n"
     ]
    }
   ],
   "source": [
    "model_types = ['LinearSVC', 'SVC']\n",
    "\n",
    "np.random.seed(18)\n",
    "inds = np.random.choice(\n",
    "    X_train.shape[0], 10000, replace=False)\n",
    "X = X_train[inds, :]    \n",
    "tmp_y = y_train[inds]\n",
    "\n",
    "for is_decr in [True, False]:\n",
    "    for model_type in model_types:\n",
    "        rks = RandomKitchenSinks(\n",
    "            model_type=model_type, decrease_dimension=is_decr)\n",
    "        st = time()\n",
    "        rks.fit(X, tmp_y)\n",
    "        score = rks.score(X_test, y_test)\n",
    "        print(f'model_type: {model_type}, with pca: {is_decr}, time: {time() - st}, score: {score}')"
   ]
  },
  {
   "cell_type": "code",
   "execution_count": 8,
   "metadata": {
    "ExecuteTime": {
     "end_time": "2020-03-30T20:01:37.995195Z",
     "start_time": "2020-03-30T20:01:35.571096Z"
    }
   },
   "outputs": [],
   "source": [
    "pca = PCA(n_components=50, random_state=18)\n",
    "pca.fit(X_train)\n",
    "X = pca.transform(X_train)"
   ]
  },
  {
   "cell_type": "code",
   "execution_count": 12,
   "metadata": {
    "ExecuteTime": {
     "end_time": "2020-03-30T16:00:01.251330Z",
     "start_time": "2020-03-30T15:55:58.623562Z"
    }
   },
   "outputs": [
    {
     "name": "stdout",
     "output_type": "stream",
     "text": [
      "{'learning_rate': 0.3, 'n_estimators': 400}\n",
      "0.8832833333333333\n"
     ]
    }
   ],
   "source": [
    "gridParams = {\n",
    "    'learning_rate': [0.3, 0.1, 0.01],\n",
    "    'n_estimators': [100, 250, 500]\n",
    "}\n",
    "\n",
    "clf = lgb.LGBMClassifier(n_jobs=30, random_state=18)\n",
    "grid = GridSearchCV(clf, gridParams, verbose=0, cv=3, n_jobs=3)\n",
    "grid.fit(X, y_train)\n",
    "\n",
    "print(grid.best_params_)\n",
    "print(grid.best_score_)"
   ]
  },
  {
   "cell_type": "code",
   "execution_count": 9,
   "metadata": {
    "ExecuteTime": {
     "end_time": "2020-03-30T20:03:29.483179Z",
     "start_time": "2020-03-30T20:01:42.203610Z"
    }
   },
   "outputs": [
    {
     "name": "stdout",
     "output_type": "stream",
     "text": [
      "score: 0.8807, time: 107.27481460571289\n"
     ]
    }
   ],
   "source": [
    "best_params_ = {'learning_rate': 0.3, 'n_estimators': 400}\n",
    "clf = lgb.LGBMClassifier(**best_params_, n_jobs=1)\n",
    "st = time()\n",
    "clf.fit(X, y_train)\n",
    "X_tst = pca.transform(X_test)\n",
    "pred = clf.predict(X_tst)\n",
    "print(f'score: {accuracy_score(pred, y_test)}, time: {time() - st}')"
   ]
  },
  {
   "cell_type": "markdown",
   "metadata": {},
   "source": [
    "__Вывод:__ Если  сравнивать линейный SVM с ядровым, то почти быстрее всего и лучше всего работает ядровый без понижения размерности, и в целом получается, что обучение на случайных признаках работает хуже. При этом он может обучаться на меньшем количестве данных и показывть результат на уровне. Но если праивльно подобрать гиперпараметры, то результат может быть лучше (все сравнения были с стандартными параматрами).\n",
    "\n",
    "Если сравнивать метод случайных признаков с градиентным бустингом, то и здесь этот алгоритм показывает качество немного хуже, но при этом вреемени на обучение ему нужно меньше. \n",
    "\n",
    "Можно сделать вывод, что если требуется построить модель, которая не требует много памяти и времени для обучения, и при этом если данных много, и нет возможности обучаться на всей выборке, то в таком случае хорошо подходит подход со случайных признаков."
   ]
  },
  {
   "cell_type": "markdown",
   "metadata": {},
   "source": [
    "__Задание 3. (2 балла)__\n",
    "\n",
    "Проведите эксперименты:\n",
    "1. Помогает ли предварительное понижение размерности с помощью PCA? \n",
    "2. Как зависит итоговое качество от n_features? Выходит ли оно на плато при росте n_features?\n",
    "3. Важно ли, какую модель обучать — логистическую регрессию или SVM?"
   ]
  },
  {
   "cell_type": "code",
   "execution_count": 17,
   "metadata": {
    "ExecuteTime": {
     "end_time": "2020-03-30T16:24:15.672762Z",
     "start_time": "2020-03-30T16:13:21.153010Z"
    }
   },
   "outputs": [
    {
     "name": "stdout",
     "output_type": "stream",
     "text": [
      "model_type: LogisticRegression, with pca: True, new_dim: 20, time: 41.916661739349365, score: 0.841\n",
      "model_type: LogisticRegression, with pca: True, new_dim: 50, time: 41.99097013473511, score: 0.8565\n",
      "model_type: LogisticRegression, with pca: True, new_dim: 100, time: 47.55576467514038, score: 0.8649\n",
      "model_type: LogisticRegression, with pca: True, new_dim: 200, time: 47.65153932571411, score: 0.8659\n",
      "model_type: SVC, with pca: True, new_dim: 20, time: 98.20271062850952, score: 0.8167\n",
      "model_type: SVC, with pca: True, new_dim: 50, time: 95.74743103981018, score: 0.8369\n",
      "model_type: SVC, with pca: True, new_dim: 100, time: 96.71687769889832, score: 0.8423\n",
      "model_type: SVC, with pca: True, new_dim: 200, time: 100.68157315254211, score: 0.8452\n",
      "model_type: LogisticRegression, with pca: False, time: 20.448453903198242, score: 0.8412\n",
      "model_type: SVC, with pca: False, time: 63.57779026031494, score: 0.8515\n"
     ]
    }
   ],
   "source": [
    "for is_decr in [True, False]:\n",
    "    for model_type in ['LogisticRegression','SVC']:\n",
    "        if model_type == 'SVC':\n",
    "            np.random.seed(18)\n",
    "            inds = np.random.choice(\n",
    "                X_train.shape[0], 10000, replace=False)\n",
    "            X = X_train[inds, :]    \n",
    "            tmp_y = y_train[inds]\n",
    "        else:\n",
    "            X = X_train\n",
    "            tmp_y = y_train\n",
    "        if is_decr:\n",
    "            for new_dim in [20, 50, 100, 200]:\n",
    "                rks = RandomKitchenSinks(\n",
    "                    model_type=model_type, decrease_dimension=is_decr, new_dim=new_dim)\n",
    "                st = time()\n",
    "                rks.fit(X, tmp_y)\n",
    "                score = rks.score(X_test, y_test)\n",
    "                print(f'model_type: {model_type}, with pca: {is_decr}, new_dim: {new_dim}, time: {time() - st}, score: {score}')\n",
    "        else:\n",
    "            rks = RandomKitchenSinks(\n",
    "                model_type=model_type, decrease_dimension=is_decr)\n",
    "            st = time()\n",
    "            rks.fit(X, tmp_y)\n",
    "            score = rks.score(X_test, y_test)\n",
    "            print(f'model_type: {model_type}, with pca: {is_decr}, time: {time() - st}, score: {score}')"
   ]
  },
  {
   "cell_type": "code",
   "execution_count": 30,
   "metadata": {
    "ExecuteTime": {
     "end_time": "2020-03-30T17:07:11.335979Z",
     "start_time": "2020-03-30T16:50:59.770523Z"
    }
   },
   "outputs": [],
   "source": [
    "scores = dict()\n",
    "\n",
    "for n in [i for i in range(50, 201, 50)]:\n",
    "    rks = RandomKitchenSinks(n_features=n)\n",
    "    rks.fit(X_train, y_train)\n",
    "    scores[n] = rks.score(X_test, y_test)\n",
    "    \n",
    "for n in [i for i in range(250, 2501, 250)]:\n",
    "    rks = RandomKitchenSinks(n_features=n)\n",
    "    rks.fit(X_train, y_train)\n",
    "    scores[n] = rks.score(X_test, y_test)"
   ]
  },
  {
   "cell_type": "code",
   "execution_count": 41,
   "metadata": {
    "ExecuteTime": {
     "end_time": "2020-03-30T17:15:20.440977Z",
     "start_time": "2020-03-30T17:15:20.261495Z"
    }
   },
   "outputs": [
    {
     "data": {
      "image/png": "[encoded data removed]",
      "text/plain": [
       "<matplotlib.figure.Figure at 0x7f0cbc1dc6a0>"
      ]
     },
     "metadata": {
      "needs_background": "light"
     },
     "output_type": "display_data"
    }
   ],
   "source": [
    "from matplotlib import pylab as plt\n",
    "\n",
    "plt.figure(figsize=(15, 8))\n",
    "plt.plot(scores.keys(), scores.values())\n",
    "plt.grid()\n",
    "plt.title('Dependence of scores on n_features')\n",
    "plt.xlabel('n_features')\n",
    "plt.ylabel('scores');"
   ]
  },
  {
   "cell_type": "markdown",
   "metadata": {},
   "source": [
    "__Вывод:__\n",
    "1. Если оптимально подобрать количестов векторов для понижения размерности, то предварительное понижение может помочь, вне зависимсти от выбора линейной модели. Из за того, что PCA выделяет наиболее важные особенности объектов, применение случайности к результатам PCA приводит к хорошим результатам, но в тоже время большое количество не очень осмысленных признаков без применения PCA приводит к ухудшенной эффективности и к сильному замедлению работы модели.\n",
    "2. Итоговое качество зависит от n_features прямопропорционально, т. е. чем больше делаем признаков, тем лучше качество. Но при этом при росте n_features оно выходит на плато.\n",
    "3. Видно, что LogisticRegression на случайных призна работает быстрее и лучше, чем ядровый SVM "
   ]
  },
  {
   "cell_type": "markdown",
   "metadata": {},
   "source": [
    "### Бонус\n",
    "\n",
    "Ниже приведены задания на бонусные баллы. За исследования на стандартных датасетах из sklearn или, скажем, на титанике, баллы не будут начисляться. Приветствуются интересные выводы из проведённых экспериментов."
   ]
  },
  {
   "cell_type": "markdown",
   "metadata": {},
   "source": [
    "__Задание 4. (Максимум 2 балла)__\n",
    "\n",
    "Возьмите какой-нибудь достаточно сложный датасет, на котором хорошо работает градиентный бустинг. Сравните бустинг с нашим алгоритмом со случайными признаками с точки зрения качества и скорости. Подберите как следует гиперпараметры алгоритма."
   ]
  },
  {
   "cell_type": "markdown",
   "metadata": {},
   "source": [
    "###   [Ссылка на датасет Dota2_Games_Results](https://archive.ics.uci.edu/ml/datasets/Dota2+Games+Results)"
   ]
  },
  {
   "cell_type": "code",
   "execution_count": 5,
   "metadata": {
    "ExecuteTime": {
     "end_time": "2020-03-30T20:45:52.875038Z",
     "start_time": "2020-03-30T20:45:52.872086Z"
    }
   },
   "outputs": [],
   "source": [
    "import json\n",
    "with open('heroes.json') as json_file:\n",
    "    data = json.load(json_file)"
   ]
  },
  {
   "cell_type": "code",
   "execution_count": 6,
   "metadata": {
    "ExecuteTime": {
     "end_time": "2020-03-30T20:45:53.951648Z",
     "start_time": "2020-03-30T20:45:53.948715Z"
    }
   },
   "outputs": [],
   "source": [
    "# 1. Team won the game (1 or -1)\n",
    "# 2. Cluster ID (related to location)\n",
    "# 3. Game mode (eg All Pick)\n",
    "# 4. Game type (eg. Ranked)\n",
    "\n",
    "cols = ['win', 'cluster_id', 'game_mode', 'game_type', 'other']\n",
    "for i in data['heroes']:\n",
    "    cols.append(i['name'])"
   ]
  },
  {
   "cell_type": "code",
   "execution_count": 7,
   "metadata": {
    "ExecuteTime": {
     "end_time": "2020-03-30T20:45:55.733391Z",
     "start_time": "2020-03-30T20:45:54.820294Z"
    }
   },
   "outputs": [
    {
     "data": {
      "text/html": [
       "<div>\n",
       "<style scoped>\n",
       "    .dataframe tbody tr th:only-of-type {\n",
       "        vertical-align: middle;\n",
       "    }\n",
       "\n",
       "    .dataframe tbody tr th {\n",
       "        vertical-align: top;\n",
       "    }\n",
       "\n",
       "    .dataframe thead th {\n",
       "        text-align: right;\n",
       "    }\n",
       "</style>\n",
       "<table border=\"1\" class=\"dataframe\">\n",
       "  <thead>\n",
       "    <tr style=\"text-align: right;\">\n",
       "      <th></th>\n",
       "      <th>win</th>\n",
       "      <th>cluster_id</th>\n",
       "      <th>game_mode</th>\n",
       "      <th>game_type</th>\n",
       "      <th>other</th>\n",
       "      <th>antimage</th>\n",
       "      <th>axe</th>\n",
       "      <th>bane</th>\n",
       "      <th>bloodseeker</th>\n",
       "      <th>crystal_maiden</th>\n",
       "      <th>...</th>\n",
       "      <th>legion_commander</th>\n",
       "      <th>ember_spirit</th>\n",
       "      <th>earth_spirit</th>\n",
       "      <th>abyssal_underlord</th>\n",
       "      <th>terrorblade</th>\n",
       "      <th>phoenix</th>\n",
       "      <th>techies</th>\n",
       "      <th>oracle</th>\n",
       "      <th>winter_wyvern</th>\n",
       "      <th>arc_warden</th>\n",
       "    </tr>\n",
       "  </thead>\n",
       "  <tbody>\n",
       "    <tr>\n",
       "      <th>0</th>\n",
       "      <td>0</td>\n",
       "      <td>223</td>\n",
       "      <td>2</td>\n",
       "      <td>2</td>\n",
       "      <td>0</td>\n",
       "      <td>0</td>\n",
       "      <td>0</td>\n",
       "      <td>0</td>\n",
       "      <td>0</td>\n",
       "      <td>0</td>\n",
       "      <td>...</td>\n",
       "      <td>0</td>\n",
       "      <td>0</td>\n",
       "      <td>0</td>\n",
       "      <td>0</td>\n",
       "      <td>0</td>\n",
       "      <td>0</td>\n",
       "      <td>0</td>\n",
       "      <td>0</td>\n",
       "      <td>0</td>\n",
       "      <td>0</td>\n",
       "    </tr>\n",
       "    <tr>\n",
       "      <th>1</th>\n",
       "      <td>1</td>\n",
       "      <td>152</td>\n",
       "      <td>2</td>\n",
       "      <td>2</td>\n",
       "      <td>0</td>\n",
       "      <td>0</td>\n",
       "      <td>0</td>\n",
       "      <td>1</td>\n",
       "      <td>0</td>\n",
       "      <td>-1</td>\n",
       "      <td>...</td>\n",
       "      <td>0</td>\n",
       "      <td>0</td>\n",
       "      <td>0</td>\n",
       "      <td>0</td>\n",
       "      <td>0</td>\n",
       "      <td>0</td>\n",
       "      <td>0</td>\n",
       "      <td>0</td>\n",
       "      <td>0</td>\n",
       "      <td>0</td>\n",
       "    </tr>\n",
       "    <tr>\n",
       "      <th>2</th>\n",
       "      <td>1</td>\n",
       "      <td>131</td>\n",
       "      <td>2</td>\n",
       "      <td>2</td>\n",
       "      <td>0</td>\n",
       "      <td>0</td>\n",
       "      <td>0</td>\n",
       "      <td>1</td>\n",
       "      <td>0</td>\n",
       "      <td>-1</td>\n",
       "      <td>...</td>\n",
       "      <td>0</td>\n",
       "      <td>0</td>\n",
       "      <td>0</td>\n",
       "      <td>0</td>\n",
       "      <td>0</td>\n",
       "      <td>0</td>\n",
       "      <td>0</td>\n",
       "      <td>0</td>\n",
       "      <td>0</td>\n",
       "      <td>0</td>\n",
       "    </tr>\n",
       "    <tr>\n",
       "      <th>3</th>\n",
       "      <td>1</td>\n",
       "      <td>154</td>\n",
       "      <td>2</td>\n",
       "      <td>2</td>\n",
       "      <td>0</td>\n",
       "      <td>0</td>\n",
       "      <td>0</td>\n",
       "      <td>0</td>\n",
       "      <td>0</td>\n",
       "      <td>0</td>\n",
       "      <td>...</td>\n",
       "      <td>-1</td>\n",
       "      <td>0</td>\n",
       "      <td>0</td>\n",
       "      <td>0</td>\n",
       "      <td>0</td>\n",
       "      <td>0</td>\n",
       "      <td>0</td>\n",
       "      <td>0</td>\n",
       "      <td>0</td>\n",
       "      <td>0</td>\n",
       "    </tr>\n",
       "    <tr>\n",
       "      <th>4</th>\n",
       "      <td>0</td>\n",
       "      <td>171</td>\n",
       "      <td>2</td>\n",
       "      <td>3</td>\n",
       "      <td>0</td>\n",
       "      <td>0</td>\n",
       "      <td>0</td>\n",
       "      <td>0</td>\n",
       "      <td>0</td>\n",
       "      <td>-1</td>\n",
       "      <td>...</td>\n",
       "      <td>0</td>\n",
       "      <td>0</td>\n",
       "      <td>0</td>\n",
       "      <td>0</td>\n",
       "      <td>0</td>\n",
       "      <td>0</td>\n",
       "      <td>0</td>\n",
       "      <td>0</td>\n",
       "      <td>0</td>\n",
       "      <td>0</td>\n",
       "    </tr>\n",
       "  </tbody>\n",
       "</table>\n",
       "<p>5 rows × 117 columns</p>\n",
       "</div>"
      ],
      "text/plain": [
       "   win  cluster_id  game_mode  game_type  other  antimage  axe  bane  \\\n",
       "0    0         223          2          2      0         0    0     0   \n",
       "1    1         152          2          2      0         0    0     1   \n",
       "2    1         131          2          2      0         0    0     1   \n",
       "3    1         154          2          2      0         0    0     0   \n",
       "4    0         171          2          3      0         0    0     0   \n",
       "\n",
       "   bloodseeker  crystal_maiden  ...  legion_commander  ember_spirit  \\\n",
       "0            0               0  ...                 0             0   \n",
       "1            0              -1  ...                 0             0   \n",
       "2            0              -1  ...                 0             0   \n",
       "3            0               0  ...                -1             0   \n",
       "4            0              -1  ...                 0             0   \n",
       "\n",
       "   earth_spirit  abyssal_underlord  terrorblade  phoenix  techies  oracle  \\\n",
       "0             0                  0            0        0        0       0   \n",
       "1             0                  0            0        0        0       0   \n",
       "2             0                  0            0        0        0       0   \n",
       "3             0                  0            0        0        0       0   \n",
       "4             0                  0            0        0        0       0   \n",
       "\n",
       "   winter_wyvern  arc_warden  \n",
       "0              0           0  \n",
       "1              0           0  \n",
       "2              0           0  \n",
       "3              0           0  \n",
       "4              0           0  \n",
       "\n",
       "[5 rows x 117 columns]"
      ]
     },
     "execution_count": 7,
     "metadata": {},
     "output_type": "execute_result"
    }
   ],
   "source": [
    "import pandas as pd\n",
    "from sklearn.preprocessing import OneHotEncoder\n",
    "\n",
    "train = pd.read_csv('dota2Train.csv', names=cols)\n",
    "test = pd.read_csv('dota2Test.csv', names=cols)\n",
    "train.loc[train.win == -1, 'win'] = 0\n",
    "test.loc[test.win == -1, 'win'] = 0\n",
    "categories=['cluster_id', 'game_mode', 'game_type', 'other']\n",
    "train.head()"
   ]
  },
  {
   "cell_type": "code",
   "execution_count": 8,
   "metadata": {
    "ExecuteTime": {
     "end_time": "2020-03-30T20:45:58.298531Z",
     "start_time": "2020-03-30T20:45:58.093776Z"
    }
   },
   "outputs": [],
   "source": [
    "for i in categories:\n",
    "    train = train.join(pd.get_dummies(train[i], prefix=i))\n",
    "    del train[i]\n",
    "    test = test.join(pd.get_dummies(test[i], prefix=i))\n",
    "    del test[i]"
   ]
  },
  {
   "cell_type": "code",
   "execution_count": 9,
   "metadata": {
    "ExecuteTime": {
     "end_time": "2020-03-30T20:45:59.564322Z",
     "start_time": "2020-03-30T20:45:59.559150Z"
    }
   },
   "outputs": [
    {
     "name": "stdout",
     "output_type": "stream",
     "text": [
      "cluster_id_212\n"
     ]
    }
   ],
   "source": [
    "for i in train.columns:\n",
    "    if i not in test.columns:\n",
    "        print(i)\n",
    "        del train[i]"
   ]
  },
  {
   "cell_type": "code",
   "execution_count": 10,
   "metadata": {
    "ExecuteTime": {
     "end_time": "2020-03-30T20:46:01.135005Z",
     "start_time": "2020-03-30T20:46:01.070837Z"
    }
   },
   "outputs": [],
   "source": [
    "X_train, X_test, y_train, y_test = train.drop(columns='win').values, test.drop(columns='win').values, train['win'].values, test['win'].values"
   ]
  },
  {
   "cell_type": "code",
   "execution_count": 11,
   "metadata": {
    "ExecuteTime": {
     "end_time": "2020-03-30T20:46:01.691066Z",
     "start_time": "2020-03-30T20:46:01.687970Z"
    }
   },
   "outputs": [
    {
     "data": {
      "text/plain": [
       "((92650, 173), (10294, 173))"
      ]
     },
     "execution_count": 11,
     "metadata": {},
     "output_type": "execute_result"
    }
   ],
   "source": [
    "X_train.shape, X_test.shape"
   ]
  },
  {
   "cell_type": "code",
   "execution_count": 12,
   "metadata": {
    "ExecuteTime": {
     "end_time": "2020-03-30T20:46:03.274181Z",
     "start_time": "2020-03-30T20:46:03.269098Z"
    }
   },
   "outputs": [
    {
     "data": {
      "text/plain": [
       "(48782, 43868)"
      ]
     },
     "execution_count": 12,
     "metadata": {},
     "output_type": "execute_result"
    }
   ],
   "source": [
    "len(y_train[y_train==1]), len(y_train[y_train==0])"
   ]
  },
  {
   "cell_type": "code",
   "execution_count": 13,
   "metadata": {
    "ExecuteTime": {
     "end_time": "2020-03-30T20:46:38.031527Z",
     "start_time": "2020-03-30T20:46:09.665215Z"
    }
   },
   "outputs": [
    {
     "name": "stdout",
     "output_type": "stream",
     "text": [
      "score 0.5947153681756363 time: 28.36074733734131\n"
     ]
    }
   ],
   "source": [
    "rks = RandomKitchenSinks(new_dim=150, n_features=300)\n",
    "st = time()\n",
    "rks.fit(X_train, y_train)\n",
    "print('score', rks.score(X_test, y_test), 'time:', time() - st)"
   ]
  },
  {
   "cell_type": "code",
   "execution_count": 14,
   "metadata": {
    "ExecuteTime": {
     "end_time": "2020-03-30T20:47:12.642262Z",
     "start_time": "2020-03-30T20:46:38.034252Z"
    }
   },
   "outputs": [
    {
     "name": "stdout",
     "output_type": "stream",
     "text": [
      "{'learning_rate': 0.1, 'max_depth': 3, 'n_estimators': 300}\n",
      "0.5915704487239015\n"
     ]
    }
   ],
   "source": [
    "gridParams = {\n",
    "    'learning_rate': [0.3, 0.1, 0.01],\n",
    "    'n_estimators': [50, 100, 200, 300],\n",
    "    'max_depth': [3, 4]\n",
    "}\n",
    "\n",
    "pca = PCA(n_components=150, random_state=18)\n",
    "pca.fit(X_train)\n",
    "X = pca.transform(X_train)\n",
    "\n",
    "clf = lgb.LGBMClassifier(n_jobs=30, random_state=18)\n",
    "grid = GridSearchCV(clf, gridParams, verbose=0, cv=3, n_jobs=3)\n",
    "grid.fit(X, y_train)\n",
    "\n",
    "print(grid.best_params_)\n",
    "print(grid.best_score_)"
   ]
  },
  {
   "cell_type": "code",
   "execution_count": 15,
   "metadata": {
    "ExecuteTime": {
     "end_time": "2020-03-30T20:47:30.475045Z",
     "start_time": "2020-03-30T20:47:12.644510Z"
    }
   },
   "outputs": [
    {
     "name": "stdout",
     "output_type": "stream",
     "text": [
      "score: 0.5912181853506897, time: 17.825340747833252\n"
     ]
    }
   ],
   "source": [
    "clf = lgb.LGBMClassifier(**grid.best_params_, n_jobs=1)\n",
    "st = time()\n",
    "clf.fit(X, y_train)\n",
    "X_tst = pca.transform(X_test)\n",
    "pred = clf.predict(X_tst)\n",
    "print(f'score: {accuracy_score(pred, y_test)}, time: {time() - st}')"
   ]
  },
  {
   "cell_type": "markdown",
   "metadata": {},
   "source": [
    "__Вывод:__ Несмотря на то, что бустинг оказался быстрее, он показал качетсво хуже (может быть нужно было тщательнее подбирать гиперпараметры). Возможно, из за того что не использовал категориальные фичи, а все энкодил (а обычно бустинг больше дружит с категориаьными), то получить очень хорошего качества не удалось."
   ]
  },
  {
   "cell_type": "markdown",
   "metadata": {},
   "source": [
    "__Задание 5. (Максимум 2 балла)__\n",
    "\n",
    "Возьмите какой-нибудь датасет с текстами и решите одним из стандартных методов (например, tf-idf + логистическая регрессия или что-то нейросетевое). Сравните по качеству и скорости с нашим алгоритмом."
   ]
  },
  {
   "cell_type": "markdown",
   "metadata": {},
   "source": [
    "[Ссылка на данные](https://www.kaggle.com/c/texts-classification-ml-hse-2019/data)"
   ]
  },
  {
   "cell_type": "code",
   "execution_count": 16,
   "metadata": {
    "ExecuteTime": {
     "end_time": "2020-03-30T20:48:06.064582Z",
     "start_time": "2020-03-30T20:47:30.477246Z"
    }
   },
   "outputs": [],
   "source": [
    "Train = pd.read_csv('train.csv')"
   ]
  },
  {
   "cell_type": "code",
   "execution_count": 17,
   "metadata": {
    "ExecuteTime": {
     "end_time": "2020-03-30T20:48:13.337456Z",
     "start_time": "2020-03-30T20:48:06.066162Z"
    }
   },
   "outputs": [],
   "source": [
    "Train.fillna('', inplace=True)\n",
    "Train['td'] = Train['title'].str[:] + ' ' + Train['description'].str[:]"
   ]
  },
  {
   "cell_type": "code",
   "execution_count": 18,
   "metadata": {
    "ExecuteTime": {
     "end_time": "2020-03-30T20:48:13.719567Z",
     "start_time": "2020-03-30T20:48:13.339178Z"
    }
   },
   "outputs": [],
   "source": [
    "from gensim import utils\n",
    "import gensim.parsing.preprocessing as gsp\n",
    "from nltk.corpus import stopwords\n",
    "stopWords = stopwords.words('russian')\n",
    "from sklearn.base import BaseEstimator\n",
    "\n",
    "filters = [\n",
    "           gsp.strip_tags, \n",
    "           gsp.strip_punctuation,\n",
    "           gsp.strip_multiple_whitespaces,\n",
    "           gsp.strip_numeric,\n",
    "           gsp.remove_stopwords, \n",
    "           gsp.strip_short, \n",
    "          ]\n",
    "\n",
    "def clean_text(s):\n",
    "    s = s.lower()\n",
    "    s = utils.to_unicode(s)\n",
    "    for f in filters:\n",
    "        s = f(s)\n",
    "#     s = [stemmer.stem(word) for word in s]\n",
    "    return s"
   ]
  },
  {
   "cell_type": "code",
   "execution_count": 19,
   "metadata": {
    "ExecuteTime": {
     "end_time": "2020-03-30T20:48:15.870643Z",
     "start_time": "2020-03-30T20:48:14.881559Z"
    }
   },
   "outputs": [],
   "source": [
    "np.random.seed(18)\n",
    "inds = np.random.choice(\n",
    "    Train.shape[0], 80000, replace=False)\n",
    "X = Train[Train.index.isin(inds)]\n",
    "tmp_y = Train['Category'].values[inds]"
   ]
  },
  {
   "cell_type": "code",
   "execution_count": 20,
   "metadata": {
    "ExecuteTime": {
     "end_time": "2020-03-30T20:48:15.886751Z",
     "start_time": "2020-03-30T20:48:15.872381Z"
    }
   },
   "outputs": [],
   "source": [
    "X = X.reset_index(drop=True)"
   ]
  },
  {
   "cell_type": "code",
   "execution_count": 21,
   "metadata": {
    "ExecuteTime": {
     "end_time": "2020-03-30T20:48:15.893052Z",
     "start_time": "2020-03-30T20:48:15.888716Z"
    }
   },
   "outputs": [],
   "source": [
    "from sklearn.feature_extraction.text import TfidfVectorizer\n",
    "\n",
    "class Text2TfIdfTransformer(BaseEstimator):\n",
    "    def __init__(self):\n",
    "        self._model = TfidfVectorizer(stop_words=stopWords,  min_df=10, max_df=0.8)\n",
    "\n",
    "    def fit(self, df_x, df_y=None):\n",
    "        df_x = df_x.apply(lambda x : clean_text(x))\n",
    "        self._model.fit(df_x)\n",
    "        return self\n",
    "\n",
    "    def transform(self, df_x):\n",
    "        return self._model.transform(df_x)"
   ]
  },
  {
   "cell_type": "code",
   "execution_count": 22,
   "metadata": {
    "ExecuteTime": {
     "end_time": "2020-03-30T20:48:26.699219Z",
     "start_time": "2020-03-30T20:48:15.894583Z"
    }
   },
   "outputs": [
    {
     "data": {
      "text/plain": [
       "Text2TfIdfTransformer()"
      ]
     },
     "execution_count": 22,
     "metadata": {},
     "output_type": "execute_result"
    }
   ],
   "source": [
    "tfidf_transformer = Text2TfIdfTransformer()\n",
    "tfidf_transformer.fit(X['td'])"
   ]
  },
  {
   "cell_type": "code",
   "execution_count": 23,
   "metadata": {
    "ExecuteTime": {
     "end_time": "2020-03-30T20:48:30.084400Z",
     "start_time": "2020-03-30T20:48:26.700550Z"
    }
   },
   "outputs": [],
   "source": [
    "tfidf_X = tfidf_transformer.transform(X['td'])"
   ]
  },
  {
   "cell_type": "code",
   "execution_count": 24,
   "metadata": {
    "ExecuteTime": {
     "end_time": "2020-03-30T20:48:30.089299Z",
     "start_time": "2020-03-30T20:48:30.086045Z"
    }
   },
   "outputs": [
    {
     "data": {
      "text/plain": [
       "(80000, 22907)"
      ]
     },
     "execution_count": 24,
     "metadata": {},
     "output_type": "execute_result"
    }
   ],
   "source": [
    "tfidf_X.shape"
   ]
  },
  {
   "cell_type": "code",
   "execution_count": 25,
   "metadata": {
    "ExecuteTime": {
     "end_time": "2020-03-30T20:48:30.111442Z",
     "start_time": "2020-03-30T20:48:30.090633Z"
    }
   },
   "outputs": [],
   "source": [
    "from sklearn.model_selection import train_test_split\n",
    "\n",
    "X_train, X_test, y_train, y_test = train_test_split(tfidf_X, tmp_y, test_size=0.1, random_state=18)"
   ]
  },
  {
   "cell_type": "code",
   "execution_count": 27,
   "metadata": {
    "ExecuteTime": {
     "end_time": "2020-03-30T20:53:06.137436Z",
     "start_time": "2020-03-30T20:53:06.119308Z"
    }
   },
   "outputs": [
    {
     "data": {
      "text/plain": [
       "(0.17175, 276.0195503234863)"
      ]
     },
     "execution_count": 27,
     "metadata": {},
     "output_type": "execute_result"
    }
   ],
   "source": [
    "clf = LogisticRegression()\n",
    "st = time()\n",
    "clf.fit(X_train, y_train)\n",
    "clf.score(X_test, y_test), time() - st"
   ]
  },
  {
   "cell_type": "code",
   "execution_count": 29,
   "metadata": {
    "ExecuteTime": {
     "end_time": "2020-03-30T20:58:15.478066Z",
     "start_time": "2020-03-30T20:54:46.026399Z"
    }
   },
   "outputs": [
    {
     "name": "stdout",
     "output_type": "stream",
     "text": [
      "score 0.172875 time: 209.44366478919983\n"
     ]
    }
   ],
   "source": [
    "rks = RandomKitchenSinks(new_dim=250, n_features=1000)\n",
    "st = time()\n",
    "rks.fit(X_train.toarray(), y_train)\n",
    "print('score', rks.score(X_test.toarray(), y_test), 'time:', time() - st)"
   ]
  },
  {
   "cell_type": "markdown",
   "metadata": {},
   "source": [
    "__Вывод:__ Датасет оказался не очень\n",
    "Тем не менее наш метод на нем показал лучшую скорость и время"
   ]
  },
  {
   "cell_type": "markdown",
   "metadata": {},
   "source": [
    "__Задание 6. (Максимум 2 балла)__\n",
    "\n",
    "Поэкспериментируйте на нескольких датасетах из прошлых пунктов с фукнциями для вычисления новых случайных признаков. Не обязательно использовать косинус от скалярного произведения — можно брать знак от него, хэш и т.д. Придумайте побольше вариантов для генерации признаков и проверьте, не получается ли с их помощью добиваться более высокого качества."
   ]
  },
  {
   "cell_type": "code",
   "execution_count": null,
   "metadata": {},
   "outputs": [],
   "source": []
  }
 ],
 "metadata": {
  "hide_input": false,
  "kernelspec": {
   "display_name": "Python 3",
   "language": "python",
   "name": "python3"
  },
  "language_info": {
   "codemirror_mode": {
    "name": "ipython",
    "version": 3
   },
   "file_extension": ".py",
   "mimetype": "text/x-python",
   "name": "python",
   "nbconvert_exporter": "python",
   "pygments_lexer": "ipython3",
   "version": "3.6.9"
  }
 },
 "nbformat": 4,
 "nbformat_minor": 2
}
