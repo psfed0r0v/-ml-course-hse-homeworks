{
 "cells": [
  {
   "cell_type": "markdown",
   "metadata": {},
   "source": [
    "# Машинное обучение, ФКН ВШЭ\n",
    "\n",
    "## Практическое задание 7. Градиентный бустинг ~~своими руками~~\n",
    "\n",
    "### Общая информация\n",
    "Дата выдачи: 04.12.2019\n",
    "\n",
    "Мягкий дедлайн: 05:59MSK 15.12.2019\n",
    "\n",
    "Жесткий дедлайн: 05:59MSK 17.12.2019\n",
    "\n",
    "### Оценивание и штрафы\n",
    "Каждая из задач имеет определенную «стоимость» (указана в скобках около задачи). Максимально допустимая оценка за работу — 15.5 баллов.\n",
    "\n",
    "Сдавать задание после указанного срока сдачи нельзя. При выставлении неполного балла за задание в связи с наличием ошибок на усмотрение проверяющего предусмотрена возможность исправить работу на указанных в ответном письме условиях.\n",
    "\n",
    "Задание выполняется самостоятельно. «Похожие» решения считаются плагиатом и все задействованные студенты (в том числе те, у кого списали) не могут получить за него больше 0 баллов (подробнее о плагиате см. на странице курса). Если вы нашли решение какого-то из заданий (или его часть) в открытом источнике, необходимо указать ссылку на этот источник в отдельном блоке в конце вашей работы (скорее всего вы будете не единственным, кто это нашел, поэтому чтобы исключить подозрение в плагиате, необходима ссылка на источник).\n",
    "\n",
    "Неэффективная реализация кода может негативно отразиться на оценке.\n",
    "\n",
    "### Формат сдачи\n",
    "Задания сдаются через систему anytask. Посылка должна содержать:\n",
    "* Ноутбук homework-practice-07-Username.ipynb\n",
    "\n",
    "Username — ваша фамилия и имя на латинице именно в таком порядке"
   ]
  },
  {
   "cell_type": "markdown",
   "metadata": {},
   "source": [
    "__Задание 1. (0.5 балла)__\n",
    "\n",
    "Мы будем использовать данные из [соревнования](https://www.kaggle.com/t/b710e05dc0bd424995ca94da5b639869). \n",
    "* Загрузите таблицу application_train.csv;\n",
    "* Запишите в Y столбец с целевой переменной (TARGET);\n",
    "* Удалите ненужные столбцы (для этого воспользуйтесь описанием);\n",
    "* Определите тип столбцов и заполните пропуски - стратегия произвольная;\n",
    "* Разбейте выборку в соотношении 70:30 с random_state=0.\n",
    "\n",
    "Так как в данных имеется значительный дисбаланс классов, в качестве метрики качества везде будем использовать площадь под precision-recall кривой (AUC-PR)."
   ]
  },
  {
   "cell_type": "code",
   "execution_count": 1,
   "metadata": {},
   "outputs": [],
   "source": [
    "import pandas as pd\n",
    "import numpy as np\n",
    "from catboost import CatBoostClassifier\n",
    "from lightgbm import LGBMClassifier\n",
    "\n",
    "import warnings\n",
    "warnings.filterwarnings(\"ignore\")"
   ]
  },
  {
   "cell_type": "code",
   "execution_count": 2,
   "metadata": {},
   "outputs": [
    {
     "data": {
      "text/html": [
       "<div>\n",
       "<style scoped>\n",
       "    .dataframe tbody tr th:only-of-type {\n",
       "        vertical-align: middle;\n",
       "    }\n",
       "\n",
       "    .dataframe tbody tr th {\n",
       "        vertical-align: top;\n",
       "    }\n",
       "\n",
       "    .dataframe thead th {\n",
       "        text-align: right;\n",
       "    }\n",
       "</style>\n",
       "<table border=\"1\" class=\"dataframe\">\n",
       "  <thead>\n",
       "    <tr style=\"text-align: right;\">\n",
       "      <th></th>\n",
       "      <th>SK_ID_CURR</th>\n",
       "      <th>TARGET</th>\n",
       "      <th>NAME_CONTRACT_TYPE</th>\n",
       "      <th>CODE_GENDER</th>\n",
       "      <th>FLAG_OWN_CAR</th>\n",
       "      <th>FLAG_OWN_REALTY</th>\n",
       "      <th>CNT_CHILDREN</th>\n",
       "      <th>AMT_INCOME_TOTAL</th>\n",
       "      <th>AMT_CREDIT</th>\n",
       "      <th>AMT_ANNUITY</th>\n",
       "      <th>...</th>\n",
       "      <th>FLAG_DOCUMENT_18</th>\n",
       "      <th>FLAG_DOCUMENT_19</th>\n",
       "      <th>FLAG_DOCUMENT_20</th>\n",
       "      <th>FLAG_DOCUMENT_21</th>\n",
       "      <th>AMT_REQ_CREDIT_BUREAU_HOUR</th>\n",
       "      <th>AMT_REQ_CREDIT_BUREAU_DAY</th>\n",
       "      <th>AMT_REQ_CREDIT_BUREAU_WEEK</th>\n",
       "      <th>AMT_REQ_CREDIT_BUREAU_MON</th>\n",
       "      <th>AMT_REQ_CREDIT_BUREAU_QRT</th>\n",
       "      <th>AMT_REQ_CREDIT_BUREAU_YEAR</th>\n",
       "    </tr>\n",
       "  </thead>\n",
       "  <tbody>\n",
       "    <tr>\n",
       "      <th>0</th>\n",
       "      <td>247330</td>\n",
       "      <td>0</td>\n",
       "      <td>Cash loans</td>\n",
       "      <td>F</td>\n",
       "      <td>N</td>\n",
       "      <td>N</td>\n",
       "      <td>0</td>\n",
       "      <td>157500.0</td>\n",
       "      <td>706410.0</td>\n",
       "      <td>67072.5</td>\n",
       "      <td>...</td>\n",
       "      <td>0</td>\n",
       "      <td>0</td>\n",
       "      <td>0</td>\n",
       "      <td>0</td>\n",
       "      <td>0.0</td>\n",
       "      <td>0.0</td>\n",
       "      <td>0.0</td>\n",
       "      <td>0.0</td>\n",
       "      <td>0.0</td>\n",
       "      <td>1.0</td>\n",
       "    </tr>\n",
       "    <tr>\n",
       "      <th>1</th>\n",
       "      <td>425716</td>\n",
       "      <td>1</td>\n",
       "      <td>Cash loans</td>\n",
       "      <td>F</td>\n",
       "      <td>Y</td>\n",
       "      <td>Y</td>\n",
       "      <td>1</td>\n",
       "      <td>121500.0</td>\n",
       "      <td>545040.0</td>\n",
       "      <td>25407.0</td>\n",
       "      <td>...</td>\n",
       "      <td>0</td>\n",
       "      <td>0</td>\n",
       "      <td>0</td>\n",
       "      <td>0</td>\n",
       "      <td>0.0</td>\n",
       "      <td>0.0</td>\n",
       "      <td>0.0</td>\n",
       "      <td>0.0</td>\n",
       "      <td>0.0</td>\n",
       "      <td>0.0</td>\n",
       "    </tr>\n",
       "    <tr>\n",
       "      <th>2</th>\n",
       "      <td>331625</td>\n",
       "      <td>0</td>\n",
       "      <td>Cash loans</td>\n",
       "      <td>M</td>\n",
       "      <td>Y</td>\n",
       "      <td>Y</td>\n",
       "      <td>1</td>\n",
       "      <td>225000.0</td>\n",
       "      <td>942300.0</td>\n",
       "      <td>27679.5</td>\n",
       "      <td>...</td>\n",
       "      <td>0</td>\n",
       "      <td>0</td>\n",
       "      <td>0</td>\n",
       "      <td>0</td>\n",
       "      <td>0.0</td>\n",
       "      <td>0.0</td>\n",
       "      <td>0.0</td>\n",
       "      <td>0.0</td>\n",
       "      <td>0.0</td>\n",
       "      <td>1.0</td>\n",
       "    </tr>\n",
       "    <tr>\n",
       "      <th>3</th>\n",
       "      <td>455397</td>\n",
       "      <td>0</td>\n",
       "      <td>Revolving loans</td>\n",
       "      <td>F</td>\n",
       "      <td>N</td>\n",
       "      <td>Y</td>\n",
       "      <td>2</td>\n",
       "      <td>144000.0</td>\n",
       "      <td>180000.0</td>\n",
       "      <td>9000.0</td>\n",
       "      <td>...</td>\n",
       "      <td>0</td>\n",
       "      <td>0</td>\n",
       "      <td>0</td>\n",
       "      <td>0</td>\n",
       "      <td>0.0</td>\n",
       "      <td>0.0</td>\n",
       "      <td>0.0</td>\n",
       "      <td>0.0</td>\n",
       "      <td>1.0</td>\n",
       "      <td>2.0</td>\n",
       "    </tr>\n",
       "    <tr>\n",
       "      <th>4</th>\n",
       "      <td>449114</td>\n",
       "      <td>0</td>\n",
       "      <td>Cash loans</td>\n",
       "      <td>F</td>\n",
       "      <td>N</td>\n",
       "      <td>Y</td>\n",
       "      <td>0</td>\n",
       "      <td>112500.0</td>\n",
       "      <td>729792.0</td>\n",
       "      <td>37390.5</td>\n",
       "      <td>...</td>\n",
       "      <td>0</td>\n",
       "      <td>0</td>\n",
       "      <td>0</td>\n",
       "      <td>0</td>\n",
       "      <td>0.0</td>\n",
       "      <td>0.0</td>\n",
       "      <td>0.0</td>\n",
       "      <td>0.0</td>\n",
       "      <td>1.0</td>\n",
       "      <td>0.0</td>\n",
       "    </tr>\n",
       "  </tbody>\n",
       "</table>\n",
       "<p>5 rows × 122 columns</p>\n",
       "</div>"
      ],
      "text/plain": [
       "   SK_ID_CURR  TARGET NAME_CONTRACT_TYPE CODE_GENDER FLAG_OWN_CAR  \\\n",
       "0      247330       0         Cash loans           F            N   \n",
       "1      425716       1         Cash loans           F            Y   \n",
       "2      331625       0         Cash loans           M            Y   \n",
       "3      455397       0    Revolving loans           F            N   \n",
       "4      449114       0         Cash loans           F            N   \n",
       "\n",
       "  FLAG_OWN_REALTY  CNT_CHILDREN  AMT_INCOME_TOTAL  AMT_CREDIT  AMT_ANNUITY  \\\n",
       "0               N             0          157500.0    706410.0      67072.5   \n",
       "1               Y             1          121500.0    545040.0      25407.0   \n",
       "2               Y             1          225000.0    942300.0      27679.5   \n",
       "3               Y             2          144000.0    180000.0       9000.0   \n",
       "4               Y             0          112500.0    729792.0      37390.5   \n",
       "\n",
       "   ...  FLAG_DOCUMENT_18 FLAG_DOCUMENT_19 FLAG_DOCUMENT_20 FLAG_DOCUMENT_21  \\\n",
       "0  ...                 0                0                0                0   \n",
       "1  ...                 0                0                0                0   \n",
       "2  ...                 0                0                0                0   \n",
       "3  ...                 0                0                0                0   \n",
       "4  ...                 0                0                0                0   \n",
       "\n",
       "  AMT_REQ_CREDIT_BUREAU_HOUR AMT_REQ_CREDIT_BUREAU_DAY  \\\n",
       "0                        0.0                       0.0   \n",
       "1                        0.0                       0.0   \n",
       "2                        0.0                       0.0   \n",
       "3                        0.0                       0.0   \n",
       "4                        0.0                       0.0   \n",
       "\n",
       "   AMT_REQ_CREDIT_BUREAU_WEEK  AMT_REQ_CREDIT_BUREAU_MON  \\\n",
       "0                         0.0                        0.0   \n",
       "1                         0.0                        0.0   \n",
       "2                         0.0                        0.0   \n",
       "3                         0.0                        0.0   \n",
       "4                         0.0                        0.0   \n",
       "\n",
       "   AMT_REQ_CREDIT_BUREAU_QRT  AMT_REQ_CREDIT_BUREAU_YEAR  \n",
       "0                        0.0                         1.0  \n",
       "1                        0.0                         0.0  \n",
       "2                        0.0                         1.0  \n",
       "3                        1.0                         2.0  \n",
       "4                        1.0                         0.0  \n",
       "\n",
       "[5 rows x 122 columns]"
      ]
     },
     "execution_count": 2,
     "metadata": {},
     "output_type": "execute_result"
    }
   ],
   "source": [
    "data = pd.read_csv('application_train.csv')\n",
    "data.head()"
   ]
  },
  {
   "cell_type": "code",
   "execution_count": 3,
   "metadata": {
    "scrolled": true
   },
   "outputs": [
    {
     "name": "stdout",
     "output_type": "stream",
     "text": [
      "Dropped: REGION_POPULATION_RELATIVE\n",
      "Dropped: FLAG_MOBIL\n",
      "Dropped: FLAG_CONT_MOBILE\n",
      "Dropped: FLAG_DOCUMENT_2\n",
      "Dropped: FLAG_DOCUMENT_4\n",
      "Dropped: FLAG_DOCUMENT_7\n",
      "Dropped: FLAG_DOCUMENT_9\n",
      "Dropped: FLAG_DOCUMENT_10\n",
      "Dropped: FLAG_DOCUMENT_11\n",
      "Dropped: FLAG_DOCUMENT_12\n",
      "Dropped: FLAG_DOCUMENT_13\n",
      "Dropped: FLAG_DOCUMENT_14\n",
      "Dropped: FLAG_DOCUMENT_15\n",
      "Dropped: FLAG_DOCUMENT_16\n",
      "Dropped: FLAG_DOCUMENT_17\n",
      "Dropped: FLAG_DOCUMENT_18\n",
      "Dropped: FLAG_DOCUMENT_19\n",
      "Dropped: FLAG_DOCUMENT_20\n",
      "Dropped: FLAG_DOCUMENT_21\n"
     ]
    },
    {
     "data": {
      "text/html": [
       "<div>\n",
       "<style scoped>\n",
       "    .dataframe tbody tr th:only-of-type {\n",
       "        vertical-align: middle;\n",
       "    }\n",
       "\n",
       "    .dataframe tbody tr th {\n",
       "        vertical-align: top;\n",
       "    }\n",
       "\n",
       "    .dataframe thead th {\n",
       "        text-align: right;\n",
       "    }\n",
       "</style>\n",
       "<table border=\"1\" class=\"dataframe\">\n",
       "  <thead>\n",
       "    <tr style=\"text-align: right;\">\n",
       "      <th></th>\n",
       "      <th>SK_ID_CURR</th>\n",
       "      <th>TARGET</th>\n",
       "      <th>NAME_CONTRACT_TYPE</th>\n",
       "      <th>CODE_GENDER</th>\n",
       "      <th>FLAG_OWN_CAR</th>\n",
       "      <th>FLAG_OWN_REALTY</th>\n",
       "      <th>CNT_CHILDREN</th>\n",
       "      <th>AMT_INCOME_TOTAL</th>\n",
       "      <th>AMT_CREDIT</th>\n",
       "      <th>AMT_ANNUITY</th>\n",
       "      <th>...</th>\n",
       "      <th>FLAG_DOCUMENT_3</th>\n",
       "      <th>FLAG_DOCUMENT_5</th>\n",
       "      <th>FLAG_DOCUMENT_6</th>\n",
       "      <th>FLAG_DOCUMENT_8</th>\n",
       "      <th>AMT_REQ_CREDIT_BUREAU_HOUR</th>\n",
       "      <th>AMT_REQ_CREDIT_BUREAU_DAY</th>\n",
       "      <th>AMT_REQ_CREDIT_BUREAU_WEEK</th>\n",
       "      <th>AMT_REQ_CREDIT_BUREAU_MON</th>\n",
       "      <th>AMT_REQ_CREDIT_BUREAU_QRT</th>\n",
       "      <th>AMT_REQ_CREDIT_BUREAU_YEAR</th>\n",
       "    </tr>\n",
       "  </thead>\n",
       "  <tbody>\n",
       "    <tr>\n",
       "      <th>0</th>\n",
       "      <td>247330</td>\n",
       "      <td>0</td>\n",
       "      <td>Cash loans</td>\n",
       "      <td>F</td>\n",
       "      <td>N</td>\n",
       "      <td>N</td>\n",
       "      <td>0</td>\n",
       "      <td>157500.0</td>\n",
       "      <td>706410.0</td>\n",
       "      <td>67072.5</td>\n",
       "      <td>...</td>\n",
       "      <td>1</td>\n",
       "      <td>0</td>\n",
       "      <td>0</td>\n",
       "      <td>0</td>\n",
       "      <td>0.0</td>\n",
       "      <td>0.0</td>\n",
       "      <td>0.0</td>\n",
       "      <td>0.0</td>\n",
       "      <td>0.0</td>\n",
       "      <td>1.0</td>\n",
       "    </tr>\n",
       "    <tr>\n",
       "      <th>1</th>\n",
       "      <td>425716</td>\n",
       "      <td>1</td>\n",
       "      <td>Cash loans</td>\n",
       "      <td>F</td>\n",
       "      <td>Y</td>\n",
       "      <td>Y</td>\n",
       "      <td>1</td>\n",
       "      <td>121500.0</td>\n",
       "      <td>545040.0</td>\n",
       "      <td>25407.0</td>\n",
       "      <td>...</td>\n",
       "      <td>1</td>\n",
       "      <td>0</td>\n",
       "      <td>0</td>\n",
       "      <td>0</td>\n",
       "      <td>0.0</td>\n",
       "      <td>0.0</td>\n",
       "      <td>0.0</td>\n",
       "      <td>0.0</td>\n",
       "      <td>0.0</td>\n",
       "      <td>0.0</td>\n",
       "    </tr>\n",
       "    <tr>\n",
       "      <th>2</th>\n",
       "      <td>331625</td>\n",
       "      <td>0</td>\n",
       "      <td>Cash loans</td>\n",
       "      <td>M</td>\n",
       "      <td>Y</td>\n",
       "      <td>Y</td>\n",
       "      <td>1</td>\n",
       "      <td>225000.0</td>\n",
       "      <td>942300.0</td>\n",
       "      <td>27679.5</td>\n",
       "      <td>...</td>\n",
       "      <td>1</td>\n",
       "      <td>0</td>\n",
       "      <td>0</td>\n",
       "      <td>0</td>\n",
       "      <td>0.0</td>\n",
       "      <td>0.0</td>\n",
       "      <td>0.0</td>\n",
       "      <td>0.0</td>\n",
       "      <td>0.0</td>\n",
       "      <td>1.0</td>\n",
       "    </tr>\n",
       "    <tr>\n",
       "      <th>3</th>\n",
       "      <td>455397</td>\n",
       "      <td>0</td>\n",
       "      <td>Revolving loans</td>\n",
       "      <td>F</td>\n",
       "      <td>N</td>\n",
       "      <td>Y</td>\n",
       "      <td>2</td>\n",
       "      <td>144000.0</td>\n",
       "      <td>180000.0</td>\n",
       "      <td>9000.0</td>\n",
       "      <td>...</td>\n",
       "      <td>0</td>\n",
       "      <td>0</td>\n",
       "      <td>0</td>\n",
       "      <td>0</td>\n",
       "      <td>0.0</td>\n",
       "      <td>0.0</td>\n",
       "      <td>0.0</td>\n",
       "      <td>0.0</td>\n",
       "      <td>1.0</td>\n",
       "      <td>2.0</td>\n",
       "    </tr>\n",
       "    <tr>\n",
       "      <th>4</th>\n",
       "      <td>449114</td>\n",
       "      <td>0</td>\n",
       "      <td>Cash loans</td>\n",
       "      <td>F</td>\n",
       "      <td>N</td>\n",
       "      <td>Y</td>\n",
       "      <td>0</td>\n",
       "      <td>112500.0</td>\n",
       "      <td>729792.0</td>\n",
       "      <td>37390.5</td>\n",
       "      <td>...</td>\n",
       "      <td>0</td>\n",
       "      <td>0</td>\n",
       "      <td>1</td>\n",
       "      <td>0</td>\n",
       "      <td>0.0</td>\n",
       "      <td>0.0</td>\n",
       "      <td>0.0</td>\n",
       "      <td>0.0</td>\n",
       "      <td>1.0</td>\n",
       "      <td>0.0</td>\n",
       "    </tr>\n",
       "  </tbody>\n",
       "</table>\n",
       "<p>5 rows × 103 columns</p>\n",
       "</div>"
      ],
      "text/plain": [
       "   SK_ID_CURR  TARGET NAME_CONTRACT_TYPE CODE_GENDER FLAG_OWN_CAR  \\\n",
       "0      247330       0         Cash loans           F            N   \n",
       "1      425716       1         Cash loans           F            Y   \n",
       "2      331625       0         Cash loans           M            Y   \n",
       "3      455397       0    Revolving loans           F            N   \n",
       "4      449114       0         Cash loans           F            N   \n",
       "\n",
       "  FLAG_OWN_REALTY  CNT_CHILDREN  AMT_INCOME_TOTAL  AMT_CREDIT  AMT_ANNUITY  \\\n",
       "0               N             0          157500.0    706410.0      67072.5   \n",
       "1               Y             1          121500.0    545040.0      25407.0   \n",
       "2               Y             1          225000.0    942300.0      27679.5   \n",
       "3               Y             2          144000.0    180000.0       9000.0   \n",
       "4               Y             0          112500.0    729792.0      37390.5   \n",
       "\n",
       "   ...  FLAG_DOCUMENT_3 FLAG_DOCUMENT_5 FLAG_DOCUMENT_6 FLAG_DOCUMENT_8  \\\n",
       "0  ...                1               0               0               0   \n",
       "1  ...                1               0               0               0   \n",
       "2  ...                1               0               0               0   \n",
       "3  ...                0               0               0               0   \n",
       "4  ...                0               0               1               0   \n",
       "\n",
       "  AMT_REQ_CREDIT_BUREAU_HOUR AMT_REQ_CREDIT_BUREAU_DAY  \\\n",
       "0                        0.0                       0.0   \n",
       "1                        0.0                       0.0   \n",
       "2                        0.0                       0.0   \n",
       "3                        0.0                       0.0   \n",
       "4                        0.0                       0.0   \n",
       "\n",
       "   AMT_REQ_CREDIT_BUREAU_WEEK  AMT_REQ_CREDIT_BUREAU_MON  \\\n",
       "0                         0.0                        0.0   \n",
       "1                         0.0                        0.0   \n",
       "2                         0.0                        0.0   \n",
       "3                         0.0                        0.0   \n",
       "4                         0.0                        0.0   \n",
       "\n",
       "   AMT_REQ_CREDIT_BUREAU_QRT  AMT_REQ_CREDIT_BUREAU_YEAR  \n",
       "0                        0.0                         1.0  \n",
       "1                        0.0                         0.0  \n",
       "2                        0.0                         1.0  \n",
       "3                        1.0                         2.0  \n",
       "4                        1.0                         0.0  \n",
       "\n",
       "[5 rows x 103 columns]"
      ]
     },
     "execution_count": 3,
     "metadata": {},
     "output_type": "execute_result"
    }
   ],
   "source": [
    "eps = 1e-2\n",
    "numeric = [np.int64, np.float64]\n",
    "numeric_features = []\n",
    "for col in data.columns.values:\n",
    "    if data[col].values.dtype in numeric:\n",
    "        if data[col].values.var() < eps:\n",
    "            data = data.drop(columns=col)\n",
    "            print('Dropped:', col)\n",
    "            continue\n",
    "        numeric_features.append(col)\n",
    "        data[col] = np.nan_to_num(data[col].values)\n",
    "data.head()"
   ]
  },
  {
   "cell_type": "code",
   "execution_count": 4,
   "metadata": {},
   "outputs": [
    {
     "name": "stdout",
     "output_type": "stream",
     "text": [
      "Categorical:NAME_CONTRACT_TYPE\n",
      "Categorical:CODE_GENDER\n",
      "Categorical:FLAG_OWN_CAR\n",
      "Categorical:FLAG_OWN_REALTY\n",
      "Categorical:NAME_TYPE_SUITE\n",
      "Categorical:NAME_INCOME_TYPE\n",
      "Categorical:NAME_EDUCATION_TYPE\n",
      "Categorical:NAME_FAMILY_STATUS\n",
      "Categorical:NAME_HOUSING_TYPE\n",
      "Categorical:OCCUPATION_TYPE\n",
      "Categorical:WEEKDAY_APPR_PROCESS_START\n",
      "Categorical:ORGANIZATION_TYPE\n",
      "Categorical:FONDKAPREMONT_MODE\n",
      "Categorical:HOUSETYPE_MODE\n",
      "Categorical:WALLSMATERIAL_MODE\n",
      "Categorical:EMERGENCYSTATE_MODE\n"
     ]
    }
   ],
   "source": [
    "cat = [np.str, np.object]\n",
    "cat_features = []\n",
    "for col in data.columns:\n",
    "    if data[col].values.dtype in cat:\n",
    "        data[col] = data[col].values.astype(np.str)\n",
    "        cat_features.append(col)\n",
    "        print('Categorical:' + col)"
   ]
  },
  {
   "cell_type": "code",
   "execution_count": 5,
   "metadata": {},
   "outputs": [],
   "source": [
    "target = data['TARGET']\n",
    "data.drop(columns='TARGET', inplace=True)"
   ]
  },
  {
   "cell_type": "code",
   "execution_count": 6,
   "metadata": {},
   "outputs": [],
   "source": [
    "numeric_data = data.select_dtypes(include=['int64','float64'])"
   ]
  },
  {
   "cell_type": "code",
   "execution_count": 7,
   "metadata": {},
   "outputs": [],
   "source": [
    "from sklearn.model_selection import train_test_split\n",
    "\n",
    "X_train, X_test, y_train, y_test = train_test_split(numeric_data, target, test_size=0.3, random_state=0)"
   ]
  },
  {
   "cell_type": "code",
   "execution_count": 8,
   "metadata": {},
   "outputs": [
    {
     "data": {
      "text/plain": [
       "(215257, 102)"
      ]
     },
     "execution_count": 8,
     "metadata": {},
     "output_type": "execute_result"
    }
   ],
   "source": [
    "data.shape"
   ]
  },
  {
   "cell_type": "markdown",
   "metadata": {},
   "source": [
    "__Задание 2. (1.5 балла)__\n",
    "\n",
    "Обучите реализации градиентного бустинга LightGBM и Catboost на вещественных признаках без подбора параметров. \n",
    "Почему получилась заметная разница в качестве? \n",
    "\n",
    "В этом и последующих экспериментах необходимо измерять время обучения моделей."
   ]
  },
  {
   "cell_type": "code",
   "execution_count": 11,
   "metadata": {},
   "outputs": [
    {
     "name": "stdout",
     "output_type": "stream",
     "text": [
      "CPU times: user 1h 54min 43s, sys: 1min 8s, total: 1h 55min 52s\n",
      "Wall time: 2min 2s\n"
     ]
    },
    {
     "data": {
      "text/plain": [
       "0.24136260207085097"
      ]
     },
     "execution_count": 11,
     "metadata": {},
     "output_type": "execute_result"
    }
   ],
   "source": [
    "from sklearn.metrics import average_precision_score, roc_auc_score\n",
    "\n",
    "cat = CatBoostClassifier(silent=True)\n",
    "%time cat.fit(X_train, y_train)\n",
    "average_precision_score(y_test, cat.predict_proba(X_test)[:,1])"
   ]
  },
  {
   "cell_type": "code",
   "execution_count": 12,
   "metadata": {},
   "outputs": [
    {
     "name": "stdout",
     "output_type": "stream",
     "text": [
      "CPU times: user 3min 52s, sys: 18.7 s, total: 4min 11s\n",
      "Wall time: 4.35 s\n"
     ]
    },
    {
     "data": {
      "text/plain": [
       "0.232532461029965"
      ]
     },
     "execution_count": 12,
     "metadata": {},
     "output_type": "execute_result"
    }
   ],
   "source": [
    "lgb = LGBMClassifier()\n",
    "%time lgb.fit(X_train, y_train)\n",
    "average_precision_score(y_test, lgb.predict_proba(X_test)[:,1])"
   ]
  },
  {
   "cell_type": "markdown",
   "metadata": {},
   "source": [
    "__Вывод:__ Качество получилось немного лучше у catboost'a, так как он является менее чувствительным к подбору гиперпараметров, чем lightgbm, который к тому же и делает разбиение не по значениям признаков, а по их гистограмам. При этом lightgbm обучается гораздо быстрее"
   ]
  },
  {
   "cell_type": "markdown",
   "metadata": {},
   "source": [
    "__Задание 3. (2 балла)__\n",
    "\n",
    "Подберите оптимальные с точки зрения метрики качества параметры алгоритмов, изменяя:\n",
    "\n",
    "* глубину деревьев;\n",
    "* количество деревьев;\n",
    "* темп обучения.\n",
    "\n",
    "Масштаб значений предлагается посмотреть в семинаре про библиотеки.\n",
    "\n",
    "Проанализируйте соотношения глубины и количества деревьев в зависимости от алгоритма. "
   ]
  },
  {
   "cell_type": "code",
   "execution_count": 15,
   "metadata": {},
   "outputs": [],
   "source": [
    "from sklearn.model_selection import GridSearchCV\n",
    "from sklearn.metrics import make_scorer\n",
    "\n",
    "lgb = LGBMClassifier(random_state=0)\n",
    "cat = CatBoostClassifier(random_seed=0, silent=True)\n",
    "\n",
    "X = np.concatenate((X_train, X_test))\n",
    "y = np.concatenate((y_train, y_test))\n",
    "\n",
    "scorer = make_scorer(average_precision_score, needs_proba=True)"
   ]
  },
  {
   "cell_type": "code",
   "execution_count": 16,
   "metadata": {},
   "outputs": [],
   "source": [
    "lgb_params = {'max_depth': [3, 4, 5, 7],\n",
    "              'n_estimators': [200, 300, 400],\n",
    "              'learning_rate': [0.01, 0.1, 0.3]\n",
    "             }\n",
    "\n",
    "lgb_gs = GridSearchCV(lgb, lgb_params, scoring=scorer, cv=3)"
   ]
  },
  {
   "cell_type": "code",
   "execution_count": 19,
   "metadata": {
    "scrolled": true
   },
   "outputs": [
    {
     "name": "stdout",
     "output_type": "stream",
     "text": [
      "CPU times: user 14h 24min 33s, sys: 7min 46s, total: 14h 32min 19s\n",
      "Wall time: 14min 31s\n"
     ]
    },
    {
     "data": {
      "text/plain": [
       "GridSearchCV(cv=3, error_score='raise-deprecating',\n",
       "             estimator=LGBMClassifier(boosting_type='gbdt', class_weight=None,\n",
       "                                      colsample_bytree=1.0,\n",
       "                                      importance_type='split',\n",
       "                                      learning_rate=0.1, max_depth=-1,\n",
       "                                      min_child_samples=20,\n",
       "                                      min_child_weight=0.001,\n",
       "                                      min_split_gain=0.0, n_estimators=100,\n",
       "                                      n_jobs=-1, num_leaves=31, objective=None,\n",
       "                                      random_state=0, reg_alpha=0.0,\n",
       "                                      reg_lambda=0.0, silent=True,\n",
       "                                      subsample=1.0, subsample_for_bin=200000,\n",
       "                                      subsample_freq=0),\n",
       "             iid='warn', n_jobs=None,\n",
       "             param_grid={'learning_rate': [0.01, 0.1, 0.3],\n",
       "                         'max_depth': [3, 4, 5, 7],\n",
       "                         'n_estimators': [200, 300, 400]},\n",
       "             pre_dispatch='2*n_jobs', refit=True, return_train_score=False,\n",
       "             scoring=make_scorer(average_precision_score, needs_proba=True),\n",
       "             verbose=0)"
      ]
     },
     "execution_count": 19,
     "metadata": {},
     "output_type": "execute_result"
    }
   ],
   "source": [
    "%time lgb_gs.fit(X, y)"
   ]
  },
  {
   "cell_type": "code",
   "execution_count": 20,
   "metadata": {},
   "outputs": [
    {
     "data": {
      "text/plain": [
       "({'learning_rate': 0.1, 'max_depth': 4, 'n_estimators': 300},\n",
       " 0.23568118496327306)"
      ]
     },
     "execution_count": 20,
     "metadata": {},
     "output_type": "execute_result"
    }
   ],
   "source": [
    "lgb_gs.best_params_, lgb_gs.best_score_"
   ]
  },
  {
   "cell_type": "code",
   "execution_count": 26,
   "metadata": {},
   "outputs": [],
   "source": [
    "lgb2_params = {'max_depth': [3, 4],\n",
    "              'n_estimators': [700, 850, 1000],\n",
    "              'learning_rate': [0.1, 0.05, 0.01]\n",
    "              }\n",
    "\n",
    "lgb2_gs = GridSearchCV(lgb, lgb2_params, scoring=scorer, cv=3)"
   ]
  },
  {
   "cell_type": "code",
   "execution_count": 27,
   "metadata": {
    "collapsed": true
   },
   "outputs": [
    {
     "name": "stdout",
     "output_type": "stream",
     "text": [
      "CPU times: user 11h 21min 13s, sys: 3min 43s, total: 11h 24min 57s\n",
      "Wall time: 11min 11s\n"
     ]
    },
    {
     "data": {
      "text/plain": [
       "GridSearchCV(cv=3, error_score='raise-deprecating',\n",
       "             estimator=LGBMClassifier(boosting_type='gbdt', class_weight=None,\n",
       "                                      colsample_bytree=1.0,\n",
       "                                      importance_type='split',\n",
       "                                      learning_rate=0.1, max_depth=-1,\n",
       "                                      min_child_samples=20,\n",
       "                                      min_child_weight=0.001,\n",
       "                                      min_split_gain=0.0, n_estimators=100,\n",
       "                                      n_jobs=-1, num_leaves=31, objective=None,\n",
       "                                      random_state=0, reg_alpha=0.0,\n",
       "                                      reg_lambda=0.0, silent=True,\n",
       "                                      subsample=1.0, subsample_for_bin=200000,\n",
       "                                      subsample_freq=0),\n",
       "             iid='warn', n_jobs=None,\n",
       "             param_grid={'learning_rate': [0.1, 0.05, 0.01],\n",
       "                         'max_depth': [3, 4],\n",
       "                         'n_estimators': [700, 850, 1000]},\n",
       "             pre_dispatch='2*n_jobs', refit=True, return_train_score=False,\n",
       "             scoring=make_scorer(average_precision_score, needs_proba=True),\n",
       "             verbose=0)"
      ]
     },
     "execution_count": 27,
     "metadata": {},
     "output_type": "execute_result"
    }
   ],
   "source": [
    "%time lgb2_gs.fit(X, y)"
   ]
  },
  {
   "cell_type": "code",
   "execution_count": 28,
   "metadata": {},
   "outputs": [
    {
     "data": {
      "text/plain": [
       "({'learning_rate': 0.05, 'max_depth': 3, 'n_estimators': 850},\n",
       " 0.2364597433982773)"
      ]
     },
     "execution_count": 28,
     "metadata": {},
     "output_type": "execute_result"
    }
   ],
   "source": [
    "lgb2_gs.best_params_, lgb2_gs.best_score_"
   ]
  },
  {
   "cell_type": "code",
   "execution_count": 29,
   "metadata": {},
   "outputs": [],
   "source": [
    "cat_params = {'depth': [3, 4, 5],\n",
    "              'num_trees': [300, 400],\n",
    "              'learning_rate': [0.01, 0.1]\n",
    "             }\n",
    "\n",
    "cat_gs = GridSearchCV(cat, cat_params, scoring=scorer, cv=3)"
   ]
  },
  {
   "cell_type": "code",
   "execution_count": 30,
   "metadata": {},
   "outputs": [
    {
     "name": "stdout",
     "output_type": "stream",
     "text": [
      "CPU times: user 22h 32min 30s, sys: 9min 34s, total: 22h 42min 5s\n",
      "Wall time: 26min 7s\n"
     ]
    },
    {
     "data": {
      "text/plain": [
       "GridSearchCV(cv=3, error_score='raise-deprecating',\n",
       "             estimator=<catboost.core.CatBoostClassifier object at 0x7fb2e777e198>,\n",
       "             iid='warn', n_jobs=None,\n",
       "             param_grid={'depth': [3, 4, 5], 'learning_rate': [0.01, 0.1],\n",
       "                         'num_trees': [300, 400]},\n",
       "             pre_dispatch='2*n_jobs', refit=True, return_train_score=False,\n",
       "             scoring=make_scorer(average_precision_score, needs_proba=True),\n",
       "             verbose=0)"
      ]
     },
     "execution_count": 30,
     "metadata": {},
     "output_type": "execute_result"
    }
   ],
   "source": [
    "%time cat_gs.fit(X, y)"
   ]
  },
  {
   "cell_type": "code",
   "execution_count": 31,
   "metadata": {},
   "outputs": [
    {
     "data": {
      "text/plain": [
       "({'depth': 5, 'learning_rate': 0.1, 'num_trees': 400}, 0.23553616021676976)"
      ]
     },
     "execution_count": 31,
     "metadata": {},
     "output_type": "execute_result"
    }
   ],
   "source": [
    "cat_gs.best_params_, cat_gs.best_score_"
   ]
  },
  {
   "cell_type": "code",
   "execution_count": 38,
   "metadata": {},
   "outputs": [],
   "source": [
    "cat_params2 = {'depth': [5],\n",
    "              'num_trees': [700, 800, 900],\n",
    "              'learning_rate': [0.1]\n",
    "             }\n",
    "\n",
    "cat_gs2 = GridSearchCV(cat, cat_params2, scoring=scorer, cv=3)"
   ]
  },
  {
   "cell_type": "code",
   "execution_count": 39,
   "metadata": {},
   "outputs": [
    {
     "name": "stdout",
     "output_type": "stream",
     "text": [
      "CPU times: user 14h 5min 15s, sys: 5min 18s, total: 14h 10min 34s\n",
      "Wall time: 15min 19s\n"
     ]
    },
    {
     "data": {
      "text/plain": [
       "GridSearchCV(cv=3, error_score='raise-deprecating',\n",
       "             estimator=<catboost.core.CatBoostClassifier object at 0x7fb2e777e198>,\n",
       "             iid='warn', n_jobs=None,\n",
       "             param_grid={'depth': [5], 'learning_rate': [0.1],\n",
       "                         'num_trees': [700, 800, 900]},\n",
       "             pre_dispatch='2*n_jobs', refit=True, return_train_score=False,\n",
       "             scoring=make_scorer(average_precision_score, needs_proba=True),\n",
       "             verbose=0)"
      ]
     },
     "execution_count": 39,
     "metadata": {},
     "output_type": "execute_result"
    }
   ],
   "source": [
    "%time cat_gs2.fit(X, y)"
   ]
  },
  {
   "cell_type": "code",
   "execution_count": 40,
   "metadata": {},
   "outputs": [
    {
     "data": {
      "text/plain": [
       "({'depth': 5, 'learning_rate': 0.1, 'num_trees': 700}, 0.23474782519681056)"
      ]
     },
     "execution_count": 40,
     "metadata": {},
     "output_type": "execute_result"
    }
   ],
   "source": [
    "cat_gs2.best_params_, cat_gs2.best_score_"
   ]
  },
  {
   "cell_type": "markdown",
   "metadata": {},
   "source": [
    "__Вывод:__ Lightgbm строит большее количество деревьев, чем catboost, но у catboost деревья получаются глубже, чем у lightgbm."
   ]
  },
  {
   "cell_type": "markdown",
   "metadata": {},
   "source": [
    "__Задание 4. (3.5 балла)__\n",
    "\n",
    "Добавьте категориальные признаки к вещественным следующими способами:\n",
    "\n",
    "* как OHE признаки;\n",
    "* как счетчики со сглаживанием.\n",
    "\n",
    "При подсчете счетчиков запрещается использование циклов. \n",
    "\n",
    "Как меняется время, необходимое для обучения моделей в зависимости от способа кодирования? Сравните полученные результаты с встроенными методами обработки категориальных признаков. "
   ]
  },
  {
   "cell_type": "markdown",
   "metadata": {},
   "source": [
    "## Ohe"
   ]
  },
  {
   "cell_type": "code",
   "execution_count": 99,
   "metadata": {},
   "outputs": [
    {
     "data": {
      "text/plain": [
       "((215257, 146), (215257, 16))"
      ]
     },
     "execution_count": 99,
     "metadata": {},
     "output_type": "execute_result"
    }
   ],
   "source": [
    "from sklearn.preprocessing import OneHotEncoder\n",
    "\n",
    "encoder = OneHotEncoder(handle_unknown='ignore', sparse=False)\n",
    "encoder.fit(data[cat_features])\n",
    "ohe = encoder.transform(data[cat_features])\n",
    "\n",
    "ohe.shape, data[cat_features].shape"
   ]
  },
  {
   "cell_type": "code",
   "execution_count": 100,
   "metadata": {},
   "outputs": [],
   "source": [
    "encoded = pd.DataFrame(data=ohe, columns=encoder.get_feature_names())\n",
    "encoded.columns = [\"\".join (c if c.isalnum() else \"_\" for c in str(x)) for x in encoded.columns]\n",
    "numeric_with_ohe = numeric_data.join(encoded)"
   ]
  },
  {
   "cell_type": "code",
   "execution_count": 101,
   "metadata": {},
   "outputs": [],
   "source": [
    "X_train_enc, X_test_enc, y_train_enc, y_test_enc = train_test_split(numeric_with_ohe, target, test_size=0.3, random_state=0)"
   ]
  },
  {
   "cell_type": "code",
   "execution_count": 102,
   "metadata": {},
   "outputs": [
    {
     "name": "stdout",
     "output_type": "stream",
     "text": [
      "CPU times: user 47min 20s, sys: 29 s, total: 47min 49s\n",
      "Wall time: 53.2 s\n"
     ]
    },
    {
     "data": {
      "text/plain": [
       "0.2452812023424403"
      ]
     },
     "execution_count": 102,
     "metadata": {},
     "output_type": "execute_result"
    }
   ],
   "source": [
    "cat_ohe = CatBoostClassifier(silent=True, **cat_gs.best_params_)\n",
    "%time cat_ohe.fit(X_train_enc, y_train_enc)\n",
    "average_precision_score(y_test_enc, cat_ohe.predict_proba(X_test_enc)[:,1])"
   ]
  },
  {
   "cell_type": "code",
   "execution_count": 103,
   "metadata": {},
   "outputs": [
    {
     "name": "stdout",
     "output_type": "stream",
     "text": [
      "CPU times: user 9min 49s, sys: 1.01 s, total: 9min 50s\n",
      "Wall time: 10 s\n"
     ]
    },
    {
     "data": {
      "text/plain": [
       "0.24799925827971422"
      ]
     },
     "execution_count": 103,
     "metadata": {},
     "output_type": "execute_result"
    }
   ],
   "source": [
    "lgb_ohe = LGBMClassifier(**lgb2_gs.best_params_)\n",
    "%time lgb_ohe.fit(X_train_enc, y_train_enc)\n",
    "average_precision_score(y_test_enc, lgb_ohe.predict_proba(X_test_enc)[:,1])"
   ]
  },
  {
   "cell_type": "markdown",
   "metadata": {},
   "source": [
    "## Mean target encoder"
   ]
  },
  {
   "cell_type": "code",
   "execution_count": 72,
   "metadata": {},
   "outputs": [],
   "source": [
    "def mean_target_encoder(train, test, categorical, target, sm_coef=10):\n",
    "    avg = train.target.mean()\n",
    "    for col in categorical:\n",
    "        agg = train.groupby(col)['target'].agg(['count', 'mean'])\n",
    "        counts = agg['count']\n",
    "        means = agg['mean']        \n",
    "        smooth = (counts * means + sm_coef * means) / (counts + sm_coef)\n",
    "        train[col] = train[col].map(smooth)\n",
    "        test[col] = test[col].map(smooth)\n",
    "    train.drop(columns='target', inplace=True)\n",
    "    test.drop(columns='target', inplace=True)\n",
    "    return train, test"
   ]
  },
  {
   "cell_type": "code",
   "execution_count": 73,
   "metadata": {},
   "outputs": [],
   "source": [
    "data['target'] = target\n",
    "X_train, X_test, y_train_mt, y_test_mt = train_test_split(data, target, test_size=0.3, random_state=0)\n",
    "data.drop(columns='target', inplace=True) \n",
    "X_train_mt, X_test_mt = mean_target_encoder(X_train, X_test, cat_features, y_train)"
   ]
  },
  {
   "cell_type": "code",
   "execution_count": 74,
   "metadata": {},
   "outputs": [
    {
     "name": "stdout",
     "output_type": "stream",
     "text": [
      "CPU times: user 41min 11s, sys: 19.5 s, total: 41min 30s\n",
      "Wall time: 42.6 s\n"
     ]
    },
    {
     "data": {
      "text/plain": [
       "0.24590340720441917"
      ]
     },
     "execution_count": 74,
     "metadata": {},
     "output_type": "execute_result"
    }
   ],
   "source": [
    "cat_mte = CatBoostClassifier(silent=True, **cat_gs.best_params_)\n",
    "%time cat_mte.fit(X_train_mt, y_train)\n",
    "average_precision_score(y_test, cat_mte.predict_proba(X_test_mt)[:,1])"
   ]
  },
  {
   "cell_type": "code",
   "execution_count": 75,
   "metadata": {},
   "outputs": [
    {
     "name": "stdout",
     "output_type": "stream",
     "text": [
      "CPU times: user 8min 28s, sys: 2.98 s, total: 8min 31s\n",
      "Wall time: 8.42 s\n"
     ]
    },
    {
     "data": {
      "text/plain": [
       "0.24827114564000985"
      ]
     },
     "execution_count": 75,
     "metadata": {},
     "output_type": "execute_result"
    }
   ],
   "source": [
    "lgb_mte = LGBMClassifier(**lgb2_gs.best_params_)\n",
    "%time lgb_mte.fit(X_train_mt, y_train)\n",
    "average_precision_score(y_test, lgb_mte.predict_proba(X_test_mt)[:,1])"
   ]
  },
  {
   "cell_type": "markdown",
   "metadata": {},
   "source": [
    "## Include methods"
   ]
  },
  {
   "cell_type": "code",
   "execution_count": 91,
   "metadata": {},
   "outputs": [],
   "source": [
    "data_with_cat = numeric_data.join(data[cat_features])"
   ]
  },
  {
   "cell_type": "code",
   "execution_count": 92,
   "metadata": {},
   "outputs": [
    {
     "data": {
      "text/plain": [
       "((215257, 86), (215257, 102))"
      ]
     },
     "execution_count": 92,
     "metadata": {},
     "output_type": "execute_result"
    }
   ],
   "source": [
    "numeric_data.shape, data_with_cat.shape"
   ]
  },
  {
   "cell_type": "code",
   "execution_count": 94,
   "metadata": {
    "collapsed": true
   },
   "outputs": [
    {
     "name": "stdout",
     "output_type": "stream",
     "text": [
      "To labels NAME_CONTRACT_TYPE\n",
      "To labels CODE_GENDER\n",
      "To labels FLAG_OWN_CAR\n",
      "To labels FLAG_OWN_REALTY\n",
      "To labels NAME_TYPE_SUITE\n",
      "To labels NAME_INCOME_TYPE\n",
      "To labels NAME_EDUCATION_TYPE\n",
      "To labels NAME_FAMILY_STATUS\n",
      "To labels NAME_HOUSING_TYPE\n",
      "To labels OCCUPATION_TYPE\n",
      "To labels WEEKDAY_APPR_PROCESS_START\n",
      "To labels ORGANIZATION_TYPE\n",
      "To labels FONDKAPREMONT_MODE\n",
      "To labels HOUSETYPE_MODE\n",
      "To labels WALLSMATERIAL_MODE\n",
      "To labels EMERGENCYSTATE_MODE\n"
     ]
    }
   ],
   "source": [
    "from sklearn.preprocessing import LabelEncoder\n",
    "encoder = LabelEncoder()\n",
    "for col in data_with_cat.columns:\n",
    "    if data_with_cat[col].values.dtype in [np.str, np.object]:\n",
    "        data_with_cat[col] = data_with_cat[col].values.astype(np.str)\n",
    "        data_with_cat[col] = encoder.fit_transform(data_with_cat[col].values)\n",
    "        print('To labels ' + col)"
   ]
  },
  {
   "cell_type": "code",
   "execution_count": 95,
   "metadata": {},
   "outputs": [],
   "source": [
    "X_train, X_test, y_train, y_test = train_test_split(data_with_cat, target, test_size=0.3, random_state=0)"
   ]
  },
  {
   "cell_type": "code",
   "execution_count": 81,
   "metadata": {},
   "outputs": [
    {
     "name": "stdout",
     "output_type": "stream",
     "text": [
      "CPU times: user 1h 14min 15s, sys: 2min 39s, total: 1h 16min 55s\n",
      "Wall time: 1min 21s\n"
     ]
    },
    {
     "data": {
      "text/plain": [
       "0.24866072589251442"
      ]
     },
     "execution_count": 81,
     "metadata": {},
     "output_type": "execute_result"
    }
   ],
   "source": [
    "cat_inc = CatBoostClassifier(silent=True, **cat_gs.best_params_, cat_features=cat_features)\n",
    "%time cat_inc.fit(X_train, y_train)\n",
    "average_precision_score(y_test, cat_inc.predict_proba(X_test)[:,1])"
   ]
  },
  {
   "cell_type": "code",
   "execution_count": 97,
   "metadata": {},
   "outputs": [
    {
     "name": "stdout",
     "output_type": "stream",
     "text": [
      "CPU times: user 7min 14s, sys: 438 ms, total: 7min 15s\n",
      "Wall time: 7.21 s\n"
     ]
    },
    {
     "data": {
      "text/plain": [
       "0.24671268721217984"
      ]
     },
     "execution_count": 97,
     "metadata": {},
     "output_type": "execute_result"
    }
   ],
   "source": [
    "lgb_inc = LGBMClassifier(**lgb2_gs.best_params_)\n",
    "%time lgb_inc.fit(X_train, y_train, categorical_feature=list(range(86, 103)))\n",
    "average_precision_score(y_test, lgb_inc.predict_proba(X_test)[:,1])"
   ]
  },
  {
   "cell_type": "markdown",
   "metadata": {},
   "source": [
    "__Вывод:__ Время, необходимое для построения моделей, заметно различается в зависимости от выбора кодирования категориальных признаков. При использовании Ohe появляется больше признаков для обучения, поэтому модели обучаются дольше, чем при использовании Mean-Target кодирования, который оставляет количество признаков неизменным. Также можно заметить, что встроенные методы энкодинга СatBoost работаюсь лучше всего, несмотря на то, что и дольше."
   ]
  },
  {
   "cell_type": "markdown",
   "metadata": {},
   "source": [
    "__Задание 5. (1 балл)__\n",
    "\n",
    "Реализуйте блендинг подобранных в предыдущем задании моделей и сравните качество. Обратите внимание на данные, на которых обучаются "
   ]
  },
  {
   "cell_type": "code",
   "execution_count": 154,
   "metadata": {},
   "outputs": [],
   "source": [
    "inp_1 = cat_ohe.predict_proba(X_train_enc)[:, 1]\n",
    "inp_2 = lgb_ohe.predict_proba(X_train_enc)[:, 1]\n",
    "inp_3 = cat_mte.predict_proba(X_train)[:, 1]\n",
    "inp_4 = lgb_mte.predict_proba(X_train)[:, 1]\n",
    "inp_5 = cat_inc.predict_proba(X_train)[:, 1]\n",
    "inp_6 = lgb_inc.predict_proba(X_train)[:, 1]"
   ]
  },
  {
   "cell_type": "code",
   "execution_count": 155,
   "metadata": {},
   "outputs": [
    {
     "data": {
      "text/plain": [
       "LogisticRegression(C=1.0, class_weight=None, dual=False, fit_intercept=True,\n",
       "                   intercept_scaling=1, l1_ratio=None, max_iter=100,\n",
       "                   multi_class='warn', n_jobs=None, penalty='l2',\n",
       "                   random_state=None, solver='warn', tol=0.0001, verbose=0,\n",
       "                   warm_start=False)"
      ]
     },
     "execution_count": 155,
     "metadata": {},
     "output_type": "execute_result"
    }
   ],
   "source": [
    "from sklearn.linear_model import LogisticRegression\n",
    "\n",
    "blend_train = np.vstack((inp_1, inp_2, inp_3, inp_4, inp_5, inp_6)).T\n",
    "\n",
    "clf = LogisticRegression()\n",
    "clf.fit(blend_train, y_train)"
   ]
  },
  {
   "cell_type": "code",
   "execution_count": 160,
   "metadata": {},
   "outputs": [],
   "source": [
    "inp_1 = cat_ohe.predict_proba(X_test_enc)[:, 1]\n",
    "inp_2 = lgb_ohe.predict_proba(X_test_enc)[:, 1]\n",
    "inp_3 = cat_mte.predict_proba(X_test)[:, 1]\n",
    "inp_4 = lgb_mte.predict_proba(X_test)[:, 1]\n",
    "inp_5 = cat_inc.predict_proba(X_test)[:, 1]\n",
    "inp_6 = lgb_inc.predict_proba(X_test)[:, 1]\n",
    "blend_test = np.vstack((inp_1, inp_2, inp_3, inp_4, inp_5, inp_6)).T"
   ]
  },
  {
   "cell_type": "code",
   "execution_count": 161,
   "metadata": {},
   "outputs": [
    {
     "data": {
      "text/plain": [
       "0.2442708355851061"
      ]
     },
     "execution_count": 161,
     "metadata": {},
     "output_type": "execute_result"
    }
   ],
   "source": [
    "preds = clf.predict_proba(blend_test)[:, 1]\n",
    "average_precision_score(y_test, preds)"
   ]
  },
  {
   "cell_type": "markdown",
   "metadata": {},
   "source": [
    "__Вывод:__ Качетсво незначительно упало"
   ]
  },
  {
   "cell_type": "markdown",
   "metadata": {},
   "source": [
    "__Задание 6. (1.5 балла)__\n",
    "\n",
    "В задании 3 вы подобрали гиперпараметры для LightGBM и CatBoost на вещественных признаках. Визуализируйте важности признаков, посчитанные этими алгоритмами, в виде горизонтального bar-plot (отсортируйте признаки по убыванию важности, подпишите названия признаков по оси y).\n",
    "\n",
    "Для каждого из двух алгоритмов удалите неважные признаки (обычно по bar-plot хорошо видно порог, с которого начинается \"хвост\" менее важных признаков) и обучите модель с теми же параметрами на получившихся данных. Сильно ли упало качество при удалении признаков?"
   ]
  },
  {
   "cell_type": "code",
   "execution_count": 124,
   "metadata": {},
   "outputs": [],
   "source": [
    "import matplotlib.pyplot as plt\n",
    "import seaborn as sns"
   ]
  },
  {
   "cell_type": "code",
   "execution_count": 136,
   "metadata": {},
   "outputs": [],
   "source": [
    "feature_imp = pd.DataFrame(\n",
    "    sorted(zip(lgb2_gs.best_estimator_.feature_importances_,\n",
    "               np.hstack((numeric_features, cat_features)))),\n",
    "    columns=['Value','Feature']\n",
    ")"
   ]
  },
  {
   "cell_type": "code",
   "execution_count": 185,
   "metadata": {},
   "outputs": [],
   "source": [
    "to_plot_lgb = feature_imp.sort_values(by=\"Value\", ascending=False)[:50]"
   ]
  },
  {
   "cell_type": "code",
   "execution_count": 186,
   "metadata": {},
   "outputs": [
    {
     "data": {
      "image/png": "[encoded data removed]",
      "text/plain": [
       "<Figure size 1440x720 with 1 Axes>"
      ]
     },
     "metadata": {
      "needs_background": "light"
     },
     "output_type": "display_data"
    }
   ],
   "source": [
    "plt.figure(figsize=(20, 10))\n",
    "sns.barplot(x=\"Value\", y=\"Feature\", data=to_plot_lgb)\n",
    "plt.title('LightGBM Feature Importance')\n",
    "plt.tight_layout()\n",
    "plt.show()"
   ]
  },
  {
   "cell_type": "code",
   "execution_count": 142,
   "metadata": {
    "scrolled": true
   },
   "outputs": [
    {
     "data": {
      "image/png": "[encoded data removed]",
      "text/plain": [
       "<Figure size 1440x720 with 1 Axes>"
      ]
     },
     "metadata": {
      "needs_background": "light"
     },
     "output_type": "display_data"
    }
   ],
   "source": [
    "feature_imp = pd.DataFrame(\n",
    "    sorted(zip(cat_gs.best_estimator_.feature_importances_,\n",
    "               np.hstack((numeric_features, cat_features)))),\n",
    "    columns=['Value','Feature'])\n",
    "to_plot = feature_imp.sort_values(by=\"Value\", ascending=False)[:30]\n",
    "plt.figure(figsize=(20, 10))\n",
    "sns.barplot(x=\"Value\", y=\"Feature\", data=to_plot)\n",
    "plt.title('CatBoost Feature Importance')\n",
    "plt.tight_layout()\n",
    "plt.show()"
   ]
  },
  {
   "cell_type": "code",
   "execution_count": 189,
   "metadata": {},
   "outputs": [
    {
     "name": "stdout",
     "output_type": "stream",
     "text": [
      "CPU times: user 44min 44s, sys: 20 s, total: 45min 4s\n",
      "Wall time: 50.4 s\n"
     ]
    },
    {
     "data": {
      "text/plain": [
       "0.2032569747589864"
      ]
     },
     "execution_count": 189,
     "metadata": {},
     "output_type": "execute_result"
    }
   ],
   "source": [
    "X_train, X_test, y_train, y_test = train_test_split(data_with_cat[to_plot[:15].Feature.values], target, test_size=0.3, random_state=0)\n",
    "\n",
    "cat = CatBoostClassifier(silent=True, **cat_gs.best_params_,)\n",
    "%time cat.fit(X_train, y_train)\n",
    "average_precision_score(y_test, cat.predict_proba(X_test)[:,1])"
   ]
  },
  {
   "cell_type": "code",
   "execution_count": 190,
   "metadata": {},
   "outputs": [
    {
     "name": "stdout",
     "output_type": "stream",
     "text": [
      "CPU times: user 5min 49s, sys: 141 ms, total: 5min 49s\n",
      "Wall time: 5.59 s\n"
     ]
    },
    {
     "data": {
      "text/plain": [
       "0.2066066843878745"
      ]
     },
     "execution_count": 190,
     "metadata": {},
     "output_type": "execute_result"
    }
   ],
   "source": [
    "X_train, X_test, y_train, y_test = train_test_split(data_with_cat[to_plot_lgb[:15].Feature.values], target, test_size=0.3, random_state=0)\n",
    "\n",
    "lgb = LGBMClassifier(**lgb2_gs.best_params_)\n",
    "%time lgb.fit(X_train, y_train)\n",
    "average_precision_score(y_test, lgb.predict_proba(X_test)[:,1])"
   ]
  },
  {
   "cell_type": "markdown",
   "metadata": {},
   "source": [
    "__Вывод:__ Качество упало незначительно по отношению к тому количеству данных, которое было убрано из выборки, так как малозначащие признаки редко используются моделями для построений разбиений деревьев"
   ]
  },
  {
   "cell_type": "markdown",
   "metadata": {},
   "source": [
    "### Бонус\n",
    "\n",
    "__Задание 7. (Максимум 5 баллов)__\n",
    "\n",
    "Градиентный бустинг при всех ограничениях зачастую является ультимативным решением для задач с табличными данными; соревнование от Home Credit не стало исключением. Предлагается любыми модификациями Catboost и LightGBM (другими моделями пользоваться нельзя), обработки данных и построения признаков получить высокое качество на __приватном__ наборе данных. \n",
    "Баллы можно получить за следующие значения метрики:\n",
    "* 0.7955 - 1 балл\n",
    "* 0.7975 - 3 баллов\n",
    "* 0.80 - 5 баллов.\n",
    "\n",
    "При сдаче этого задания необходимо приложить код, с помощью которого можно получить ту же самую метрику, что и в вашем посылке в соревновании. Если решение не будет воспроизводимым, задание засчитано не будет.\n",
    "\n",
    "Учетная запись на kaggle: ╰( ͡° ͜ʖ ͡° )つ──☆*:・ﾟ"
   ]
  },
  {
   "cell_type": "code",
   "execution_count": null,
   "metadata": {},
   "outputs": [],
   "source": [
    "### ╰( ͡° ͜ʖ ͡° )つ──☆*:・ﾟ"
   ]
  },
  {
   "cell_type": "markdown",
   "metadata": {},
   "source": [
    "__Задание 8. (0.5 балла)__ Обратите внимание, что в соревновании метрикой выступает AUC-ROC, у нас же до этого оптимизировался AUC-PR. Можно ли утверждать, что нет необходимости в переобучении моделей для максимизации новой метрики, если мы нашли лучший алгоритм с точки зрения AUC-PR?"
   ]
  },
  {
   "cell_type": "code",
   "execution_count": null,
   "metadata": {},
   "outputs": [],
   "source": [
    "### ╰( ͡° ͜ʖ ͡° )つ──☆*:・ﾟ"
   ]
  }
 ],
 "metadata": {
  "kernelspec": {
   "display_name": "Python 3",
   "language": "python",
   "name": "python3"
  },
  "language_info": {
   "codemirror_mode": {
    "name": "ipython",
    "version": 3
   },
   "file_extension": ".py",
   "mimetype": "text/x-python",
   "name": "python",
   "nbconvert_exporter": "python",
   "pygments_lexer": "ipython3",
   "version": "3.6.9"
  }
 },
 "nbformat": 4,
 "nbformat_minor": 2
}
